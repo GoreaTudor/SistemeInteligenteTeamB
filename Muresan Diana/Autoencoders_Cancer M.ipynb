{
 "cells": [
  {
   "cell_type": "code",
   "execution_count": null,
   "metadata": {},
   "outputs": [],
   "source": [
    "import numpy as np\n",
    "import pandas as pd\n",
    "from scipy import stats\n",
    "import matplotlib.pyplot as plt\n",
    "from sklearn.preprocessing import StandardScaler\n",
    "from sklearn.preprocessing import MinMaxScaler\n",
    "from sklearn.model_selection import train_test_split\n",
    "from sklearn.metrics import mean_squared_error, r2_score\n",
    "import tensorflow as tf\n",
    "from keras import layers, models\n",
    "from keras.optimizers import Adam"
   ]
  },
  {
   "cell_type": "code",
   "execution_count": null,
   "metadata": {},
   "outputs": [],
   "source": [
    "# -extract data-\n",
    "data = pd.read_csv('C:\\\\Users\\\\Lenovo\\\\Desktop\\\\Cancer_Data.csv')\n",
    "data = data.dropna(axis=1, how='any')\n",
    "data = data.drop('id', axis=1)\n",
    "data = data[data['diagnosis'] != 'B']\n",
    "print(data)\n",
    "#print(data.head())"
   ]
  },
  {
   "cell_type": "code",
   "execution_count": null,
   "metadata": {},
   "outputs": [],
   "source": [
    "# -normalize-\n",
    "#scaler = StandardScaler()\n",
    "scaler = MinMaxScaler()\n",
    "data_scaled = scaler.fit_transform(data)\n",
    "\n",
    "# -training and testing sets-\n",
    "X_train, X_test = train_test_split(data_scaled, test_size=0.2, random_state=42)\n",
    "\n",
    "# -autoencoder architecture-\n",
    "input_dim = X_train.shape[1]\n",
    "\n",
    "# -encoder-\n",
    "input_layer = layers.Input(shape=(input_dim,))\n",
    "encoded = layers.Dense(64, activation='relu')(input_layer)\n",
    "encoded = layers.Dense(32, activation='relu')(encoded)\n",
    "encoded = layers.Dense(32, activation='relu')(encoded)\n",
    "latent_space = layers.Dense(8, activation='relu')(encoded)\n",
    "\n",
    "# -decoder-\n",
    "decoded = layers.Dense(32, activation='relu')(latent_space)\n",
    "decoded = layers.Dense(32, activation='relu')(decoded)\n",
    "decoded = layers.Dense(64, activation='relu')(decoded)\n",
    "output_layer = layers.Dense(input_dim, activation='sigmoid')(decoded)\n",
    "\n",
    "# -model-\n",
    "autoencoder = models.Model(inputs=input_layer, outputs=output_layer)\n",
    "learning_rate = 0.01  \n",
    "optimizer = Adam(learning_rate=learning_rate)\n",
    "autoencoder.compile(optimizer='adam', loss='mse')"
   ]
  },
  {
   "cell_type": "code",
   "execution_count": null,
   "metadata": {},
   "outputs": [],
   "source": [
    "# -training-\n",
    "autoencoder.fit(X_train, X_train, epochs=200, batch_size=16, validation_data=(X_test, X_test), verbose=1)\n",
    "\n",
    "reconstructed = autoencoder.predict(X_test)\n",
    "reconstruction_errors = np.mean(np.square(X_test - reconstructed), axis=1)"
   ]
  },
  {
   "cell_type": "code",
   "execution_count": null,
   "metadata": {},
   "outputs": [],
   "source": [
    "r2 = r2_score(X_test, reconstructed)\n",
    "print(f\"R² Score: {r2}\")"
   ]
  },
  {
   "cell_type": "code",
   "execution_count": null,
   "metadata": {},
   "outputs": [],
   "source": [
    "# -threshold for anomalies-\n",
    "threshold = np.percentile(reconstruction_errors, 95)  #top 5%\n",
    "anomalies = reconstruction_errors > threshold\n",
    "print(\"Anomalies detected:\", np.sum(anomalies))\n",
    "\n",
    "anomalous_data = X_test[anomalies]\n",
    "print(\"Anomalous data points:\")\n",
    "print(anomalous_data)\n",
    "\n",
    "anomaly_indices = np.where(anomalies)[0]  \n",
    "print(\"Indices of anomalies:\", anomaly_indices)"
   ]
  },
  {
   "cell_type": "code",
   "execution_count": null,
   "metadata": {},
   "outputs": [],
   "source": [
    "# -plot-\n",
    "plt.hist(reconstruction_errors, bins=30)\n",
    "plt.xlabel(\"Reconstruction error\")\n",
    "plt.ylabel(\"Frequency\")\n",
    "plt.title(\"Reconstruction Error Distribution\")\n",
    "plt.axvline(threshold, color='red', linestyle='--', label='Threshold')\n",
    "plt.legend()\n",
    "plt.savefig('Breast Cancer Anomaly Detection.png')\n",
    "plt.show()"
   ]
  }
 ],
 "metadata": {
  "kernelspec": {
   "display_name": "Python 3",
   "language": "python",
   "name": "python3"
  },
  "language_info": {
   "name": "python",
   "version": "3.10.2"
  }
 },
 "nbformat": 4,
 "nbformat_minor": 2
}
