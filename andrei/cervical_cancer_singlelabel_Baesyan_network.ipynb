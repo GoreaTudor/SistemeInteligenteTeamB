{
 "cells": [
  {
   "cell_type": "code",
   "execution_count": 1,
   "id": "e66c0552-f92a-44c1-b213-a4e3d453c894",
   "metadata": {},
   "outputs": [
    {
     "name": "stdout",
     "output_type": "stream",
     "text": [
      "D:\\Anaconda\\envs\\mor\\python.exe\n",
      "['D:\\\\Anaconda\\\\envs\\\\mor\\\\python311.zip', 'D:\\\\Anaconda\\\\envs\\\\mor\\\\DLLs', 'D:\\\\Anaconda\\\\envs\\\\mor\\\\Lib', 'D:\\\\Anaconda\\\\envs\\\\mor', '', 'D:\\\\Anaconda\\\\envs\\\\mor\\\\Lib\\\\site-packages', 'D:\\\\Anaconda\\\\envs\\\\mor\\\\Lib\\\\site-packages\\\\win32', 'D:\\\\Anaconda\\\\envs\\\\mor\\\\Lib\\\\site-packages\\\\win32\\\\lib', 'D:\\\\Anaconda\\\\envs\\\\mor\\\\Lib\\\\site-packages\\\\Pythonwin']\n"
     ]
    }
   ],
   "source": [
    "import sys\n",
    "print(sys.executable)  # This should point to your \"ultra\" environment's Python executable\n",
    "print(sys.path)        # Check if the paths point to your \"ultra\" environment\n"
   ]
  },
  {
   "cell_type": "code",
   "execution_count": null,
   "id": "4144ca6f-f285-4ee5-9568-50fb858dc3af",
   "metadata": {},
   "outputs": [],
   "source": []
  },
  {
   "cell_type": "code",
   "execution_count": null,
   "id": "3d78512b-15a5-47de-ad64-d17fa8ac69b2",
   "metadata": {},
   "outputs": [],
   "source": []
  },
  {
   "cell_type": "code",
   "execution_count": null,
   "id": "b138bb7f-a680-4c0b-a130-feaa64f29af7",
   "metadata": {},
   "outputs": [],
   "source": []
  },
  {
   "cell_type": "code",
   "execution_count": null,
   "id": "f89fd896-9ae5-4b42-a358-1476389758d0",
   "metadata": {},
   "outputs": [],
   "source": []
  },
  {
   "cell_type": "code",
   "execution_count": 2,
   "id": "3f3cbb9e-64ef-45c0-9ed9-ebcf3fe0ef84",
   "metadata": {},
   "outputs": [
    {
     "name": "stdout",
     "output_type": "stream",
     "text": [
      "   Age Number of sexual partners First sexual intercourse Num of pregnancies  \\\n",
      "0   18                       4.0                     15.0                1.0   \n",
      "1   15                       1.0                     14.0                1.0   \n",
      "2   34                       1.0                        ?                1.0   \n",
      "3   52                       5.0                     16.0                4.0   \n",
      "4   46                       3.0                     21.0                4.0   \n",
      "\n",
      "  Smokes Smokes (years) Smokes (packs/year) Hormonal Contraceptives  \\\n",
      "0    0.0            0.0                 0.0                     0.0   \n",
      "1    0.0            0.0                 0.0                     0.0   \n",
      "2    0.0            0.0                 0.0                     0.0   \n",
      "3    1.0           37.0                37.0                     1.0   \n",
      "4    0.0            0.0                 0.0                     1.0   \n",
      "\n",
      "  Hormonal Contraceptives (years)  IUD  ... STDs: Time since first diagnosis  \\\n",
      "0                             0.0  0.0  ...                                ?   \n",
      "1                             0.0  0.0  ...                                ?   \n",
      "2                             0.0  0.0  ...                                ?   \n",
      "3                             3.0  0.0  ...                                ?   \n",
      "4                            15.0  0.0  ...                                ?   \n",
      "\n",
      "  STDs: Time since last diagnosis Dx:Cancer Dx:CIN Dx:HPV Dx Hinselmann  \\\n",
      "0                               ?         0      0      0  0          0   \n",
      "1                               ?         0      0      0  0          0   \n",
      "2                               ?         0      0      0  0          0   \n",
      "3                               ?         1      0      1  0          0   \n",
      "4                               ?         0      0      0  0          0   \n",
      "\n",
      "  Schiller Citology Biopsy  \n",
      "0        0        0      0  \n",
      "1        0        0      0  \n",
      "2        0        0      0  \n",
      "3        0        0      0  \n",
      "4        0        0      0  \n",
      "\n",
      "[5 rows x 36 columns]\n",
      "DataFrame Size: (858, 36)\n"
     ]
    }
   ],
   "source": [
    "import pandas as pd\n",
    "import numpy as np\n",
    "# Helper function to load data from CSV\n",
    "def load_data_from_csv(csv_file):\n",
    "    # Read the CSV into a DataFrame\n",
    "    df = pd.read_csv(csv_file)\n",
    "\n",
    "    # Assuming the CSV has columns like 'id', 'label', and other features\n",
    "    return df\n",
    "\n",
    "# Path to the CSV file\n",
    "csv_file = './kag_risk_factors_cervical_cancer.csv'  # Replace with your actual CSV path\n",
    "\n",
    "# Load the data from the CSV file into a DataFrame\n",
    "df = load_data_from_csv(csv_file)\n",
    "\n",
    "# Example of viewing the data\n",
    "print(df.head())\n",
    "print(f'DataFrame Size: {df.shape}')"
   ]
  },
  {
   "cell_type": "code",
   "execution_count": 3,
   "id": "739e4993-8a41-4e3b-89b6-e71771c29011",
   "metadata": {},
   "outputs": [
    {
     "name": "stdout",
     "output_type": "stream",
     "text": [
      "Count of '?' in each column:\n",
      "Age                                     0\n",
      "Number of sexual partners              26\n",
      "First sexual intercourse                7\n",
      "Num of pregnancies                     56\n",
      "Smokes                                 13\n",
      "Smokes (years)                         13\n",
      "Smokes (packs/year)                    13\n",
      "Hormonal Contraceptives               108\n",
      "Hormonal Contraceptives (years)       108\n",
      "IUD                                   117\n",
      "IUD (years)                           117\n",
      "STDs                                  105\n",
      "STDs (number)                         105\n",
      "STDs:condylomatosis                   105\n",
      "STDs:cervical condylomatosis          105\n",
      "STDs:vaginal condylomatosis           105\n",
      "STDs:vulvo-perineal condylomatosis    105\n",
      "STDs:syphilis                         105\n",
      "STDs:pelvic inflammatory disease      105\n",
      "STDs:genital herpes                   105\n",
      "STDs:molluscum contagiosum            105\n",
      "STDs:AIDS                             105\n",
      "STDs:HIV                              105\n",
      "STDs:Hepatitis B                      105\n",
      "STDs:HPV                              105\n",
      "STDs: Number of diagnosis               0\n",
      "STDs: Time since first diagnosis      787\n",
      "STDs: Time since last diagnosis       787\n",
      "Dx:Cancer                               0\n",
      "Dx:CIN                                  0\n",
      "Dx:HPV                                  0\n",
      "Dx                                      0\n",
      "Hinselmann                              0\n",
      "Schiller                                0\n",
      "Citology                                0\n",
      "Biopsy                                  0\n",
      "dtype: int64\n"
     ]
    }
   ],
   "source": [
    "import pandas as pd\n",
    "\n",
    "# Helper function to load data and count unknown values ('?') in each column\n",
    "def count_unknowns_per_column(df):\n",
    "    # Count the number of '?' in each column\n",
    "    unknowns_per_column = df.isin(['?']).sum()  # Sum of '?' occurrences for each column\n",
    "    return unknowns_per_column\n",
    "\n",
    "\n",
    "\n",
    "# Get the count of '?' in each column\n",
    "unknowns_per_column = count_unknowns_per_column(df)\n",
    "\n",
    "# Display the counts for each column\n",
    "print(\"Count of '?' in each column:\")\n",
    "print(unknowns_per_column)\n"
   ]
  },
  {
   "cell_type": "code",
   "execution_count": 4,
   "id": "4982b5d6-5a68-4455-991a-c57a3618826c",
   "metadata": {},
   "outputs": [
    {
     "name": "stdout",
     "output_type": "stream",
     "text": [
      "<class 'pandas.core.frame.DataFrame'>\n",
      "RangeIndex: 858 entries, 0 to 857\n",
      "Data columns (total 34 columns):\n",
      " #   Column                              Non-Null Count  Dtype \n",
      "---  ------                              --------------  ----- \n",
      " 0   Age                                 858 non-null    int64 \n",
      " 1   Number of sexual partners           858 non-null    object\n",
      " 2   First sexual intercourse            858 non-null    object\n",
      " 3   Num of pregnancies                  858 non-null    object\n",
      " 4   Smokes                              858 non-null    object\n",
      " 5   Smokes (years)                      858 non-null    object\n",
      " 6   Smokes (packs/year)                 858 non-null    object\n",
      " 7   Hormonal Contraceptives             858 non-null    object\n",
      " 8   Hormonal Contraceptives (years)     858 non-null    object\n",
      " 9   IUD                                 858 non-null    object\n",
      " 10  IUD (years)                         858 non-null    object\n",
      " 11  STDs                                858 non-null    object\n",
      " 12  STDs (number)                       858 non-null    object\n",
      " 13  STDs:condylomatosis                 858 non-null    object\n",
      " 14  STDs:cervical condylomatosis        858 non-null    object\n",
      " 15  STDs:vaginal condylomatosis         858 non-null    object\n",
      " 16  STDs:vulvo-perineal condylomatosis  858 non-null    object\n",
      " 17  STDs:syphilis                       858 non-null    object\n",
      " 18  STDs:pelvic inflammatory disease    858 non-null    object\n",
      " 19  STDs:genital herpes                 858 non-null    object\n",
      " 20  STDs:molluscum contagiosum          858 non-null    object\n",
      " 21  STDs:AIDS                           858 non-null    object\n",
      " 22  STDs:HIV                            858 non-null    object\n",
      " 23  STDs:Hepatitis B                    858 non-null    object\n",
      " 24  STDs:HPV                            858 non-null    object\n",
      " 25  STDs: Number of diagnosis           858 non-null    int64 \n",
      " 26  Dx:Cancer                           858 non-null    int64 \n",
      " 27  Dx:CIN                              858 non-null    int64 \n",
      " 28  Dx:HPV                              858 non-null    int64 \n",
      " 29  Dx                                  858 non-null    int64 \n",
      " 30  Hinselmann                          858 non-null    int64 \n",
      " 31  Schiller                            858 non-null    int64 \n",
      " 32  Citology                            858 non-null    int64 \n",
      " 33  Biopsy                              858 non-null    int64 \n",
      "dtypes: int64(10), object(24)\n",
      "memory usage: 228.0+ KB\n",
      "None\n"
     ]
    }
   ],
   "source": [
    "# Drop the specified columns\n",
    "columns_to_drop = ['STDs: Time since first diagnosis', 'STDs: Time since last diagnosis']\n",
    "df = df.drop(columns=columns_to_drop, errors='ignore')\n",
    "print(df.info())"
   ]
  },
  {
   "cell_type": "code",
   "execution_count": null,
   "id": "6b57c1fa-8970-4e81-bbfa-bc52d6166ace",
   "metadata": {},
   "outputs": [],
   "source": []
  },
  {
   "cell_type": "code",
   "execution_count": 5,
   "id": "a76113f2-9365-42f9-a328-b11c4bd37c1c",
   "metadata": {},
   "outputs": [],
   "source": [
    "import pandas as pd\n",
    "from sklearn.model_selection import train_test_split\n",
    "from sklearn.preprocessing import StandardScaler, OneHotEncoder\n",
    "from sklearn.impute import SimpleImputer\n",
    "from sklearn.compose import ColumnTransformer\n",
    "from sklearn.pipeline import Pipeline\n",
    "\n"
   ]
  },
  {
   "cell_type": "code",
   "execution_count": 6,
   "id": "8697233d-d819-4d18-963d-67b6549d699f",
   "metadata": {},
   "outputs": [
    {
     "name": "stdout",
     "output_type": "stream",
     "text": [
      "<class 'pandas.core.frame.DataFrame'>\n",
      "RangeIndex: 858 entries, 0 to 857\n",
      "Data columns (total 34 columns):\n",
      " #   Column                              Non-Null Count  Dtype \n",
      "---  ------                              --------------  ----- \n",
      " 0   Age                                 858 non-null    int64 \n",
      " 1   Number of sexual partners           858 non-null    object\n",
      " 2   First sexual intercourse            858 non-null    object\n",
      " 3   Num of pregnancies                  858 non-null    object\n",
      " 4   Smokes                              858 non-null    object\n",
      " 5   Smokes (years)                      858 non-null    object\n",
      " 6   Smokes (packs/year)                 858 non-null    object\n",
      " 7   Hormonal Contraceptives             858 non-null    object\n",
      " 8   Hormonal Contraceptives (years)     858 non-null    object\n",
      " 9   IUD                                 858 non-null    object\n",
      " 10  IUD (years)                         858 non-null    object\n",
      " 11  STDs                                858 non-null    object\n",
      " 12  STDs (number)                       858 non-null    object\n",
      " 13  STDs:condylomatosis                 858 non-null    object\n",
      " 14  STDs:cervical condylomatosis        858 non-null    object\n",
      " 15  STDs:vaginal condylomatosis         858 non-null    object\n",
      " 16  STDs:vulvo-perineal condylomatosis  858 non-null    object\n",
      " 17  STDs:syphilis                       858 non-null    object\n",
      " 18  STDs:pelvic inflammatory disease    858 non-null    object\n",
      " 19  STDs:genital herpes                 858 non-null    object\n",
      " 20  STDs:molluscum contagiosum          858 non-null    object\n",
      " 21  STDs:AIDS                           858 non-null    object\n",
      " 22  STDs:HIV                            858 non-null    object\n",
      " 23  STDs:Hepatitis B                    858 non-null    object\n",
      " 24  STDs:HPV                            858 non-null    object\n",
      " 25  STDs: Number of diagnosis           858 non-null    int64 \n",
      " 26  Dx:Cancer                           858 non-null    int64 \n",
      " 27  Dx:CIN                              858 non-null    int64 \n",
      " 28  Dx:HPV                              858 non-null    int64 \n",
      " 29  Dx                                  858 non-null    int64 \n",
      " 30  Hinselmann                          858 non-null    int64 \n",
      " 31  Schiller                            858 non-null    int64 \n",
      " 32  Citology                            858 non-null    int64 \n",
      " 33  Biopsy                              858 non-null    int64 \n",
      "dtypes: int64(10), object(24)\n",
      "memory usage: 228.0+ KB\n",
      "None\n"
     ]
    }
   ],
   "source": [
    "print(df.info())"
   ]
  },
  {
   "cell_type": "code",
   "execution_count": 7,
   "id": "cd63cff9-4c55-40b6-b105-9ad74cd2a4a7",
   "metadata": {},
   "outputs": [
    {
     "name": "stdout",
     "output_type": "stream",
     "text": [
      "   Age Number of sexual partners First sexual intercourse Num of pregnancies  \\\n",
      "0   18                       4.0                     15.0                1.0   \n",
      "1   15                       1.0                     14.0                1.0   \n",
      "2   34                       1.0                        ?                1.0   \n",
      "3   52                       5.0                     16.0                4.0   \n",
      "4   46                       3.0                     21.0                4.0   \n",
      "\n",
      "  Smokes Smokes (years) Smokes (packs/year) Hormonal Contraceptives  \\\n",
      "0    0.0            0.0                 0.0                     0.0   \n",
      "1    0.0            0.0                 0.0                     0.0   \n",
      "2    0.0            0.0                 0.0                     0.0   \n",
      "3    1.0           37.0                37.0                     1.0   \n",
      "4    0.0            0.0                 0.0                     1.0   \n",
      "\n",
      "  Hormonal Contraceptives (years)  IUD  ... STDs:HPV  \\\n",
      "0                             0.0  0.0  ...      0.0   \n",
      "1                             0.0  0.0  ...      0.0   \n",
      "2                             0.0  0.0  ...      0.0   \n",
      "3                             3.0  0.0  ...      0.0   \n",
      "4                            15.0  0.0  ...      0.0   \n",
      "\n",
      "  STDs: Number of diagnosis Dx:Cancer Dx:CIN Dx:HPV Dx Hinselmann Schiller  \\\n",
      "0                         0         0      0      0  0          0        0   \n",
      "1                         0         0      0      0  0          0        0   \n",
      "2                         0         0      0      0  0          0        0   \n",
      "3                         0         1      0      1  0          0        0   \n",
      "4                         0         0      0      0  0          0        0   \n",
      "\n",
      "  Citology Biopsy  \n",
      "0        0      0  \n",
      "1        0      0  \n",
      "2        0      0  \n",
      "3        0      0  \n",
      "4        0      0  \n",
      "\n",
      "[5 rows x 34 columns]\n"
     ]
    }
   ],
   "source": [
    "print(df.head())"
   ]
  },
  {
   "cell_type": "code",
   "execution_count": 8,
   "id": "41ec6024-525e-4846-82b1-a64c6f6ee7c8",
   "metadata": {},
   "outputs": [
    {
     "name": "stdout",
     "output_type": "stream",
     "text": [
      "Number of 1s in the dx label: 24\n"
     ]
    }
   ],
   "source": [
    "count_ones = df['Dx'].sum()\n",
    "print(f'Number of 1s in the dx label: {count_ones}')"
   ]
  },
  {
   "cell_type": "code",
   "execution_count": null,
   "id": "1c30cb0e-e440-420e-b94d-5c506faa32e8",
   "metadata": {},
   "outputs": [],
   "source": []
  },
  {
   "cell_type": "code",
   "execution_count": null,
   "id": "211d504d-b282-46d4-ba6b-981442734ee5",
   "metadata": {},
   "outputs": [],
   "source": []
  },
  {
   "cell_type": "code",
   "execution_count": null,
   "id": "da78fe2a-3dac-4173-841b-0b5dca1e7e4e",
   "metadata": {},
   "outputs": [],
   "source": []
  },
  {
   "cell_type": "code",
   "execution_count": 9,
   "id": "bc4a239c-8c01-451a-a28a-39c38a79e078",
   "metadata": {},
   "outputs": [],
   "source": [
    "import numpy as np\n",
    "from sklearn.pipeline import Pipeline\n",
    "from sklearn.compose import ColumnTransformer\n",
    "from sklearn.impute import SimpleImputer\n",
    "from sklearn.preprocessing import StandardScaler\n",
    "from sklearn.ensemble import RandomForestClassifier\n",
    "from sklearn.model_selection import train_test_split\n",
    "\n",
    "# Step 1: Replace '?' with NaN\n",
    "df.replace('?', np.nan, inplace=True)\n",
    "\n",
    "# Step 2: Convert all columns to float to ensure consistency in numeric representation\n",
    "df = df.astype(float)\n",
    "\n",
    "# Step 3: Remove Dx columns from features (X) and use them as labels (y)\n",
    "label_cols = [col for col in df.columns if col.startswith('Dx')]\n",
    "X = df.drop(columns=label_cols)  # Features, excluding 'Dx' columns\n",
    "y = df['Dx']  # Labels (Dx columns only)\n",
    "\n",
    "# Step 4: Define numeric columns (all columns are numeric now)\n",
    "numeric_cols = X.columns  # All remaining columns in X are numeric\n",
    "\n",
    "# Define numeric transformer (impute and scale)\n",
    "numeric_transformer = Pipeline(steps=[\n",
    "    ('imputer', SimpleImputer(strategy='median')),  # Replace missing numeric data with median\n",
    "    ('scaler', StandardScaler())  # Scale the numeric data\n",
    "])\n",
    "\n",
    "# Step 5: Apply the transformation to numeric columns\n",
    "preprocessor = ColumnTransformer(\n",
    "    transformers=[\n",
    "        ('num', numeric_transformer, numeric_cols)\n",
    "    ]\n",
    ")\n",
    "\n",
    "\n"
   ]
  },
  {
   "cell_type": "code",
   "execution_count": 10,
   "id": "35595b39-9381-4bee-84e6-315a5f7b8f60",
   "metadata": {},
   "outputs": [
    {
     "name": "stdout",
     "output_type": "stream",
     "text": [
      "Features (X) shape: (858, 30)\n",
      "Targets (y) shape: (858,)\n",
      "<class 'pandas.core.series.Series'>\n",
      "RangeIndex: 858 entries, 0 to 857\n",
      "Series name: Dx\n",
      "Non-Null Count  Dtype  \n",
      "--------------  -----  \n",
      "858 non-null    float64\n",
      "dtypes: float64(1)\n",
      "memory usage: 6.8 KB\n",
      "None\n",
      "<class 'pandas.core.frame.DataFrame'>\n",
      "RangeIndex: 858 entries, 0 to 857\n",
      "Data columns (total 30 columns):\n",
      " #   Column                              Non-Null Count  Dtype  \n",
      "---  ------                              --------------  -----  \n",
      " 0   Age                                 858 non-null    float64\n",
      " 1   Number of sexual partners           832 non-null    float64\n",
      " 2   First sexual intercourse            851 non-null    float64\n",
      " 3   Num of pregnancies                  802 non-null    float64\n",
      " 4   Smokes                              845 non-null    float64\n",
      " 5   Smokes (years)                      845 non-null    float64\n",
      " 6   Smokes (packs/year)                 845 non-null    float64\n",
      " 7   Hormonal Contraceptives             750 non-null    float64\n",
      " 8   Hormonal Contraceptives (years)     750 non-null    float64\n",
      " 9   IUD                                 741 non-null    float64\n",
      " 10  IUD (years)                         741 non-null    float64\n",
      " 11  STDs                                753 non-null    float64\n",
      " 12  STDs (number)                       753 non-null    float64\n",
      " 13  STDs:condylomatosis                 753 non-null    float64\n",
      " 14  STDs:cervical condylomatosis        753 non-null    float64\n",
      " 15  STDs:vaginal condylomatosis         753 non-null    float64\n",
      " 16  STDs:vulvo-perineal condylomatosis  753 non-null    float64\n",
      " 17  STDs:syphilis                       753 non-null    float64\n",
      " 18  STDs:pelvic inflammatory disease    753 non-null    float64\n",
      " 19  STDs:genital herpes                 753 non-null    float64\n",
      " 20  STDs:molluscum contagiosum          753 non-null    float64\n",
      " 21  STDs:AIDS                           753 non-null    float64\n",
      " 22  STDs:HIV                            753 non-null    float64\n",
      " 23  STDs:Hepatitis B                    753 non-null    float64\n",
      " 24  STDs:HPV                            753 non-null    float64\n",
      " 25  STDs: Number of diagnosis           858 non-null    float64\n",
      " 26  Hinselmann                          858 non-null    float64\n",
      " 27  Schiller                            858 non-null    float64\n",
      " 28  Citology                            858 non-null    float64\n",
      " 29  Biopsy                              858 non-null    float64\n",
      "dtypes: float64(30)\n",
      "memory usage: 201.2 KB\n",
      "None\n"
     ]
    }
   ],
   "source": [
    "# Step 4: Split the data into features (X) and multi-label target (y)\n",
    "\n",
    "\n",
    "\n",
    "# Display the shapes to verify\n",
    "print(\"Features (X) shape:\", X.shape)\n",
    "print(\"Targets (y) shape:\", y.shape)\n",
    "print(y.info())\n",
    "print(X.info())"
   ]
  },
  {
   "cell_type": "code",
   "execution_count": 11,
   "id": "e3e39c18-dc39-41f6-abbb-bd6d5337b858",
   "metadata": {},
   "outputs": [],
   "source": [
    "train_data = X.copy()\n",
    "train_data['Dx'] = y"
   ]
  },
  {
   "cell_type": "code",
   "execution_count": 12,
   "id": "590bb2ad-7c39-475d-b7b1-737b0b040dda",
   "metadata": {},
   "outputs": [
    {
     "name": "stdout",
     "output_type": "stream",
     "text": [
      "Columns in train_data: Index(['Age', 'Number of sexual partners', 'First sexual intercourse',\n",
      "       'Num of pregnancies', 'Smokes', 'Smokes (years)', 'Smokes (packs/year)',\n",
      "       'Hormonal Contraceptives', 'Hormonal Contraceptives (years)', 'IUD',\n",
      "       'IUD (years)', 'STDs', 'STDs (number)', 'STDs:condylomatosis',\n",
      "       'STDs:cervical condylomatosis', 'STDs:vaginal condylomatosis',\n",
      "       'STDs:vulvo-perineal condylomatosis', 'STDs:syphilis',\n",
      "       'STDs:pelvic inflammatory disease', 'STDs:genital herpes',\n",
      "       'STDs:molluscum contagiosum', 'STDs:AIDS', 'STDs:HIV',\n",
      "       'STDs:Hepatitis B', 'STDs:HPV', 'STDs: Number of diagnosis',\n",
      "       'Hinselmann', 'Schiller', 'Citology', 'Biopsy', 'Dx'],\n",
      "      dtype='object')\n",
      "Numeric columns in transformer: Index(['Age', 'Number of sexual partners', 'First sexual intercourse',\n",
      "       'Num of pregnancies', 'Smokes', 'Smokes (years)', 'Smokes (packs/year)',\n",
      "       'Hormonal Contraceptives', 'Hormonal Contraceptives (years)', 'IUD',\n",
      "       'IUD (years)', 'STDs', 'STDs (number)', 'STDs:condylomatosis',\n",
      "       'STDs:cervical condylomatosis', 'STDs:vaginal condylomatosis',\n",
      "       'STDs:vulvo-perineal condylomatosis', 'STDs:syphilis',\n",
      "       'STDs:pelvic inflammatory disease', 'STDs:genital herpes',\n",
      "       'STDs:molluscum contagiosum', 'STDs:AIDS', 'STDs:HIV',\n",
      "       'STDs:Hepatitis B', 'STDs:HPV', 'STDs: Number of diagnosis',\n",
      "       'Hinselmann', 'Schiller', 'Citology', 'Biopsy'],\n",
      "      dtype='object')\n"
     ]
    }
   ],
   "source": [
    "# Verify columns in X\n",
    "print(\"Columns in train_data:\", train_data.columns)\n",
    "print(\"Numeric columns in transformer:\", numeric_cols)\n"
   ]
  },
  {
   "cell_type": "code",
   "execution_count": null,
   "id": "f4671874-f271-4242-868f-3817c1e91432",
   "metadata": {},
   "outputs": [],
   "source": []
  },
  {
   "cell_type": "code",
   "execution_count": null,
   "id": "4179bd67-aeff-44aa-ae11-8589c99adb91",
   "metadata": {},
   "outputs": [],
   "source": []
  },
  {
   "cell_type": "code",
   "execution_count": null,
   "id": "06f6a6ec-bd3e-47c1-9183-269e508e86e6",
   "metadata": {},
   "outputs": [],
   "source": []
  },
  {
   "cell_type": "code",
   "execution_count": null,
   "id": "3bafaca6-347e-4386-8720-64f3e6f1ccf7",
   "metadata": {},
   "outputs": [],
   "source": []
  },
  {
   "cell_type": "code",
   "execution_count": null,
   "id": "45996c26-ed20-44a6-aefe-5881cd5ed3ec",
   "metadata": {},
   "outputs": [],
   "source": []
  },
  {
   "cell_type": "code",
   "execution_count": null,
   "id": "04cce2d3-23f2-4651-bddf-208b8b86bef4",
   "metadata": {},
   "outputs": [],
   "source": []
  },
  {
   "cell_type": "code",
   "execution_count": 13,
   "id": "4774b137-16ee-4e9d-8799-0bca7b0cb837",
   "metadata": {},
   "outputs": [
    {
     "name": "stderr",
     "output_type": "stream",
     "text": [
      "D:\\Anaconda\\envs\\mor\\Lib\\site-packages\\tqdm\\auto.py:21: TqdmWarning: IProgress not found. Please update jupyter and ipywidgets. See https://ipywidgets.readthedocs.io/en/stable/user_install.html\n",
      "  from .autonotebook import tqdm as notebook_tqdm\n"
     ]
    },
    {
     "name": "stdout",
     "output_type": "stream",
     "text": [
      "Number of elements in the training set: 686\n",
      "Number of elements in the testing set: 172\n"
     ]
    },
    {
     "name": "stderr",
     "output_type": "stream",
     "text": [
      "  0%|          | 39/1000000 [00:01<11:54:08, 23.34it/s]\n"
     ]
    },
    {
     "name": "stdout",
     "output_type": "stream",
     "text": [
      "Learned structure: [('Num of pregnancies', 'IUD'), ('Smokes', 'Smokes (years)'), ('Smokes', 'Smokes (packs/year)'), ('Smokes', 'Number of sexual partners'), ('Smokes', 'STDs:vulvo-perineal condylomatosis'), ('Smokes', 'Schiller'), ('Hormonal Contraceptives', 'Num of pregnancies'), ('Hormonal Contraceptives (years)', 'Hormonal Contraceptives'), ('IUD', 'IUD (years)'), ('IUD', 'Smokes'), ('IUD', 'Dx'), ('IUD', 'STDs:vulvo-perineal condylomatosis'), ('IUD', 'Hinselmann'), ('STDs', 'STDs: Number of diagnosis'), ('STDs', 'STDs:HPV'), ('STDs (number)', 'STDs'), ('STDs (number)', 'STDs:syphilis'), ('STDs (number)', 'STDs:HIV'), ('STDs:condylomatosis', 'STDs (number)'), ('STDs:condylomatosis', 'STDs:vaginal condylomatosis'), ('STDs:cervical condylomatosis', 'First sexual intercourse'), ('STDs:cervical condylomatosis', 'Citology'), ('STDs:cervical condylomatosis', 'Schiller'), ('STDs:vulvo-perineal condylomatosis', 'STDs:condylomatosis'), ('STDs:AIDS', 'Age'), ('STDs:AIDS', 'Number of sexual partners'), ('STDs:AIDS', 'Hormonal Contraceptives (years)'), ('STDs:AIDS', 'Num of pregnancies'), ('STDs:AIDS', 'Smokes'), ('STDs:AIDS', 'Dx'), ('STDs:Hepatitis B', 'Smokes (packs/year)'), ('STDs:Hepatitis B', 'Smokes (years)'), ('STDs:Hepatitis B', 'Biopsy'), ('STDs:Hepatitis B', 'IUD'), ('STDs:Hepatitis B', 'Hinselmann'), ('Hinselmann', 'Schiller'), ('Schiller', 'Biopsy'), ('Schiller', 'Citology')]\n",
      "Age                                    0\n",
      "Number of sexual partners              5\n",
      "First sexual intercourse               1\n",
      "Num of pregnancies                     6\n",
      "Smokes                                 3\n",
      "Smokes (years)                         3\n",
      "Smokes (packs/year)                    3\n",
      "Hormonal Contraceptives               24\n",
      "Hormonal Contraceptives (years)       24\n",
      "IUD                                   24\n",
      "IUD (years)                           24\n",
      "STDs                                  20\n",
      "STDs (number)                         20\n",
      "STDs:condylomatosis                   20\n",
      "STDs:cervical condylomatosis          20\n",
      "STDs:vaginal condylomatosis           20\n",
      "STDs:vulvo-perineal condylomatosis    20\n",
      "STDs:syphilis                         20\n",
      "STDs:AIDS                             20\n",
      "STDs:HIV                              20\n",
      "STDs:Hepatitis B                      20\n",
      "STDs:HPV                              20\n",
      "STDs: Number of diagnosis              0\n",
      "Hinselmann                             0\n",
      "Schiller                               0\n",
      "Citology                               0\n",
      "Biopsy                                 0\n",
      "dtype: int64\n",
      "Evidence for index 0: {'Age': 37.0, 'Number of sexual partners': 3.0, 'First sexual intercourse': 15.0, 'Num of pregnancies': 3.0, 'Smokes': 0.0, 'Smokes (years)': 0.0, 'Smokes (packs/year)': 0.0, 'Hormonal Contraceptives': 1.0, 'Hormonal Contraceptives (years)': 0.5, 'IUD': 1.0, 'IUD (years)': 2.0, 'STDs': 0.0, 'STDs (number)': 0.0, 'STDs:condylomatosis': 0.0, 'STDs:cervical condylomatosis': 0.0, 'STDs:vaginal condylomatosis': 0.0, 'STDs:vulvo-perineal condylomatosis': 0.0, 'STDs:syphilis': 0.0, 'STDs:AIDS': 0.0, 'STDs:HIV': 0.0, 'STDs:Hepatitis B': 0.0, 'STDs:HPV': 0.0, 'STDs: Number of diagnosis': 0.0, 'Hinselmann': 0.0, 'Schiller': 0.0, 'Citology': 0.0, 'Biopsy': 0.0}\n"
     ]
    },
    {
     "name": "stderr",
     "output_type": "stream",
     "text": [
      "Finding Elimination Order: : : 0it [00:00, ?it/s]\n",
      "0it [00:00, ?it/s]\n"
     ]
    },
    {
     "name": "stdout",
     "output_type": "stream",
     "text": [
      "Evidence for index 1: {'Age': 20.0, 'Number of sexual partners': 3.0, 'First sexual intercourse': 16.0, 'Num of pregnancies': 4.0, 'Smokes': 0.0, 'Smokes (years)': 0.0, 'Smokes (packs/year)': 0.0, 'Hormonal Contraceptives': 1.0, 'Hormonal Contraceptives (years)': 3.0, 'IUD': 0.0, 'IUD (years)': 0.0, 'STDs': 0.0, 'STDs (number)': 0.0, 'STDs:condylomatosis': 0.0, 'STDs:cervical condylomatosis': 0.0, 'STDs:vaginal condylomatosis': 0.0, 'STDs:vulvo-perineal condylomatosis': 0.0, 'STDs:syphilis': 0.0, 'STDs:AIDS': 0.0, 'STDs:HIV': 0.0, 'STDs:Hepatitis B': 0.0, 'STDs:HPV': 0.0, 'STDs: Number of diagnosis': 0.0, 'Hinselmann': 0.0, 'Schiller': 0.0, 'Citology': 0.0, 'Biopsy': 0.0}\n"
     ]
    },
    {
     "name": "stderr",
     "output_type": "stream",
     "text": [
      "Finding Elimination Order: : : 0it [00:00, ?it/s]\n",
      "0it [00:00, ?it/s]\n"
     ]
    },
    {
     "name": "stdout",
     "output_type": "stream",
     "text": [
      "Evidence for index 2: {'Age': 17.0, 'Number of sexual partners': 5.0, 'First sexual intercourse': 15.0, 'Num of pregnancies': 1.0, 'Smokes': 0.0, 'Smokes (years)': 0.0, 'Smokes (packs/year)': 0.0, 'Hormonal Contraceptives': 0.0, 'Hormonal Contraceptives (years)': 0.0, 'IUD': 0.0, 'IUD (years)': 0.0, 'STDs': 0.0, 'STDs (number)': 0.0, 'STDs:condylomatosis': 0.0, 'STDs:cervical condylomatosis': 0.0, 'STDs:vaginal condylomatosis': 0.0, 'STDs:vulvo-perineal condylomatosis': 0.0, 'STDs:syphilis': 0.0, 'STDs:AIDS': 0.0, 'STDs:HIV': 0.0, 'STDs:Hepatitis B': 0.0, 'STDs:HPV': 0.0, 'STDs: Number of diagnosis': 0.0, 'Hinselmann': 0.0, 'Schiller': 0.0, 'Citology': 0.0, 'Biopsy': 0.0}\n"
     ]
    },
    {
     "name": "stderr",
     "output_type": "stream",
     "text": [
      "Finding Elimination Order: : : 0it [00:00, ?it/s]\n",
      "0it [00:00, ?it/s]\n",
      "WARNING:pgmpy:Found unknown state name. Trying to switch to using all state names as state numbers\n"
     ]
    },
    {
     "name": "stdout",
     "output_type": "stream",
     "text": [
      "Evidence for index 3: {'Age': 36.0, 'Number of sexual partners': 1.0, 'First sexual intercourse': 22.0, 'Num of pregnancies': 4.0, 'Smokes': 1.0, 'Smokes (years)': 16.0, 'Smokes (packs/year)': 4.8, 'Hormonal Contraceptives': 0.0, 'Hormonal Contraceptives (years)': 0.0, 'IUD': 0.0, 'IUD (years)': 0.0, 'STDs': 1.0, 'STDs (number)': 3.0, 'STDs:condylomatosis': 1.0, 'STDs:cervical condylomatosis': 0.0, 'STDs:vaginal condylomatosis': 1.0, 'STDs:vulvo-perineal condylomatosis': 1.0, 'STDs:syphilis': 0.0, 'STDs:AIDS': 0.0, 'STDs:HIV': 0.0, 'STDs:Hepatitis B': 0.0, 'STDs:HPV': 0.0, 'STDs: Number of diagnosis': 1.0, 'Hinselmann': 0.0, 'Schiller': 0.0, 'Citology': 0.0, 'Biopsy': 0.0}\n",
      "Error predicting for index 3: only integers, slices (`:`), ellipsis (`...`), numpy.newaxis (`None`) and integer or boolean arrays are valid indices\n",
      "Evidence for index 4: {'Age': 15.0, 'Number of sexual partners': 1.0, 'First sexual intercourse': 13.0, 'Num of pregnancies': 1.0, 'Smokes': 1.0, 'Smokes (years)': 1.0, 'Smokes (packs/year)': 0.05, 'STDs: Number of diagnosis': 0.0, 'Hinselmann': 0.0, 'Schiller': 0.0, 'Citology': 0.0, 'Biopsy': 0.0}\n"
     ]
    },
    {
     "name": "stderr",
     "output_type": "stream",
     "text": [
      "Finding Elimination Order: : 100%|██████████| 9/9 [00:00<00:00, 6334.74it/s]\n",
      "Eliminating: STDs:AIDS: 100%|██████████| 9/9 [00:00<00:00, 2250.83it/s]               \n"
     ]
    },
    {
     "name": "stdout",
     "output_type": "stream",
     "text": [
      "Evidence for index 5: {'Age': 31.0, 'Number of sexual partners': 3.0, 'First sexual intercourse': 19.0, 'Num of pregnancies': 1.0, 'Smokes': 0.0, 'Smokes (years)': 0.0, 'Smokes (packs/year)': 0.0, 'Hormonal Contraceptives': 1.0, 'Hormonal Contraceptives (years)': 0.08, 'IUD': 1.0, 'IUD (years)': 8.0, 'STDs': 0.0, 'STDs (number)': 0.0, 'STDs:condylomatosis': 0.0, 'STDs:cervical condylomatosis': 0.0, 'STDs:vaginal condylomatosis': 0.0, 'STDs:vulvo-perineal condylomatosis': 0.0, 'STDs:syphilis': 0.0, 'STDs:AIDS': 0.0, 'STDs:HIV': 0.0, 'STDs:Hepatitis B': 0.0, 'STDs:HPV': 0.0, 'STDs: Number of diagnosis': 0.0, 'Hinselmann': 0.0, 'Schiller': 0.0, 'Citology': 0.0, 'Biopsy': 0.0}\n"
     ]
    },
    {
     "name": "stderr",
     "output_type": "stream",
     "text": [
      "Finding Elimination Order: : : 0it [00:00, ?it/s]\n",
      "0it [00:00, ?it/s]\n"
     ]
    },
    {
     "name": "stdout",
     "output_type": "stream",
     "text": [
      "Evidence for index 6: {'Age': 44.0, 'Number of sexual partners': 3.0, 'First sexual intercourse': 23.0, 'Smokes': 0.0, 'Smokes (years)': 0.0, 'Smokes (packs/year)': 0.0, 'STDs: Number of diagnosis': 0.0, 'Hinselmann': 0.0, 'Schiller': 0.0, 'Citology': 0.0, 'Biopsy': 0.0}\n"
     ]
    },
    {
     "name": "stderr",
     "output_type": "stream",
     "text": [
      "Finding Elimination Order: : 100%|██████████| 10/10 [00:00<00:00, 10072.78it/s]\n",
      "Eliminating: STDs:AIDS: 100%|██████████| 10/10 [00:00<00:00, 2000.14it/s]              \n"
     ]
    },
    {
     "name": "stdout",
     "output_type": "stream",
     "text": [
      "Evidence for index 7: {'Age': 36.0, 'Number of sexual partners': 1.0, 'First sexual intercourse': 16.0, 'Num of pregnancies': 3.0, 'Smokes': 0.0, 'Smokes (years)': 0.0, 'Smokes (packs/year)': 0.0, 'Hormonal Contraceptives': 1.0, 'Hormonal Contraceptives (years)': 11.0, 'IUD': 0.0, 'IUD (years)': 0.0, 'STDs': 0.0, 'STDs (number)': 0.0, 'STDs:condylomatosis': 0.0, 'STDs:cervical condylomatosis': 0.0, 'STDs:vaginal condylomatosis': 0.0, 'STDs:vulvo-perineal condylomatosis': 0.0, 'STDs:syphilis': 0.0, 'STDs:AIDS': 0.0, 'STDs:HIV': 0.0, 'STDs:Hepatitis B': 0.0, 'STDs:HPV': 0.0, 'STDs: Number of diagnosis': 0.0, 'Hinselmann': 0.0, 'Schiller': 0.0, 'Citology': 0.0, 'Biopsy': 0.0}\n"
     ]
    },
    {
     "name": "stderr",
     "output_type": "stream",
     "text": [
      "Finding Elimination Order: : : 0it [00:00, ?it/s]\n",
      "0it [00:00, ?it/s]\n"
     ]
    },
    {
     "name": "stdout",
     "output_type": "stream",
     "text": [
      "Evidence for index 8: {'Age': 43.0, 'Number of sexual partners': 2.0, 'First sexual intercourse': 18.0, 'Num of pregnancies': 5.0, 'Smokes': 0.0, 'Smokes (years)': 0.0, 'Smokes (packs/year)': 0.0, 'Hormonal Contraceptives': 0.0, 'Hormonal Contraceptives (years)': 0.0, 'IUD': 1.0, 'IUD (years)': 8.0, 'STDs': 0.0, 'STDs (number)': 0.0, 'STDs:condylomatosis': 0.0, 'STDs:cervical condylomatosis': 0.0, 'STDs:vaginal condylomatosis': 0.0, 'STDs:vulvo-perineal condylomatosis': 0.0, 'STDs:syphilis': 0.0, 'STDs:AIDS': 0.0, 'STDs:HIV': 0.0, 'STDs:Hepatitis B': 0.0, 'STDs:HPV': 0.0, 'STDs: Number of diagnosis': 0.0, 'Hinselmann': 0.0, 'Schiller': 0.0, 'Citology': 0.0, 'Biopsy': 0.0}\n"
     ]
    },
    {
     "name": "stderr",
     "output_type": "stream",
     "text": [
      "Finding Elimination Order: : : 0it [00:00, ?it/s]\n",
      "0it [00:00, ?it/s]\n"
     ]
    },
    {
     "name": "stdout",
     "output_type": "stream",
     "text": [
      "Evidence for index 9: {'Age': 15.0, 'Number of sexual partners': 2.0, 'First sexual intercourse': 13.0, 'Num of pregnancies': 1.0, 'Smokes': 0.0, 'Smokes (years)': 0.0, 'Smokes (packs/year)': 0.0, 'Hormonal Contraceptives': 1.0, 'Hormonal Contraceptives (years)': 1.0, 'IUD': 0.0, 'IUD (years)': 0.0, 'STDs': 1.0, 'STDs (number)': 1.0, 'STDs:condylomatosis': 0.0, 'STDs:cervical condylomatosis': 0.0, 'STDs:vaginal condylomatosis': 0.0, 'STDs:vulvo-perineal condylomatosis': 0.0, 'STDs:syphilis': 1.0, 'STDs:AIDS': 0.0, 'STDs:HIV': 0.0, 'STDs:Hepatitis B': 0.0, 'STDs:HPV': 0.0, 'STDs: Number of diagnosis': 1.0, 'Hinselmann': 0.0, 'Schiller': 0.0, 'Citology': 0.0, 'Biopsy': 0.0}\n"
     ]
    },
    {
     "name": "stderr",
     "output_type": "stream",
     "text": [
      "Finding Elimination Order: : : 0it [00:00, ?it/s]\n",
      "0it [00:00, ?it/s]\n"
     ]
    },
    {
     "name": "stdout",
     "output_type": "stream",
     "text": [
      "Evidence for index 10: {'Age': 34.0, 'Number of sexual partners': 3.0, 'First sexual intercourse': 19.0, 'Num of pregnancies': 3.0, 'Smokes': 0.0, 'Smokes (years)': 0.0, 'Smokes (packs/year)': 0.0, 'Hormonal Contraceptives': 1.0, 'Hormonal Contraceptives (years)': 5.0, 'IUD': 0.0, 'IUD (years)': 0.0, 'STDs': 0.0, 'STDs (number)': 0.0, 'STDs:condylomatosis': 0.0, 'STDs:cervical condylomatosis': 0.0, 'STDs:vaginal condylomatosis': 0.0, 'STDs:vulvo-perineal condylomatosis': 0.0, 'STDs:syphilis': 0.0, 'STDs:AIDS': 0.0, 'STDs:HIV': 0.0, 'STDs:Hepatitis B': 0.0, 'STDs:HPV': 0.0, 'STDs: Number of diagnosis': 0.0, 'Hinselmann': 0.0, 'Schiller': 0.0, 'Citology': 0.0, 'Biopsy': 0.0}\n"
     ]
    },
    {
     "name": "stderr",
     "output_type": "stream",
     "text": [
      "Finding Elimination Order: : : 0it [00:00, ?it/s]\n",
      "0it [00:00, ?it/s]\n"
     ]
    },
    {
     "name": "stdout",
     "output_type": "stream",
     "text": [
      "Evidence for index 11: {'Age': 22.0, 'Number of sexual partners': 2.0, 'First sexual intercourse': 19.0, 'Num of pregnancies': 1.0, 'Smokes': 0.0, 'Smokes (years)': 0.0, 'Smokes (packs/year)': 0.0, 'STDs: Number of diagnosis': 0.0, 'Hinselmann': 0.0, 'Schiller': 0.0, 'Citology': 0.0, 'Biopsy': 0.0}\n"
     ]
    },
    {
     "name": "stderr",
     "output_type": "stream",
     "text": [
      "Finding Elimination Order: : 100%|██████████| 9/9 [00:00<00:00, 3889.62it/s]\n",
      "Eliminating: STDs:AIDS: 100%|██████████| 9/9 [00:00<00:00, 2858.02it/s]               \n"
     ]
    },
    {
     "name": "stdout",
     "output_type": "stream",
     "text": [
      "Evidence for index 12: {'Age': 17.0, 'Number of sexual partners': 2.0, 'First sexual intercourse': 15.0, 'Num of pregnancies': 1.0, 'Smokes': 0.0, 'Smokes (years)': 0.0, 'Smokes (packs/year)': 0.0, 'Hormonal Contraceptives': 0.0, 'Hormonal Contraceptives (years)': 0.0, 'IUD': 0.0, 'IUD (years)': 0.0, 'STDs': 0.0, 'STDs (number)': 0.0, 'STDs:condylomatosis': 0.0, 'STDs:cervical condylomatosis': 0.0, 'STDs:vaginal condylomatosis': 0.0, 'STDs:vulvo-perineal condylomatosis': 0.0, 'STDs:syphilis': 0.0, 'STDs:AIDS': 0.0, 'STDs:HIV': 0.0, 'STDs:Hepatitis B': 0.0, 'STDs:HPV': 0.0, 'STDs: Number of diagnosis': 0.0, 'Hinselmann': 0.0, 'Schiller': 0.0, 'Citology': 0.0, 'Biopsy': 0.0}\n"
     ]
    },
    {
     "name": "stderr",
     "output_type": "stream",
     "text": [
      "Finding Elimination Order: : : 0it [00:00, ?it/s]\n",
      "0it [00:00, ?it/s]\n"
     ]
    },
    {
     "name": "stdout",
     "output_type": "stream",
     "text": [
      "Evidence for index 13: {'Age': 35.0, 'Number of sexual partners': 5.0, 'First sexual intercourse': 18.0, 'Num of pregnancies': 2.0, 'Smokes': 0.0, 'Smokes (years)': 0.0, 'Smokes (packs/year)': 0.0, 'Hormonal Contraceptives': 1.0, 'Hormonal Contraceptives (years)': 10.0, 'IUD': 0.0, 'IUD (years)': 0.0, 'STDs': 0.0, 'STDs (number)': 0.0, 'STDs:condylomatosis': 0.0, 'STDs:cervical condylomatosis': 0.0, 'STDs:vaginal condylomatosis': 0.0, 'STDs:vulvo-perineal condylomatosis': 0.0, 'STDs:syphilis': 0.0, 'STDs:AIDS': 0.0, 'STDs:HIV': 0.0, 'STDs:Hepatitis B': 0.0, 'STDs:HPV': 0.0, 'STDs: Number of diagnosis': 0.0, 'Hinselmann': 0.0, 'Schiller': 0.0, 'Citology': 0.0, 'Biopsy': 0.0}\n"
     ]
    },
    {
     "name": "stderr",
     "output_type": "stream",
     "text": [
      "Finding Elimination Order: : : 0it [00:00, ?it/s]\n",
      "0it [00:00, ?it/s]\n"
     ]
    },
    {
     "name": "stdout",
     "output_type": "stream",
     "text": [
      "Evidence for index 14: {'Age': 19.0, 'Number of sexual partners': 1.0, 'First sexual intercourse': 16.0, 'Num of pregnancies': 1.0, 'Smokes': 0.0, 'Smokes (years)': 0.0, 'Smokes (packs/year)': 0.0, 'Hormonal Contraceptives': 0.0, 'Hormonal Contraceptives (years)': 0.0, 'IUD': 0.0, 'IUD (years)': 0.0, 'STDs': 0.0, 'STDs (number)': 0.0, 'STDs:condylomatosis': 0.0, 'STDs:cervical condylomatosis': 0.0, 'STDs:vaginal condylomatosis': 0.0, 'STDs:vulvo-perineal condylomatosis': 0.0, 'STDs:syphilis': 0.0, 'STDs:AIDS': 0.0, 'STDs:HIV': 0.0, 'STDs:Hepatitis B': 0.0, 'STDs:HPV': 0.0, 'STDs: Number of diagnosis': 0.0, 'Hinselmann': 0.0, 'Schiller': 0.0, 'Citology': 0.0, 'Biopsy': 0.0}\n"
     ]
    },
    {
     "name": "stderr",
     "output_type": "stream",
     "text": [
      "Finding Elimination Order: : : 0it [00:00, ?it/s]\n",
      "0it [00:00, ?it/s]\n"
     ]
    },
    {
     "name": "stdout",
     "output_type": "stream",
     "text": [
      "Evidence for index 15: {'Age': 30.0, 'Number of sexual partners': 3.0, 'First sexual intercourse': 17.0, 'Num of pregnancies': 4.0, 'Smokes': 0.0, 'Smokes (years)': 0.0, 'Smokes (packs/year)': 0.0, 'Hormonal Contraceptives': 1.0, 'Hormonal Contraceptives (years)': 12.0, 'IUD': 0.0, 'IUD (years)': 0.0, 'STDs': 0.0, 'STDs (number)': 0.0, 'STDs:condylomatosis': 0.0, 'STDs:cervical condylomatosis': 0.0, 'STDs:vaginal condylomatosis': 0.0, 'STDs:vulvo-perineal condylomatosis': 0.0, 'STDs:syphilis': 0.0, 'STDs:AIDS': 0.0, 'STDs:HIV': 0.0, 'STDs:Hepatitis B': 0.0, 'STDs:HPV': 0.0, 'STDs: Number of diagnosis': 0.0, 'Hinselmann': 0.0, 'Schiller': 0.0, 'Citology': 0.0, 'Biopsy': 0.0}\n"
     ]
    },
    {
     "name": "stderr",
     "output_type": "stream",
     "text": [
      "Finding Elimination Order: : : 0it [00:00, ?it/s]\n",
      "0it [00:00, ?it/s]\n"
     ]
    },
    {
     "name": "stdout",
     "output_type": "stream",
     "text": [
      "Evidence for index 16: {'Age': 19.0, 'Number of sexual partners': 4.0, 'First sexual intercourse': 14.0, 'Num of pregnancies': 1.0, 'Smokes': 1.0, 'Smokes (years)': 7.0, 'Smokes (packs/year)': 0.5132021277, 'STDs: Number of diagnosis': 0.0, 'Hinselmann': 0.0, 'Schiller': 0.0, 'Citology': 0.0, 'Biopsy': 0.0}\n"
     ]
    },
    {
     "name": "stderr",
     "output_type": "stream",
     "text": [
      "Finding Elimination Order: : 100%|██████████| 9/9 [00:00<00:00, 9011.40it/s]\n",
      "Eliminating: STDs:AIDS: 100%|██████████| 9/9 [00:00<00:00, 2424.92it/s]               \n"
     ]
    },
    {
     "name": "stdout",
     "output_type": "stream",
     "text": [
      "Evidence for index 17: {'Age': 23.0, 'Number of sexual partners': 2.0, 'First sexual intercourse': 18.0, 'Num of pregnancies': 2.0, 'Smokes': 0.0, 'Smokes (years)': 0.0, 'Smokes (packs/year)': 0.0, 'Hormonal Contraceptives': 1.0, 'Hormonal Contraceptives (years)': 2.0, 'IUD': 0.0, 'IUD (years)': 0.0, 'STDs': 0.0, 'STDs (number)': 0.0, 'STDs:condylomatosis': 0.0, 'STDs:cervical condylomatosis': 0.0, 'STDs:vaginal condylomatosis': 0.0, 'STDs:vulvo-perineal condylomatosis': 0.0, 'STDs:syphilis': 0.0, 'STDs:AIDS': 0.0, 'STDs:HIV': 0.0, 'STDs:Hepatitis B': 0.0, 'STDs:HPV': 0.0, 'STDs: Number of diagnosis': 0.0, 'Hinselmann': 0.0, 'Schiller': 0.0, 'Citology': 0.0, 'Biopsy': 0.0}\n"
     ]
    },
    {
     "name": "stderr",
     "output_type": "stream",
     "text": [
      "Finding Elimination Order: : : 0it [00:00, ?it/s]\n",
      "0it [00:00, ?it/s]\n"
     ]
    },
    {
     "name": "stdout",
     "output_type": "stream",
     "text": [
      "Evidence for index 18: {'Age': 21.0, 'Number of sexual partners': 1.0, 'First sexual intercourse': 14.0, 'Num of pregnancies': 2.0, 'Smokes': 0.0, 'Smokes (years)': 0.0, 'Smokes (packs/year)': 0.0, 'Hormonal Contraceptives': 1.0, 'Hormonal Contraceptives (years)': 4.0, 'IUD': 0.0, 'IUD (years)': 0.0, 'STDs': 0.0, 'STDs (number)': 0.0, 'STDs:condylomatosis': 0.0, 'STDs:cervical condylomatosis': 0.0, 'STDs:vaginal condylomatosis': 0.0, 'STDs:vulvo-perineal condylomatosis': 0.0, 'STDs:syphilis': 0.0, 'STDs:AIDS': 0.0, 'STDs:HIV': 0.0, 'STDs:Hepatitis B': 0.0, 'STDs:HPV': 0.0, 'STDs: Number of diagnosis': 0.0, 'Hinselmann': 0.0, 'Schiller': 0.0, 'Citology': 0.0, 'Biopsy': 0.0}\n"
     ]
    },
    {
     "name": "stderr",
     "output_type": "stream",
     "text": [
      "Finding Elimination Order: : : 0it [00:00, ?it/s]\n",
      "0it [00:00, ?it/s]\n"
     ]
    },
    {
     "name": "stdout",
     "output_type": "stream",
     "text": [
      "Evidence for index 19: {'Age': 18.0, 'First sexual intercourse': 16.0, 'Num of pregnancies': 2.0, 'Smokes': 0.0, 'Smokes (years)': 0.0, 'Smokes (packs/year)': 0.0, 'STDs: Number of diagnosis': 0.0, 'Hinselmann': 0.0, 'Schiller': 0.0, 'Citology': 0.0, 'Biopsy': 0.0}\n"
     ]
    },
    {
     "name": "stderr",
     "output_type": "stream",
     "text": [
      "Finding Elimination Order: : 100%|██████████| 9/9 [00:00<00:00, 9069.85it/s]\n",
      "Eliminating: STDs:AIDS: 100%|██████████| 9/9 [00:00<00:00, 4430.08it/s]               \n",
      "WARNING:pgmpy:Found unknown state name. Trying to switch to using all state names as state numbers\n"
     ]
    },
    {
     "name": "stdout",
     "output_type": "stream",
     "text": [
      "Evidence for index 20: {'Age': 23.0, 'Number of sexual partners': 5.0, 'First sexual intercourse': 15.0, 'Num of pregnancies': 1.0, 'Smokes': 1.0, 'Smokes (years)': 8.0, 'Smokes (packs/year)': 4.0, 'Hormonal Contraceptives': 1.0, 'Hormonal Contraceptives (years)': 8.0, 'IUD': 0.0, 'IUD (years)': 0.0, 'STDs': 0.0, 'STDs (number)': 0.0, 'STDs:condylomatosis': 0.0, 'STDs:cervical condylomatosis': 0.0, 'STDs:vaginal condylomatosis': 0.0, 'STDs:vulvo-perineal condylomatosis': 0.0, 'STDs:syphilis': 0.0, 'STDs:AIDS': 0.0, 'STDs:HIV': 0.0, 'STDs:Hepatitis B': 0.0, 'STDs:HPV': 0.0, 'STDs: Number of diagnosis': 0.0, 'Hinselmann': 0.0, 'Schiller': 0.0, 'Citology': 0.0, 'Biopsy': 0.0}\n",
      "Error predicting for index 20: only integers, slices (`:`), ellipsis (`...`), numpy.newaxis (`None`) and integer or boolean arrays are valid indices\n",
      "Evidence for index 21: {'Age': 29.0, 'First sexual intercourse': 19.0, 'Num of pregnancies': 2.0, 'Smokes': 0.0, 'Smokes (years)': 0.0, 'Smokes (packs/year)': 0.0, 'STDs: Number of diagnosis': 0.0, 'Hinselmann': 0.0, 'Schiller': 0.0, 'Citology': 0.0, 'Biopsy': 0.0}\n"
     ]
    },
    {
     "name": "stderr",
     "output_type": "stream",
     "text": [
      "Finding Elimination Order: : 100%|██████████| 9/9 [00:00<00:00, 9072.03it/s]\n",
      "Eliminating: STDs:AIDS: 100%|██████████| 9/9 [00:00<00:00, 2250.83it/s]               \n"
     ]
    },
    {
     "name": "stdout",
     "output_type": "stream",
     "text": [
      "Evidence for index 22: {'Age': 15.0, 'Number of sexual partners': 1.0, 'First sexual intercourse': 14.0, 'Num of pregnancies': 1.0, 'Smokes': 0.0, 'Smokes (years)': 0.0, 'Smokes (packs/year)': 0.0, 'Hormonal Contraceptives': 0.0, 'Hormonal Contraceptives (years)': 0.0, 'IUD': 0.0, 'IUD (years)': 0.0, 'STDs': 0.0, 'STDs (number)': 0.0, 'STDs:condylomatosis': 0.0, 'STDs:cervical condylomatosis': 0.0, 'STDs:vaginal condylomatosis': 0.0, 'STDs:vulvo-perineal condylomatosis': 0.0, 'STDs:syphilis': 0.0, 'STDs:AIDS': 0.0, 'STDs:HIV': 0.0, 'STDs:Hepatitis B': 0.0, 'STDs:HPV': 0.0, 'STDs: Number of diagnosis': 0.0, 'Hinselmann': 0.0, 'Schiller': 0.0, 'Citology': 0.0, 'Biopsy': 0.0}\n"
     ]
    },
    {
     "name": "stderr",
     "output_type": "stream",
     "text": [
      "Finding Elimination Order: : : 0it [00:00, ?it/s]\n",
      "0it [00:00, ?it/s]\n"
     ]
    },
    {
     "name": "stdout",
     "output_type": "stream",
     "text": [
      "Evidence for index 23: {'Age': 21.0, 'Number of sexual partners': 1.0, 'First sexual intercourse': 17.0, 'Num of pregnancies': 2.0, 'Smokes': 0.0, 'Smokes (years)': 0.0, 'Smokes (packs/year)': 0.0, 'Hormonal Contraceptives': 1.0, 'Hormonal Contraceptives (years)': 3.0, 'IUD': 0.0, 'IUD (years)': 0.0, 'STDs': 0.0, 'STDs (number)': 0.0, 'STDs:condylomatosis': 0.0, 'STDs:cervical condylomatosis': 0.0, 'STDs:vaginal condylomatosis': 0.0, 'STDs:vulvo-perineal condylomatosis': 0.0, 'STDs:syphilis': 0.0, 'STDs:AIDS': 0.0, 'STDs:HIV': 0.0, 'STDs:Hepatitis B': 0.0, 'STDs:HPV': 0.0, 'STDs: Number of diagnosis': 0.0, 'Hinselmann': 1.0, 'Schiller': 1.0, 'Citology': 0.0, 'Biopsy': 1.0}\n"
     ]
    },
    {
     "name": "stderr",
     "output_type": "stream",
     "text": [
      "Finding Elimination Order: : : 0it [00:00, ?it/s]\n",
      "0it [00:00, ?it/s]\n"
     ]
    },
    {
     "name": "stdout",
     "output_type": "stream",
     "text": [
      "Evidence for index 24: {'Age': 24.0, 'Number of sexual partners': 2.0, 'First sexual intercourse': 15.0, 'Num of pregnancies': 3.0, 'Smokes': 0.0, 'Smokes (years)': 0.0, 'Smokes (packs/year)': 0.0, 'Hormonal Contraceptives': 1.0, 'Hormonal Contraceptives (years)': 4.0, 'IUD': 0.0, 'IUD (years)': 0.0, 'STDs': 1.0, 'STDs (number)': 1.0, 'STDs:condylomatosis': 0.0, 'STDs:cervical condylomatosis': 0.0, 'STDs:vaginal condylomatosis': 0.0, 'STDs:vulvo-perineal condylomatosis': 0.0, 'STDs:syphilis': 0.0, 'STDs:AIDS': 0.0, 'STDs:HIV': 1.0, 'STDs:Hepatitis B': 0.0, 'STDs:HPV': 0.0, 'STDs: Number of diagnosis': 1.0, 'Hinselmann': 0.0, 'Schiller': 0.0, 'Citology': 0.0, 'Biopsy': 0.0}\n"
     ]
    },
    {
     "name": "stderr",
     "output_type": "stream",
     "text": [
      "Finding Elimination Order: : : 0it [00:00, ?it/s]\n",
      "0it [00:00, ?it/s]\n"
     ]
    },
    {
     "name": "stdout",
     "output_type": "stream",
     "text": [
      "Evidence for index 25: {'Age': 24.0, 'Number of sexual partners': 1.0, 'First sexual intercourse': 21.0, 'Smokes': 0.0, 'Smokes (years)': 0.0, 'Smokes (packs/year)': 0.0, 'Hormonal Contraceptives': 1.0, 'Hormonal Contraceptives (years)': 1.0, 'IUD': 0.0, 'IUD (years)': 0.0, 'STDs': 0.0, 'STDs (number)': 0.0, 'STDs:condylomatosis': 0.0, 'STDs:cervical condylomatosis': 0.0, 'STDs:vaginal condylomatosis': 0.0, 'STDs:vulvo-perineal condylomatosis': 0.0, 'STDs:syphilis': 0.0, 'STDs:AIDS': 0.0, 'STDs:HIV': 0.0, 'STDs:Hepatitis B': 0.0, 'STDs:HPV': 0.0, 'STDs: Number of diagnosis': 0.0, 'Hinselmann': 0.0, 'Schiller': 0.0, 'Citology': 0.0, 'Biopsy': 0.0}\n"
     ]
    },
    {
     "name": "stderr",
     "output_type": "stream",
     "text": [
      "Finding Elimination Order: : : 0it [00:00, ?it/s]\n",
      "0it [00:00, ?it/s]\n"
     ]
    },
    {
     "name": "stdout",
     "output_type": "stream",
     "text": [
      "Evidence for index 26: {'Age': 24.0, 'Number of sexual partners': 2.0, 'First sexual intercourse': 16.0, 'Num of pregnancies': 3.0, 'Smokes': 0.0, 'Smokes (years)': 0.0, 'Smokes (packs/year)': 0.0, 'Hormonal Contraceptives': 1.0, 'Hormonal Contraceptives (years)': 5.0, 'IUD': 0.0, 'IUD (years)': 0.0, 'STDs': 0.0, 'STDs (number)': 0.0, 'STDs:condylomatosis': 0.0, 'STDs:cervical condylomatosis': 0.0, 'STDs:vaginal condylomatosis': 0.0, 'STDs:vulvo-perineal condylomatosis': 0.0, 'STDs:syphilis': 0.0, 'STDs:AIDS': 0.0, 'STDs:HIV': 0.0, 'STDs:Hepatitis B': 0.0, 'STDs:HPV': 0.0, 'STDs: Number of diagnosis': 0.0, 'Hinselmann': 0.0, 'Schiller': 0.0, 'Citology': 0.0, 'Biopsy': 0.0}\n"
     ]
    },
    {
     "name": "stderr",
     "output_type": "stream",
     "text": [
      "Finding Elimination Order: : : 0it [00:00, ?it/s]\n",
      "0it [00:00, ?it/s]\n"
     ]
    },
    {
     "name": "stdout",
     "output_type": "stream",
     "text": [
      "Evidence for index 27: {'Age': 30.0, 'Number of sexual partners': 5.0, 'First sexual intercourse': 16.0, 'Num of pregnancies': 4.0, 'Smokes': 0.0, 'Smokes (years)': 0.0, 'Smokes (packs/year)': 0.0, 'Hormonal Contraceptives': 0.0, 'Hormonal Contraceptives (years)': 0.0, 'IUD': 1.0, 'IUD (years)': 7.0, 'STDs': 1.0, 'STDs (number)': 1.0, 'STDs:condylomatosis': 0.0, 'STDs:cervical condylomatosis': 0.0, 'STDs:vaginal condylomatosis': 0.0, 'STDs:vulvo-perineal condylomatosis': 0.0, 'STDs:syphilis': 0.0, 'STDs:AIDS': 0.0, 'STDs:HIV': 1.0, 'STDs:Hepatitis B': 0.0, 'STDs:HPV': 0.0, 'STDs: Number of diagnosis': 1.0, 'Hinselmann': 0.0, 'Schiller': 0.0, 'Citology': 1.0, 'Biopsy': 0.0}\n"
     ]
    },
    {
     "name": "stderr",
     "output_type": "stream",
     "text": [
      "Finding Elimination Order: : : 0it [00:00, ?it/s]\n",
      "0it [00:00, ?it/s]\n"
     ]
    },
    {
     "name": "stdout",
     "output_type": "stream",
     "text": [
      "Evidence for index 28: {'Age': 29.0, 'Number of sexual partners': 2.0, 'First sexual intercourse': 17.0, 'Num of pregnancies': 2.0, 'Smokes': 0.0, 'Smokes (years)': 0.0, 'Smokes (packs/year)': 0.0, 'Hormonal Contraceptives': 1.0, 'Hormonal Contraceptives (years)': 7.0, 'IUD': 0.0, 'IUD (years)': 0.0, 'STDs': 0.0, 'STDs (number)': 0.0, 'STDs:condylomatosis': 0.0, 'STDs:cervical condylomatosis': 0.0, 'STDs:vaginal condylomatosis': 0.0, 'STDs:vulvo-perineal condylomatosis': 0.0, 'STDs:syphilis': 0.0, 'STDs:AIDS': 0.0, 'STDs:HIV': 0.0, 'STDs:Hepatitis B': 0.0, 'STDs:HPV': 0.0, 'STDs: Number of diagnosis': 0.0, 'Hinselmann': 0.0, 'Schiller': 0.0, 'Citology': 0.0, 'Biopsy': 0.0}\n"
     ]
    },
    {
     "name": "stderr",
     "output_type": "stream",
     "text": [
      "Finding Elimination Order: : : 0it [00:00, ?it/s]\n",
      "0it [00:00, ?it/s]\n"
     ]
    },
    {
     "name": "stdout",
     "output_type": "stream",
     "text": [
      "Evidence for index 29: {'Age': 24.0, 'Number of sexual partners': 2.0, 'First sexual intercourse': 19.0, 'Num of pregnancies': 1.0, 'Smokes': 0.0, 'Smokes (years)': 0.0, 'Smokes (packs/year)': 0.0, 'Hormonal Contraceptives': 0.0, 'Hormonal Contraceptives (years)': 0.0, 'IUD': 0.0, 'IUD (years)': 0.0, 'STDs': 0.0, 'STDs (number)': 0.0, 'STDs:condylomatosis': 0.0, 'STDs:cervical condylomatosis': 0.0, 'STDs:vaginal condylomatosis': 0.0, 'STDs:vulvo-perineal condylomatosis': 0.0, 'STDs:syphilis': 0.0, 'STDs:AIDS': 0.0, 'STDs:HIV': 0.0, 'STDs:Hepatitis B': 0.0, 'STDs:HPV': 0.0, 'STDs: Number of diagnosis': 0.0, 'Hinselmann': 0.0, 'Schiller': 0.0, 'Citology': 0.0, 'Biopsy': 0.0}\n"
     ]
    },
    {
     "name": "stderr",
     "output_type": "stream",
     "text": [
      "Finding Elimination Order: : : 0it [00:00, ?it/s]\n",
      "0it [00:00, ?it/s]\n"
     ]
    },
    {
     "name": "stdout",
     "output_type": "stream",
     "text": [
      "Evidence for index 30: {'Age': 37.0, 'Number of sexual partners': 3.0, 'First sexual intercourse': 18.0, 'Num of pregnancies': 3.0, 'Smokes': 0.0, 'Smokes (years)': 0.0, 'Smokes (packs/year)': 0.0, 'Hormonal Contraceptives': 1.0, 'Hormonal Contraceptives (years)': 0.25, 'IUD': 0.0, 'IUD (years)': 0.0, 'STDs': 0.0, 'STDs (number)': 0.0, 'STDs:condylomatosis': 0.0, 'STDs:cervical condylomatosis': 0.0, 'STDs:vaginal condylomatosis': 0.0, 'STDs:vulvo-perineal condylomatosis': 0.0, 'STDs:syphilis': 0.0, 'STDs:AIDS': 0.0, 'STDs:HIV': 0.0, 'STDs:Hepatitis B': 0.0, 'STDs:HPV': 0.0, 'STDs: Number of diagnosis': 0.0, 'Hinselmann': 0.0, 'Schiller': 0.0, 'Citology': 0.0, 'Biopsy': 0.0}\n"
     ]
    },
    {
     "name": "stderr",
     "output_type": "stream",
     "text": [
      "Finding Elimination Order: : : 0it [00:00, ?it/s]\n",
      "0it [00:00, ?it/s]\n"
     ]
    },
    {
     "name": "stdout",
     "output_type": "stream",
     "text": [
      "Evidence for index 31: {'Age': 15.0, 'Number of sexual partners': 3.0, 'First sexual intercourse': 14.0, 'Num of pregnancies': 1.0, 'Smokes': 0.0, 'Smokes (years)': 0.0, 'Smokes (packs/year)': 0.0, 'Hormonal Contraceptives': 1.0, 'Hormonal Contraceptives (years)': 1.0, 'IUD': 0.0, 'IUD (years)': 0.0, 'STDs': 0.0, 'STDs (number)': 0.0, 'STDs:condylomatosis': 0.0, 'STDs:cervical condylomatosis': 0.0, 'STDs:vaginal condylomatosis': 0.0, 'STDs:vulvo-perineal condylomatosis': 0.0, 'STDs:syphilis': 0.0, 'STDs:AIDS': 0.0, 'STDs:HIV': 0.0, 'STDs:Hepatitis B': 0.0, 'STDs:HPV': 0.0, 'STDs: Number of diagnosis': 0.0, 'Hinselmann': 0.0, 'Schiller': 0.0, 'Citology': 0.0, 'Biopsy': 0.0}\n"
     ]
    },
    {
     "name": "stderr",
     "output_type": "stream",
     "text": [
      "Finding Elimination Order: : : 0it [00:00, ?it/s]\n",
      "0it [00:00, ?it/s]\n"
     ]
    },
    {
     "name": "stdout",
     "output_type": "stream",
     "text": [
      "Evidence for index 32: {'Age': 27.0, 'Number of sexual partners': 3.0, 'First sexual intercourse': 16.0, 'Num of pregnancies': 3.0, 'Smokes': 0.0, 'Smokes (years)': 0.0, 'Smokes (packs/year)': 0.0, 'Hormonal Contraceptives': 1.0, 'Hormonal Contraceptives (years)': 0.41, 'IUD': 0.0, 'IUD (years)': 0.0, 'STDs': 0.0, 'STDs (number)': 0.0, 'STDs:condylomatosis': 0.0, 'STDs:cervical condylomatosis': 0.0, 'STDs:vaginal condylomatosis': 0.0, 'STDs:vulvo-perineal condylomatosis': 0.0, 'STDs:syphilis': 0.0, 'STDs:AIDS': 0.0, 'STDs:HIV': 0.0, 'STDs:Hepatitis B': 0.0, 'STDs:HPV': 0.0, 'STDs: Number of diagnosis': 0.0, 'Hinselmann': 0.0, 'Schiller': 0.0, 'Citology': 0.0, 'Biopsy': 0.0}\n"
     ]
    },
    {
     "name": "stderr",
     "output_type": "stream",
     "text": [
      "WARNING:pgmpy:Found unknown state name. Trying to switch to using all state names as state numbers\n"
     ]
    },
    {
     "name": "stdout",
     "output_type": "stream",
     "text": [
      "Error predicting for index 32: only integers, slices (`:`), ellipsis (`...`), numpy.newaxis (`None`) and integer or boolean arrays are valid indices\n",
      "Evidence for index 33: {'Age': 17.0, 'Number of sexual partners': 3.0, 'First sexual intercourse': 13.0, 'Num of pregnancies': 1.0, 'Smokes': 1.0, 'Smokes (years)': 2.0, 'Smokes (packs/year)': 1.0, 'Hormonal Contraceptives': 0.0, 'Hormonal Contraceptives (years)': 0.0, 'IUD': 0.0, 'IUD (years)': 0.0, 'STDs': 0.0, 'STDs (number)': 0.0, 'STDs:condylomatosis': 0.0, 'STDs:cervical condylomatosis': 0.0, 'STDs:vaginal condylomatosis': 0.0, 'STDs:vulvo-perineal condylomatosis': 0.0, 'STDs:syphilis': 0.0, 'STDs:AIDS': 0.0, 'STDs:HIV': 0.0, 'STDs:Hepatitis B': 0.0, 'STDs:HPV': 0.0, 'STDs: Number of diagnosis': 0.0, 'Hinselmann': 0.0, 'Schiller': 0.0, 'Citology': 0.0, 'Biopsy': 0.0}\n"
     ]
    },
    {
     "name": "stderr",
     "output_type": "stream",
     "text": [
      "Finding Elimination Order: : : 0it [00:00, ?it/s]\n",
      "0it [00:00, ?it/s]\n"
     ]
    },
    {
     "name": "stdout",
     "output_type": "stream",
     "text": [
      "Evidence for index 34: {'Age': 39.0, 'Number of sexual partners': 4.0, 'First sexual intercourse': 29.0, 'Num of pregnancies': 1.0, 'Smokes': 0.0, 'Smokes (years)': 0.0, 'Smokes (packs/year)': 0.0, 'Hormonal Contraceptives': 1.0, 'Hormonal Contraceptives (years)': 0.08, 'IUD': 0.0, 'IUD (years)': 0.0, 'STDs': 0.0, 'STDs (number)': 0.0, 'STDs:condylomatosis': 0.0, 'STDs:cervical condylomatosis': 0.0, 'STDs:vaginal condylomatosis': 0.0, 'STDs:vulvo-perineal condylomatosis': 0.0, 'STDs:syphilis': 0.0, 'STDs:AIDS': 0.0, 'STDs:HIV': 0.0, 'STDs:Hepatitis B': 0.0, 'STDs:HPV': 0.0, 'STDs: Number of diagnosis': 0.0, 'Hinselmann': 0.0, 'Schiller': 0.0, 'Citology': 0.0, 'Biopsy': 0.0}\n"
     ]
    },
    {
     "name": "stderr",
     "output_type": "stream",
     "text": [
      "Finding Elimination Order: : : 0it [00:00, ?it/s]\n",
      "0it [00:00, ?it/s]\n"
     ]
    },
    {
     "name": "stdout",
     "output_type": "stream",
     "text": [
      "Evidence for index 35: {'Age': 32.0, 'Number of sexual partners': 2.0, 'First sexual intercourse': 17.0, 'Num of pregnancies': 5.0, 'Smokes': 0.0, 'Smokes (years)': 0.0, 'Smokes (packs/year)': 0.0, 'Hormonal Contraceptives': 1.0, 'Hormonal Contraceptives (years)': 0.33, 'IUD': 0.0, 'IUD (years)': 0.0, 'STDs': 0.0, 'STDs (number)': 0.0, 'STDs:condylomatosis': 0.0, 'STDs:cervical condylomatosis': 0.0, 'STDs:vaginal condylomatosis': 0.0, 'STDs:vulvo-perineal condylomatosis': 0.0, 'STDs:syphilis': 0.0, 'STDs:AIDS': 0.0, 'STDs:HIV': 0.0, 'STDs:Hepatitis B': 0.0, 'STDs:HPV': 0.0, 'STDs: Number of diagnosis': 0.0, 'Hinselmann': 0.0, 'Schiller': 0.0, 'Citology': 0.0, 'Biopsy': 0.0}\n"
     ]
    },
    {
     "name": "stderr",
     "output_type": "stream",
     "text": [
      "Finding Elimination Order: : : 0it [00:00, ?it/s]\n",
      "0it [00:00, ?it/s]\n",
      "WARNING:pgmpy:Found unknown state name. Trying to switch to using all state names as state numbers\n"
     ]
    },
    {
     "name": "stdout",
     "output_type": "stream",
     "text": [
      "Evidence for index 36: {'Age': 84.0, 'Number of sexual partners': 3.0, 'First sexual intercourse': 20.0, 'Num of pregnancies': 11.0, 'Smokes': 1.0, 'Smokes (years)': 24.0, 'Smokes (packs/year)': 0.5132021277, 'Hormonal Contraceptives': 0.0, 'Hormonal Contraceptives (years)': 0.0, 'IUD': 0.0, 'IUD (years)': 0.0, 'STDs': 0.0, 'STDs (number)': 0.0, 'STDs:condylomatosis': 0.0, 'STDs:cervical condylomatosis': 0.0, 'STDs:vaginal condylomatosis': 0.0, 'STDs:vulvo-perineal condylomatosis': 0.0, 'STDs:syphilis': 0.0, 'STDs:AIDS': 0.0, 'STDs:HIV': 0.0, 'STDs:Hepatitis B': 0.0, 'STDs:HPV': 0.0, 'STDs: Number of diagnosis': 0.0, 'Hinselmann': 0.0, 'Schiller': 1.0, 'Citology': 0.0, 'Biopsy': 0.0}\n",
      "Error predicting for index 36: only integers, slices (`:`), ellipsis (`...`), numpy.newaxis (`None`) and integer or boolean arrays are valid indices\n",
      "Evidence for index 37: {'Age': 22.0, 'Number of sexual partners': 2.0, 'First sexual intercourse': 15.0, 'Num of pregnancies': 2.0, 'Smokes': 0.0, 'Smokes (years)': 0.0, 'Smokes (packs/year)': 0.0, 'Hormonal Contraceptives': 0.0, 'Hormonal Contraceptives (years)': 0.0, 'IUD': 0.0, 'IUD (years)': 0.0, 'STDs': 0.0, 'STDs (number)': 0.0, 'STDs:condylomatosis': 0.0, 'STDs:cervical condylomatosis': 0.0, 'STDs:vaginal condylomatosis': 0.0, 'STDs:vulvo-perineal condylomatosis': 0.0, 'STDs:syphilis': 0.0, 'STDs:AIDS': 0.0, 'STDs:HIV': 0.0, 'STDs:Hepatitis B': 0.0, 'STDs:HPV': 0.0, 'STDs: Number of diagnosis': 0.0, 'Hinselmann': 0.0, 'Schiller': 0.0, 'Citology': 0.0, 'Biopsy': 0.0}\n"
     ]
    },
    {
     "name": "stderr",
     "output_type": "stream",
     "text": [
      "Finding Elimination Order: : : 0it [00:00, ?it/s]\n",
      "0it [00:00, ?it/s]\n"
     ]
    },
    {
     "name": "stdout",
     "output_type": "stream",
     "text": [
      "Evidence for index 38: {'Age': 29.0, 'Number of sexual partners': 8.0, 'First sexual intercourse': 17.0, 'Num of pregnancies': 2.0, 'Smokes': 1.0, 'Smokes (years)': 14.0, 'Smokes (packs/year)': 2.8, 'Hormonal Contraceptives': 0.0, 'Hormonal Contraceptives (years)': 0.0, 'IUD': 0.0, 'IUD (years)': 0.0, 'STDs': 0.0, 'STDs (number)': 0.0, 'STDs:condylomatosis': 0.0, 'STDs:cervical condylomatosis': 0.0, 'STDs:vaginal condylomatosis': 0.0, 'STDs:vulvo-perineal condylomatosis': 0.0, 'STDs:syphilis': 0.0, 'STDs:AIDS': 0.0, 'STDs:HIV': 0.0, 'STDs:Hepatitis B': 0.0, 'STDs:HPV': 0.0, 'STDs: Number of diagnosis': 0.0, 'Hinselmann': 0.0, 'Schiller': 0.0, 'Citology': 0.0, 'Biopsy': 0.0}\n"
     ]
    },
    {
     "name": "stderr",
     "output_type": "stream",
     "text": [
      "Finding Elimination Order: : : 0it [00:00, ?it/s]\n",
      "0it [00:00, ?it/s]\n"
     ]
    },
    {
     "name": "stdout",
     "output_type": "stream",
     "text": [
      "Evidence for index 39: {'Age': 25.0, 'Number of sexual partners': 5.0, 'First sexual intercourse': 15.0, 'Num of pregnancies': 4.0, 'Smokes': 0.0, 'Smokes (years)': 0.0, 'Smokes (packs/year)': 0.0, 'Hormonal Contraceptives': 1.0, 'Hormonal Contraceptives (years)': 3.0, 'IUD': 1.0, 'IUD (years)': 2.0, 'STDs': 0.0, 'STDs (number)': 0.0, 'STDs:condylomatosis': 0.0, 'STDs:cervical condylomatosis': 0.0, 'STDs:vaginal condylomatosis': 0.0, 'STDs:vulvo-perineal condylomatosis': 0.0, 'STDs:syphilis': 0.0, 'STDs:AIDS': 0.0, 'STDs:HIV': 0.0, 'STDs:Hepatitis B': 0.0, 'STDs:HPV': 0.0, 'STDs: Number of diagnosis': 0.0, 'Hinselmann': 0.0, 'Schiller': 0.0, 'Citology': 0.0, 'Biopsy': 0.0}\n"
     ]
    },
    {
     "name": "stderr",
     "output_type": "stream",
     "text": [
      "Finding Elimination Order: : : 0it [00:00, ?it/s]\n",
      "0it [00:00, ?it/s]\n"
     ]
    },
    {
     "name": "stdout",
     "output_type": "stream",
     "text": [
      "Evidence for index 40: {'Age': 33.0, 'Number of sexual partners': 2.0, 'First sexual intercourse': 21.0, 'Num of pregnancies': 0.0, 'Smokes': 0.0, 'Smokes (years)': 0.0, 'Smokes (packs/year)': 0.0, 'Hormonal Contraceptives': 0.0, 'Hormonal Contraceptives (years)': 0.0, 'IUD': 0.0, 'IUD (years)': 0.0, 'STDs': 0.0, 'STDs (number)': 0.0, 'STDs:condylomatosis': 0.0, 'STDs:cervical condylomatosis': 0.0, 'STDs:vaginal condylomatosis': 0.0, 'STDs:vulvo-perineal condylomatosis': 0.0, 'STDs:syphilis': 0.0, 'STDs:AIDS': 0.0, 'STDs:HIV': 0.0, 'STDs:Hepatitis B': 0.0, 'STDs:HPV': 0.0, 'STDs: Number of diagnosis': 0.0, 'Hinselmann': 0.0, 'Schiller': 0.0, 'Citology': 0.0, 'Biopsy': 0.0}\n"
     ]
    },
    {
     "name": "stderr",
     "output_type": "stream",
     "text": [
      "Finding Elimination Order: : : 0it [00:00, ?it/s]\n",
      "0it [00:00, ?it/s]\n"
     ]
    },
    {
     "name": "stdout",
     "output_type": "stream",
     "text": [
      "Evidence for index 41: {'Age': 24.0, 'Number of sexual partners': 1.0, 'First sexual intercourse': 17.0, 'Num of pregnancies': 3.0, 'Smokes': 0.0, 'Smokes (years)': 0.0, 'Smokes (packs/year)': 0.0, 'Hormonal Contraceptives': 1.0, 'Hormonal Contraceptives (years)': 6.0, 'IUD': 0.0, 'IUD (years)': 0.0, 'STDs': 0.0, 'STDs (number)': 0.0, 'STDs:condylomatosis': 0.0, 'STDs:cervical condylomatosis': 0.0, 'STDs:vaginal condylomatosis': 0.0, 'STDs:vulvo-perineal condylomatosis': 0.0, 'STDs:syphilis': 0.0, 'STDs:AIDS': 0.0, 'STDs:HIV': 0.0, 'STDs:Hepatitis B': 0.0, 'STDs:HPV': 0.0, 'STDs: Number of diagnosis': 0.0, 'Hinselmann': 0.0, 'Schiller': 0.0, 'Citology': 0.0, 'Biopsy': 0.0}\n"
     ]
    },
    {
     "name": "stderr",
     "output_type": "stream",
     "text": [
      "Finding Elimination Order: : : 0it [00:00, ?it/s]\n",
      "0it [00:00, ?it/s]\n"
     ]
    },
    {
     "name": "stdout",
     "output_type": "stream",
     "text": [
      "Evidence for index 42: {'Age': 23.0, 'Number of sexual partners': 4.0, 'First sexual intercourse': 18.0, 'Num of pregnancies': 1.0, 'Smokes': 1.0, 'Smokes (years)': 4.0, 'Smokes (packs/year)': 0.5132021277, 'Hormonal Contraceptives': 1.0, 'Hormonal Contraceptives (years)': 2.0, 'IUD': 0.0, 'IUD (years)': 0.0, 'STDs': 0.0, 'STDs (number)': 0.0, 'STDs:condylomatosis': 0.0, 'STDs:cervical condylomatosis': 0.0, 'STDs:vaginal condylomatosis': 0.0, 'STDs:vulvo-perineal condylomatosis': 0.0, 'STDs:syphilis': 0.0, 'STDs:AIDS': 0.0, 'STDs:HIV': 0.0, 'STDs:Hepatitis B': 0.0, 'STDs:HPV': 0.0, 'STDs: Number of diagnosis': 0.0, 'Hinselmann': 0.0, 'Schiller': 0.0, 'Citology': 0.0, 'Biopsy': 0.0}\n"
     ]
    },
    {
     "name": "stderr",
     "output_type": "stream",
     "text": [
      "Finding Elimination Order: : : 0it [00:00, ?it/s]\n",
      "0it [00:00, ?it/s]\n",
      "WARNING:pgmpy:Found unknown state name. Trying to switch to using all state names as state numbers\n"
     ]
    },
    {
     "name": "stdout",
     "output_type": "stream",
     "text": [
      "Evidence for index 43: {'Age': 48.0, 'Number of sexual partners': 2.0, 'First sexual intercourse': 16.0, 'Num of pregnancies': 7.0, 'Smokes': 1.0, 'Smokes (years)': 32.0, 'Smokes (packs/year)': 8.0, 'Hormonal Contraceptives': 1.0, 'Hormonal Contraceptives (years)': 7.0, 'IUD': 0.0, 'IUD (years)': 0.0, 'STDs': 0.0, 'STDs (number)': 0.0, 'STDs:condylomatosis': 0.0, 'STDs:cervical condylomatosis': 0.0, 'STDs:vaginal condylomatosis': 0.0, 'STDs:vulvo-perineal condylomatosis': 0.0, 'STDs:syphilis': 0.0, 'STDs:AIDS': 0.0, 'STDs:HIV': 0.0, 'STDs:Hepatitis B': 0.0, 'STDs:HPV': 0.0, 'STDs: Number of diagnosis': 0.0, 'Hinselmann': 0.0, 'Schiller': 0.0, 'Citology': 0.0, 'Biopsy': 0.0}\n",
      "Error predicting for index 43: only integers, slices (`:`), ellipsis (`...`), numpy.newaxis (`None`) and integer or boolean arrays are valid indices\n",
      "Evidence for index 44: {'Age': 35.0, 'Number of sexual partners': 2.0, 'First sexual intercourse': 20.0, 'Num of pregnancies': 2.0, 'Smokes': 0.0, 'Smokes (years)': 0.0, 'Smokes (packs/year)': 0.0, 'Hormonal Contraceptives': 1.0, 'Hormonal Contraceptives (years)': 2.0, 'IUD': 0.0, 'IUD (years)': 0.0, 'STDs': 0.0, 'STDs (number)': 0.0, 'STDs:condylomatosis': 0.0, 'STDs:cervical condylomatosis': 0.0, 'STDs:vaginal condylomatosis': 0.0, 'STDs:vulvo-perineal condylomatosis': 0.0, 'STDs:syphilis': 0.0, 'STDs:AIDS': 0.0, 'STDs:HIV': 0.0, 'STDs:Hepatitis B': 0.0, 'STDs:HPV': 0.0, 'STDs: Number of diagnosis': 0.0, 'Hinselmann': 0.0, 'Schiller': 0.0, 'Citology': 0.0, 'Biopsy': 0.0}\n"
     ]
    },
    {
     "name": "stderr",
     "output_type": "stream",
     "text": [
      "Finding Elimination Order: : : 0it [00:00, ?it/s]\n",
      "0it [00:00, ?it/s]\n"
     ]
    },
    {
     "name": "stdout",
     "output_type": "stream",
     "text": [
      "Evidence for index 45: {'Age': 41.0, 'Number of sexual partners': 3.0, 'First sexual intercourse': 18.0, 'Num of pregnancies': 5.0, 'Smokes': 0.0, 'Smokes (years)': 0.0, 'Smokes (packs/year)': 0.0, 'Hormonal Contraceptives': 1.0, 'Hormonal Contraceptives (years)': 1.0, 'IUD': 1.0, 'IUD (years)': 4.0, 'STDs': 0.0, 'STDs (number)': 0.0, 'STDs:condylomatosis': 0.0, 'STDs:cervical condylomatosis': 0.0, 'STDs:vaginal condylomatosis': 0.0, 'STDs:vulvo-perineal condylomatosis': 0.0, 'STDs:syphilis': 0.0, 'STDs:AIDS': 0.0, 'STDs:HIV': 0.0, 'STDs:Hepatitis B': 0.0, 'STDs:HPV': 0.0, 'STDs: Number of diagnosis': 0.0, 'Hinselmann': 0.0, 'Schiller': 0.0, 'Citology': 0.0, 'Biopsy': 0.0}\n"
     ]
    },
    {
     "name": "stderr",
     "output_type": "stream",
     "text": [
      "Finding Elimination Order: : : 0it [00:00, ?it/s]\n",
      "0it [00:00, ?it/s]\n",
      "WARNING:pgmpy:Found unknown state name. Trying to switch to using all state names as state numbers\n"
     ]
    },
    {
     "name": "stdout",
     "output_type": "stream",
     "text": [
      "Evidence for index 46: {'Age': 18.0, 'Number of sexual partners': 3.0, 'First sexual intercourse': 14.0, 'Num of pregnancies': 1.0, 'Smokes': 1.0, 'Smokes (years)': 3.0, 'Smokes (packs/year)': 0.45, 'STDs': 0.0, 'STDs (number)': 0.0, 'STDs:condylomatosis': 0.0, 'STDs:cervical condylomatosis': 0.0, 'STDs:vaginal condylomatosis': 0.0, 'STDs:vulvo-perineal condylomatosis': 0.0, 'STDs:syphilis': 0.0, 'STDs:AIDS': 0.0, 'STDs:HIV': 0.0, 'STDs:Hepatitis B': 0.0, 'STDs:HPV': 0.0, 'STDs: Number of diagnosis': 0.0, 'Hinselmann': 0.0, 'Schiller': 0.0, 'Citology': 0.0, 'Biopsy': 0.0}\n",
      "Error predicting for index 46: only integers, slices (`:`), ellipsis (`...`), numpy.newaxis (`None`) and integer or boolean arrays are valid indices\n",
      "Evidence for index 47: {'Age': 30.0, 'Number of sexual partners': 2.0, 'First sexual intercourse': 17.0, 'Num of pregnancies': 2.0, 'Smokes': 0.0, 'Smokes (years)': 0.0, 'Smokes (packs/year)': 0.0, 'Hormonal Contraceptives': 1.0, 'Hormonal Contraceptives (years)': 6.0, 'IUD': 0.0, 'IUD (years)': 0.0, 'STDs': 0.0, 'STDs (number)': 0.0, 'STDs:condylomatosis': 0.0, 'STDs:cervical condylomatosis': 0.0, 'STDs:vaginal condylomatosis': 0.0, 'STDs:vulvo-perineal condylomatosis': 0.0, 'STDs:syphilis': 0.0, 'STDs:AIDS': 0.0, 'STDs:HIV': 0.0, 'STDs:Hepatitis B': 0.0, 'STDs:HPV': 0.0, 'STDs: Number of diagnosis': 0.0, 'Hinselmann': 0.0, 'Schiller': 0.0, 'Citology': 0.0, 'Biopsy': 0.0}\n"
     ]
    },
    {
     "name": "stderr",
     "output_type": "stream",
     "text": [
      "Finding Elimination Order: : : 0it [00:00, ?it/s]\n",
      "0it [00:00, ?it/s]\n",
      "WARNING:pgmpy:Found unknown state name. Trying to switch to using all state names as state numbers\n"
     ]
    },
    {
     "name": "stdout",
     "output_type": "stream",
     "text": [
      "Evidence for index 48: {'Age': 26.0, 'Number of sexual partners': 10.0, 'First sexual intercourse': 16.0, 'Num of pregnancies': 1.0, 'Smokes': 1.0, 'Smokes (years)': 9.0, 'Smokes (packs/year)': 0.5132021277, 'STDs: Number of diagnosis': 0.0, 'Hinselmann': 0.0, 'Schiller': 0.0, 'Citology': 0.0, 'Biopsy': 0.0}\n"
     ]
    },
    {
     "name": "stderr",
     "output_type": "stream",
     "text": [
      "WARNING:pgmpy:Found unknown state name. Trying to switch to using all state names as state numbers\n"
     ]
    },
    {
     "name": "stdout",
     "output_type": "stream",
     "text": [
      "Error predicting for index 48: only integers, slices (`:`), ellipsis (`...`), numpy.newaxis (`None`) and integer or boolean arrays are valid indices\n",
      "Evidence for index 49: {'Age': 16.0, 'Number of sexual partners': 28.0, 'First sexual intercourse': 10.0, 'Num of pregnancies': 1.0, 'Smokes': 1.0, 'Smokes (years)': 5.0, 'Smokes (packs/year)': 5.0, 'Hormonal Contraceptives': 0.0, 'Hormonal Contraceptives (years)': 0.0, 'IUD': 0.0, 'IUD (years)': 0.0, 'STDs': 0.0, 'STDs (number)': 0.0, 'STDs:condylomatosis': 0.0, 'STDs:cervical condylomatosis': 0.0, 'STDs:vaginal condylomatosis': 0.0, 'STDs:vulvo-perineal condylomatosis': 0.0, 'STDs:syphilis': 0.0, 'STDs:AIDS': 0.0, 'STDs:HIV': 0.0, 'STDs:Hepatitis B': 0.0, 'STDs:HPV': 0.0, 'STDs: Number of diagnosis': 0.0, 'Hinselmann': 0.0, 'Schiller': 0.0, 'Citology': 0.0, 'Biopsy': 0.0}\n",
      "Error predicting for index 49: only integers, slices (`:`), ellipsis (`...`), numpy.newaxis (`None`) and integer or boolean arrays are valid indices\n",
      "Evidence for index 50: {'Age': 20.0, 'Number of sexual partners': 2.0, 'First sexual intercourse': 16.0, 'Num of pregnancies': 1.0, 'Smokes': 0.0, 'Smokes (years)': 0.0, 'Smokes (packs/year)': 0.0, 'Hormonal Contraceptives': 1.0, 'Hormonal Contraceptives (years)': 1.0, 'IUD': 0.0, 'IUD (years)': 0.0, 'STDs': 0.0, 'STDs (number)': 0.0, 'STDs:condylomatosis': 0.0, 'STDs:cervical condylomatosis': 0.0, 'STDs:vaginal condylomatosis': 0.0, 'STDs:vulvo-perineal condylomatosis': 0.0, 'STDs:syphilis': 0.0, 'STDs:AIDS': 0.0, 'STDs:HIV': 0.0, 'STDs:Hepatitis B': 0.0, 'STDs:HPV': 0.0, 'STDs: Number of diagnosis': 0.0, 'Hinselmann': 0.0, 'Schiller': 0.0, 'Citology': 0.0, 'Biopsy': 0.0}\n"
     ]
    },
    {
     "name": "stderr",
     "output_type": "stream",
     "text": [
      "Finding Elimination Order: : : 0it [00:00, ?it/s]\n",
      "0it [00:00, ?it/s]\n"
     ]
    },
    {
     "name": "stdout",
     "output_type": "stream",
     "text": [
      "Evidence for index 51: {'Age': 16.0, 'Number of sexual partners': 2.0, 'First sexual intercourse': 15.0, 'Num of pregnancies': 1.0, 'Smokes': 0.0, 'Smokes (years)': 0.0, 'Smokes (packs/year)': 0.0, 'Hormonal Contraceptives': 0.0, 'Hormonal Contraceptives (years)': 0.0, 'IUD': 0.0, 'IUD (years)': 0.0, 'STDs': 0.0, 'STDs (number)': 0.0, 'STDs:condylomatosis': 0.0, 'STDs:cervical condylomatosis': 0.0, 'STDs:vaginal condylomatosis': 0.0, 'STDs:vulvo-perineal condylomatosis': 0.0, 'STDs:syphilis': 0.0, 'STDs:AIDS': 0.0, 'STDs:HIV': 0.0, 'STDs:Hepatitis B': 0.0, 'STDs:HPV': 0.0, 'STDs: Number of diagnosis': 0.0, 'Hinselmann': 0.0, 'Schiller': 0.0, 'Citology': 0.0, 'Biopsy': 0.0}\n"
     ]
    },
    {
     "name": "stderr",
     "output_type": "stream",
     "text": [
      "Finding Elimination Order: : : 0it [00:00, ?it/s]\n",
      "0it [00:00, ?it/s]\n"
     ]
    },
    {
     "name": "stdout",
     "output_type": "stream",
     "text": [
      "Evidence for index 52: {'Age': 23.0, 'Number of sexual partners': 5.0, 'First sexual intercourse': 16.0, 'Num of pregnancies': 1.0, 'Smokes': 0.0, 'Smokes (years)': 0.0, 'Smokes (packs/year)': 0.0, 'Hormonal Contraceptives': 1.0, 'Hormonal Contraceptives (years)': 0.25, 'IUD': 0.0, 'IUD (years)': 0.0, 'STDs': 0.0, 'STDs (number)': 0.0, 'STDs:condylomatosis': 0.0, 'STDs:cervical condylomatosis': 0.0, 'STDs:vaginal condylomatosis': 0.0, 'STDs:vulvo-perineal condylomatosis': 0.0, 'STDs:syphilis': 0.0, 'STDs:AIDS': 0.0, 'STDs:HIV': 0.0, 'STDs:Hepatitis B': 0.0, 'STDs:HPV': 0.0, 'STDs: Number of diagnosis': 0.0, 'Hinselmann': 0.0, 'Schiller': 0.0, 'Citology': 0.0, 'Biopsy': 0.0}\n"
     ]
    },
    {
     "name": "stderr",
     "output_type": "stream",
     "text": [
      "Finding Elimination Order: : : 0it [00:00, ?it/s]\n",
      "0it [00:00, ?it/s]\n"
     ]
    },
    {
     "name": "stdout",
     "output_type": "stream",
     "text": [
      "Evidence for index 53: {'Age': 29.0, 'Number of sexual partners': 3.0, 'First sexual intercourse': 15.0, 'Num of pregnancies': 3.0, 'Smokes': 0.0, 'Smokes (years)': 0.0, 'Smokes (packs/year)': 0.0, 'Hormonal Contraceptives': 0.0, 'Hormonal Contraceptives (years)': 0.0, 'IUD': 0.0, 'IUD (years)': 0.0, 'STDs': 1.0, 'STDs (number)': 1.0, 'STDs:condylomatosis': 0.0, 'STDs:cervical condylomatosis': 0.0, 'STDs:vaginal condylomatosis': 0.0, 'STDs:vulvo-perineal condylomatosis': 0.0, 'STDs:syphilis': 0.0, 'STDs:AIDS': 0.0, 'STDs:HIV': 1.0, 'STDs:Hepatitis B': 0.0, 'STDs:HPV': 0.0, 'STDs: Number of diagnosis': 1.0, 'Hinselmann': 0.0, 'Schiller': 0.0, 'Citology': 0.0, 'Biopsy': 0.0}\n"
     ]
    },
    {
     "name": "stderr",
     "output_type": "stream",
     "text": [
      "Finding Elimination Order: : : 0it [00:00, ?it/s]\n",
      "0it [00:00, ?it/s]\n"
     ]
    },
    {
     "name": "stdout",
     "output_type": "stream",
     "text": [
      "Evidence for index 54: {'Age': 34.0, 'Number of sexual partners': 3.0, 'First sexual intercourse': 17.0, 'Num of pregnancies': 1.0, 'Smokes': 1.0, 'Smokes (years)': 9.0, 'Smokes (packs/year)': 4.5, 'STDs: Number of diagnosis': 0.0, 'Hinselmann': 0.0, 'Schiller': 0.0, 'Citology': 0.0, 'Biopsy': 0.0}\n"
     ]
    },
    {
     "name": "stderr",
     "output_type": "stream",
     "text": [
      "Finding Elimination Order: : 100%|██████████| 9/9 [00:00<00:00, 4501.40it/s]\n",
      "Eliminating: STDs:AIDS: 100%|██████████| 9/9 [00:00<00:00, 1500.05it/s]               \n"
     ]
    },
    {
     "name": "stdout",
     "output_type": "stream",
     "text": [
      "Evidence for index 55: {'Age': 35.0, 'Number of sexual partners': 3.0, 'First sexual intercourse': 21.0, 'Num of pregnancies': 5.0, 'Smokes': 0.0, 'Smokes (years)': 0.0, 'Smokes (packs/year)': 0.0, 'Hormonal Contraceptives': 0.0, 'Hormonal Contraceptives (years)': 0.0, 'IUD': 0.0, 'IUD (years)': 0.0, 'STDs': 0.0, 'STDs (number)': 0.0, 'STDs:condylomatosis': 0.0, 'STDs:cervical condylomatosis': 0.0, 'STDs:vaginal condylomatosis': 0.0, 'STDs:vulvo-perineal condylomatosis': 0.0, 'STDs:syphilis': 0.0, 'STDs:AIDS': 0.0, 'STDs:HIV': 0.0, 'STDs:Hepatitis B': 0.0, 'STDs:HPV': 0.0, 'STDs: Number of diagnosis': 0.0, 'Hinselmann': 0.0, 'Schiller': 0.0, 'Citology': 0.0, 'Biopsy': 0.0}\n"
     ]
    },
    {
     "name": "stderr",
     "output_type": "stream",
     "text": [
      "Finding Elimination Order: : : 0it [00:00, ?it/s]\n",
      "0it [00:00, ?it/s]\n"
     ]
    },
    {
     "name": "stdout",
     "output_type": "stream",
     "text": [
      "Evidence for index 56: {'Age': 16.0, 'Number of sexual partners': 2.0, 'First sexual intercourse': 14.0, 'Num of pregnancies': 1.0, 'Smokes': 0.0, 'Smokes (years)': 0.0, 'Smokes (packs/year)': 0.0, 'Hormonal Contraceptives': 0.0, 'Hormonal Contraceptives (years)': 0.0, 'IUD': 0.0, 'IUD (years)': 0.0, 'STDs': 0.0, 'STDs (number)': 0.0, 'STDs:condylomatosis': 0.0, 'STDs:cervical condylomatosis': 0.0, 'STDs:vaginal condylomatosis': 0.0, 'STDs:vulvo-perineal condylomatosis': 0.0, 'STDs:syphilis': 0.0, 'STDs:AIDS': 0.0, 'STDs:HIV': 0.0, 'STDs:Hepatitis B': 0.0, 'STDs:HPV': 0.0, 'STDs: Number of diagnosis': 0.0, 'Hinselmann': 0.0, 'Schiller': 0.0, 'Citology': 0.0, 'Biopsy': 0.0}\n"
     ]
    },
    {
     "name": "stderr",
     "output_type": "stream",
     "text": [
      "Finding Elimination Order: : : 0it [00:00, ?it/s]\n",
      "0it [00:00, ?it/s]\n"
     ]
    },
    {
     "name": "stdout",
     "output_type": "stream",
     "text": [
      "Evidence for index 57: {'Age': 15.0, 'Number of sexual partners': 2.0, 'First sexual intercourse': 14.0, 'Num of pregnancies': 1.0, 'Smokes': 0.0, 'Smokes (years)': 0.0, 'Smokes (packs/year)': 0.0, 'Hormonal Contraceptives': 0.0, 'Hormonal Contraceptives (years)': 0.0, 'IUD': 0.0, 'IUD (years)': 0.0, 'STDs': 0.0, 'STDs (number)': 0.0, 'STDs:condylomatosis': 0.0, 'STDs:cervical condylomatosis': 0.0, 'STDs:vaginal condylomatosis': 0.0, 'STDs:vulvo-perineal condylomatosis': 0.0, 'STDs:syphilis': 0.0, 'STDs:AIDS': 0.0, 'STDs:HIV': 0.0, 'STDs:Hepatitis B': 0.0, 'STDs:HPV': 0.0, 'STDs: Number of diagnosis': 0.0, 'Hinselmann': 0.0, 'Schiller': 0.0, 'Citology': 0.0, 'Biopsy': 0.0}\n"
     ]
    },
    {
     "name": "stderr",
     "output_type": "stream",
     "text": [
      "Finding Elimination Order: : : 0it [00:00, ?it/s]\n",
      "0it [00:00, ?it/s]\n"
     ]
    },
    {
     "name": "stdout",
     "output_type": "stream",
     "text": [
      "Evidence for index 58: {'Age': 21.0, 'Number of sexual partners': 3.0, 'First sexual intercourse': 17.0, 'Num of pregnancies': 1.0, 'Smokes': 0.0, 'Smokes (years)': 0.0, 'Smokes (packs/year)': 0.0, 'Hormonal Contraceptives': 0.0, 'Hormonal Contraceptives (years)': 0.0, 'IUD': 0.0, 'IUD (years)': 0.0, 'STDs': 0.0, 'STDs (number)': 0.0, 'STDs:condylomatosis': 0.0, 'STDs:cervical condylomatosis': 0.0, 'STDs:vaginal condylomatosis': 0.0, 'STDs:vulvo-perineal condylomatosis': 0.0, 'STDs:syphilis': 0.0, 'STDs:AIDS': 0.0, 'STDs:HIV': 0.0, 'STDs:Hepatitis B': 0.0, 'STDs:HPV': 0.0, 'STDs: Number of diagnosis': 0.0, 'Hinselmann': 0.0, 'Schiller': 1.0, 'Citology': 0.0, 'Biopsy': 0.0}\n"
     ]
    },
    {
     "name": "stderr",
     "output_type": "stream",
     "text": [
      "Finding Elimination Order: : : 0it [00:00, ?it/s]\n",
      "0it [00:00, ?it/s]\n"
     ]
    },
    {
     "name": "stdout",
     "output_type": "stream",
     "text": [
      "Evidence for index 59: {'Age': 23.0, 'Number of sexual partners': 5.0, 'First sexual intercourse': 20.0, 'Num of pregnancies': 1.0, 'Smokes': 0.0, 'Smokes (years)': 0.0, 'Smokes (packs/year)': 0.0, 'Hormonal Contraceptives': 1.0, 'Hormonal Contraceptives (years)': 1.0, 'IUD': 0.0, 'IUD (years)': 0.0, 'STDs': 0.0, 'STDs (number)': 0.0, 'STDs:condylomatosis': 0.0, 'STDs:cervical condylomatosis': 0.0, 'STDs:vaginal condylomatosis': 0.0, 'STDs:vulvo-perineal condylomatosis': 0.0, 'STDs:syphilis': 0.0, 'STDs:AIDS': 0.0, 'STDs:HIV': 0.0, 'STDs:Hepatitis B': 0.0, 'STDs:HPV': 0.0, 'STDs: Number of diagnosis': 0.0, 'Hinselmann': 0.0, 'Schiller': 0.0, 'Citology': 0.0, 'Biopsy': 0.0}\n"
     ]
    },
    {
     "name": "stderr",
     "output_type": "stream",
     "text": [
      "Finding Elimination Order: : : 0it [00:00, ?it/s]\n",
      "0it [00:00, ?it/s]\n"
     ]
    },
    {
     "name": "stdout",
     "output_type": "stream",
     "text": [
      "Evidence for index 60: {'Age': 27.0, 'Number of sexual partners': 2.0, 'First sexual intercourse': 14.0, 'Num of pregnancies': 3.0, 'Smokes': 0.0, 'Smokes (years)': 0.0, 'Smokes (packs/year)': 0.0, 'Hormonal Contraceptives': 1.0, 'Hormonal Contraceptives (years)': 1.0, 'IUD': 0.0, 'IUD (years)': 0.0, 'STDs': 0.0, 'STDs (number)': 0.0, 'STDs:condylomatosis': 0.0, 'STDs:cervical condylomatosis': 0.0, 'STDs:vaginal condylomatosis': 0.0, 'STDs:vulvo-perineal condylomatosis': 0.0, 'STDs:syphilis': 0.0, 'STDs:AIDS': 0.0, 'STDs:HIV': 0.0, 'STDs:Hepatitis B': 0.0, 'STDs:HPV': 0.0, 'STDs: Number of diagnosis': 0.0, 'Hinselmann': 0.0, 'Schiller': 0.0, 'Citology': 0.0, 'Biopsy': 0.0}\n"
     ]
    },
    {
     "name": "stderr",
     "output_type": "stream",
     "text": [
      "Finding Elimination Order: : : 0it [00:00, ?it/s]\n",
      "0it [00:00, ?it/s]\n"
     ]
    },
    {
     "name": "stdout",
     "output_type": "stream",
     "text": [
      "Evidence for index 61: {'Age': 25.0, 'Number of sexual partners': 5.0, 'First sexual intercourse': 15.0, 'Num of pregnancies': 4.0, 'Smokes': 0.0, 'Smokes (years)': 0.0, 'Smokes (packs/year)': 0.0, 'Hormonal Contraceptives': 1.0, 'Hormonal Contraceptives (years)': 3.0, 'IUD': 0.0, 'IUD (years)': 0.0, 'STDs': 0.0, 'STDs (number)': 0.0, 'STDs:condylomatosis': 0.0, 'STDs:cervical condylomatosis': 0.0, 'STDs:vaginal condylomatosis': 0.0, 'STDs:vulvo-perineal condylomatosis': 0.0, 'STDs:syphilis': 0.0, 'STDs:AIDS': 0.0, 'STDs:HIV': 0.0, 'STDs:Hepatitis B': 0.0, 'STDs:HPV': 0.0, 'STDs: Number of diagnosis': 0.0, 'Hinselmann': 0.0, 'Schiller': 0.0, 'Citology': 0.0, 'Biopsy': 0.0}\n"
     ]
    },
    {
     "name": "stderr",
     "output_type": "stream",
     "text": [
      "Finding Elimination Order: : : 0it [00:00, ?it/s]\n",
      "0it [00:00, ?it/s]\n"
     ]
    },
    {
     "name": "stdout",
     "output_type": "stream",
     "text": [
      "Evidence for index 62: {'Age': 23.0, 'Number of sexual partners': 2.0, 'First sexual intercourse': 15.0, 'Num of pregnancies': 2.0, 'Smokes': 0.0, 'Smokes (years)': 0.0, 'Smokes (packs/year)': 0.0, 'Hormonal Contraceptives': 0.0, 'Hormonal Contraceptives (years)': 0.0, 'IUD': 0.0, 'IUD (years)': 0.0, 'STDs': 0.0, 'STDs (number)': 0.0, 'STDs:condylomatosis': 0.0, 'STDs:cervical condylomatosis': 0.0, 'STDs:vaginal condylomatosis': 0.0, 'STDs:vulvo-perineal condylomatosis': 0.0, 'STDs:syphilis': 0.0, 'STDs:AIDS': 0.0, 'STDs:HIV': 0.0, 'STDs:Hepatitis B': 0.0, 'STDs:HPV': 0.0, 'STDs: Number of diagnosis': 0.0, 'Hinselmann': 0.0, 'Schiller': 0.0, 'Citology': 0.0, 'Biopsy': 0.0}\n"
     ]
    },
    {
     "name": "stderr",
     "output_type": "stream",
     "text": [
      "Finding Elimination Order: : : 0it [00:00, ?it/s]\n",
      "0it [00:00, ?it/s]\n"
     ]
    },
    {
     "name": "stdout",
     "output_type": "stream",
     "text": [
      "Evidence for index 63: {'Age': 23.0, 'Number of sexual partners': 1.0, 'First sexual intercourse': 19.0, 'Num of pregnancies': 3.0, 'Smokes': 0.0, 'Smokes (years)': 0.0, 'Smokes (packs/year)': 0.0, 'Hormonal Contraceptives': 1.0, 'Hormonal Contraceptives (years)': 1.0, 'IUD': 0.0, 'IUD (years)': 0.0, 'STDs': 0.0, 'STDs (number)': 0.0, 'STDs:condylomatosis': 0.0, 'STDs:cervical condylomatosis': 0.0, 'STDs:vaginal condylomatosis': 0.0, 'STDs:vulvo-perineal condylomatosis': 0.0, 'STDs:syphilis': 0.0, 'STDs:AIDS': 0.0, 'STDs:HIV': 0.0, 'STDs:Hepatitis B': 0.0, 'STDs:HPV': 0.0, 'STDs: Number of diagnosis': 0.0, 'Hinselmann': 0.0, 'Schiller': 0.0, 'Citology': 0.0, 'Biopsy': 0.0}\n"
     ]
    },
    {
     "name": "stderr",
     "output_type": "stream",
     "text": [
      "Finding Elimination Order: : : 0it [00:00, ?it/s]\n",
      "0it [00:00, ?it/s]\n"
     ]
    },
    {
     "name": "stdout",
     "output_type": "stream",
     "text": [
      "Evidence for index 64: {'Age': 21.0, 'Number of sexual partners': 1.0, 'First sexual intercourse': 15.0, 'Num of pregnancies': 2.0, 'Smokes': 0.0, 'Smokes (years)': 0.0, 'Smokes (packs/year)': 0.0, 'Hormonal Contraceptives': 1.0, 'Hormonal Contraceptives (years)': 0.25, 'IUD': 0.0, 'IUD (years)': 0.0, 'STDs': 0.0, 'STDs (number)': 0.0, 'STDs:condylomatosis': 0.0, 'STDs:cervical condylomatosis': 0.0, 'STDs:vaginal condylomatosis': 0.0, 'STDs:vulvo-perineal condylomatosis': 0.0, 'STDs:syphilis': 0.0, 'STDs:AIDS': 0.0, 'STDs:HIV': 0.0, 'STDs:Hepatitis B': 0.0, 'STDs:HPV': 0.0, 'STDs: Number of diagnosis': 0.0, 'Hinselmann': 0.0, 'Schiller': 0.0, 'Citology': 0.0, 'Biopsy': 0.0}\n"
     ]
    },
    {
     "name": "stderr",
     "output_type": "stream",
     "text": [
      "Finding Elimination Order: : : 0it [00:00, ?it/s]\n",
      "0it [00:00, ?it/s]\n"
     ]
    },
    {
     "name": "stdout",
     "output_type": "stream",
     "text": [
      "Evidence for index 65: {'Age': 21.0, 'Number of sexual partners': 5.0, 'First sexual intercourse': 16.0, 'Num of pregnancies': 1.0, 'Smokes': 0.0, 'Smokes (years)': 0.0, 'Smokes (packs/year)': 0.0, 'Hormonal Contraceptives': 1.0, 'Hormonal Contraceptives (years)': 0.42, 'IUD': 0.0, 'IUD (years)': 0.0, 'STDs': 0.0, 'STDs (number)': 0.0, 'STDs:condylomatosis': 0.0, 'STDs:cervical condylomatosis': 0.0, 'STDs:vaginal condylomatosis': 0.0, 'STDs:vulvo-perineal condylomatosis': 0.0, 'STDs:syphilis': 0.0, 'STDs:AIDS': 0.0, 'STDs:HIV': 0.0, 'STDs:Hepatitis B': 0.0, 'STDs:HPV': 0.0, 'STDs: Number of diagnosis': 0.0, 'Hinselmann': 0.0, 'Schiller': 0.0, 'Citology': 0.0, 'Biopsy': 0.0}\n"
     ]
    },
    {
     "name": "stderr",
     "output_type": "stream",
     "text": [
      "Finding Elimination Order: : : 0it [00:00, ?it/s]\n",
      "0it [00:00, ?it/s]\n"
     ]
    },
    {
     "name": "stdout",
     "output_type": "stream",
     "text": [
      "Evidence for index 66: {'Age': 21.0, 'Number of sexual partners': 3.0, 'First sexual intercourse': 14.0, 'Num of pregnancies': 3.0, 'Smokes': 0.0, 'Smokes (years)': 0.0, 'Smokes (packs/year)': 0.0, 'Hormonal Contraceptives': 1.0, 'Hormonal Contraceptives (years)': 1.0, 'IUD': 0.0, 'IUD (years)': 0.0, 'STDs': 0.0, 'STDs (number)': 0.0, 'STDs:condylomatosis': 0.0, 'STDs:cervical condylomatosis': 0.0, 'STDs:vaginal condylomatosis': 0.0, 'STDs:vulvo-perineal condylomatosis': 0.0, 'STDs:syphilis': 0.0, 'STDs:AIDS': 0.0, 'STDs:HIV': 0.0, 'STDs:Hepatitis B': 0.0, 'STDs:HPV': 0.0, 'STDs: Number of diagnosis': 0.0, 'Hinselmann': 1.0, 'Schiller': 1.0, 'Citology': 0.0, 'Biopsy': 0.0}\n"
     ]
    },
    {
     "name": "stderr",
     "output_type": "stream",
     "text": [
      "Finding Elimination Order: : : 0it [00:00, ?it/s]\n",
      "0it [00:00, ?it/s]\n"
     ]
    },
    {
     "name": "stdout",
     "output_type": "stream",
     "text": [
      "Evidence for index 67: {'Age': 30.0, 'Number of sexual partners': 1.0, 'First sexual intercourse': 19.0, 'Num of pregnancies': 3.0, 'Smokes': 0.0, 'Smokes (years)': 0.0, 'Smokes (packs/year)': 0.0, 'STDs': 1.0, 'STDs (number)': 1.0, 'STDs:condylomatosis': 0.0, 'STDs:cervical condylomatosis': 0.0, 'STDs:vaginal condylomatosis': 0.0, 'STDs:vulvo-perineal condylomatosis': 0.0, 'STDs:syphilis': 1.0, 'STDs:AIDS': 0.0, 'STDs:HIV': 0.0, 'STDs:Hepatitis B': 0.0, 'STDs:HPV': 0.0, 'STDs: Number of diagnosis': 1.0, 'Hinselmann': 0.0, 'Schiller': 0.0, 'Citology': 0.0, 'Biopsy': 0.0}\n"
     ]
    },
    {
     "name": "stderr",
     "output_type": "stream",
     "text": [
      "Finding Elimination Order: : 100%|██████████| 1/1 [00:00<00:00, 1000.79it/s]\n",
      "Eliminating: IUD: 100%|██████████| 1/1 [00:00<00:00, 1000.31it/s]\n"
     ]
    },
    {
     "name": "stdout",
     "output_type": "stream",
     "text": [
      "Evidence for index 68: {'Age': 70.0, 'Number of sexual partners': 4.0, 'First sexual intercourse': 27.0, 'Num of pregnancies': 3.0, 'Smokes': 1.0, 'Smokes (years)': 3.0, 'Smokes (packs/year)': 0.75, 'Hormonal Contraceptives': 0.0, 'Hormonal Contraceptives (years)': 0.0, 'IUD': 0.0, 'IUD (years)': 0.0, 'STDs': 0.0, 'STDs (number)': 0.0, 'STDs:condylomatosis': 0.0, 'STDs:cervical condylomatosis': 0.0, 'STDs:vaginal condylomatosis': 0.0, 'STDs:vulvo-perineal condylomatosis': 0.0, 'STDs:syphilis': 0.0, 'STDs:AIDS': 0.0, 'STDs:HIV': 0.0, 'STDs:Hepatitis B': 0.0, 'STDs:HPV': 0.0, 'STDs: Number of diagnosis': 0.0, 'Hinselmann': 0.0, 'Schiller': 0.0, 'Citology': 0.0, 'Biopsy': 0.0}\n"
     ]
    },
    {
     "name": "stderr",
     "output_type": "stream",
     "text": [
      "Finding Elimination Order: : : 0it [00:00, ?it/s]\n",
      "0it [00:00, ?it/s]\n",
      "WARNING:pgmpy:Found unknown state name. Trying to switch to using all state names as state numbers\n"
     ]
    },
    {
     "name": "stdout",
     "output_type": "stream",
     "text": [
      "Evidence for index 69: {'Age': 33.0, 'Number of sexual partners': 4.0, 'First sexual intercourse': 18.0, 'Num of pregnancies': 2.0, 'Smokes': 1.0, 'Smokes (years)': 14.0, 'Smokes (packs/year)': 3.5, 'Hormonal Contraceptives': 1.0, 'Hormonal Contraceptives (years)': 0.08, 'IUD': 0.0, 'IUD (years)': 0.0, 'STDs': 0.0, 'STDs (number)': 0.0, 'STDs:condylomatosis': 0.0, 'STDs:cervical condylomatosis': 0.0, 'STDs:vaginal condylomatosis': 0.0, 'STDs:vulvo-perineal condylomatosis': 0.0, 'STDs:syphilis': 0.0, 'STDs:AIDS': 0.0, 'STDs:HIV': 0.0, 'STDs:Hepatitis B': 0.0, 'STDs:HPV': 0.0, 'STDs: Number of diagnosis': 0.0, 'Hinselmann': 0.0, 'Schiller': 0.0, 'Citology': 0.0, 'Biopsy': 0.0}\n",
      "Error predicting for index 69: only integers, slices (`:`), ellipsis (`...`), numpy.newaxis (`None`) and integer or boolean arrays are valid indices\n",
      "Evidence for index 70: {'Age': 28.0, 'Number of sexual partners': 1.0, 'First sexual intercourse': 23.0, 'Num of pregnancies': 3.0, 'Smokes': 0.0, 'Smokes (years)': 0.0, 'Smokes (packs/year)': 0.0, 'Hormonal Contraceptives': 1.0, 'Hormonal Contraceptives (years)': 3.0, 'IUD': 0.0, 'IUD (years)': 0.0, 'STDs': 0.0, 'STDs (number)': 0.0, 'STDs:condylomatosis': 0.0, 'STDs:cervical condylomatosis': 0.0, 'STDs:vaginal condylomatosis': 0.0, 'STDs:vulvo-perineal condylomatosis': 0.0, 'STDs:syphilis': 0.0, 'STDs:AIDS': 0.0, 'STDs:HIV': 0.0, 'STDs:Hepatitis B': 0.0, 'STDs:HPV': 0.0, 'STDs: Number of diagnosis': 0.0, 'Hinselmann': 0.0, 'Schiller': 0.0, 'Citology': 0.0, 'Biopsy': 0.0}\n"
     ]
    },
    {
     "name": "stderr",
     "output_type": "stream",
     "text": [
      "Finding Elimination Order: : : 0it [00:00, ?it/s]\n",
      "0it [00:00, ?it/s]\n"
     ]
    },
    {
     "name": "stdout",
     "output_type": "stream",
     "text": [
      "Evidence for index 71: {'Age': 19.0, 'Number of sexual partners': 2.0, 'First sexual intercourse': 14.0, 'Num of pregnancies': 2.0, 'Smokes': 0.0, 'Smokes (years)': 0.0, 'Smokes (packs/year)': 0.0, 'STDs: Number of diagnosis': 0.0, 'Hinselmann': 0.0, 'Schiller': 0.0, 'Citology': 0.0, 'Biopsy': 0.0}\n"
     ]
    },
    {
     "name": "stderr",
     "output_type": "stream",
     "text": [
      "Finding Elimination Order: : 100%|██████████| 9/9 [00:00<00:00, 9013.55it/s]\n",
      "Eliminating: STDs:AIDS: 100%|██████████| 9/9 [00:00<00:00, 1489.10it/s]               \n"
     ]
    },
    {
     "name": "stdout",
     "output_type": "stream",
     "text": [
      "Evidence for index 72: {'Age': 40.0, 'Number of sexual partners': 1.0, 'First sexual intercourse': 18.0, 'Num of pregnancies': 1.0, 'Smokes': 0.0, 'Smokes (years)': 0.0, 'Smokes (packs/year)': 0.0, 'Hormonal Contraceptives': 1.0, 'Hormonal Contraceptives (years)': 0.25, 'IUD': 0.0, 'IUD (years)': 0.0, 'STDs': 1.0, 'STDs (number)': 2.0, 'STDs:condylomatosis': 1.0, 'STDs:cervical condylomatosis': 0.0, 'STDs:vaginal condylomatosis': 0.0, 'STDs:vulvo-perineal condylomatosis': 1.0, 'STDs:syphilis': 0.0, 'STDs:AIDS': 0.0, 'STDs:HIV': 0.0, 'STDs:Hepatitis B': 0.0, 'STDs:HPV': 0.0, 'STDs: Number of diagnosis': 1.0, 'Hinselmann': 0.0, 'Schiller': 1.0, 'Citology': 1.0, 'Biopsy': 1.0}\n"
     ]
    },
    {
     "name": "stderr",
     "output_type": "stream",
     "text": [
      "Finding Elimination Order: : : 0it [00:00, ?it/s]\n",
      "0it [00:00, ?it/s]\n"
     ]
    },
    {
     "name": "stdout",
     "output_type": "stream",
     "text": [
      "Evidence for index 73: {'Age': 23.0, 'Number of sexual partners': 1.0, 'First sexual intercourse': 18.0, 'Num of pregnancies': 2.0, 'Smokes': 0.0, 'Smokes (years)': 0.0, 'Smokes (packs/year)': 0.0, 'Hormonal Contraceptives': 0.0, 'Hormonal Contraceptives (years)': 0.0, 'IUD': 0.0, 'IUD (years)': 0.0, 'STDs': 0.0, 'STDs (number)': 0.0, 'STDs:condylomatosis': 0.0, 'STDs:cervical condylomatosis': 0.0, 'STDs:vaginal condylomatosis': 0.0, 'STDs:vulvo-perineal condylomatosis': 0.0, 'STDs:syphilis': 0.0, 'STDs:AIDS': 0.0, 'STDs:HIV': 0.0, 'STDs:Hepatitis B': 0.0, 'STDs:HPV': 0.0, 'STDs: Number of diagnosis': 0.0, 'Hinselmann': 0.0, 'Schiller': 0.0, 'Citology': 0.0, 'Biopsy': 0.0}\n"
     ]
    },
    {
     "name": "stderr",
     "output_type": "stream",
     "text": [
      "Finding Elimination Order: : : 0it [00:00, ?it/s]\n",
      "0it [00:00, ?it/s]\n"
     ]
    },
    {
     "name": "stdout",
     "output_type": "stream",
     "text": [
      "Evidence for index 74: {'Age': 36.0, 'Number of sexual partners': 1.0, 'First sexual intercourse': 18.0, 'Num of pregnancies': 3.0, 'Smokes': 0.0, 'Smokes (years)': 0.0, 'Smokes (packs/year)': 0.0, 'Hormonal Contraceptives': 1.0, 'Hormonal Contraceptives (years)': 0.25, 'IUD': 0.0, 'IUD (years)': 0.0, 'STDs': 0.0, 'STDs (number)': 0.0, 'STDs:condylomatosis': 0.0, 'STDs:cervical condylomatosis': 0.0, 'STDs:vaginal condylomatosis': 0.0, 'STDs:vulvo-perineal condylomatosis': 0.0, 'STDs:syphilis': 0.0, 'STDs:AIDS': 0.0, 'STDs:HIV': 0.0, 'STDs:Hepatitis B': 0.0, 'STDs:HPV': 0.0, 'STDs: Number of diagnosis': 0.0, 'Hinselmann': 0.0, 'Schiller': 0.0, 'Citology': 0.0, 'Biopsy': 0.0}\n"
     ]
    },
    {
     "name": "stderr",
     "output_type": "stream",
     "text": [
      "Finding Elimination Order: : : 0it [00:00, ?it/s]\n",
      "0it [00:00, ?it/s]\n"
     ]
    },
    {
     "name": "stdout",
     "output_type": "stream",
     "text": [
      "Evidence for index 75: {'Age': 21.0, 'Number of sexual partners': 1.0, 'First sexual intercourse': 15.0, 'Num of pregnancies': 3.0, 'Smokes': 0.0, 'Smokes (years)': 0.0, 'Smokes (packs/year)': 0.0, 'Hormonal Contraceptives': 1.0, 'Hormonal Contraceptives (years)': 0.5, 'IUD': 0.0, 'IUD (years)': 0.0, 'STDs': 0.0, 'STDs (number)': 0.0, 'STDs:condylomatosis': 0.0, 'STDs:cervical condylomatosis': 0.0, 'STDs:vaginal condylomatosis': 0.0, 'STDs:vulvo-perineal condylomatosis': 0.0, 'STDs:syphilis': 0.0, 'STDs:AIDS': 0.0, 'STDs:HIV': 0.0, 'STDs:Hepatitis B': 0.0, 'STDs:HPV': 0.0, 'STDs: Number of diagnosis': 0.0, 'Hinselmann': 0.0, 'Schiller': 0.0, 'Citology': 0.0, 'Biopsy': 0.0}\n"
     ]
    },
    {
     "name": "stderr",
     "output_type": "stream",
     "text": [
      "Finding Elimination Order: : : 0it [00:00, ?it/s]\n",
      "0it [00:00, ?it/s]\n",
      "WARNING:pgmpy:Found unknown state name. Trying to switch to using all state names as state numbers\n"
     ]
    },
    {
     "name": "stdout",
     "output_type": "stream",
     "text": [
      "Evidence for index 76: {'Age': 37.0, 'Number of sexual partners': 3.0, 'First sexual intercourse': 24.0, 'Num of pregnancies': 1.0, 'Smokes': 1.0, 'Smokes (years)': 3.0, 'Smokes (packs/year)': 0.04, 'Hormonal Contraceptives': 0.0, 'Hormonal Contraceptives (years)': 0.0, 'IUD': 0.0, 'IUD (years)': 0.0, 'STDs': 0.0, 'STDs (number)': 0.0, 'STDs:condylomatosis': 0.0, 'STDs:cervical condylomatosis': 0.0, 'STDs:vaginal condylomatosis': 0.0, 'STDs:vulvo-perineal condylomatosis': 0.0, 'STDs:syphilis': 0.0, 'STDs:AIDS': 0.0, 'STDs:HIV': 0.0, 'STDs:Hepatitis B': 0.0, 'STDs:HPV': 0.0, 'STDs: Number of diagnosis': 0.0, 'Hinselmann': 0.0, 'Schiller': 0.0, 'Citology': 0.0, 'Biopsy': 0.0}\n",
      "Error predicting for index 76: only integers, slices (`:`), ellipsis (`...`), numpy.newaxis (`None`) and integer or boolean arrays are valid indices\n",
      "Evidence for index 77: {'Age': 19.0, 'Number of sexual partners': 4.0, 'First sexual intercourse': 14.0, 'Num of pregnancies': 1.0, 'Smokes': 0.0, 'Smokes (years)': 0.0, 'Smokes (packs/year)': 0.0, 'STDs: Number of diagnosis': 0.0, 'Hinselmann': 0.0, 'Schiller': 0.0, 'Citology': 0.0, 'Biopsy': 0.0}\n"
     ]
    },
    {
     "name": "stderr",
     "output_type": "stream",
     "text": [
      "Finding Elimination Order: : 100%|██████████| 9/9 [00:00<00:00, 9065.50it/s]\n",
      "Eliminating: STDs:AIDS: 100%|██████████| 9/9 [00:00<00:00, 1285.59it/s]               \n"
     ]
    },
    {
     "name": "stdout",
     "output_type": "stream",
     "text": [
      "Evidence for index 78: {'Age': 17.0, 'Number of sexual partners': 2.0, 'First sexual intercourse': 15.0, 'Num of pregnancies': 2.0, 'Smokes': 0.0, 'Smokes (years)': 0.0, 'Smokes (packs/year)': 0.0, 'Hormonal Contraceptives': 1.0, 'Hormonal Contraceptives (years)': 0.16, 'IUD': 0.0, 'IUD (years)': 0.0, 'STDs': 0.0, 'STDs (number)': 0.0, 'STDs:condylomatosis': 0.0, 'STDs:cervical condylomatosis': 0.0, 'STDs:vaginal condylomatosis': 0.0, 'STDs:vulvo-perineal condylomatosis': 0.0, 'STDs:syphilis': 0.0, 'STDs:AIDS': 0.0, 'STDs:HIV': 0.0, 'STDs:Hepatitis B': 0.0, 'STDs:HPV': 0.0, 'STDs: Number of diagnosis': 0.0, 'Hinselmann': 0.0, 'Schiller': 0.0, 'Citology': 0.0, 'Biopsy': 0.0}\n"
     ]
    },
    {
     "name": "stderr",
     "output_type": "stream",
     "text": [
      "Finding Elimination Order: : : 0it [00:00, ?it/s]\n",
      "0it [00:00, ?it/s]\n"
     ]
    },
    {
     "name": "stdout",
     "output_type": "stream",
     "text": [
      "Evidence for index 79: {'Age': 24.0, 'Number of sexual partners': 3.0, 'First sexual intercourse': 15.0, 'Num of pregnancies': 3.0, 'Smokes': 1.0, 'Smokes (years)': 8.0, 'Smokes (packs/year)': 2.0, 'Hormonal Contraceptives': 1.0, 'Hormonal Contraceptives (years)': 4.0, 'IUD': 0.0, 'IUD (years)': 0.0, 'STDs': 0.0, 'STDs (number)': 0.0, 'STDs:condylomatosis': 0.0, 'STDs:cervical condylomatosis': 0.0, 'STDs:vaginal condylomatosis': 0.0, 'STDs:vulvo-perineal condylomatosis': 0.0, 'STDs:syphilis': 0.0, 'STDs:AIDS': 0.0, 'STDs:HIV': 0.0, 'STDs:Hepatitis B': 0.0, 'STDs:HPV': 0.0, 'STDs: Number of diagnosis': 0.0, 'Hinselmann': 0.0, 'Schiller': 0.0, 'Citology': 0.0, 'Biopsy': 0.0}\n"
     ]
    },
    {
     "name": "stderr",
     "output_type": "stream",
     "text": [
      "Finding Elimination Order: : : 0it [00:00, ?it/s]\n",
      "0it [00:00, ?it/s]\n"
     ]
    },
    {
     "name": "stdout",
     "output_type": "stream",
     "text": [
      "Evidence for index 80: {'Age': 28.0, 'Number of sexual partners': 2.0, 'First sexual intercourse': 20.0, 'Num of pregnancies': 2.0, 'Smokes': 0.0, 'Smokes (years)': 0.0, 'Smokes (packs/year)': 0.0, 'Hormonal Contraceptives': 1.0, 'Hormonal Contraceptives (years)': 1.0, 'IUD': 0.0, 'IUD (years)': 0.0, 'STDs': 0.0, 'STDs (number)': 0.0, 'STDs:condylomatosis': 0.0, 'STDs:cervical condylomatosis': 0.0, 'STDs:vaginal condylomatosis': 0.0, 'STDs:vulvo-perineal condylomatosis': 0.0, 'STDs:syphilis': 0.0, 'STDs:AIDS': 0.0, 'STDs:HIV': 0.0, 'STDs:Hepatitis B': 0.0, 'STDs:HPV': 0.0, 'STDs: Number of diagnosis': 0.0, 'Hinselmann': 0.0, 'Schiller': 0.0, 'Citology': 0.0, 'Biopsy': 0.0}\n"
     ]
    },
    {
     "name": "stderr",
     "output_type": "stream",
     "text": [
      "Finding Elimination Order: : : 0it [00:00, ?it/s]\n",
      "0it [00:00, ?it/s]\n"
     ]
    },
    {
     "name": "stdout",
     "output_type": "stream",
     "text": [
      "Evidence for index 81: {'Age': 34.0, 'Number of sexual partners': 3.0, 'First sexual intercourse': 19.0, 'Num of pregnancies': 3.0, 'Smokes': 0.0, 'Smokes (years)': 0.0, 'Smokes (packs/year)': 0.0, 'Hormonal Contraceptives': 1.0, 'Hormonal Contraceptives (years)': 5.0, 'IUD': 0.0, 'IUD (years)': 0.0, 'STDs': 0.0, 'STDs (number)': 0.0, 'STDs:condylomatosis': 0.0, 'STDs:cervical condylomatosis': 0.0, 'STDs:vaginal condylomatosis': 0.0, 'STDs:vulvo-perineal condylomatosis': 0.0, 'STDs:syphilis': 0.0, 'STDs:AIDS': 0.0, 'STDs:HIV': 0.0, 'STDs:Hepatitis B': 0.0, 'STDs:HPV': 0.0, 'STDs: Number of diagnosis': 0.0, 'Hinselmann': 0.0, 'Schiller': 0.0, 'Citology': 0.0, 'Biopsy': 0.0}\n"
     ]
    },
    {
     "name": "stderr",
     "output_type": "stream",
     "text": [
      "Finding Elimination Order: : : 0it [00:00, ?it/s]\n",
      "0it [00:00, ?it/s]\n"
     ]
    },
    {
     "name": "stdout",
     "output_type": "stream",
     "text": [
      "Evidence for index 82: {'Age': 25.0, 'Number of sexual partners': 2.0, 'First sexual intercourse': 18.0, 'Num of pregnancies': 2.0, 'Smokes': 0.0, 'Smokes (years)': 0.0, 'Smokes (packs/year)': 0.0, 'Hormonal Contraceptives': 1.0, 'Hormonal Contraceptives (years)': 7.0, 'IUD': 0.0, 'IUD (years)': 0.0, 'STDs': 0.0, 'STDs (number)': 0.0, 'STDs:condylomatosis': 0.0, 'STDs:cervical condylomatosis': 0.0, 'STDs:vaginal condylomatosis': 0.0, 'STDs:vulvo-perineal condylomatosis': 0.0, 'STDs:syphilis': 0.0, 'STDs:AIDS': 0.0, 'STDs:HIV': 0.0, 'STDs:Hepatitis B': 0.0, 'STDs:HPV': 0.0, 'STDs: Number of diagnosis': 0.0, 'Hinselmann': 0.0, 'Schiller': 0.0, 'Citology': 0.0, 'Biopsy': 0.0}\n"
     ]
    },
    {
     "name": "stderr",
     "output_type": "stream",
     "text": [
      "Finding Elimination Order: : : 0it [00:00, ?it/s]\n",
      "0it [00:00, ?it/s]\n",
      "WARNING:pgmpy:Found unknown state name. Trying to switch to using all state names as state numbers\n"
     ]
    },
    {
     "name": "stdout",
     "output_type": "stream",
     "text": [
      "Evidence for index 83: {'Age': 36.0, 'Number of sexual partners': 1.0, 'First sexual intercourse': 28.0, 'Num of pregnancies': 1.0, 'Smokes': 1.0, 'Smokes (years)': 16.0, 'Smokes (packs/year)': 2.4, 'Hormonal Contraceptives': 0.0, 'Hormonal Contraceptives (years)': 0.0, 'IUD': 0.0, 'IUD (years)': 0.0, 'STDs': 1.0, 'STDs (number)': 3.0, 'STDs:condylomatosis': 1.0, 'STDs:cervical condylomatosis': 0.0, 'STDs:vaginal condylomatosis': 1.0, 'STDs:vulvo-perineal condylomatosis': 1.0, 'STDs:syphilis': 0.0, 'STDs:AIDS': 0.0, 'STDs:HIV': 0.0, 'STDs:Hepatitis B': 0.0, 'STDs:HPV': 0.0, 'STDs: Number of diagnosis': 1.0, 'Hinselmann': 0.0, 'Schiller': 0.0, 'Citology': 0.0, 'Biopsy': 0.0}\n",
      "Error predicting for index 83: only integers, slices (`:`), ellipsis (`...`), numpy.newaxis (`None`) and integer or boolean arrays are valid indices\n",
      "Evidence for index 84: {'Age': 33.0, 'Number of sexual partners': 2.0, 'First sexual intercourse': 17.0, 'Num of pregnancies': 3.0, 'Smokes': 0.0, 'Smokes (years)': 0.0, 'Smokes (packs/year)': 0.0, 'Hormonal Contraceptives': 1.0, 'Hormonal Contraceptives (years)': 10.0, 'IUD': 0.0, 'IUD (years)': 0.0, 'STDs': 0.0, 'STDs (number)': 0.0, 'STDs:condylomatosis': 0.0, 'STDs:cervical condylomatosis': 0.0, 'STDs:vaginal condylomatosis': 0.0, 'STDs:vulvo-perineal condylomatosis': 0.0, 'STDs:syphilis': 0.0, 'STDs:AIDS': 0.0, 'STDs:HIV': 0.0, 'STDs:Hepatitis B': 0.0, 'STDs:HPV': 0.0, 'STDs: Number of diagnosis': 0.0, 'Hinselmann': 0.0, 'Schiller': 0.0, 'Citology': 0.0, 'Biopsy': 0.0}\n"
     ]
    },
    {
     "name": "stderr",
     "output_type": "stream",
     "text": [
      "Finding Elimination Order: : : 0it [00:00, ?it/s]\n",
      "0it [00:00, ?it/s]\n"
     ]
    },
    {
     "name": "stdout",
     "output_type": "stream",
     "text": [
      "Evidence for index 85: {'Age': 22.0, 'Number of sexual partners': 3.0, 'First sexual intercourse': 13.0, 'Num of pregnancies': 1.0, 'Smokes': 0.0, 'Smokes (years)': 0.0, 'Smokes (packs/year)': 0.0, 'Hormonal Contraceptives': 1.0, 'Hormonal Contraceptives (years)': 0.25, 'IUD': 0.0, 'IUD (years)': 0.0, 'STDs': 0.0, 'STDs (number)': 0.0, 'STDs:condylomatosis': 0.0, 'STDs:cervical condylomatosis': 0.0, 'STDs:vaginal condylomatosis': 0.0, 'STDs:vulvo-perineal condylomatosis': 0.0, 'STDs:syphilis': 0.0, 'STDs:AIDS': 0.0, 'STDs:HIV': 0.0, 'STDs:Hepatitis B': 0.0, 'STDs:HPV': 0.0, 'STDs: Number of diagnosis': 0.0, 'Hinselmann': 0.0, 'Schiller': 0.0, 'Citology': 0.0, 'Biopsy': 0.0}\n"
     ]
    },
    {
     "name": "stderr",
     "output_type": "stream",
     "text": [
      "Finding Elimination Order: : : 0it [00:00, ?it/s]\n",
      "0it [00:00, ?it/s]\n",
      "WARNING:pgmpy:Found unknown state name. Trying to switch to using all state names as state numbers\n"
     ]
    },
    {
     "name": "stdout",
     "output_type": "stream",
     "text": [
      "Evidence for index 86: {'Age': 26.0, 'Number of sexual partners': 2.0, 'First sexual intercourse': 16.0, 'Num of pregnancies': 3.0, 'Smokes': 1.0, 'Smokes (years)': 11.0, 'Smokes (packs/year)': 2.2, 'Hormonal Contraceptives': 1.0, 'Hormonal Contraceptives (years)': 2.0, 'IUD': 0.0, 'IUD (years)': 0.0, 'STDs': 0.0, 'STDs (number)': 0.0, 'STDs:condylomatosis': 0.0, 'STDs:cervical condylomatosis': 0.0, 'STDs:vaginal condylomatosis': 0.0, 'STDs:vulvo-perineal condylomatosis': 0.0, 'STDs:syphilis': 0.0, 'STDs:AIDS': 0.0, 'STDs:HIV': 0.0, 'STDs:Hepatitis B': 0.0, 'STDs:HPV': 0.0, 'STDs: Number of diagnosis': 0.0, 'Hinselmann': 0.0, 'Schiller': 0.0, 'Citology': 0.0, 'Biopsy': 0.0}\n",
      "Error predicting for index 86: only integers, slices (`:`), ellipsis (`...`), numpy.newaxis (`None`) and integer or boolean arrays are valid indices\n",
      "Evidence for index 87: {'Age': 24.0, 'Number of sexual partners': 3.0, 'First sexual intercourse': 18.0, 'Num of pregnancies': 2.0, 'Smokes': 1.0, 'Smokes (years)': 1.266972909, 'Smokes (packs/year)': 0.5132021277, 'Hormonal Contraceptives': 1.0, 'Hormonal Contraceptives (years)': 5.0, 'IUD': 0.0, 'IUD (years)': 0.0, 'STDs': 0.0, 'STDs (number)': 0.0, 'STDs:condylomatosis': 0.0, 'STDs:cervical condylomatosis': 0.0, 'STDs:vaginal condylomatosis': 0.0, 'STDs:vulvo-perineal condylomatosis': 0.0, 'STDs:syphilis': 0.0, 'STDs:AIDS': 0.0, 'STDs:HIV': 0.0, 'STDs:Hepatitis B': 0.0, 'STDs:HPV': 0.0, 'STDs: Number of diagnosis': 0.0, 'Hinselmann': 0.0, 'Schiller': 0.0, 'Citology': 0.0, 'Biopsy': 0.0}\n"
     ]
    },
    {
     "name": "stderr",
     "output_type": "stream",
     "text": [
      "Finding Elimination Order: : : 0it [00:00, ?it/s]\n",
      "0it [00:00, ?it/s]\n"
     ]
    },
    {
     "name": "stdout",
     "output_type": "stream",
     "text": [
      "Evidence for index 88: {'Age': 32.0, 'Number of sexual partners': 1.0, 'First sexual intercourse': 19.0, 'Num of pregnancies': 1.0, 'Smokes': 0.0, 'Smokes (years)': 0.0, 'Smokes (packs/year)': 0.0, 'Hormonal Contraceptives': 1.0, 'Hormonal Contraceptives (years)': 0.25, 'IUD': 0.0, 'IUD (years)': 0.0, 'STDs': 0.0, 'STDs (number)': 0.0, 'STDs:condylomatosis': 0.0, 'STDs:cervical condylomatosis': 0.0, 'STDs:vaginal condylomatosis': 0.0, 'STDs:vulvo-perineal condylomatosis': 0.0, 'STDs:syphilis': 0.0, 'STDs:AIDS': 0.0, 'STDs:HIV': 0.0, 'STDs:Hepatitis B': 0.0, 'STDs:HPV': 0.0, 'STDs: Number of diagnosis': 0.0, 'Hinselmann': 0.0, 'Schiller': 0.0, 'Citology': 0.0, 'Biopsy': 0.0}\n"
     ]
    },
    {
     "name": "stderr",
     "output_type": "stream",
     "text": [
      "Finding Elimination Order: : : 0it [00:00, ?it/s]\n",
      "0it [00:00, ?it/s]\n"
     ]
    },
    {
     "name": "stdout",
     "output_type": "stream",
     "text": [
      "Evidence for index 89: {'Age': 35.0, 'Number of sexual partners': 1.0, 'First sexual intercourse': 18.0, 'Num of pregnancies': 2.0, 'Smokes': 0.0, 'Smokes (years)': 0.0, 'Smokes (packs/year)': 0.0, 'Hormonal Contraceptives': 1.0, 'Hormonal Contraceptives (years)': 2.0, 'IUD': 0.0, 'IUD (years)': 0.0, 'STDs': 0.0, 'STDs (number)': 0.0, 'STDs:condylomatosis': 0.0, 'STDs:cervical condylomatosis': 0.0, 'STDs:vaginal condylomatosis': 0.0, 'STDs:vulvo-perineal condylomatosis': 0.0, 'STDs:syphilis': 0.0, 'STDs:AIDS': 0.0, 'STDs:HIV': 0.0, 'STDs:Hepatitis B': 0.0, 'STDs:HPV': 0.0, 'STDs: Number of diagnosis': 0.0, 'Hinselmann': 0.0, 'Schiller': 0.0, 'Citology': 0.0, 'Biopsy': 0.0}\n"
     ]
    },
    {
     "name": "stderr",
     "output_type": "stream",
     "text": [
      "Finding Elimination Order: : : 0it [00:00, ?it/s]\n",
      "0it [00:00, ?it/s]\n",
      "WARNING:pgmpy:Found unknown state name. Trying to switch to using all state names as state numbers\n"
     ]
    },
    {
     "name": "stdout",
     "output_type": "stream",
     "text": [
      "Evidence for index 90: {'Age': 36.0, 'Number of sexual partners': 3.0, 'First sexual intercourse': 18.0, 'Num of pregnancies': 3.0, 'Smokes': 1.0, 'Smokes (years)': 1.266972909, 'Smokes (packs/year)': 2.4, 'Hormonal Contraceptives': 1.0, 'Hormonal Contraceptives (years)': 9.0, 'IUD': 0.0, 'IUD (years)': 0.0, 'STDs': 0.0, 'STDs (number)': 0.0, 'STDs:condylomatosis': 0.0, 'STDs:cervical condylomatosis': 0.0, 'STDs:vaginal condylomatosis': 0.0, 'STDs:vulvo-perineal condylomatosis': 0.0, 'STDs:syphilis': 0.0, 'STDs:AIDS': 0.0, 'STDs:HIV': 0.0, 'STDs:Hepatitis B': 0.0, 'STDs:HPV': 0.0, 'STDs: Number of diagnosis': 0.0, 'Hinselmann': 0.0, 'Schiller': 0.0, 'Citology': 0.0, 'Biopsy': 0.0}\n",
      "Error predicting for index 90: only integers, slices (`:`), ellipsis (`...`), numpy.newaxis (`None`) and integer or boolean arrays are valid indices\n",
      "Evidence for index 91: {'Age': 28.0, 'Number of sexual partners': 2.0, 'First sexual intercourse': 17.0, 'Num of pregnancies': 2.0, 'Smokes': 0.0, 'Smokes (years)': 0.0, 'Smokes (packs/year)': 0.0, 'Hormonal Contraceptives': 1.0, 'Hormonal Contraceptives (years)': 7.0, 'IUD': 0.0, 'IUD (years)': 0.0, 'STDs': 0.0, 'STDs (number)': 0.0, 'STDs:condylomatosis': 0.0, 'STDs:cervical condylomatosis': 0.0, 'STDs:vaginal condylomatosis': 0.0, 'STDs:vulvo-perineal condylomatosis': 0.0, 'STDs:syphilis': 0.0, 'STDs:AIDS': 0.0, 'STDs:HIV': 0.0, 'STDs:Hepatitis B': 0.0, 'STDs:HPV': 0.0, 'STDs: Number of diagnosis': 0.0, 'Hinselmann': 0.0, 'Schiller': 0.0, 'Citology': 0.0, 'Biopsy': 0.0}\n"
     ]
    },
    {
     "name": "stderr",
     "output_type": "stream",
     "text": [
      "Finding Elimination Order: : : 0it [00:00, ?it/s]\n",
      "0it [00:00, ?it/s]\n"
     ]
    },
    {
     "name": "stdout",
     "output_type": "stream",
     "text": [
      "Evidence for index 92: {'Age': 15.0, 'Number of sexual partners': 1.0, 'First sexual intercourse': 15.0, 'Num of pregnancies': 1.0, 'Smokes': 0.0, 'Smokes (years)': 0.0, 'Smokes (packs/year)': 0.0, 'STDs: Number of diagnosis': 0.0, 'Hinselmann': 0.0, 'Schiller': 0.0, 'Citology': 0.0, 'Biopsy': 0.0}\n"
     ]
    },
    {
     "name": "stderr",
     "output_type": "stream",
     "text": [
      "Finding Elimination Order: : 100%|██████████| 9/9 [00:00<00:00, 4496.57it/s]\n",
      "Eliminating: STDs:AIDS: 100%|██████████| 9/9 [00:00<00:00, 1125.01it/s]               \n"
     ]
    },
    {
     "name": "stdout",
     "output_type": "stream",
     "text": [
      "Evidence for index 93: {'Age': 22.0, 'Number of sexual partners': 3.0, 'First sexual intercourse': 17.0, 'Num of pregnancies': 1.0, 'Smokes': 0.0, 'Smokes (years)': 0.0, 'Smokes (packs/year)': 0.0, 'Hormonal Contraceptives': 0.0, 'Hormonal Contraceptives (years)': 0.0, 'IUD': 0.0, 'IUD (years)': 0.0, 'STDs': 1.0, 'STDs (number)': 2.0, 'STDs:condylomatosis': 1.0, 'STDs:cervical condylomatosis': 0.0, 'STDs:vaginal condylomatosis': 0.0, 'STDs:vulvo-perineal condylomatosis': 1.0, 'STDs:syphilis': 0.0, 'STDs:AIDS': 0.0, 'STDs:HIV': 0.0, 'STDs:Hepatitis B': 0.0, 'STDs:HPV': 0.0, 'STDs: Number of diagnosis': 0.0, 'Hinselmann': 1.0, 'Schiller': 1.0, 'Citology': 0.0, 'Biopsy': 1.0}\n"
     ]
    },
    {
     "name": "stderr",
     "output_type": "stream",
     "text": [
      "Finding Elimination Order: : : 0it [00:00, ?it/s]\n",
      "0it [00:00, ?it/s]\n"
     ]
    },
    {
     "name": "stdout",
     "output_type": "stream",
     "text": [
      "Evidence for index 94: {'Age': 19.0, 'Number of sexual partners': 4.0, 'First sexual intercourse': 15.0, 'Num of pregnancies': 1.0, 'Smokes': 0.0, 'Smokes (years)': 0.0, 'Smokes (packs/year)': 0.0, 'Hormonal Contraceptives': 0.0, 'Hormonal Contraceptives (years)': 0.0, 'IUD': 0.0, 'IUD (years)': 0.0, 'STDs': 0.0, 'STDs (number)': 0.0, 'STDs:condylomatosis': 0.0, 'STDs:cervical condylomatosis': 0.0, 'STDs:vaginal condylomatosis': 0.0, 'STDs:vulvo-perineal condylomatosis': 0.0, 'STDs:syphilis': 0.0, 'STDs:AIDS': 0.0, 'STDs:HIV': 0.0, 'STDs:Hepatitis B': 0.0, 'STDs:HPV': 0.0, 'STDs: Number of diagnosis': 0.0, 'Hinselmann': 0.0, 'Schiller': 0.0, 'Citology': 0.0, 'Biopsy': 0.0}\n"
     ]
    },
    {
     "name": "stderr",
     "output_type": "stream",
     "text": [
      "Finding Elimination Order: : : 0it [00:00, ?it/s]\n",
      "0it [00:00, ?it/s]\n"
     ]
    },
    {
     "name": "stdout",
     "output_type": "stream",
     "text": [
      "Evidence for index 95: {'Age': 32.0, 'Number of sexual partners': 2.0, 'First sexual intercourse': 15.0, 'Num of pregnancies': 2.0, 'Smokes': 0.0, 'Smokes (years)': 0.0, 'Smokes (packs/year)': 0.0, 'Hormonal Contraceptives': 1.0, 'Hormonal Contraceptives (years)': 10.0, 'IUD': 0.0, 'IUD (years)': 0.0, 'STDs': 0.0, 'STDs (number)': 0.0, 'STDs:condylomatosis': 0.0, 'STDs:cervical condylomatosis': 0.0, 'STDs:vaginal condylomatosis': 0.0, 'STDs:vulvo-perineal condylomatosis': 0.0, 'STDs:syphilis': 0.0, 'STDs:AIDS': 0.0, 'STDs:HIV': 0.0, 'STDs:Hepatitis B': 0.0, 'STDs:HPV': 0.0, 'STDs: Number of diagnosis': 0.0, 'Hinselmann': 0.0, 'Schiller': 0.0, 'Citology': 0.0, 'Biopsy': 0.0}\n"
     ]
    },
    {
     "name": "stderr",
     "output_type": "stream",
     "text": [
      "Finding Elimination Order: : : 0it [00:00, ?it/s]\n",
      "0it [00:00, ?it/s]\n"
     ]
    },
    {
     "name": "stdout",
     "output_type": "stream",
     "text": [
      "Evidence for index 96: {'Age': 24.0, 'Number of sexual partners': 1.0, 'First sexual intercourse': 14.0, 'Num of pregnancies': 0.0, 'Smokes': 0.0, 'Smokes (years)': 0.0, 'Smokes (packs/year)': 0.0, 'Hormonal Contraceptives': 0.0, 'Hormonal Contraceptives (years)': 0.0, 'IUD': 0.0, 'IUD (years)': 0.0, 'STDs': 0.0, 'STDs (number)': 0.0, 'STDs:condylomatosis': 0.0, 'STDs:cervical condylomatosis': 0.0, 'STDs:vaginal condylomatosis': 0.0, 'STDs:vulvo-perineal condylomatosis': 0.0, 'STDs:syphilis': 0.0, 'STDs:AIDS': 0.0, 'STDs:HIV': 0.0, 'STDs:Hepatitis B': 0.0, 'STDs:HPV': 0.0, 'STDs: Number of diagnosis': 0.0, 'Hinselmann': 0.0, 'Schiller': 0.0, 'Citology': 0.0, 'Biopsy': 0.0}\n"
     ]
    },
    {
     "name": "stderr",
     "output_type": "stream",
     "text": [
      "Finding Elimination Order: : : 0it [00:00, ?it/s]\n",
      "0it [00:00, ?it/s]\n"
     ]
    },
    {
     "name": "stdout",
     "output_type": "stream",
     "text": [
      "Evidence for index 97: {'Age': 23.0, 'Number of sexual partners': 1.0, 'First sexual intercourse': 19.0, 'Num of pregnancies': 2.0, 'Smokes': 0.0, 'Smokes (years)': 0.0, 'Smokes (packs/year)': 0.0, 'Hormonal Contraceptives': 1.0, 'Hormonal Contraceptives (years)': 0.67, 'IUD': 0.0, 'IUD (years)': 0.0, 'STDs': 0.0, 'STDs (number)': 0.0, 'STDs:condylomatosis': 0.0, 'STDs:cervical condylomatosis': 0.0, 'STDs:vaginal condylomatosis': 0.0, 'STDs:vulvo-perineal condylomatosis': 0.0, 'STDs:syphilis': 0.0, 'STDs:AIDS': 0.0, 'STDs:HIV': 0.0, 'STDs:Hepatitis B': 0.0, 'STDs:HPV': 0.0, 'STDs: Number of diagnosis': 0.0, 'Hinselmann': 0.0, 'Schiller': 0.0, 'Citology': 0.0, 'Biopsy': 0.0}\n"
     ]
    },
    {
     "name": "stderr",
     "output_type": "stream",
     "text": [
      "Finding Elimination Order: : : 0it [00:00, ?it/s]\n",
      "0it [00:00, ?it/s]\n"
     ]
    },
    {
     "name": "stdout",
     "output_type": "stream",
     "text": [
      "Evidence for index 98: {'Age': 34.0, 'Number of sexual partners': 1.0, 'First sexual intercourse': 26.0, 'Num of pregnancies': 3.0, 'Smokes': 0.0, 'Smokes (years)': 0.0, 'Smokes (packs/year)': 0.0, 'Hormonal Contraceptives': 1.0, 'Hormonal Contraceptives (years)': 2.0, 'IUD': 0.0, 'IUD (years)': 0.0, 'STDs': 0.0, 'STDs (number)': 0.0, 'STDs:condylomatosis': 0.0, 'STDs:cervical condylomatosis': 0.0, 'STDs:vaginal condylomatosis': 0.0, 'STDs:vulvo-perineal condylomatosis': 0.0, 'STDs:syphilis': 0.0, 'STDs:AIDS': 0.0, 'STDs:HIV': 0.0, 'STDs:Hepatitis B': 0.0, 'STDs:HPV': 0.0, 'STDs: Number of diagnosis': 0.0, 'Hinselmann': 0.0, 'Schiller': 0.0, 'Citology': 0.0, 'Biopsy': 0.0}\n"
     ]
    },
    {
     "name": "stderr",
     "output_type": "stream",
     "text": [
      "Finding Elimination Order: : : 0it [00:00, ?it/s]\n",
      "0it [00:00, ?it/s]\n"
     ]
    },
    {
     "name": "stdout",
     "output_type": "stream",
     "text": [
      "Evidence for index 99: {'Age': 18.0, 'Number of sexual partners': 1.0, 'First sexual intercourse': 17.0, 'Num of pregnancies': 1.0, 'Smokes': 0.0, 'Smokes (years)': 0.0, 'Smokes (packs/year)': 0.0, 'Hormonal Contraceptives': 0.0, 'Hormonal Contraceptives (years)': 0.0, 'IUD': 0.0, 'IUD (years)': 0.0, 'STDs': 0.0, 'STDs (number)': 0.0, 'STDs:condylomatosis': 0.0, 'STDs:cervical condylomatosis': 0.0, 'STDs:vaginal condylomatosis': 0.0, 'STDs:vulvo-perineal condylomatosis': 0.0, 'STDs:syphilis': 0.0, 'STDs:AIDS': 0.0, 'STDs:HIV': 0.0, 'STDs:Hepatitis B': 0.0, 'STDs:HPV': 0.0, 'STDs: Number of diagnosis': 0.0, 'Hinselmann': 0.0, 'Schiller': 0.0, 'Citology': 0.0, 'Biopsy': 0.0}\n"
     ]
    },
    {
     "name": "stderr",
     "output_type": "stream",
     "text": [
      "Finding Elimination Order: : : 0it [00:00, ?it/s]\n",
      "0it [00:00, ?it/s]\n",
      "WARNING:pgmpy:Found unknown state name. Trying to switch to using all state names as state numbers\n"
     ]
    },
    {
     "name": "stdout",
     "output_type": "stream",
     "text": [
      "Evidence for index 100: {'Age': 29.0, 'Number of sexual partners': 3.0, 'First sexual intercourse': 14.0, 'Num of pregnancies': 2.0, 'Smokes': 0.0, 'Smokes (years)': 0.0, 'Smokes (packs/year)': 0.0, 'Hormonal Contraceptives': 1.0, 'Hormonal Contraceptives (years)': 2.0, 'IUD': 1.0, 'IUD (years)': 0.91, 'STDs': 0.0, 'STDs (number)': 0.0, 'STDs:condylomatosis': 0.0, 'STDs:cervical condylomatosis': 0.0, 'STDs:vaginal condylomatosis': 0.0, 'STDs:vulvo-perineal condylomatosis': 0.0, 'STDs:syphilis': 0.0, 'STDs:AIDS': 0.0, 'STDs:HIV': 0.0, 'STDs:Hepatitis B': 0.0, 'STDs:HPV': 0.0, 'STDs: Number of diagnosis': 0.0, 'Hinselmann': 1.0, 'Schiller': 1.0, 'Citology': 0.0, 'Biopsy': 0.0}\n",
      "Error predicting for index 100: only integers, slices (`:`), ellipsis (`...`), numpy.newaxis (`None`) and integer or boolean arrays are valid indices\n",
      "Evidence for index 101: {'Age': 18.0, 'Number of sexual partners': 2.0, 'First sexual intercourse': 15.0, 'Num of pregnancies': 2.0, 'Smokes': 0.0, 'Smokes (years)': 0.0, 'Smokes (packs/year)': 0.0, 'Hormonal Contraceptives': 0.0, 'Hormonal Contraceptives (years)': 0.0, 'IUD': 0.0, 'IUD (years)': 0.0, 'STDs': 0.0, 'STDs (number)': 0.0, 'STDs:condylomatosis': 0.0, 'STDs:cervical condylomatosis': 0.0, 'STDs:vaginal condylomatosis': 0.0, 'STDs:vulvo-perineal condylomatosis': 0.0, 'STDs:syphilis': 0.0, 'STDs:AIDS': 0.0, 'STDs:HIV': 0.0, 'STDs:Hepatitis B': 0.0, 'STDs:HPV': 0.0, 'STDs: Number of diagnosis': 0.0, 'Hinselmann': 0.0, 'Schiller': 0.0, 'Citology': 0.0, 'Biopsy': 0.0}\n"
     ]
    },
    {
     "name": "stderr",
     "output_type": "stream",
     "text": [
      "Finding Elimination Order: : : 0it [00:00, ?it/s]\n",
      "0it [00:00, ?it/s]\n"
     ]
    },
    {
     "name": "stdout",
     "output_type": "stream",
     "text": [
      "Evidence for index 102: {'Age': 25.0, 'Number of sexual partners': 2.0, 'First sexual intercourse': 17.0, 'Num of pregnancies': 0.0, 'Smokes': 0.0, 'Smokes (years)': 0.0, 'Smokes (packs/year)': 0.0, 'Hormonal Contraceptives': 1.0, 'Hormonal Contraceptives (years)': 0.08, 'IUD': 0.0, 'IUD (years)': 0.0, 'STDs': 0.0, 'STDs (number)': 0.0, 'STDs:condylomatosis': 0.0, 'STDs:cervical condylomatosis': 0.0, 'STDs:vaginal condylomatosis': 0.0, 'STDs:vulvo-perineal condylomatosis': 0.0, 'STDs:syphilis': 0.0, 'STDs:AIDS': 0.0, 'STDs:HIV': 0.0, 'STDs:Hepatitis B': 0.0, 'STDs:HPV': 0.0, 'STDs: Number of diagnosis': 0.0, 'Hinselmann': 0.0, 'Schiller': 0.0, 'Citology': 1.0, 'Biopsy': 0.0}\n"
     ]
    },
    {
     "name": "stderr",
     "output_type": "stream",
     "text": [
      "Finding Elimination Order: : : 0it [00:00, ?it/s]\n",
      "0it [00:00, ?it/s]\n",
      "WARNING:pgmpy:Found unknown state name. Trying to switch to using all state names as state numbers\n"
     ]
    },
    {
     "name": "stdout",
     "output_type": "stream",
     "text": [
      "Evidence for index 103: {'Age': 18.0, 'Number of sexual partners': 2.0, 'First sexual intercourse': 15.0, 'Num of pregnancies': 3.0, 'Smokes': 1.0, 'Smokes (years)': 7.0, 'Smokes (packs/year)': 3.5, 'Hormonal Contraceptives': 1.0, 'Hormonal Contraceptives (years)': 1.0, 'IUD': 0.0, 'IUD (years)': 0.0, 'STDs': 0.0, 'STDs (number)': 0.0, 'STDs:condylomatosis': 0.0, 'STDs:cervical condylomatosis': 0.0, 'STDs:vaginal condylomatosis': 0.0, 'STDs:vulvo-perineal condylomatosis': 0.0, 'STDs:syphilis': 0.0, 'STDs:AIDS': 0.0, 'STDs:HIV': 0.0, 'STDs:Hepatitis B': 0.0, 'STDs:HPV': 0.0, 'STDs: Number of diagnosis': 0.0, 'Hinselmann': 0.0, 'Schiller': 0.0, 'Citology': 1.0, 'Biopsy': 0.0}\n",
      "Error predicting for index 103: only integers, slices (`:`), ellipsis (`...`), numpy.newaxis (`None`) and integer or boolean arrays are valid indices\n",
      "Evidence for index 104: {'Age': 33.0, 'Number of sexual partners': 3.0, 'First sexual intercourse': 19.0, 'Num of pregnancies': 0.0, 'Smokes': 0.0, 'Smokes (years)': 0.0, 'Smokes (packs/year)': 0.0, 'Hormonal Contraceptives': 0.0, 'Hormonal Contraceptives (years)': 0.0, 'IUD': 0.0, 'IUD (years)': 0.0, 'STDs': 0.0, 'STDs (number)': 0.0, 'STDs:condylomatosis': 0.0, 'STDs:cervical condylomatosis': 0.0, 'STDs:vaginal condylomatosis': 0.0, 'STDs:vulvo-perineal condylomatosis': 0.0, 'STDs:syphilis': 0.0, 'STDs:AIDS': 0.0, 'STDs:HIV': 0.0, 'STDs:Hepatitis B': 0.0, 'STDs:HPV': 0.0, 'STDs: Number of diagnosis': 0.0, 'Hinselmann': 0.0, 'Schiller': 0.0, 'Citology': 0.0, 'Biopsy': 0.0}\n"
     ]
    },
    {
     "name": "stderr",
     "output_type": "stream",
     "text": [
      "Finding Elimination Order: : : 0it [00:00, ?it/s]\n",
      "0it [00:00, ?it/s]\n"
     ]
    },
    {
     "name": "stdout",
     "output_type": "stream",
     "text": [
      "Evidence for index 105: {'Age': 24.0, 'Number of sexual partners': 2.0, 'First sexual intercourse': 13.0, 'Num of pregnancies': 5.0, 'Smokes': 0.0, 'Smokes (years)': 0.0, 'Smokes (packs/year)': 0.0, 'Hormonal Contraceptives': 1.0, 'Hormonal Contraceptives (years)': 2.0, 'IUD': 1.0, 'IUD (years)': 3.0, 'STDs': 0.0, 'STDs (number)': 0.0, 'STDs:condylomatosis': 0.0, 'STDs:cervical condylomatosis': 0.0, 'STDs:vaginal condylomatosis': 0.0, 'STDs:vulvo-perineal condylomatosis': 0.0, 'STDs:syphilis': 0.0, 'STDs:AIDS': 0.0, 'STDs:HIV': 0.0, 'STDs:Hepatitis B': 0.0, 'STDs:HPV': 0.0, 'STDs: Number of diagnosis': 0.0, 'Hinselmann': 0.0, 'Schiller': 0.0, 'Citology': 0.0, 'Biopsy': 0.0}\n"
     ]
    },
    {
     "name": "stderr",
     "output_type": "stream",
     "text": [
      "Finding Elimination Order: : : 0it [00:00, ?it/s]\n",
      "0it [00:00, ?it/s]\n"
     ]
    },
    {
     "name": "stdout",
     "output_type": "stream",
     "text": [
      "Evidence for index 106: {'Age': 30.0, 'Number of sexual partners': 1.0, 'First sexual intercourse': 15.0, 'Num of pregnancies': 3.0, 'Smokes': 0.0, 'Smokes (years)': 0.0, 'Smokes (packs/year)': 0.0, 'STDs: Number of diagnosis': 0.0, 'Hinselmann': 0.0, 'Schiller': 0.0, 'Citology': 0.0, 'Biopsy': 0.0}\n"
     ]
    },
    {
     "name": "stderr",
     "output_type": "stream",
     "text": [
      "Finding Elimination Order: : 100%|██████████| 9/9 [00:00<00:00, 4499.25it/s]\n",
      "Eliminating: STDs:AIDS: 100%|██████████| 9/9 [00:00<00:00, 1499.81it/s]               "
     ]
    },
    {
     "name": "stdout",
     "output_type": "stream",
     "text": [
      "Evidence for index 107: {'Age': 21.0, 'Number of sexual partners': 4.0, 'First sexual intercourse': 17.0, 'Num of pregnancies': 3.0, 'Smokes': 0.0, 'Smokes (years)': 0.0, 'Smokes (packs/year)': 0.0, 'Hormonal Contraceptives': 1.0, 'Hormonal Contraceptives (years)': 3.0, 'IUD': 0.0, 'IUD (years)': 0.0, 'STDs': 0.0, 'STDs (number)': 0.0, 'STDs:condylomatosis': 0.0, 'STDs:cervical condylomatosis': 0.0, 'STDs:vaginal condylomatosis': 0.0, 'STDs:vulvo-perineal condylomatosis': 0.0, 'STDs:syphilis': 0.0, 'STDs:AIDS': 0.0, 'STDs:HIV': 0.0, 'STDs:Hepatitis B': 0.0, 'STDs:HPV': 0.0, 'STDs: Number of diagnosis': 0.0, 'Hinselmann': 0.0, 'Schiller': 0.0, 'Citology': 0.0, 'Biopsy': 0.0}"
     ]
    },
    {
     "name": "stderr",
     "output_type": "stream",
     "text": [
      "\n"
     ]
    },
    {
     "name": "stdout",
     "output_type": "stream",
     "text": [
      "\n"
     ]
    },
    {
     "name": "stderr",
     "output_type": "stream",
     "text": [
      "Finding Elimination Order: : : 0it [00:00, ?it/s]\n",
      "0it [00:00, ?it/s]\n"
     ]
    },
    {
     "name": "stdout",
     "output_type": "stream",
     "text": [
      "Evidence for index 108: {'Age': 21.0, 'Number of sexual partners': 2.0, 'First sexual intercourse': 15.0, 'Num of pregnancies': 1.0, 'Smokes': 0.0, 'Smokes (years)': 0.0, 'Smokes (packs/year)': 0.0, 'Hormonal Contraceptives': 0.0, 'Hormonal Contraceptives (years)': 0.0, 'IUD': 0.0, 'IUD (years)': 0.0, 'STDs': 0.0, 'STDs (number)': 0.0, 'STDs:condylomatosis': 0.0, 'STDs:cervical condylomatosis': 0.0, 'STDs:vaginal condylomatosis': 0.0, 'STDs:vulvo-perineal condylomatosis': 0.0, 'STDs:syphilis': 0.0, 'STDs:AIDS': 0.0, 'STDs:HIV': 0.0, 'STDs:Hepatitis B': 0.0, 'STDs:HPV': 0.0, 'STDs: Number of diagnosis': 0.0, 'Hinselmann': 0.0, 'Schiller': 0.0, 'Citology': 0.0, 'Biopsy': 0.0}\n"
     ]
    },
    {
     "name": "stderr",
     "output_type": "stream",
     "text": [
      "Finding Elimination Order: : : 0it [00:00, ?it/s]\n",
      "0it [00:00, ?it/s]\n"
     ]
    },
    {
     "name": "stdout",
     "output_type": "stream",
     "text": [
      "Evidence for index 109: {'Age': 15.0, 'Number of sexual partners': 1.0, 'First sexual intercourse': 14.0, 'Num of pregnancies': 1.0, 'Smokes': 0.0, 'Smokes (years)': 0.0, 'Smokes (packs/year)': 0.0, 'Hormonal Contraceptives': 0.0, 'Hormonal Contraceptives (years)': 0.0, 'IUD': 0.0, 'IUD (years)': 0.0, 'STDs': 0.0, 'STDs (number)': 0.0, 'STDs:condylomatosis': 0.0, 'STDs:cervical condylomatosis': 0.0, 'STDs:vaginal condylomatosis': 0.0, 'STDs:vulvo-perineal condylomatosis': 0.0, 'STDs:syphilis': 0.0, 'STDs:AIDS': 0.0, 'STDs:HIV': 0.0, 'STDs:Hepatitis B': 0.0, 'STDs:HPV': 0.0, 'STDs: Number of diagnosis': 0.0, 'Hinselmann': 0.0, 'Schiller': 0.0, 'Citology': 0.0, 'Biopsy': 0.0}\n"
     ]
    },
    {
     "name": "stderr",
     "output_type": "stream",
     "text": [
      "Finding Elimination Order: : : 0it [00:00, ?it/s]\n",
      "0it [00:00, ?it/s]\n"
     ]
    },
    {
     "name": "stdout",
     "output_type": "stream",
     "text": [
      "Evidence for index 110: {'Age': 23.0, 'Number of sexual partners': 2.0, 'First sexual intercourse': 19.0, 'Num of pregnancies': 2.0, 'Smokes': 0.0, 'Smokes (years)': 0.0, 'Smokes (packs/year)': 0.0, 'Hormonal Contraceptives': 1.0, 'Hormonal Contraceptives (years)': 0.5, 'IUD': 0.0, 'IUD (years)': 0.0, 'STDs': 0.0, 'STDs (number)': 0.0, 'STDs:condylomatosis': 0.0, 'STDs:cervical condylomatosis': 0.0, 'STDs:vaginal condylomatosis': 0.0, 'STDs:vulvo-perineal condylomatosis': 0.0, 'STDs:syphilis': 0.0, 'STDs:AIDS': 0.0, 'STDs:HIV': 0.0, 'STDs:Hepatitis B': 0.0, 'STDs:HPV': 0.0, 'STDs: Number of diagnosis': 0.0, 'Hinselmann': 0.0, 'Schiller': 0.0, 'Citology': 0.0, 'Biopsy': 0.0}\n"
     ]
    },
    {
     "name": "stderr",
     "output_type": "stream",
     "text": [
      "Finding Elimination Order: : : 0it [00:00, ?it/s]\n",
      "0it [00:00, ?it/s]\n"
     ]
    },
    {
     "name": "stdout",
     "output_type": "stream",
     "text": [
      "Evidence for index 111: {'Age': 23.0, 'Number of sexual partners': 1.0, 'First sexual intercourse': 19.0, 'Num of pregnancies': 1.0, 'Smokes': 0.0, 'Smokes (years)': 0.0, 'Smokes (packs/year)': 0.0, 'Hormonal Contraceptives': 0.0, 'Hormonal Contraceptives (years)': 0.0, 'IUD': 0.0, 'IUD (years)': 0.0, 'STDs': 0.0, 'STDs (number)': 0.0, 'STDs:condylomatosis': 0.0, 'STDs:cervical condylomatosis': 0.0, 'STDs:vaginal condylomatosis': 0.0, 'STDs:vulvo-perineal condylomatosis': 0.0, 'STDs:syphilis': 0.0, 'STDs:AIDS': 0.0, 'STDs:HIV': 0.0, 'STDs:Hepatitis B': 0.0, 'STDs:HPV': 0.0, 'STDs: Number of diagnosis': 0.0, 'Hinselmann': 0.0, 'Schiller': 0.0, 'Citology': 0.0, 'Biopsy': 0.0}\n"
     ]
    },
    {
     "name": "stderr",
     "output_type": "stream",
     "text": [
      "Finding Elimination Order: : : 0it [00:00, ?it/s]\n",
      "0it [00:00, ?it/s]\n"
     ]
    },
    {
     "name": "stdout",
     "output_type": "stream",
     "text": [
      "Evidence for index 112: {'Age': 33.0, 'Number of sexual partners': 1.0, 'First sexual intercourse': 29.0, 'Num of pregnancies': 2.0, 'Smokes': 0.0, 'Smokes (years)': 0.0, 'Smokes (packs/year)': 0.0, 'Hormonal Contraceptives': 1.0, 'Hormonal Contraceptives (years)': 0.5, 'IUD': 0.0, 'IUD (years)': 0.0, 'STDs': 0.0, 'STDs (number)': 0.0, 'STDs:condylomatosis': 0.0, 'STDs:cervical condylomatosis': 0.0, 'STDs:vaginal condylomatosis': 0.0, 'STDs:vulvo-perineal condylomatosis': 0.0, 'STDs:syphilis': 0.0, 'STDs:AIDS': 0.0, 'STDs:HIV': 0.0, 'STDs:Hepatitis B': 0.0, 'STDs:HPV': 0.0, 'STDs: Number of diagnosis': 0.0, 'Hinselmann': 0.0, 'Schiller': 1.0, 'Citology': 1.0, 'Biopsy': 1.0}\n"
     ]
    },
    {
     "name": "stderr",
     "output_type": "stream",
     "text": [
      "Finding Elimination Order: : : 0it [00:00, ?it/s]\n",
      "0it [00:00, ?it/s]\n",
      "WARNING:pgmpy:Found unknown state name. Trying to switch to using all state names as state numbers\n"
     ]
    },
    {
     "name": "stdout",
     "output_type": "stream",
     "text": [
      "Evidence for index 113: {'Age': 20.0, 'Number of sexual partners': 2.0, 'First sexual intercourse': 18.0, 'Num of pregnancies': 1.0, 'Smokes': 1.0, 'Smokes (years)': 13.0, 'Smokes (packs/year)': 7.0, 'Hormonal Contraceptives': 0.0, 'Hormonal Contraceptives (years)': 0.0, 'IUD': 0.0, 'IUD (years)': 0.0, 'STDs': 1.0, 'STDs (number)': 2.0, 'STDs:condylomatosis': 0.0, 'STDs:cervical condylomatosis': 0.0, 'STDs:vaginal condylomatosis': 0.0, 'STDs:vulvo-perineal condylomatosis': 0.0, 'STDs:syphilis': 0.0, 'STDs:AIDS': 0.0, 'STDs:HIV': 1.0, 'STDs:Hepatitis B': 1.0, 'STDs:HPV': 0.0, 'STDs: Number of diagnosis': 1.0, 'Hinselmann': 0.0, 'Schiller': 0.0, 'Citology': 0.0, 'Biopsy': 0.0}\n",
      "Error predicting for index 113: only integers, slices (`:`), ellipsis (`...`), numpy.newaxis (`None`) and integer or boolean arrays are valid indices\n",
      "Evidence for index 114: {'Age': 29.0, 'Number of sexual partners': 5.0, 'First sexual intercourse': 20.0, 'Num of pregnancies': 1.0, 'Smokes': 0.0, 'Smokes (years)': 0.0, 'Smokes (packs/year)': 0.0, 'Hormonal Contraceptives': 1.0, 'Hormonal Contraceptives (years)': 3.0, 'IUD': 0.0, 'IUD (years)': 0.0, 'STDs': 1.0, 'STDs (number)': 2.0, 'STDs:condylomatosis': 1.0, 'STDs:cervical condylomatosis': 0.0, 'STDs:vaginal condylomatosis': 0.0, 'STDs:vulvo-perineal condylomatosis': 1.0, 'STDs:syphilis': 0.0, 'STDs:AIDS': 0.0, 'STDs:HIV': 0.0, 'STDs:Hepatitis B': 0.0, 'STDs:HPV': 0.0, 'STDs: Number of diagnosis': 1.0, 'Hinselmann': 0.0, 'Schiller': 0.0, 'Citology': 0.0, 'Biopsy': 0.0}\n"
     ]
    },
    {
     "name": "stderr",
     "output_type": "stream",
     "text": [
      "Finding Elimination Order: : : 0it [00:00, ?it/s]\n",
      "0it [00:00, ?it/s]\n"
     ]
    },
    {
     "name": "stdout",
     "output_type": "stream",
     "text": [
      "Evidence for index 115: {'Age': 29.0, 'Number of sexual partners': 4.0, 'First sexual intercourse': 18.0, 'Num of pregnancies': 3.0, 'Smokes': 0.0, 'Smokes (years)': 0.0, 'Smokes (packs/year)': 0.0, 'Hormonal Contraceptives': 1.0, 'Hormonal Contraceptives (years)': 1.0, 'IUD': 0.0, 'IUD (years)': 0.0, 'STDs': 0.0, 'STDs (number)': 0.0, 'STDs:condylomatosis': 0.0, 'STDs:cervical condylomatosis': 0.0, 'STDs:vaginal condylomatosis': 0.0, 'STDs:vulvo-perineal condylomatosis': 0.0, 'STDs:syphilis': 0.0, 'STDs:AIDS': 0.0, 'STDs:HIV': 0.0, 'STDs:Hepatitis B': 0.0, 'STDs:HPV': 0.0, 'STDs: Number of diagnosis': 0.0, 'Hinselmann': 0.0, 'Schiller': 0.0, 'Citology': 0.0, 'Biopsy': 0.0}\n"
     ]
    },
    {
     "name": "stderr",
     "output_type": "stream",
     "text": [
      "Finding Elimination Order: : : 0it [00:00, ?it/s]\n",
      "0it [00:00, ?it/s]\n"
     ]
    },
    {
     "name": "stdout",
     "output_type": "stream",
     "text": [
      "Evidence for index 116: {'Age': 26.0, 'Number of sexual partners': 2.0, 'First sexual intercourse': 20.0, 'Num of pregnancies': 2.0, 'Smokes': 0.0, 'Smokes (years)': 0.0, 'Smokes (packs/year)': 0.0, 'Hormonal Contraceptives': 1.0, 'Hormonal Contraceptives (years)': 6.0, 'IUD': 0.0, 'IUD (years)': 0.0, 'STDs': 0.0, 'STDs (number)': 0.0, 'STDs:condylomatosis': 0.0, 'STDs:cervical condylomatosis': 0.0, 'STDs:vaginal condylomatosis': 0.0, 'STDs:vulvo-perineal condylomatosis': 0.0, 'STDs:syphilis': 0.0, 'STDs:AIDS': 0.0, 'STDs:HIV': 0.0, 'STDs:Hepatitis B': 0.0, 'STDs:HPV': 0.0, 'STDs: Number of diagnosis': 0.0, 'Hinselmann': 0.0, 'Schiller': 0.0, 'Citology': 0.0, 'Biopsy': 0.0}\n"
     ]
    },
    {
     "name": "stderr",
     "output_type": "stream",
     "text": [
      "Finding Elimination Order: : : 0it [00:00, ?it/s]\n",
      "0it [00:00, ?it/s]\n",
      "WARNING:pgmpy:Found unknown state name. Trying to switch to using all state names as state numbers\n"
     ]
    },
    {
     "name": "stdout",
     "output_type": "stream",
     "text": [
      "Evidence for index 117: {'Age': 35.0, 'Number of sexual partners': 3.0, 'First sexual intercourse': 17.0, 'Num of pregnancies': 3.0, 'Smokes': 1.0, 'Smokes (years)': 20.0, 'Smokes (packs/year)': 2.0, 'Hormonal Contraceptives': 1.0, 'Hormonal Contraceptives (years)': 2.0, 'IUD': 0.0, 'IUD (years)': 0.0, 'STDs': 0.0, 'STDs (number)': 0.0, 'STDs:condylomatosis': 0.0, 'STDs:cervical condylomatosis': 0.0, 'STDs:vaginal condylomatosis': 0.0, 'STDs:vulvo-perineal condylomatosis': 0.0, 'STDs:syphilis': 0.0, 'STDs:AIDS': 0.0, 'STDs:HIV': 0.0, 'STDs:Hepatitis B': 0.0, 'STDs:HPV': 0.0, 'STDs: Number of diagnosis': 0.0, 'Hinselmann': 0.0, 'Schiller': 0.0, 'Citology': 0.0, 'Biopsy': 0.0}\n",
      "Error predicting for index 117: only integers, slices (`:`), ellipsis (`...`), numpy.newaxis (`None`) and integer or boolean arrays are valid indices\n",
      "Evidence for index 118: {'Age': 40.0, 'Number of sexual partners': 3.0, 'First sexual intercourse': 18.0, 'Num of pregnancies': 2.0, 'Smokes': 0.0, 'Smokes (years)': 0.0, 'Smokes (packs/year)': 0.0, 'Hormonal Contraceptives': 1.0, 'Hormonal Contraceptives (years)': 15.0, 'IUD': 0.0, 'IUD (years)': 0.0, 'STDs': 0.0, 'STDs (number)': 0.0, 'STDs:condylomatosis': 0.0, 'STDs:cervical condylomatosis': 0.0, 'STDs:vaginal condylomatosis': 0.0, 'STDs:vulvo-perineal condylomatosis': 0.0, 'STDs:syphilis': 0.0, 'STDs:AIDS': 0.0, 'STDs:HIV': 0.0, 'STDs:Hepatitis B': 0.0, 'STDs:HPV': 0.0, 'STDs: Number of diagnosis': 0.0, 'Hinselmann': 0.0, 'Schiller': 0.0, 'Citology': 0.0, 'Biopsy': 0.0}\n"
     ]
    },
    {
     "name": "stderr",
     "output_type": "stream",
     "text": [
      "Finding Elimination Order: : : 0it [00:00, ?it/s]\n",
      "0it [00:00, ?it/s]\n",
      "WARNING:pgmpy:Found unknown state name. Trying to switch to using all state names as state numbers\n"
     ]
    },
    {
     "name": "stdout",
     "output_type": "stream",
     "text": [
      "Evidence for index 119: {'Age': 19.0, 'Number of sexual partners': 2.0, 'First sexual intercourse': 16.0, 'Smokes': 1.0, 'Smokes (years)': 1.0, 'Smokes (packs/year)': 0.04, 'STDs: Number of diagnosis': 0.0, 'Hinselmann': 0.0, 'Schiller': 0.0, 'Citology': 0.0, 'Biopsy': 0.0}\n",
      "Error predicting for index 119: only integers, slices (`:`), ellipsis (`...`), numpy.newaxis (`None`) and integer or boolean arrays are valid indices\n",
      "Evidence for index 120: {'Age': 24.0, 'Number of sexual partners': 3.0, 'First sexual intercourse': 19.0, 'Num of pregnancies': 1.0, 'Smokes': 0.0, 'Smokes (years)': 0.0, 'Smokes (packs/year)': 0.0, 'Hormonal Contraceptives': 1.0, 'Hormonal Contraceptives (years)': 2.0, 'IUD': 0.0, 'IUD (years)': 0.0, 'STDs': 0.0, 'STDs (number)': 0.0, 'STDs:condylomatosis': 0.0, 'STDs:cervical condylomatosis': 0.0, 'STDs:vaginal condylomatosis': 0.0, 'STDs:vulvo-perineal condylomatosis': 0.0, 'STDs:syphilis': 0.0, 'STDs:AIDS': 0.0, 'STDs:HIV': 0.0, 'STDs:Hepatitis B': 0.0, 'STDs:HPV': 0.0, 'STDs: Number of diagnosis': 0.0, 'Hinselmann': 0.0, 'Schiller': 0.0, 'Citology': 0.0, 'Biopsy': 0.0}\n"
     ]
    },
    {
     "name": "stderr",
     "output_type": "stream",
     "text": [
      "Finding Elimination Order: : : 0it [00:00, ?it/s]\n",
      "0it [00:00, ?it/s]\n"
     ]
    },
    {
     "name": "stdout",
     "output_type": "stream",
     "text": [
      "Evidence for index 121: {'Age': 33.0, 'Number of sexual partners': 3.0, 'First sexual intercourse': 17.0, 'Num of pregnancies': 6.0, 'Smokes': 0.0, 'Smokes (years)': 0.0, 'Smokes (packs/year)': 0.0, 'Hormonal Contraceptives': 0.0, 'Hormonal Contraceptives (years)': 0.0, 'IUD': 0.0, 'IUD (years)': 0.0, 'STDs': 0.0, 'STDs (number)': 0.0, 'STDs:condylomatosis': 0.0, 'STDs:cervical condylomatosis': 0.0, 'STDs:vaginal condylomatosis': 0.0, 'STDs:vulvo-perineal condylomatosis': 0.0, 'STDs:syphilis': 0.0, 'STDs:AIDS': 0.0, 'STDs:HIV': 0.0, 'STDs:Hepatitis B': 0.0, 'STDs:HPV': 0.0, 'STDs: Number of diagnosis': 0.0, 'Hinselmann': 0.0, 'Schiller': 0.0, 'Citology': 0.0, 'Biopsy': 0.0}\n"
     ]
    },
    {
     "name": "stderr",
     "output_type": "stream",
     "text": [
      "Finding Elimination Order: : : 0it [00:00, ?it/s]\n",
      "0it [00:00, ?it/s]\n"
     ]
    },
    {
     "name": "stdout",
     "output_type": "stream",
     "text": [
      "Evidence for index 122: {'Age': 20.0, 'First sexual intercourse': 16.0, 'Num of pregnancies': 1.0, 'Smokes': 0.0, 'Smokes (years)': 0.0, 'Smokes (packs/year)': 0.0, 'Hormonal Contraceptives': 0.0, 'Hormonal Contraceptives (years)': 0.0, 'IUD': 0.0, 'IUD (years)': 0.0, 'STDs': 0.0, 'STDs (number)': 0.0, 'STDs:condylomatosis': 0.0, 'STDs:cervical condylomatosis': 0.0, 'STDs:vaginal condylomatosis': 0.0, 'STDs:vulvo-perineal condylomatosis': 0.0, 'STDs:syphilis': 0.0, 'STDs:AIDS': 0.0, 'STDs:HIV': 0.0, 'STDs:Hepatitis B': 0.0, 'STDs:HPV': 0.0, 'STDs: Number of diagnosis': 0.0, 'Hinselmann': 0.0, 'Schiller': 0.0, 'Citology': 0.0, 'Biopsy': 0.0}\n"
     ]
    },
    {
     "name": "stderr",
     "output_type": "stream",
     "text": [
      "Finding Elimination Order: : : 0it [00:00, ?it/s]\n",
      "0it [00:00, ?it/s]\n"
     ]
    },
    {
     "name": "stdout",
     "output_type": "stream",
     "text": [
      "Evidence for index 123: {'Age': 19.0, 'Number of sexual partners': 3.0, 'First sexual intercourse': 15.0, 'Num of pregnancies': 2.0, 'Smokes': 0.0, 'Smokes (years)': 0.0, 'Smokes (packs/year)': 0.0, 'Hormonal Contraceptives': 0.0, 'Hormonal Contraceptives (years)': 0.0, 'IUD': 0.0, 'IUD (years)': 0.0, 'STDs': 0.0, 'STDs (number)': 0.0, 'STDs:condylomatosis': 0.0, 'STDs:cervical condylomatosis': 0.0, 'STDs:vaginal condylomatosis': 0.0, 'STDs:vulvo-perineal condylomatosis': 0.0, 'STDs:syphilis': 0.0, 'STDs:AIDS': 0.0, 'STDs:HIV': 0.0, 'STDs:Hepatitis B': 0.0, 'STDs:HPV': 0.0, 'STDs: Number of diagnosis': 0.0, 'Hinselmann': 0.0, 'Schiller': 0.0, 'Citology': 0.0, 'Biopsy': 0.0}\n"
     ]
    },
    {
     "name": "stderr",
     "output_type": "stream",
     "text": [
      "Finding Elimination Order: : : 0it [00:00, ?it/s]\n",
      "0it [00:00, ?it/s]\n"
     ]
    },
    {
     "name": "stdout",
     "output_type": "stream",
     "text": [
      "Evidence for index 124: {'Age': 16.0, 'Number of sexual partners': 1.0, 'First sexual intercourse': 13.0, 'Num of pregnancies': 2.0, 'IUD': 0.0, 'IUD (years)': 0.0, 'STDs': 0.0, 'STDs (number)': 0.0, 'STDs:condylomatosis': 0.0, 'STDs:cervical condylomatosis': 0.0, 'STDs:vaginal condylomatosis': 0.0, 'STDs:vulvo-perineal condylomatosis': 0.0, 'STDs:syphilis': 0.0, 'STDs:AIDS': 0.0, 'STDs:HIV': 0.0, 'STDs:Hepatitis B': 0.0, 'STDs:HPV': 0.0, 'STDs: Number of diagnosis': 0.0, 'Hinselmann': 0.0, 'Schiller': 0.0, 'Citology': 0.0, 'Biopsy': 0.0}\n"
     ]
    },
    {
     "name": "stderr",
     "output_type": "stream",
     "text": [
      "Finding Elimination Order: : : 0it [00:00, ?it/s]\n",
      "0it [00:00, ?it/s]\n"
     ]
    },
    {
     "name": "stdout",
     "output_type": "stream",
     "text": [
      "Evidence for index 125: {'Age': 23.0, 'Number of sexual partners': 1.0, 'First sexual intercourse': 19.0, 'Num of pregnancies': 2.0, 'Smokes': 0.0, 'Smokes (years)': 0.0, 'Smokes (packs/year)': 0.0, 'STDs: Number of diagnosis': 0.0, 'Hinselmann': 0.0, 'Schiller': 0.0, 'Citology': 0.0, 'Biopsy': 0.0}\n"
     ]
    },
    {
     "name": "stderr",
     "output_type": "stream",
     "text": [
      "Finding Elimination Order: : 100%|██████████| 9/9 [00:00<00:00, 4479.50it/s]\n",
      "Eliminating: STDs:AIDS: 100%|██████████| 9/9 [00:00<00:00, 1285.06it/s]               \n"
     ]
    },
    {
     "name": "stdout",
     "output_type": "stream",
     "text": [
      "Evidence for index 126: {'Age': 14.0, 'Number of sexual partners': 1.0, 'First sexual intercourse': 14.0, 'Num of pregnancies': 2.0, 'Smokes': 0.0, 'Smokes (years)': 0.0, 'Smokes (packs/year)': 0.0, 'Hormonal Contraceptives': 0.0, 'Hormonal Contraceptives (years)': 0.0, 'IUD': 0.0, 'IUD (years)': 0.0, 'STDs': 0.0, 'STDs (number)': 0.0, 'STDs:condylomatosis': 0.0, 'STDs:cervical condylomatosis': 0.0, 'STDs:vaginal condylomatosis': 0.0, 'STDs:vulvo-perineal condylomatosis': 0.0, 'STDs:syphilis': 0.0, 'STDs:AIDS': 0.0, 'STDs:HIV': 0.0, 'STDs:Hepatitis B': 0.0, 'STDs:HPV': 0.0, 'STDs: Number of diagnosis': 0.0, 'Hinselmann': 0.0, 'Schiller': 0.0, 'Citology': 0.0, 'Biopsy': 0.0}\n"
     ]
    },
    {
     "name": "stderr",
     "output_type": "stream",
     "text": [
      "Finding Elimination Order: : : 0it [00:00, ?it/s]\n",
      "0it [00:00, ?it/s]\n"
     ]
    },
    {
     "name": "stdout",
     "output_type": "stream",
     "text": [
      "Evidence for index 127: {'Age': 39.0, 'Number of sexual partners': 1.0, 'First sexual intercourse': 18.0, 'Num of pregnancies': 4.0, 'Smokes': 0.0, 'Smokes (years)': 0.0, 'Smokes (packs/year)': 0.0, 'Hormonal Contraceptives': 1.0, 'Hormonal Contraceptives (years)': 8.0, 'IUD': 1.0, 'IUD (years)': 3.0, 'STDs': 0.0, 'STDs (number)': 0.0, 'STDs:condylomatosis': 0.0, 'STDs:cervical condylomatosis': 0.0, 'STDs:vaginal condylomatosis': 0.0, 'STDs:vulvo-perineal condylomatosis': 0.0, 'STDs:syphilis': 0.0, 'STDs:AIDS': 0.0, 'STDs:HIV': 0.0, 'STDs:Hepatitis B': 0.0, 'STDs:HPV': 0.0, 'STDs: Number of diagnosis': 0.0, 'Hinselmann': 0.0, 'Schiller': 1.0, 'Citology': 0.0, 'Biopsy': 0.0}\n"
     ]
    },
    {
     "name": "stderr",
     "output_type": "stream",
     "text": [
      "Finding Elimination Order: : : 0it [00:00, ?it/s]\n",
      "0it [00:00, ?it/s]\n"
     ]
    },
    {
     "name": "stdout",
     "output_type": "stream",
     "text": [
      "Evidence for index 128: {'Age': 34.0, 'Number of sexual partners': 3.0, 'First sexual intercourse': 15.0, 'Num of pregnancies': 7.0, 'Smokes': 0.0, 'Smokes (years)': 0.0, 'Smokes (packs/year)': 0.0, 'Hormonal Contraceptives': 1.0, 'Hormonal Contraceptives (years)': 0.08, 'IUD': 0.0, 'IUD (years)': 0.0, 'STDs': 0.0, 'STDs (number)': 0.0, 'STDs:condylomatosis': 0.0, 'STDs:cervical condylomatosis': 0.0, 'STDs:vaginal condylomatosis': 0.0, 'STDs:vulvo-perineal condylomatosis': 0.0, 'STDs:syphilis': 0.0, 'STDs:AIDS': 0.0, 'STDs:HIV': 0.0, 'STDs:Hepatitis B': 0.0, 'STDs:HPV': 0.0, 'STDs: Number of diagnosis': 0.0, 'Hinselmann': 0.0, 'Schiller': 0.0, 'Citology': 0.0, 'Biopsy': 0.0}\n"
     ]
    },
    {
     "name": "stderr",
     "output_type": "stream",
     "text": [
      "Finding Elimination Order: : : 0it [00:00, ?it/s]\n",
      "0it [00:00, ?it/s]\n"
     ]
    },
    {
     "name": "stdout",
     "output_type": "stream",
     "text": [
      "Evidence for index 129: {'Age': 21.0, 'Number of sexual partners': 1.0, 'First sexual intercourse': 18.0, 'Num of pregnancies': 1.0, 'Smokes': 0.0, 'Smokes (years)': 0.0, 'Smokes (packs/year)': 0.0, 'Hormonal Contraceptives': 1.0, 'Hormonal Contraceptives (years)': 4.0, 'IUD': 0.0, 'IUD (years)': 0.0, 'STDs': 0.0, 'STDs (number)': 0.0, 'STDs:condylomatosis': 0.0, 'STDs:cervical condylomatosis': 0.0, 'STDs:vaginal condylomatosis': 0.0, 'STDs:vulvo-perineal condylomatosis': 0.0, 'STDs:syphilis': 0.0, 'STDs:AIDS': 0.0, 'STDs:HIV': 0.0, 'STDs:Hepatitis B': 0.0, 'STDs:HPV': 0.0, 'STDs: Number of diagnosis': 0.0, 'Hinselmann': 0.0, 'Schiller': 0.0, 'Citology': 0.0, 'Biopsy': 0.0}\n"
     ]
    },
    {
     "name": "stderr",
     "output_type": "stream",
     "text": [
      "Finding Elimination Order: : : 0it [00:00, ?it/s]\n",
      "0it [00:00, ?it/s]\n"
     ]
    },
    {
     "name": "stdout",
     "output_type": "stream",
     "text": [
      "Evidence for index 130: {'Age': 23.0, 'Number of sexual partners': 3.0, 'First sexual intercourse': 16.0, 'Num of pregnancies': 1.0, 'Smokes': 0.0, 'Smokes (years)': 0.0, 'Smokes (packs/year)': 0.0, 'Hormonal Contraceptives': 0.0, 'Hormonal Contraceptives (years)': 0.0, 'IUD': 0.0, 'IUD (years)': 0.0, 'STDs': 0.0, 'STDs (number)': 0.0, 'STDs:condylomatosis': 0.0, 'STDs:cervical condylomatosis': 0.0, 'STDs:vaginal condylomatosis': 0.0, 'STDs:vulvo-perineal condylomatosis': 0.0, 'STDs:syphilis': 0.0, 'STDs:AIDS': 0.0, 'STDs:HIV': 0.0, 'STDs:Hepatitis B': 0.0, 'STDs:HPV': 0.0, 'STDs: Number of diagnosis': 0.0, 'Hinselmann': 0.0, 'Schiller': 0.0, 'Citology': 0.0, 'Biopsy': 0.0}\n"
     ]
    },
    {
     "name": "stderr",
     "output_type": "stream",
     "text": [
      "Finding Elimination Order: : : 0it [00:00, ?it/s]\n",
      "0it [00:00, ?it/s]\n"
     ]
    },
    {
     "name": "stdout",
     "output_type": "stream",
     "text": [
      "Evidence for index 131: {'Age': 19.0, 'Number of sexual partners': 1.0, 'First sexual intercourse': 17.0, 'Num of pregnancies': 1.0, 'Smokes': 1.0, 'Smokes (years)': 7.0, 'Smokes (packs/year)': 12.0, 'Hormonal Contraceptives': 1.0, 'Hormonal Contraceptives (years)': 1.0, 'IUD': 0.0, 'IUD (years)': 0.0, 'STDs': 0.0, 'STDs (number)': 0.0, 'STDs:condylomatosis': 0.0, 'STDs:cervical condylomatosis': 0.0, 'STDs:vaginal condylomatosis': 0.0, 'STDs:vulvo-perineal condylomatosis': 0.0, 'STDs:syphilis': 0.0, 'STDs:AIDS': 0.0, 'STDs:HIV': 0.0, 'STDs:Hepatitis B': 0.0, 'STDs:HPV': 0.0, 'STDs: Number of diagnosis': 0.0, 'Hinselmann': 0.0, 'Schiller': 0.0, 'Citology': 0.0, 'Biopsy': 0.0}\n"
     ]
    },
    {
     "name": "stderr",
     "output_type": "stream",
     "text": [
      "Finding Elimination Order: : : 0it [00:00, ?it/s]\n",
      "0it [00:00, ?it/s]\n"
     ]
    },
    {
     "name": "stdout",
     "output_type": "stream",
     "text": [
      "Evidence for index 132: {'Age': 20.0, 'Number of sexual partners': 3.0, 'First sexual intercourse': 18.0, 'Num of pregnancies': 1.0, 'Smokes': 0.0, 'Smokes (years)': 0.0, 'Smokes (packs/year)': 0.0, 'STDs: Number of diagnosis': 0.0, 'Hinselmann': 0.0, 'Schiller': 0.0, 'Citology': 0.0, 'Biopsy': 0.0}\n"
     ]
    },
    {
     "name": "stderr",
     "output_type": "stream",
     "text": [
      "Finding Elimination Order: : 100%|██████████| 9/9 [00:00<00:00, 8994.22it/s]\n",
      "Eliminating: STDs:AIDS: 100%|██████████| 9/9 [00:00<00:00, 1285.28it/s]               \n"
     ]
    },
    {
     "name": "stdout",
     "output_type": "stream",
     "text": [
      "Evidence for index 133: {'Age': 28.0, 'Number of sexual partners': 5.0, 'First sexual intercourse': 14.0, 'Num of pregnancies': 4.0, 'Smokes': 0.0, 'Smokes (years)': 0.0, 'Smokes (packs/year)': 0.0, 'Hormonal Contraceptives': 1.0, 'Hormonal Contraceptives (years)': 3.0, 'IUD': 0.0, 'IUD (years)': 0.0, 'STDs': 0.0, 'STDs (number)': 0.0, 'STDs:condylomatosis': 0.0, 'STDs:cervical condylomatosis': 0.0, 'STDs:vaginal condylomatosis': 0.0, 'STDs:vulvo-perineal condylomatosis': 0.0, 'STDs:syphilis': 0.0, 'STDs:AIDS': 0.0, 'STDs:HIV': 0.0, 'STDs:Hepatitis B': 0.0, 'STDs:HPV': 0.0, 'STDs: Number of diagnosis': 0.0, 'Hinselmann': 0.0, 'Schiller': 0.0, 'Citology': 0.0, 'Biopsy': 1.0}\n"
     ]
    },
    {
     "name": "stderr",
     "output_type": "stream",
     "text": [
      "Finding Elimination Order: : : 0it [00:00, ?it/s]\n",
      "0it [00:00, ?it/s]\n"
     ]
    },
    {
     "name": "stdout",
     "output_type": "stream",
     "text": [
      "Evidence for index 134: {'Age': 26.0, 'Number of sexual partners': 5.0, 'First sexual intercourse': 18.0, 'Smokes': 0.0, 'Smokes (years)': 0.0, 'Smokes (packs/year)': 0.0, 'Hormonal Contraceptives': 1.0, 'Hormonal Contraceptives (years)': 1.0, 'STDs': 0.0, 'STDs (number)': 0.0, 'STDs:condylomatosis': 0.0, 'STDs:cervical condylomatosis': 0.0, 'STDs:vaginal condylomatosis': 0.0, 'STDs:vulvo-perineal condylomatosis': 0.0, 'STDs:syphilis': 0.0, 'STDs:AIDS': 0.0, 'STDs:HIV': 0.0, 'STDs:Hepatitis B': 0.0, 'STDs:HPV': 0.0, 'STDs: Number of diagnosis': 0.0, 'Hinselmann': 0.0, 'Schiller': 0.0, 'Citology': 0.0, 'Biopsy': 0.0}\n"
     ]
    },
    {
     "name": "stderr",
     "output_type": "stream",
     "text": [
      "Finding Elimination Order: : 100%|██████████| 2/2 [00:00<00:00, 2002.53it/s]\n",
      "Eliminating: IUD: 100%|██████████| 2/2 [00:00<00:00, 999.60it/s]      \n"
     ]
    },
    {
     "name": "stdout",
     "output_type": "stream",
     "text": [
      "Evidence for index 135: {'Age': 26.0, 'Number of sexual partners': 2.0, 'First sexual intercourse': 19.0, 'Num of pregnancies': 1.0, 'STDs': 0.0, 'STDs (number)': 0.0, 'STDs:condylomatosis': 0.0, 'STDs:cervical condylomatosis': 0.0, 'STDs:vaginal condylomatosis': 0.0, 'STDs:vulvo-perineal condylomatosis': 0.0, 'STDs:syphilis': 0.0, 'STDs:AIDS': 0.0, 'STDs:HIV': 0.0, 'STDs:Hepatitis B': 0.0, 'STDs:HPV': 0.0, 'STDs: Number of diagnosis': 0.0, 'Hinselmann': 0.0, 'Schiller': 0.0, 'Citology': 0.0, 'Biopsy': 0.0}\n"
     ]
    },
    {
     "name": "stderr",
     "output_type": "stream",
     "text": [
      "Finding Elimination Order: : 100%|██████████| 2/2 [00:00<00:00, 2001.58it/s]\n",
      "Eliminating: IUD: 100%|██████████| 2/2 [00:00<00:00, 666.50it/s]\n"
     ]
    },
    {
     "name": "stdout",
     "output_type": "stream",
     "text": [
      "Evidence for index 136: {'Age': 37.0, 'Number of sexual partners': 3.0, 'First sexual intercourse': 17.0, 'Num of pregnancies': 5.0, 'Smokes': 0.0, 'Smokes (years)': 0.0, 'Smokes (packs/year)': 0.0, 'Hormonal Contraceptives': 1.0, 'Hormonal Contraceptives (years)': 1.0, 'IUD': 1.0, 'IUD (years)': 0.5, 'STDs': 0.0, 'STDs (number)': 0.0, 'STDs:condylomatosis': 0.0, 'STDs:cervical condylomatosis': 0.0, 'STDs:vaginal condylomatosis': 0.0, 'STDs:vulvo-perineal condylomatosis': 0.0, 'STDs:syphilis': 0.0, 'STDs:AIDS': 0.0, 'STDs:HIV': 0.0, 'STDs:Hepatitis B': 0.0, 'STDs:HPV': 0.0, 'STDs: Number of diagnosis': 0.0, 'Hinselmann': 0.0, 'Schiller': 0.0, 'Citology': 0.0, 'Biopsy': 0.0}\n"
     ]
    },
    {
     "name": "stderr",
     "output_type": "stream",
     "text": [
      "Finding Elimination Order: : : 0it [00:00, ?it/s]\n",
      "0it [00:00, ?it/s]\n"
     ]
    },
    {
     "name": "stdout",
     "output_type": "stream",
     "text": [
      "Evidence for index 137: {'Age': 17.0, 'Number of sexual partners': 2.0, 'First sexual intercourse': 15.0, 'Num of pregnancies': 2.0, 'Smokes': 0.0, 'Smokes (years)': 0.0, 'Smokes (packs/year)': 0.0, 'STDs: Number of diagnosis': 0.0, 'Hinselmann': 0.0, 'Schiller': 0.0, 'Citology': 0.0, 'Biopsy': 0.0}\n"
     ]
    },
    {
     "name": "stderr",
     "output_type": "stream",
     "text": [
      "Finding Elimination Order: : 100%|██████████| 9/9 [00:00<00:00, 8979.24it/s]\n",
      "Eliminating: STDs:AIDS: 100%|██████████| 9/9 [00:00<00:00, 1285.41it/s]               \n"
     ]
    },
    {
     "name": "stdout",
     "output_type": "stream",
     "text": [
      "Evidence for index 138: {'Age': 19.0, 'Number of sexual partners': 1.0, 'First sexual intercourse': 14.0, 'Num of pregnancies': 2.0, 'Smokes': 0.0, 'Smokes (years)': 0.0, 'Smokes (packs/year)': 0.0, 'Hormonal Contraceptives': 1.0, 'Hormonal Contraceptives (years)': 1.5, 'IUD': 0.0, 'IUD (years)': 0.0, 'STDs': 0.0, 'STDs (number)': 0.0, 'STDs:condylomatosis': 0.0, 'STDs:cervical condylomatosis': 0.0, 'STDs:vaginal condylomatosis': 0.0, 'STDs:vulvo-perineal condylomatosis': 0.0, 'STDs:syphilis': 0.0, 'STDs:AIDS': 0.0, 'STDs:HIV': 0.0, 'STDs:Hepatitis B': 0.0, 'STDs:HPV': 0.0, 'STDs: Number of diagnosis': 0.0, 'Hinselmann': 0.0, 'Schiller': 0.0, 'Citology': 0.0, 'Biopsy': 0.0}\n"
     ]
    },
    {
     "name": "stderr",
     "output_type": "stream",
     "text": [
      "Finding Elimination Order: : : 0it [00:00, ?it/s]\n",
      "0it [00:00, ?it/s]\n",
      "WARNING:pgmpy:Found unknown state name. Trying to switch to using all state names as state numbers\n"
     ]
    },
    {
     "name": "stdout",
     "output_type": "stream",
     "text": [
      "Evidence for index 139: {'Age': 25.0, 'Number of sexual partners': 2.0, 'First sexual intercourse': 14.0, 'Num of pregnancies': 3.0, 'Smokes': 1.0, 'Smokes (years)': 5.0, 'Smokes (packs/year)': 0.4, 'Hormonal Contraceptives': 1.0, 'Hormonal Contraceptives (years)': 7.0, 'IUD': 0.0, 'IUD (years)': 0.0, 'STDs': 0.0, 'STDs (number)': 0.0, 'STDs:condylomatosis': 0.0, 'STDs:cervical condylomatosis': 0.0, 'STDs:vaginal condylomatosis': 0.0, 'STDs:vulvo-perineal condylomatosis': 0.0, 'STDs:syphilis': 0.0, 'STDs:AIDS': 0.0, 'STDs:HIV': 0.0, 'STDs:Hepatitis B': 0.0, 'STDs:HPV': 0.0, 'STDs: Number of diagnosis': 0.0, 'Hinselmann': 0.0, 'Schiller': 0.0, 'Citology': 0.0, 'Biopsy': 0.0}\n",
      "Error predicting for index 139: only integers, slices (`:`), ellipsis (`...`), numpy.newaxis (`None`) and integer or boolean arrays are valid indices\n",
      "Evidence for index 140: {'Age': 39.0, 'Number of sexual partners': 2.0, 'First sexual intercourse': 17.0, 'Num of pregnancies': 4.0, 'Smokes': 0.0, 'Smokes (years)': 0.0, 'Smokes (packs/year)': 0.0, 'Hormonal Contraceptives': 1.0, 'Hormonal Contraceptives (years)': 1.0, 'IUD': 0.0, 'IUD (years)': 0.0, 'STDs': 0.0, 'STDs (number)': 0.0, 'STDs:condylomatosis': 0.0, 'STDs:cervical condylomatosis': 0.0, 'STDs:vaginal condylomatosis': 0.0, 'STDs:vulvo-perineal condylomatosis': 0.0, 'STDs:syphilis': 0.0, 'STDs:AIDS': 0.0, 'STDs:HIV': 0.0, 'STDs:Hepatitis B': 0.0, 'STDs:HPV': 0.0, 'STDs: Number of diagnosis': 0.0, 'Hinselmann': 0.0, 'Schiller': 0.0, 'Citology': 0.0, 'Biopsy': 0.0}\n"
     ]
    },
    {
     "name": "stderr",
     "output_type": "stream",
     "text": [
      "Finding Elimination Order: : : 0it [00:00, ?it/s]\n",
      "0it [00:00, ?it/s]\n"
     ]
    },
    {
     "name": "stdout",
     "output_type": "stream",
     "text": [
      "Evidence for index 141: {'Age': 41.0, 'Number of sexual partners': 1.0, 'First sexual intercourse': 17.0, 'Num of pregnancies': 3.0, 'Smokes': 0.0, 'Smokes (years)': 0.0, 'Smokes (packs/year)': 0.0, 'STDs: Number of diagnosis': 0.0, 'Hinselmann': 0.0, 'Schiller': 0.0, 'Citology': 0.0, 'Biopsy': 0.0}\n"
     ]
    },
    {
     "name": "stderr",
     "output_type": "stream",
     "text": [
      "Finding Elimination Order: : 100%|██████████| 9/9 [00:00<00:00, 4496.57it/s]\n",
      "Eliminating: STDs:AIDS: 100%|██████████| 9/9 [00:00<00:00, 1125.05it/s]               \n"
     ]
    },
    {
     "name": "stdout",
     "output_type": "stream",
     "text": [
      "Evidence for index 142: {'Age': 18.0, 'Number of sexual partners': 2.0, 'First sexual intercourse': 17.0, 'Num of pregnancies': 1.0, 'Smokes': 0.0, 'Smokes (years)': 0.0, 'Smokes (packs/year)': 0.0, 'Hormonal Contraceptives': 1.0, 'Hormonal Contraceptives (years)': 0.25, 'IUD': 0.0, 'IUD (years)': 0.0, 'STDs': 0.0, 'STDs (number)': 0.0, 'STDs:condylomatosis': 0.0, 'STDs:cervical condylomatosis': 0.0, 'STDs:vaginal condylomatosis': 0.0, 'STDs:vulvo-perineal condylomatosis': 0.0, 'STDs:syphilis': 0.0, 'STDs:AIDS': 0.0, 'STDs:HIV': 0.0, 'STDs:Hepatitis B': 0.0, 'STDs:HPV': 0.0, 'STDs: Number of diagnosis': 0.0, 'Hinselmann': 0.0, 'Schiller': 0.0, 'Citology': 0.0, 'Biopsy': 0.0}\n"
     ]
    },
    {
     "name": "stderr",
     "output_type": "stream",
     "text": [
      "Finding Elimination Order: : : 0it [00:00, ?it/s]\n",
      "0it [00:00, ?it/s]\n"
     ]
    },
    {
     "name": "stdout",
     "output_type": "stream",
     "text": [
      "Evidence for index 143: {'Age': 38.0, 'Number of sexual partners': 2.0, 'First sexual intercourse': 15.0, 'Num of pregnancies': 4.0, 'Smokes': 0.0, 'Smokes (years)': 0.0, 'Smokes (packs/year)': 0.0, 'Hormonal Contraceptives': 1.0, 'Hormonal Contraceptives (years)': 16.0, 'IUD': 0.0, 'IUD (years)': 0.0, 'STDs': 0.0, 'STDs (number)': 0.0, 'STDs:condylomatosis': 0.0, 'STDs:cervical condylomatosis': 0.0, 'STDs:vaginal condylomatosis': 0.0, 'STDs:vulvo-perineal condylomatosis': 0.0, 'STDs:syphilis': 0.0, 'STDs:AIDS': 0.0, 'STDs:HIV': 0.0, 'STDs:Hepatitis B': 0.0, 'STDs:HPV': 0.0, 'STDs: Number of diagnosis': 0.0, 'Hinselmann': 0.0, 'Schiller': 1.0, 'Citology': 0.0, 'Biopsy': 1.0}\n"
     ]
    },
    {
     "name": "stderr",
     "output_type": "stream",
     "text": [
      "Finding Elimination Order: : : 0it [00:00, ?it/s]\n",
      "0it [00:00, ?it/s]"
     ]
    },
    {
     "name": "stdout",
     "output_type": "stream",
     "text": [
      "Evidence for index 144: {'Age': 44.0, 'Number of sexual partners': 2.0, 'First sexual intercourse': 25.0, 'Num of pregnancies': 1.0, 'Smokes': 0.0, 'Smokes (years)': 0.0, 'Smokes (packs/year)': 0.0, 'Hormonal Contraceptives': 0.0, 'Hormonal Contraceptives (years)': 0.0, 'IUD': 0.0, 'IUD (years)': 0.0, 'STDs': 0.0, 'STDs (number)': 0.0, 'STDs:condylomatosis': 0.0, 'STDs:cervical condylomatosis': 0.0, 'STDs:vaginal condylomatosis': 0.0, 'STDs:vulvo-perineal condylomatosis': 0.0, 'STDs:syphilis': 0.0, 'STDs:AIDS': 0.0, 'STDs:HIV': 0.0, 'STDs:Hepatitis B': 0.0, 'STDs:HPV': 0.0, 'STDs: Number of diagnosis': 0.0, 'Hinselmann': 0.0, 'Schiller': 0.0, 'Citology': 0.0, 'Biopsy': 0.0}\n"
     ]
    },
    {
     "name": "stderr",
     "output_type": "stream",
     "text": [
      "\n",
      "Finding Elimination Order: : : 0it [00:00, ?it/s]\n",
      "0it [00:00, ?it/s]\n"
     ]
    },
    {
     "name": "stdout",
     "output_type": "stream",
     "text": [
      "Evidence for index 145: {'Age': 33.0, 'Number of sexual partners': 5.0, 'First sexual intercourse': 19.0, 'Num of pregnancies': 1.0, 'Smokes': 1.0, 'Smokes (years)': 4.0, 'Smokes (packs/year)': 0.5132021277, 'Hormonal Contraceptives': 1.0, 'Hormonal Contraceptives (years)': 2.282200521, 'IUD': 0.0, 'IUD (years)': 0.0, 'STDs': 0.0, 'STDs (number)': 0.0, 'STDs:condylomatosis': 0.0, 'STDs:cervical condylomatosis': 0.0, 'STDs:vaginal condylomatosis': 0.0, 'STDs:vulvo-perineal condylomatosis': 0.0, 'STDs:syphilis': 0.0, 'STDs:AIDS': 0.0, 'STDs:HIV': 0.0, 'STDs:Hepatitis B': 0.0, 'STDs:HPV': 0.0, 'STDs: Number of diagnosis': 0.0, 'Hinselmann': 0.0, 'Schiller': 0.0, 'Citology': 0.0, 'Biopsy': 0.0}\n"
     ]
    },
    {
     "name": "stderr",
     "output_type": "stream",
     "text": [
      "Finding Elimination Order: : : 0it [00:00, ?it/s]\n",
      "0it [00:00, ?it/s]\n",
      "WARNING:pgmpy:Found unknown state name. Trying to switch to using all state names as state numbers\n"
     ]
    },
    {
     "name": "stdout",
     "output_type": "stream",
     "text": [
      "Evidence for index 146: {'Age': 29.0, 'Number of sexual partners': 5.0, 'First sexual intercourse': 17.0, 'Num of pregnancies': 6.0, 'Smokes': 1.0, 'Smokes (years)': 1.266972909, 'Smokes (packs/year)': 1.3, 'Hormonal Contraceptives': 1.0, 'Hormonal Contraceptives (years)': 0.5, 'IUD': 0.0, 'IUD (years)': 0.0, 'STDs': 1.0, 'STDs (number)': 1.0, 'STDs:condylomatosis': 0.0, 'STDs:cervical condylomatosis': 0.0, 'STDs:vaginal condylomatosis': 0.0, 'STDs:vulvo-perineal condylomatosis': 0.0, 'STDs:syphilis': 1.0, 'STDs:AIDS': 0.0, 'STDs:HIV': 0.0, 'STDs:Hepatitis B': 0.0, 'STDs:HPV': 0.0, 'STDs: Number of diagnosis': 1.0, 'Hinselmann': 0.0, 'Schiller': 0.0, 'Citology': 0.0, 'Biopsy': 0.0}\n",
      "Error predicting for index 146: only integers, slices (`:`), ellipsis (`...`), numpy.newaxis (`None`) and integer or boolean arrays are valid indices\n",
      "Evidence for index 147: {'Age': 24.0, 'Number of sexual partners': 2.0, 'First sexual intercourse': 18.0, 'Num of pregnancies': 2.0, 'Smokes': 0.0, 'Smokes (years)': 0.0, 'Smokes (packs/year)': 0.0, 'Hormonal Contraceptives': 1.0, 'Hormonal Contraceptives (years)': 0.5, 'IUD': 0.0, 'IUD (years)': 0.0, 'STDs': 0.0, 'STDs (number)': 0.0, 'STDs:condylomatosis': 0.0, 'STDs:cervical condylomatosis': 0.0, 'STDs:vaginal condylomatosis': 0.0, 'STDs:vulvo-perineal condylomatosis': 0.0, 'STDs:syphilis': 0.0, 'STDs:AIDS': 0.0, 'STDs:HIV': 0.0, 'STDs:Hepatitis B': 0.0, 'STDs:HPV': 0.0, 'STDs: Number of diagnosis': 0.0, 'Hinselmann': 0.0, 'Schiller': 0.0, 'Citology': 0.0, 'Biopsy': 0.0}\n"
     ]
    },
    {
     "name": "stderr",
     "output_type": "stream",
     "text": [
      "Finding Elimination Order: : : 0it [00:00, ?it/s]\n",
      "0it [00:00, ?it/s]\n"
     ]
    },
    {
     "name": "stdout",
     "output_type": "stream",
     "text": [
      "Evidence for index 148: {'Age': 34.0, 'Number of sexual partners': 1.0, 'First sexual intercourse': 15.0, 'Num of pregnancies': 4.0, 'Smokes': 0.0, 'Smokes (years)': 0.0, 'Smokes (packs/year)': 0.0, 'Hormonal Contraceptives': 0.0, 'Hormonal Contraceptives (years)': 0.0, 'IUD': 0.0, 'IUD (years)': 0.0, 'STDs': 0.0, 'STDs (number)': 0.0, 'STDs:condylomatosis': 0.0, 'STDs:cervical condylomatosis': 0.0, 'STDs:vaginal condylomatosis': 0.0, 'STDs:vulvo-perineal condylomatosis': 0.0, 'STDs:syphilis': 0.0, 'STDs:AIDS': 0.0, 'STDs:HIV': 0.0, 'STDs:Hepatitis B': 0.0, 'STDs:HPV': 0.0, 'STDs: Number of diagnosis': 0.0, 'Hinselmann': 0.0, 'Schiller': 0.0, 'Citology': 0.0, 'Biopsy': 0.0}\n"
     ]
    },
    {
     "name": "stderr",
     "output_type": "stream",
     "text": [
      "Finding Elimination Order: : : 0it [00:00, ?it/s]\n",
      "0it [00:00, ?it/s]\n"
     ]
    },
    {
     "name": "stdout",
     "output_type": "stream",
     "text": [
      "Evidence for index 149: {'Age': 46.0, 'Number of sexual partners': 3.0, 'First sexual intercourse': 21.0, 'Num of pregnancies': 4.0, 'Smokes': 0.0, 'Smokes (years)': 0.0, 'Smokes (packs/year)': 0.0, 'Hormonal Contraceptives': 1.0, 'Hormonal Contraceptives (years)': 15.0, 'IUD': 0.0, 'IUD (years)': 0.0, 'STDs': 0.0, 'STDs (number)': 0.0, 'STDs:condylomatosis': 0.0, 'STDs:cervical condylomatosis': 0.0, 'STDs:vaginal condylomatosis': 0.0, 'STDs:vulvo-perineal condylomatosis': 0.0, 'STDs:syphilis': 0.0, 'STDs:AIDS': 0.0, 'STDs:HIV': 0.0, 'STDs:Hepatitis B': 0.0, 'STDs:HPV': 0.0, 'STDs: Number of diagnosis': 0.0, 'Hinselmann': 0.0, 'Schiller': 0.0, 'Citology': 0.0, 'Biopsy': 0.0}\n"
     ]
    },
    {
     "name": "stderr",
     "output_type": "stream",
     "text": [
      "Finding Elimination Order: : : 0it [00:00, ?it/s]\n",
      "0it [00:00, ?it/s]\n"
     ]
    },
    {
     "name": "stdout",
     "output_type": "stream",
     "text": [
      "Evidence for index 150: {'Age': 25.0, 'Number of sexual partners': 1.0, 'First sexual intercourse': 18.0, 'Num of pregnancies': 1.0, 'Smokes': 0.0, 'Smokes (years)': 0.0, 'Smokes (packs/year)': 0.0, 'Hormonal Contraceptives': 0.0, 'Hormonal Contraceptives (years)': 0.0, 'IUD': 0.0, 'IUD (years)': 0.0, 'STDs': 0.0, 'STDs (number)': 0.0, 'STDs:condylomatosis': 0.0, 'STDs:cervical condylomatosis': 0.0, 'STDs:vaginal condylomatosis': 0.0, 'STDs:vulvo-perineal condylomatosis': 0.0, 'STDs:syphilis': 0.0, 'STDs:AIDS': 0.0, 'STDs:HIV': 0.0, 'STDs:Hepatitis B': 0.0, 'STDs:HPV': 0.0, 'STDs: Number of diagnosis': 0.0, 'Hinselmann': 0.0, 'Schiller': 0.0, 'Citology': 0.0, 'Biopsy': 0.0}\n"
     ]
    },
    {
     "name": "stderr",
     "output_type": "stream",
     "text": [
      "Finding Elimination Order: : : 0it [00:00, ?it/s]\n",
      "0it [00:00, ?it/s]\n",
      "WARNING:pgmpy:Found unknown state name. Trying to switch to using all state names as state numbers\n"
     ]
    },
    {
     "name": "stdout",
     "output_type": "stream",
     "text": [
      "Evidence for index 151: {'Age': 33.0, 'Number of sexual partners': 1.0, 'First sexual intercourse': 32.0, 'Num of pregnancies': 2.0, 'Smokes': 0.0, 'Smokes (years)': 0.0, 'Smokes (packs/year)': 0.0, 'Hormonal Contraceptives': 0.0, 'Hormonal Contraceptives (years)': 0.0, 'IUD': 0.0, 'IUD (years)': 0.0, 'STDs': 0.0, 'STDs (number)': 0.0, 'STDs:condylomatosis': 0.0, 'STDs:cervical condylomatosis': 0.0, 'STDs:vaginal condylomatosis': 0.0, 'STDs:vulvo-perineal condylomatosis': 0.0, 'STDs:syphilis': 0.0, 'STDs:AIDS': 0.0, 'STDs:HIV': 0.0, 'STDs:Hepatitis B': 0.0, 'STDs:HPV': 0.0, 'STDs: Number of diagnosis': 0.0, 'Hinselmann': 0.0, 'Schiller': 0.0, 'Citology': 0.0, 'Biopsy': 0.0}\n",
      "Error predicting for index 151: only integers, slices (`:`), ellipsis (`...`), numpy.newaxis (`None`) and integer or boolean arrays are valid indices\n",
      "Evidence for index 152: {'Age': 32.0, 'Number of sexual partners': 2.0, 'First sexual intercourse': 18.0, 'Num of pregnancies': 2.0, 'Smokes': 0.0, 'Smokes (years)': 0.0, 'Smokes (packs/year)': 0.0, 'Hormonal Contraceptives': 1.0, 'Hormonal Contraceptives (years)': 2.0, 'IUD': 1.0, 'IUD (years)': 1.0, 'STDs': 0.0, 'STDs (number)': 0.0, 'STDs:condylomatosis': 0.0, 'STDs:cervical condylomatosis': 0.0, 'STDs:vaginal condylomatosis': 0.0, 'STDs:vulvo-perineal condylomatosis': 0.0, 'STDs:syphilis': 0.0, 'STDs:AIDS': 0.0, 'STDs:HIV': 0.0, 'STDs:Hepatitis B': 0.0, 'STDs:HPV': 0.0, 'STDs: Number of diagnosis': 0.0, 'Hinselmann': 0.0, 'Schiller': 0.0, 'Citology': 0.0, 'Biopsy': 0.0}\n"
     ]
    },
    {
     "name": "stderr",
     "output_type": "stream",
     "text": [
      "Finding Elimination Order: : : 0it [00:00, ?it/s]\n",
      "0it [00:00, ?it/s]\n"
     ]
    },
    {
     "name": "stdout",
     "output_type": "stream",
     "text": [
      "Evidence for index 153: {'Age': 41.0, 'Number of sexual partners': 3.0, 'First sexual intercourse': 17.0, 'Num of pregnancies': 4.0, 'Smokes': 0.0, 'Smokes (years)': 0.0, 'Smokes (packs/year)': 0.0, 'Hormonal Contraceptives': 1.0, 'Hormonal Contraceptives (years)': 10.0, 'IUD': 0.0, 'IUD (years)': 0.0, 'STDs': 1.0, 'STDs (number)': 1.0, 'STDs:condylomatosis': 0.0, 'STDs:cervical condylomatosis': 0.0, 'STDs:vaginal condylomatosis': 0.0, 'STDs:vulvo-perineal condylomatosis': 0.0, 'STDs:syphilis': 1.0, 'STDs:AIDS': 0.0, 'STDs:HIV': 0.0, 'STDs:Hepatitis B': 0.0, 'STDs:HPV': 0.0, 'STDs: Number of diagnosis': 1.0, 'Hinselmann': 0.0, 'Schiller': 0.0, 'Citology': 0.0, 'Biopsy': 0.0}\n"
     ]
    },
    {
     "name": "stderr",
     "output_type": "stream",
     "text": [
      "Finding Elimination Order: : : 0it [00:00, ?it/s]\n",
      "0it [00:00, ?it/s]\n"
     ]
    },
    {
     "name": "stdout",
     "output_type": "stream",
     "text": [
      "Evidence for index 154: {'Age': 28.0, 'Number of sexual partners': 3.0, 'First sexual intercourse': 18.0, 'Num of pregnancies': 2.0, 'Smokes': 0.0, 'Smokes (years)': 0.0, 'Smokes (packs/year)': 0.0, 'Hormonal Contraceptives': 1.0, 'Hormonal Contraceptives (years)': 6.0, 'IUD': 0.0, 'IUD (years)': 0.0, 'STDs': 0.0, 'STDs (number)': 0.0, 'STDs:condylomatosis': 0.0, 'STDs:cervical condylomatosis': 0.0, 'STDs:vaginal condylomatosis': 0.0, 'STDs:vulvo-perineal condylomatosis': 0.0, 'STDs:syphilis': 0.0, 'STDs:AIDS': 0.0, 'STDs:HIV': 0.0, 'STDs:Hepatitis B': 0.0, 'STDs:HPV': 0.0, 'STDs: Number of diagnosis': 0.0, 'Hinselmann': 0.0, 'Schiller': 0.0, 'Citology': 0.0, 'Biopsy': 0.0}\n"
     ]
    },
    {
     "name": "stderr",
     "output_type": "stream",
     "text": [
      "Finding Elimination Order: : : 0it [00:00, ?it/s]\n",
      "0it [00:00, ?it/s]\n"
     ]
    },
    {
     "name": "stdout",
     "output_type": "stream",
     "text": [
      "Evidence for index 155: {'Age': 27.0, 'Number of sexual partners': 2.0, 'First sexual intercourse': 19.0, 'Num of pregnancies': 2.0, 'Smokes': 0.0, 'Smokes (years)': 0.0, 'Smokes (packs/year)': 0.0, 'Hormonal Contraceptives': 1.0, 'Hormonal Contraceptives (years)': 7.0, 'IUD': 0.0, 'IUD (years)': 0.0, 'STDs': 0.0, 'STDs (number)': 0.0, 'STDs:condylomatosis': 0.0, 'STDs:cervical condylomatosis': 0.0, 'STDs:vaginal condylomatosis': 0.0, 'STDs:vulvo-perineal condylomatosis': 0.0, 'STDs:syphilis': 0.0, 'STDs:AIDS': 0.0, 'STDs:HIV': 0.0, 'STDs:Hepatitis B': 0.0, 'STDs:HPV': 0.0, 'STDs: Number of diagnosis': 0.0, 'Hinselmann': 0.0, 'Schiller': 0.0, 'Citology': 0.0, 'Biopsy': 0.0}\n"
     ]
    },
    {
     "name": "stderr",
     "output_type": "stream",
     "text": [
      "Finding Elimination Order: : : 0it [00:00, ?it/s]\n",
      "0it [00:00, ?it/s]\n"
     ]
    },
    {
     "name": "stdout",
     "output_type": "stream",
     "text": [
      "Evidence for index 156: {'Age': 18.0, 'Number of sexual partners': 3.0, 'First sexual intercourse': 18.0, 'Num of pregnancies': 4.0, 'Smokes': 0.0, 'Smokes (years)': 0.0, 'Smokes (packs/year)': 0.0, 'Hormonal Contraceptives': 1.0, 'Hormonal Contraceptives (years)': 5.0, 'IUD': 0.0, 'IUD (years)': 0.0, 'STDs': 0.0, 'STDs (number)': 0.0, 'STDs:condylomatosis': 0.0, 'STDs:cervical condylomatosis': 0.0, 'STDs:vaginal condylomatosis': 0.0, 'STDs:vulvo-perineal condylomatosis': 0.0, 'STDs:syphilis': 0.0, 'STDs:AIDS': 0.0, 'STDs:HIV': 0.0, 'STDs:Hepatitis B': 0.0, 'STDs:HPV': 0.0, 'STDs: Number of diagnosis': 0.0, 'Hinselmann': 0.0, 'Schiller': 0.0, 'Citology': 0.0, 'Biopsy': 0.0}\n"
     ]
    },
    {
     "name": "stderr",
     "output_type": "stream",
     "text": [
      "Finding Elimination Order: : : 0it [00:00, ?it/s]\n",
      "0it [00:00, ?it/s]\n",
      "WARNING:pgmpy:Found unknown state name. Trying to switch to using all state names as state numbers\n",
      "WARNING:pgmpy:Found unknown state name. Trying to switch to using all state names as state numbers\n"
     ]
    },
    {
     "name": "stdout",
     "output_type": "stream",
     "text": [
      "Evidence for index 157: {'Age': 29.0, 'Number of sexual partners': 2.0, 'First sexual intercourse': 17.0, 'Num of pregnancies': 2.0, 'Smokes': 1.0, 'Smokes (years)': 13.0, 'Smokes (packs/year)': 0.37, 'Hormonal Contraceptives': 1.0, 'Hormonal Contraceptives (years)': 0.25, 'IUD': 0.0, 'IUD (years)': 0.0, 'STDs': 0.0, 'STDs (number)': 0.0, 'STDs:condylomatosis': 0.0, 'STDs:cervical condylomatosis': 0.0, 'STDs:vaginal condylomatosis': 0.0, 'STDs:vulvo-perineal condylomatosis': 0.0, 'STDs:syphilis': 0.0, 'STDs:AIDS': 0.0, 'STDs:HIV': 0.0, 'STDs:Hepatitis B': 0.0, 'STDs:HPV': 0.0, 'STDs: Number of diagnosis': 0.0, 'Hinselmann': 0.0, 'Schiller': 0.0, 'Citology': 0.0, 'Biopsy': 0.0}\n",
      "Error predicting for index 157: only integers, slices (`:`), ellipsis (`...`), numpy.newaxis (`None`) and integer or boolean arrays are valid indices\n",
      "Evidence for index 158: {'Age': 30.0, 'First sexual intercourse': 13.0, 'Num of pregnancies': 3.0, 'Smokes': 1.0, 'Smokes (years)': 22.0, 'Smokes (packs/year)': 3.3, 'Hormonal Contraceptives': 0.0, 'Hormonal Contraceptives (years)': 0.0, 'IUD': 0.0, 'IUD (years)': 0.0, 'STDs': 1.0, 'STDs (number)': 1.0, 'STDs:condylomatosis': 0.0, 'STDs:cervical condylomatosis': 0.0, 'STDs:vaginal condylomatosis': 0.0, 'STDs:vulvo-perineal condylomatosis': 0.0, 'STDs:syphilis': 0.0, 'STDs:AIDS': 0.0, 'STDs:HIV': 1.0, 'STDs:Hepatitis B': 0.0, 'STDs:HPV': 0.0, 'STDs: Number of diagnosis': 1.0, 'Hinselmann': 1.0, 'Schiller': 1.0, 'Citology': 0.0, 'Biopsy': 1.0}\n",
      "Error predicting for index 158: only integers, slices (`:`), ellipsis (`...`), numpy.newaxis (`None`) and integer or boolean arrays are valid indices\n",
      "Evidence for index 159: {'Age': 25.0, 'Number of sexual partners': 3.0, 'First sexual intercourse': 17.0, 'Num of pregnancies': 2.0, 'Smokes': 0.0, 'Smokes (years)': 0.0, 'Smokes (packs/year)': 0.0, 'Hormonal Contraceptives': 1.0, 'Hormonal Contraceptives (years)': 0.08, 'IUD': 0.0, 'IUD (years)': 0.0, 'STDs': 0.0, 'STDs (number)': 0.0, 'STDs:condylomatosis': 0.0, 'STDs:cervical condylomatosis': 0.0, 'STDs:vaginal condylomatosis': 0.0, 'STDs:vulvo-perineal condylomatosis': 0.0, 'STDs:syphilis': 0.0, 'STDs:AIDS': 0.0, 'STDs:HIV': 0.0, 'STDs:Hepatitis B': 0.0, 'STDs:HPV': 0.0, 'STDs: Number of diagnosis': 0.0, 'Hinselmann': 1.0, 'Schiller': 1.0, 'Citology': 1.0, 'Biopsy': 1.0}\n"
     ]
    },
    {
     "name": "stderr",
     "output_type": "stream",
     "text": [
      "Finding Elimination Order: : : 0it [00:00, ?it/s]\n",
      "0it [00:00, ?it/s]\n"
     ]
    },
    {
     "name": "stdout",
     "output_type": "stream",
     "text": [
      "Evidence for index 160: {'Age': 20.0, 'Number of sexual partners': 4.0, 'First sexual intercourse': 15.0, 'Num of pregnancies': 2.0, 'Smokes': 0.0, 'Smokes (years)': 0.0, 'Smokes (packs/year)': 0.0, 'Hormonal Contraceptives': 1.0, 'Hormonal Contraceptives (years)': 5.0, 'IUD': 0.0, 'IUD (years)': 0.0, 'STDs': 0.0, 'STDs (number)': 0.0, 'STDs:condylomatosis': 0.0, 'STDs:cervical condylomatosis': 0.0, 'STDs:vaginal condylomatosis': 0.0, 'STDs:vulvo-perineal condylomatosis': 0.0, 'STDs:syphilis': 0.0, 'STDs:AIDS': 0.0, 'STDs:HIV': 0.0, 'STDs:Hepatitis B': 0.0, 'STDs:HPV': 0.0, 'STDs: Number of diagnosis': 0.0, 'Hinselmann': 0.0, 'Schiller': 0.0, 'Citology': 0.0, 'Biopsy': 0.0}\n"
     ]
    },
    {
     "name": "stderr",
     "output_type": "stream",
     "text": [
      "Finding Elimination Order: : : 0it [00:00, ?it/s]\n",
      "0it [00:00, ?it/s]\n"
     ]
    },
    {
     "name": "stdout",
     "output_type": "stream",
     "text": [
      "Evidence for index 161: {'Age': 22.0, 'Number of sexual partners': 2.0, 'First sexual intercourse': 17.0, 'Num of pregnancies': 1.0, 'STDs: Number of diagnosis': 0.0, 'Hinselmann': 0.0, 'Schiller': 0.0, 'Citology': 0.0, 'Biopsy': 0.0}\n"
     ]
    },
    {
     "name": "stderr",
     "output_type": "stream",
     "text": [
      "Finding Elimination Order: : 100%|██████████| 11/11 [00:00<00:00, 5524.11it/s]\n",
      "Eliminating: STDs:AIDS: 100%|██████████| 11/11 [00:00<00:00, 1375.06it/s]              \n"
     ]
    },
    {
     "name": "stdout",
     "output_type": "stream",
     "text": [
      "Evidence for index 162: {'Age': 15.0, 'Number of sexual partners': 2.0, 'First sexual intercourse': 15.0, 'Num of pregnancies': 1.0, 'Smokes': 0.0, 'Smokes (years)': 0.0, 'Smokes (packs/year)': 0.0, 'Hormonal Contraceptives': 0.0, 'Hormonal Contraceptives (years)': 0.0, 'IUD': 0.0, 'IUD (years)': 0.0, 'STDs': 0.0, 'STDs (number)': 0.0, 'STDs:condylomatosis': 0.0, 'STDs:cervical condylomatosis': 0.0, 'STDs:vaginal condylomatosis': 0.0, 'STDs:vulvo-perineal condylomatosis': 0.0, 'STDs:syphilis': 0.0, 'STDs:AIDS': 0.0, 'STDs:HIV': 0.0, 'STDs:Hepatitis B': 0.0, 'STDs:HPV': 0.0, 'STDs: Number of diagnosis': 0.0, 'Hinselmann': 0.0, 'Schiller': 0.0, 'Citology': 0.0, 'Biopsy': 0.0}\n"
     ]
    },
    {
     "name": "stderr",
     "output_type": "stream",
     "text": [
      "Finding Elimination Order: : : 0it [00:00, ?it/s]\n",
      "0it [00:00, ?it/s]\n"
     ]
    },
    {
     "name": "stdout",
     "output_type": "stream",
     "text": [
      "Evidence for index 163: {'Age': 27.0, 'Number of sexual partners': 1.0, 'First sexual intercourse': 26.0, 'Num of pregnancies': 1.0, 'Smokes': 0.0, 'Smokes (years)': 0.0, 'Smokes (packs/year)': 0.0, 'Hormonal Contraceptives': 0.0, 'Hormonal Contraceptives (years)': 0.0, 'IUD': 0.0, 'IUD (years)': 0.0, 'STDs': 0.0, 'STDs (number)': 0.0, 'STDs:condylomatosis': 0.0, 'STDs:cervical condylomatosis': 0.0, 'STDs:vaginal condylomatosis': 0.0, 'STDs:vulvo-perineal condylomatosis': 0.0, 'STDs:syphilis': 0.0, 'STDs:AIDS': 0.0, 'STDs:HIV': 0.0, 'STDs:Hepatitis B': 0.0, 'STDs:HPV': 0.0, 'STDs: Number of diagnosis': 0.0, 'Hinselmann': 0.0, 'Schiller': 0.0, 'Citology': 0.0, 'Biopsy': 0.0}\n"
     ]
    },
    {
     "name": "stderr",
     "output_type": "stream",
     "text": [
      "Finding Elimination Order: : : 0it [00:00, ?it/s]\n",
      "0it [00:00, ?it/s]\n"
     ]
    },
    {
     "name": "stdout",
     "output_type": "stream",
     "text": [
      "Evidence for index 164: {'Age': 28.0, 'Number of sexual partners': 1.0, 'First sexual intercourse': 24.0, 'Num of pregnancies': 2.0, 'Smokes': 0.0, 'Smokes (years)': 0.0, 'Smokes (packs/year)': 0.0, 'Hormonal Contraceptives': 1.0, 'Hormonal Contraceptives (years)': 0.5, 'IUD': 0.0, 'IUD (years)': 0.0, 'STDs': 0.0, 'STDs (number)': 0.0, 'STDs:condylomatosis': 0.0, 'STDs:cervical condylomatosis': 0.0, 'STDs:vaginal condylomatosis': 0.0, 'STDs:vulvo-perineal condylomatosis': 0.0, 'STDs:syphilis': 0.0, 'STDs:AIDS': 0.0, 'STDs:HIV': 0.0, 'STDs:Hepatitis B': 0.0, 'STDs:HPV': 0.0, 'STDs: Number of diagnosis': 0.0, 'Hinselmann': 0.0, 'Schiller': 0.0, 'Citology': 0.0, 'Biopsy': 0.0}\n"
     ]
    },
    {
     "name": "stderr",
     "output_type": "stream",
     "text": [
      "Finding Elimination Order: : : 0it [00:00, ?it/s]\n",
      "0it [00:00, ?it/s]\n"
     ]
    },
    {
     "name": "stdout",
     "output_type": "stream",
     "text": [
      "Evidence for index 165: {'Age': 15.0, 'Number of sexual partners': 4.0, 'First sexual intercourse': 12.0, 'Num of pregnancies': 1.0, 'Smokes': 0.0, 'Smokes (years)': 0.0, 'Smokes (packs/year)': 0.0, 'Hormonal Contraceptives': 1.0, 'Hormonal Contraceptives (years)': 1.0, 'IUD': 0.0, 'IUD (years)': 0.0, 'STDs': 0.0, 'STDs (number)': 0.0, 'STDs:condylomatosis': 0.0, 'STDs:cervical condylomatosis': 0.0, 'STDs:vaginal condylomatosis': 0.0, 'STDs:vulvo-perineal condylomatosis': 0.0, 'STDs:syphilis': 0.0, 'STDs:AIDS': 0.0, 'STDs:HIV': 0.0, 'STDs:Hepatitis B': 0.0, 'STDs:HPV': 0.0, 'STDs: Number of diagnosis': 0.0, 'Hinselmann': 0.0, 'Schiller': 0.0, 'Citology': 0.0, 'Biopsy': 0.0}\n"
     ]
    },
    {
     "name": "stderr",
     "output_type": "stream",
     "text": [
      "Finding Elimination Order: : : 0it [00:00, ?it/s]\n",
      "0it [00:00, ?it/s]\n"
     ]
    },
    {
     "name": "stdout",
     "output_type": "stream",
     "text": [
      "Evidence for index 166: {'Age': 20.0, 'Number of sexual partners': 1.0, 'First sexual intercourse': 18.0, 'Num of pregnancies': 2.0, 'Smokes': 0.0, 'Smokes (years)': 0.0, 'Smokes (packs/year)': 0.0, 'STDs: Number of diagnosis': 0.0, 'Hinselmann': 0.0, 'Schiller': 0.0, 'Citology': 0.0, 'Biopsy': 0.0}\n"
     ]
    },
    {
     "name": "stderr",
     "output_type": "stream",
     "text": [
      "Finding Elimination Order: : 100%|██████████| 9/9 [00:00<00:00, 4499.79it/s]\n",
      "Eliminating: STDs:AIDS: 100%|██████████| 9/9 [00:00<00:00, 1500.53it/s]               \n",
      "WARNING:pgmpy:Found unknown state name. Trying to switch to using all state names as state numbers\n"
     ]
    },
    {
     "name": "stdout",
     "output_type": "stream",
     "text": [
      "Evidence for index 167: {'Age': 37.0, 'Number of sexual partners': 2.0, 'First sexual intercourse': 15.0, 'Num of pregnancies': 4.0, 'Smokes': 0.0, 'Smokes (years)': 0.0, 'Smokes (packs/year)': 0.0, 'Hormonal Contraceptives': 1.0, 'Hormonal Contraceptives (years)': 12.0, 'IUD': 1.0, 'IUD (years)': 0.16, 'STDs': 0.0, 'STDs (number)': 0.0, 'STDs:condylomatosis': 0.0, 'STDs:cervical condylomatosis': 0.0, 'STDs:vaginal condylomatosis': 0.0, 'STDs:vulvo-perineal condylomatosis': 0.0, 'STDs:syphilis': 0.0, 'STDs:AIDS': 0.0, 'STDs:HIV': 0.0, 'STDs:Hepatitis B': 0.0, 'STDs:HPV': 0.0, 'STDs: Number of diagnosis': 0.0, 'Hinselmann': 0.0, 'Schiller': 0.0, 'Citology': 0.0, 'Biopsy': 0.0}\n",
      "Error predicting for index 167: only integers, slices (`:`), ellipsis (`...`), numpy.newaxis (`None`) and integer or boolean arrays are valid indices\n",
      "Evidence for index 168: {'Age': 24.0, 'Number of sexual partners': 1.0, 'First sexual intercourse': 19.0, 'Num of pregnancies': 1.0, 'Smokes': 0.0, 'Smokes (years)': 0.0, 'Smokes (packs/year)': 0.0, 'Hormonal Contraceptives': 0.0, 'Hormonal Contraceptives (years)': 0.0, 'IUD': 0.0, 'IUD (years)': 0.0, 'STDs': 0.0, 'STDs (number)': 0.0, 'STDs:condylomatosis': 0.0, 'STDs:cervical condylomatosis': 0.0, 'STDs:vaginal condylomatosis': 0.0, 'STDs:vulvo-perineal condylomatosis': 0.0, 'STDs:syphilis': 0.0, 'STDs:AIDS': 0.0, 'STDs:HIV': 0.0, 'STDs:Hepatitis B': 0.0, 'STDs:HPV': 0.0, 'STDs: Number of diagnosis': 0.0, 'Hinselmann': 0.0, 'Schiller': 0.0, 'Citology': 0.0, 'Biopsy': 0.0}\n"
     ]
    },
    {
     "name": "stderr",
     "output_type": "stream",
     "text": [
      "Finding Elimination Order: : : 0it [00:00, ?it/s]\n",
      "0it [00:00, ?it/s]\n"
     ]
    },
    {
     "name": "stdout",
     "output_type": "stream",
     "text": [
      "Evidence for index 169: {'Age': 25.0, 'Num of pregnancies': 2.0, 'Smokes': 0.0, 'Smokes (years)': 0.0, 'Smokes (packs/year)': 0.0, 'Hormonal Contraceptives': 1.0, 'Hormonal Contraceptives (years)': 3.0, 'IUD': 0.0, 'IUD (years)': 0.0, 'STDs': 0.0, 'STDs (number)': 0.0, 'STDs:condylomatosis': 0.0, 'STDs:cervical condylomatosis': 0.0, 'STDs:vaginal condylomatosis': 0.0, 'STDs:vulvo-perineal condylomatosis': 0.0, 'STDs:syphilis': 0.0, 'STDs:AIDS': 0.0, 'STDs:HIV': 0.0, 'STDs:Hepatitis B': 0.0, 'STDs:HPV': 0.0, 'STDs: Number of diagnosis': 0.0, 'Hinselmann': 0.0, 'Schiller': 0.0, 'Citology': 0.0, 'Biopsy': 0.0}\n"
     ]
    },
    {
     "name": "stderr",
     "output_type": "stream",
     "text": [
      "Finding Elimination Order: : : 0it [00:00, ?it/s]\n",
      "0it [00:00, ?it/s]\n"
     ]
    },
    {
     "name": "stdout",
     "output_type": "stream",
     "text": [
      "Evidence for index 170: {'Age': 27.0, 'Number of sexual partners': 4.0, 'First sexual intercourse': 16.0, 'Smokes': 0.0, 'Smokes (years)': 0.0, 'Smokes (packs/year)': 0.0, 'Hormonal Contraceptives': 0.0, 'Hormonal Contraceptives (years)': 0.0, 'IUD': 0.0, 'IUD (years)': 0.0, 'STDs': 0.0, 'STDs (number)': 0.0, 'STDs:condylomatosis': 0.0, 'STDs:cervical condylomatosis': 0.0, 'STDs:vaginal condylomatosis': 0.0, 'STDs:vulvo-perineal condylomatosis': 0.0, 'STDs:syphilis': 0.0, 'STDs:AIDS': 0.0, 'STDs:HIV': 0.0, 'STDs:Hepatitis B': 0.0, 'STDs:HPV': 0.0, 'STDs: Number of diagnosis': 0.0, 'Hinselmann': 0.0, 'Schiller': 0.0, 'Citology': 0.0, 'Biopsy': 0.0}\n"
     ]
    },
    {
     "name": "stderr",
     "output_type": "stream",
     "text": [
      "Finding Elimination Order: : : 0it [00:00, ?it/s]\n",
      "0it [00:00, ?it/s]\n"
     ]
    },
    {
     "name": "stdout",
     "output_type": "stream",
     "text": [
      "Evidence for index 171: {'Age': 29.0, 'Number of sexual partners': 2.0, 'First sexual intercourse': 17.0, 'Smokes': 0.0, 'Smokes (years)': 0.0, 'Smokes (packs/year)': 0.0, 'STDs: Number of diagnosis': 0.0, 'Hinselmann': 0.0, 'Schiller': 0.0, 'Citology': 0.0, 'Biopsy': 0.0}\n"
     ]
    },
    {
     "name": "stderr",
     "output_type": "stream",
     "text": [
      "Finding Elimination Order: : 100%|██████████| 10/10 [00:00<00:00, 4994.41it/s]\n",
      "Eliminating: STDs:AIDS: 100%|██████████| 10/10 [00:00<00:00, 909.14it/s]               \n",
      "D:\\Anaconda\\envs\\mor\\Lib\\site-packages\\sklearn\\metrics\\_classification.py:1531: UndefinedMetricWarning: Precision is ill-defined and being set to 0.0 in labels with no predicted samples. Use `zero_division` parameter to control this behavior.\n",
      "  _warn_prf(average, modifier, f\"{metric.capitalize()} is\", len(result))\n",
      "D:\\Anaconda\\envs\\mor\\Lib\\site-packages\\sklearn\\metrics\\_classification.py:1531: UndefinedMetricWarning: Precision is ill-defined and being set to 0.0 in labels with no predicted samples. Use `zero_division` parameter to control this behavior.\n",
      "  _warn_prf(average, modifier, f\"{metric.capitalize()} is\", len(result))\n",
      "D:\\Anaconda\\envs\\mor\\Lib\\site-packages\\sklearn\\metrics\\_classification.py:1531: UndefinedMetricWarning: Precision is ill-defined and being set to 0.0 in labels with no predicted samples. Use `zero_division` parameter to control this behavior.\n",
      "  _warn_prf(average, modifier, f\"{metric.capitalize()} is\", len(result))\n"
     ]
    },
    {
     "name": "stdout",
     "output_type": "stream",
     "text": [
      "Evaluating model performance...\n",
      "Confusion Matrix:\n",
      "[[143   0]\n",
      " [  5   0]]\n",
      "\n",
      "Classification Report:\n",
      "              precision    recall  f1-score   support\n",
      "\n",
      "         0.0       0.97      1.00      0.98       143\n",
      "         1.0       0.00      0.00      0.00         5\n",
      "\n",
      "    accuracy                           0.97       148\n",
      "   macro avg       0.48      0.50      0.49       148\n",
      "weighted avg       0.93      0.97      0.95       148\n",
      "\n"
     ]
    },
    {
     "data": {
      "image/png": "[encoded data removed]",
      "text/plain": [
       "<Figure size 800x600 with 2 Axes>"
      ]
     },
     "metadata": {},
     "output_type": "display_data"
    },
    {
     "name": "stdout",
     "output_type": "stream",
     "text": [
      "Accuracy: 0.97\n"
     ]
    }
   ],
   "source": [
    "import pandas as pd\n",
    "import numpy as np\n",
    "from pgmpy.models import BayesianNetwork\n",
    "from pgmpy.estimators import HillClimbSearch, BicScore, MaximumLikelihoodEstimator\n",
    "from pgmpy.inference import VariableElimination\n",
    "from sklearn.model_selection import train_test_split\n",
    "from sklearn.metrics import classification_report, confusion_matrix, accuracy_score\n",
    "import seaborn as sns\n",
    "import matplotlib.pyplot as plt\n",
    "\n",
    "# Assuming 'train_data' is your original dataset that includes 'Dx' as the target variable.\n",
    "\n",
    "\n",
    "\n",
    "\n",
    "X_train, X_test, y_train, y_test = train_test_split(X, y, test_size=0.2, random_state=42, stratify=y)\n",
    "\n",
    "# Print the number of elements in the training and testing sets\n",
    "print(f\"Number of elements in the training set: {X_train.shape[0]}\")\n",
    "print(f\"Number of elements in the testing set: {X_test.shape[0]}\")\n",
    "\n",
    "# Step 2: Perform structure learning on the training data\n",
    "hc = HillClimbSearch(pd.concat([X_train, y_train], axis=1))  # Concatenate to include the target for structure learning\n",
    "best_model = hc.estimate(scoring_method=BicScore(pd.concat([X_train, y_train], axis=1)))\n",
    "\n",
    "# Display learned structure\n",
    "print(\"Learned structure:\", best_model.edges())\n",
    "\n",
    "# Step 3: Create Bayesian Network with learned structure\n",
    "model = BayesianNetwork(best_model.edges())\n",
    "\n",
    "# Fit the model to the training data with Maximum Likelihood Estimator\n",
    "model.fit(pd.concat([X_train, y_train], axis=1), estimator=MaximumLikelihoodEstimator)\n",
    "inference = VariableElimination(model)\n",
    "\n",
    "# Step 4: Prepare the test data for predictions\n",
    "model_nodes = set(model.nodes())\n",
    "X_test_filtered = X_test.loc[:, X_test.columns.intersection(model_nodes)]\n",
    "print(X_test_filtered.isnull().sum())\n",
    "\n",
    "# Initialize predictions list\n",
    "y_pred = []\n",
    "\n",
    "# Step 5: Make predictions on the test set\n",
    "for i in range(len(X_test_filtered)):\n",
    "    # Filter evidence to include only model nodes and drop NaNs\n",
    "    evidence = {k: v for k, v in X_test_filtered.iloc[i].to_dict().items() if k in model_nodes and pd.notna(v)}\n",
    "\n",
    "    # Debugging: Print the evidence for the current test instance\n",
    "    print(f\"Evidence for index {i}: {evidence}\")\n",
    "\n",
    "    # Ensure evidence is not empty\n",
    "    if evidence:\n",
    "        try:\n",
    "            prediction = inference.map_query(variables=['Dx'], evidence=evidence)\n",
    "            y_pred.append(prediction['Dx'])\n",
    "        except Exception as e:\n",
    "            print(f\"Error predicting for index {i}: {e}\")\n",
    "            y_pred.append(None)  # Append None or a default value if prediction fails\n",
    "    else:\n",
    "        print(f\"No valid evidence for index {i}, skipping prediction.\")\n",
    "        y_pred.append(None)\n",
    "\n",
    "# Step 6: Evaluate the model performance\n",
    "if y_pred:\n",
    "    print(\"Evaluating model performance...\")\n",
    "    # Ensure the predictions and true values are of the same length\n",
    "    y_true = y_test.values  # True values from the test set\n",
    "    # Filter None values from predictions and true values\n",
    "    valid_indices = [index for index, pred in enumerate(y_pred) if pred is not None]\n",
    "    y_pred_valid = [y_pred[index] for index in valid_indices]\n",
    "    y_true_valid = [y_true[index] for index in valid_indices]\n",
    "    \n",
    "    # Ensure y_pred_valid and y_true_valid are of equal length for evaluation\n",
    "    if len(y_pred_valid) == len(y_true_valid):\n",
    "        # Calculate confusion matrix and classification report\n",
    "        cm = confusion_matrix(y_true_valid, y_pred_valid)\n",
    "        report = classification_report(y_true_valid, y_pred_valid)\n",
    "\n",
    "        # Print confusion matrix and classification report\n",
    "        print(\"Confusion Matrix:\")\n",
    "        print(cm)\n",
    "        print(\"\\nClassification Report:\")\n",
    "        print(report)\n",
    "\n",
    "        # Visualize the confusion matrix\n",
    "        plt.figure(figsize=(8, 6))\n",
    "        sns.heatmap(cm, annot=True, fmt='d', cmap='Blues', xticklabels=np.unique(y), yticklabels=np.unique(y))\n",
    "        plt.xlabel('Predicted Label')\n",
    "        plt.ylabel('True Label')\n",
    "        plt.title('Confusion Matrix')\n",
    "        plt.show()\n",
    "\n",
    "        # Calculate accuracy\n",
    "        accuracy = accuracy_score(y_true_valid, y_pred_valid)\n",
    "        print(f'Accuracy: {accuracy:.2f}')\n",
    "    else:\n",
    "        print(\"Mismatch in lengths of predictions and true values after filtering.\")\n",
    "else:\n",
    "    print(\"No predictions were made.\")\n"
   ]
  },
  {
   "cell_type": "code",
   "execution_count": null,
   "id": "47eac5b1-5bdd-460e-a800-7c2e5400deeb",
   "metadata": {},
   "outputs": [],
   "source": []
  },
  {
   "cell_type": "code",
   "execution_count": null,
   "id": "64b86c9d-1551-414d-a6f5-d26053b49376",
   "metadata": {},
   "outputs": [],
   "source": []
  },
  {
   "cell_type": "code",
   "execution_count": null,
   "id": "70b9944d-c549-4027-911e-a649c0b7ae13",
   "metadata": {},
   "outputs": [],
   "source": []
  },
  {
   "cell_type": "code",
   "execution_count": null,
   "id": "89eb946e-946a-4b23-9184-a3bfeac9c669",
   "metadata": {},
   "outputs": [],
   "source": []
  },
  {
   "cell_type": "code",
   "execution_count": null,
   "id": "ef85a80c-dc91-43cf-84ef-b0cc079ad072",
   "metadata": {},
   "outputs": [],
   "source": []
  },
  {
   "cell_type": "code",
   "execution_count": null,
   "id": "6ded03a4-c9d1-4bdf-a274-cd7f334c7e43",
   "metadata": {},
   "outputs": [],
   "source": []
  },
  {
   "cell_type": "code",
   "execution_count": null,
   "id": "bd8922e6-f079-41fe-9508-4faa5b72610e",
   "metadata": {},
   "outputs": [],
   "source": []
  },
  {
   "cell_type": "code",
   "execution_count": null,
   "id": "507dbd93-4281-402a-bacd-a5bcd4ff6009",
   "metadata": {},
   "outputs": [],
   "source": []
  },
  {
   "cell_type": "code",
   "execution_count": 14,
   "id": "61907bbe-e76d-4324-b1d4-b1e22a8020f3",
   "metadata": {},
   "outputs": [
    {
     "name": "stdout",
     "output_type": "stream",
     "text": [
      "Number of elements in the training set: 686\n",
      "Number of elements in the testing set: 172\n"
     ]
    },
    {
     "name": "stderr",
     "output_type": "stream",
     "text": [
      "  0%|          | 39/1000000 [00:03<25:21:32, 10.95it/s]\n"
     ]
    },
    {
     "name": "stdout",
     "output_type": "stream",
     "text": [
      "Learned structure: [('Num of pregnancies', 'IUD'), ('Smokes', 'Smokes (years)'), ('Smokes', 'Smokes (packs/year)'), ('Smokes', 'Number of sexual partners'), ('Smokes', 'STDs:vulvo-perineal condylomatosis'), ('Smokes', 'Schiller'), ('Hormonal Contraceptives', 'Num of pregnancies'), ('Hormonal Contraceptives (years)', 'Hormonal Contraceptives'), ('IUD', 'IUD (years)'), ('IUD', 'Smokes'), ('IUD', 'Dx'), ('IUD', 'STDs:vulvo-perineal condylomatosis'), ('IUD', 'Hinselmann'), ('STDs', 'STDs: Number of diagnosis'), ('STDs', 'STDs:HPV'), ('STDs (number)', 'STDs'), ('STDs (number)', 'STDs:syphilis'), ('STDs (number)', 'STDs:HIV'), ('STDs:condylomatosis', 'STDs (number)'), ('STDs:condylomatosis', 'STDs:vaginal condylomatosis'), ('STDs:cervical condylomatosis', 'First sexual intercourse'), ('STDs:cervical condylomatosis', 'Citology'), ('STDs:cervical condylomatosis', 'Schiller'), ('STDs:vulvo-perineal condylomatosis', 'STDs:condylomatosis'), ('STDs:AIDS', 'Age'), ('STDs:AIDS', 'Number of sexual partners'), ('STDs:AIDS', 'Hormonal Contraceptives (years)'), ('STDs:AIDS', 'Num of pregnancies'), ('STDs:AIDS', 'Smokes'), ('STDs:AIDS', 'Dx'), ('STDs:Hepatitis B', 'Smokes (packs/year)'), ('STDs:Hepatitis B', 'Smokes (years)'), ('STDs:Hepatitis B', 'Biopsy'), ('STDs:Hepatitis B', 'IUD'), ('STDs:Hepatitis B', 'Hinselmann'), ('Hinselmann', 'Schiller'), ('Schiller', 'Biopsy'), ('Schiller', 'Citology')]\n"
     ]
    },
    {
     "data": {
      "image/png": "[encoded data removed]",
      "text/plain": [
       "<Figure size 1000x800 with 1 Axes>"
      ]
     },
     "metadata": {},
     "output_type": "display_data"
    },
    {
     "name": "stdout",
     "output_type": "stream",
     "text": [
      "Age                                    0\n",
      "Number of sexual partners              5\n",
      "First sexual intercourse               1\n",
      "Num of pregnancies                     6\n",
      "Smokes                                 3\n",
      "Smokes (years)                         3\n",
      "Smokes (packs/year)                    3\n",
      "Hormonal Contraceptives               24\n",
      "Hormonal Contraceptives (years)       24\n",
      "IUD                                   24\n",
      "IUD (years)                           24\n",
      "STDs                                  20\n",
      "STDs (number)                         20\n",
      "STDs:condylomatosis                   20\n",
      "STDs:cervical condylomatosis          20\n",
      "STDs:vaginal condylomatosis           20\n",
      "STDs:vulvo-perineal condylomatosis    20\n",
      "STDs:syphilis                         20\n",
      "STDs:AIDS                             20\n",
      "STDs:HIV                              20\n",
      "STDs:Hepatitis B                      20\n",
      "STDs:HPV                              20\n",
      "STDs: Number of diagnosis              0\n",
      "Hinselmann                             0\n",
      "Schiller                               0\n",
      "Citology                               0\n",
      "Biopsy                                 0\n",
      "dtype: int64\n",
      "Evidence for index 0: {'Age': 37.0, 'Number of sexual partners': 3.0, 'First sexual intercourse': 15.0, 'Num of pregnancies': 3.0, 'Smokes': 0.0, 'Smokes (years)': 0.0, 'Smokes (packs/year)': 0.0, 'Hormonal Contraceptives': 1.0, 'Hormonal Contraceptives (years)': 0.5, 'IUD': 1.0, 'IUD (years)': 2.0, 'STDs': 0.0, 'STDs (number)': 0.0, 'STDs:condylomatosis': 0.0, 'STDs:cervical condylomatosis': 0.0, 'STDs:vaginal condylomatosis': 0.0, 'STDs:vulvo-perineal condylomatosis': 0.0, 'STDs:syphilis': 0.0, 'STDs:AIDS': 0.0, 'STDs:HIV': 0.0, 'STDs:Hepatitis B': 0.0, 'STDs:HPV': 0.0, 'STDs: Number of diagnosis': 0.0, 'Hinselmann': 0.0, 'Schiller': 0.0, 'Citology': 0.0, 'Biopsy': 0.0}\n"
     ]
    },
    {
     "name": "stderr",
     "output_type": "stream",
     "text": [
      "Finding Elimination Order: : : 0it [00:00, ?it/s]\n",
      "0it [00:00, ?it/s]\n"
     ]
    },
    {
     "name": "stdout",
     "output_type": "stream",
     "text": [
      "Evidence for index 1: {'Age': 20.0, 'Number of sexual partners': 3.0, 'First sexual intercourse': 16.0, 'Num of pregnancies': 4.0, 'Smokes': 0.0, 'Smokes (years)': 0.0, 'Smokes (packs/year)': 0.0, 'Hormonal Contraceptives': 1.0, 'Hormonal Contraceptives (years)': 3.0, 'IUD': 0.0, 'IUD (years)': 0.0, 'STDs': 0.0, 'STDs (number)': 0.0, 'STDs:condylomatosis': 0.0, 'STDs:cervical condylomatosis': 0.0, 'STDs:vaginal condylomatosis': 0.0, 'STDs:vulvo-perineal condylomatosis': 0.0, 'STDs:syphilis': 0.0, 'STDs:AIDS': 0.0, 'STDs:HIV': 0.0, 'STDs:Hepatitis B': 0.0, 'STDs:HPV': 0.0, 'STDs: Number of diagnosis': 0.0, 'Hinselmann': 0.0, 'Schiller': 0.0, 'Citology': 0.0, 'Biopsy': 0.0}\n"
     ]
    },
    {
     "name": "stderr",
     "output_type": "stream",
     "text": [
      "Finding Elimination Order: : : 0it [00:00, ?it/s]\n",
      "0it [00:00, ?it/s]\n"
     ]
    },
    {
     "name": "stdout",
     "output_type": "stream",
     "text": [
      "Evidence for index 2: {'Age': 17.0, 'Number of sexual partners': 5.0, 'First sexual intercourse': 15.0, 'Num of pregnancies': 1.0, 'Smokes': 0.0, 'Smokes (years)': 0.0, 'Smokes (packs/year)': 0.0, 'Hormonal Contraceptives': 0.0, 'Hormonal Contraceptives (years)': 0.0, 'IUD': 0.0, 'IUD (years)': 0.0, 'STDs': 0.0, 'STDs (number)': 0.0, 'STDs:condylomatosis': 0.0, 'STDs:cervical condylomatosis': 0.0, 'STDs:vaginal condylomatosis': 0.0, 'STDs:vulvo-perineal condylomatosis': 0.0, 'STDs:syphilis': 0.0, 'STDs:AIDS': 0.0, 'STDs:HIV': 0.0, 'STDs:Hepatitis B': 0.0, 'STDs:HPV': 0.0, 'STDs: Number of diagnosis': 0.0, 'Hinselmann': 0.0, 'Schiller': 0.0, 'Citology': 0.0, 'Biopsy': 0.0}\n"
     ]
    },
    {
     "name": "stderr",
     "output_type": "stream",
     "text": [
      "Finding Elimination Order: : : 0it [00:00, ?it/s]\n",
      "0it [00:00, ?it/s]\n",
      "WARNING:pgmpy:Found unknown state name. Trying to switch to using all state names as state numbers\n"
     ]
    },
    {
     "name": "stdout",
     "output_type": "stream",
     "text": [
      "Evidence for index 3: {'Age': 36.0, 'Number of sexual partners': 1.0, 'First sexual intercourse': 22.0, 'Num of pregnancies': 4.0, 'Smokes': 1.0, 'Smokes (years)': 16.0, 'Smokes (packs/year)': 4.8, 'Hormonal Contraceptives': 0.0, 'Hormonal Contraceptives (years)': 0.0, 'IUD': 0.0, 'IUD (years)': 0.0, 'STDs': 1.0, 'STDs (number)': 3.0, 'STDs:condylomatosis': 1.0, 'STDs:cervical condylomatosis': 0.0, 'STDs:vaginal condylomatosis': 1.0, 'STDs:vulvo-perineal condylomatosis': 1.0, 'STDs:syphilis': 0.0, 'STDs:AIDS': 0.0, 'STDs:HIV': 0.0, 'STDs:Hepatitis B': 0.0, 'STDs:HPV': 0.0, 'STDs: Number of diagnosis': 1.0, 'Hinselmann': 0.0, 'Schiller': 0.0, 'Citology': 0.0, 'Biopsy': 0.0}\n",
      "Error predicting for index 3: only integers, slices (`:`), ellipsis (`...`), numpy.newaxis (`None`) and integer or boolean arrays are valid indices\n",
      "Evidence for index 4: {'Age': 15.0, 'Number of sexual partners': 1.0, 'First sexual intercourse': 13.0, 'Num of pregnancies': 1.0, 'Smokes': 1.0, 'Smokes (years)': 1.0, 'Smokes (packs/year)': 0.05, 'STDs: Number of diagnosis': 0.0, 'Hinselmann': 0.0, 'Schiller': 0.0, 'Citology': 0.0, 'Biopsy': 0.0}\n"
     ]
    },
    {
     "name": "stderr",
     "output_type": "stream",
     "text": [
      "Finding Elimination Order: : 100%|██████████| 9/9 [00:00<00:00, 4498.72it/s]\n",
      "Eliminating: STDs:AIDS: 100%|██████████| 9/9 [00:00<00:00, 1500.11it/s]               \n"
     ]
    },
    {
     "name": "stdout",
     "output_type": "stream",
     "text": [
      "Evidence for index 5: {'Age': 31.0, 'Number of sexual partners': 3.0, 'First sexual intercourse': 19.0, 'Num of pregnancies': 1.0, 'Smokes': 0.0, 'Smokes (years)': 0.0, 'Smokes (packs/year)': 0.0, 'Hormonal Contraceptives': 1.0, 'Hormonal Contraceptives (years)': 0.08, 'IUD': 1.0, 'IUD (years)': 8.0, 'STDs': 0.0, 'STDs (number)': 0.0, 'STDs:condylomatosis': 0.0, 'STDs:cervical condylomatosis': 0.0, 'STDs:vaginal condylomatosis': 0.0, 'STDs:vulvo-perineal condylomatosis': 0.0, 'STDs:syphilis': 0.0, 'STDs:AIDS': 0.0, 'STDs:HIV': 0.0, 'STDs:Hepatitis B': 0.0, 'STDs:HPV': 0.0, 'STDs: Number of diagnosis': 0.0, 'Hinselmann': 0.0, 'Schiller': 0.0, 'Citology': 0.0, 'Biopsy': 0.0}\n"
     ]
    },
    {
     "name": "stderr",
     "output_type": "stream",
     "text": [
      "Finding Elimination Order: : : 0it [00:00, ?it/s]\n",
      "0it [00:00, ?it/s]"
     ]
    },
    {
     "name": "stdout",
     "output_type": "stream",
     "text": [
      "Evidence for index 6: {'Age': 44.0, 'Number of sexual partners': 3.0, 'First sexual intercourse': 23.0, 'Smokes': 0.0, 'Smokes (years)': 0.0, 'Smokes (packs/year)': 0.0, 'STDs: Number of diagnosis': 0.0, 'Hinselmann': 0.0, 'Schiller': 0.0, 'Citology': 0.0, 'Biopsy': 0.0}\n"
     ]
    },
    {
     "name": "stderr",
     "output_type": "stream",
     "text": [
      "\n",
      "Finding Elimination Order: : 100%|██████████| 10/10 [00:00<00:00, 5000.96it/s]\n",
      "Eliminating: STDs:AIDS: 100%|██████████| 10/10 [00:00<00:00, 1249.83it/s]              \n"
     ]
    },
    {
     "name": "stdout",
     "output_type": "stream",
     "text": [
      "Evidence for index 7: {'Age': 36.0, 'Number of sexual partners': 1.0, 'First sexual intercourse': 16.0, 'Num of pregnancies': 3.0, 'Smokes': 0.0, 'Smokes (years)': 0.0, 'Smokes (packs/year)': 0.0, 'Hormonal Contraceptives': 1.0, 'Hormonal Contraceptives (years)': 11.0, 'IUD': 0.0, 'IUD (years)': 0.0, 'STDs': 0.0, 'STDs (number)': 0.0, 'STDs:condylomatosis': 0.0, 'STDs:cervical condylomatosis': 0.0, 'STDs:vaginal condylomatosis': 0.0, 'STDs:vulvo-perineal condylomatosis': 0.0, 'STDs:syphilis': 0.0, 'STDs:AIDS': 0.0, 'STDs:HIV': 0.0, 'STDs:Hepatitis B': 0.0, 'STDs:HPV': 0.0, 'STDs: Number of diagnosis': 0.0, 'Hinselmann': 0.0, 'Schiller': 0.0, 'Citology': 0.0, 'Biopsy': 0.0}\n"
     ]
    },
    {
     "name": "stderr",
     "output_type": "stream",
     "text": [
      "Finding Elimination Order: : : 0it [00:00, ?it/s]\n",
      "0it [00:00, ?it/s]\n"
     ]
    },
    {
     "name": "stdout",
     "output_type": "stream",
     "text": [
      "Evidence for index 8: {'Age': 43.0, 'Number of sexual partners': 2.0, 'First sexual intercourse': 18.0, 'Num of pregnancies': 5.0, 'Smokes': 0.0, 'Smokes (years)': 0.0, 'Smokes (packs/year)': 0.0, 'Hormonal Contraceptives': 0.0, 'Hormonal Contraceptives (years)': 0.0, 'IUD': 1.0, 'IUD (years)': 8.0, 'STDs': 0.0, 'STDs (number)': 0.0, 'STDs:condylomatosis': 0.0, 'STDs:cervical condylomatosis': 0.0, 'STDs:vaginal condylomatosis': 0.0, 'STDs:vulvo-perineal condylomatosis': 0.0, 'STDs:syphilis': 0.0, 'STDs:AIDS': 0.0, 'STDs:HIV': 0.0, 'STDs:Hepatitis B': 0.0, 'STDs:HPV': 0.0, 'STDs: Number of diagnosis': 0.0, 'Hinselmann': 0.0, 'Schiller': 0.0, 'Citology': 0.0, 'Biopsy': 0.0}\n"
     ]
    },
    {
     "name": "stderr",
     "output_type": "stream",
     "text": [
      "Finding Elimination Order: : : 0it [00:00, ?it/s]\n",
      "0it [00:00, ?it/s]\n"
     ]
    },
    {
     "name": "stdout",
     "output_type": "stream",
     "text": [
      "Evidence for index 9: {'Age': 15.0, 'Number of sexual partners': 2.0, 'First sexual intercourse': 13.0, 'Num of pregnancies': 1.0, 'Smokes': 0.0, 'Smokes (years)': 0.0, 'Smokes (packs/year)': 0.0, 'Hormonal Contraceptives': 1.0, 'Hormonal Contraceptives (years)': 1.0, 'IUD': 0.0, 'IUD (years)': 0.0, 'STDs': 1.0, 'STDs (number)': 1.0, 'STDs:condylomatosis': 0.0, 'STDs:cervical condylomatosis': 0.0, 'STDs:vaginal condylomatosis': 0.0, 'STDs:vulvo-perineal condylomatosis': 0.0, 'STDs:syphilis': 1.0, 'STDs:AIDS': 0.0, 'STDs:HIV': 0.0, 'STDs:Hepatitis B': 0.0, 'STDs:HPV': 0.0, 'STDs: Number of diagnosis': 1.0, 'Hinselmann': 0.0, 'Schiller': 0.0, 'Citology': 0.0, 'Biopsy': 0.0}\n"
     ]
    },
    {
     "name": "stderr",
     "output_type": "stream",
     "text": [
      "Finding Elimination Order: : : 0it [00:00, ?it/s]\n",
      "0it [00:00, ?it/s]\n"
     ]
    },
    {
     "name": "stdout",
     "output_type": "stream",
     "text": [
      "Evidence for index 10: {'Age': 34.0, 'Number of sexual partners': 3.0, 'First sexual intercourse': 19.0, 'Num of pregnancies': 3.0, 'Smokes': 0.0, 'Smokes (years)': 0.0, 'Smokes (packs/year)': 0.0, 'Hormonal Contraceptives': 1.0, 'Hormonal Contraceptives (years)': 5.0, 'IUD': 0.0, 'IUD (years)': 0.0, 'STDs': 0.0, 'STDs (number)': 0.0, 'STDs:condylomatosis': 0.0, 'STDs:cervical condylomatosis': 0.0, 'STDs:vaginal condylomatosis': 0.0, 'STDs:vulvo-perineal condylomatosis': 0.0, 'STDs:syphilis': 0.0, 'STDs:AIDS': 0.0, 'STDs:HIV': 0.0, 'STDs:Hepatitis B': 0.0, 'STDs:HPV': 0.0, 'STDs: Number of diagnosis': 0.0, 'Hinselmann': 0.0, 'Schiller': 0.0, 'Citology': 0.0, 'Biopsy': 0.0}\n"
     ]
    },
    {
     "name": "stderr",
     "output_type": "stream",
     "text": [
      "Finding Elimination Order: : : 0it [00:00, ?it/s]\n",
      "0it [00:00, ?it/s]\n"
     ]
    },
    {
     "name": "stdout",
     "output_type": "stream",
     "text": [
      "Evidence for index 11: {'Age': 22.0, 'Number of sexual partners': 2.0, 'First sexual intercourse': 19.0, 'Num of pregnancies': 1.0, 'Smokes': 0.0, 'Smokes (years)': 0.0, 'Smokes (packs/year)': 0.0, 'STDs: Number of diagnosis': 0.0, 'Hinselmann': 0.0, 'Schiller': 0.0, 'Citology': 0.0, 'Biopsy': 0.0}\n"
     ]
    },
    {
     "name": "stderr",
     "output_type": "stream",
     "text": [
      "Finding Elimination Order: : 100%|██████████| 9/9 [00:00<00:00, 4495.50it/s]\n",
      "Eliminating: STDs:AIDS: 100%|██████████| 9/9 [00:00<00:00, 1383.14it/s]               \n"
     ]
    },
    {
     "name": "stdout",
     "output_type": "stream",
     "text": [
      "Evidence for index 12: {'Age': 17.0, 'Number of sexual partners': 2.0, 'First sexual intercourse': 15.0, 'Num of pregnancies': 1.0, 'Smokes': 0.0, 'Smokes (years)': 0.0, 'Smokes (packs/year)': 0.0, 'Hormonal Contraceptives': 0.0, 'Hormonal Contraceptives (years)': 0.0, 'IUD': 0.0, 'IUD (years)': 0.0, 'STDs': 0.0, 'STDs (number)': 0.0, 'STDs:condylomatosis': 0.0, 'STDs:cervical condylomatosis': 0.0, 'STDs:vaginal condylomatosis': 0.0, 'STDs:vulvo-perineal condylomatosis': 0.0, 'STDs:syphilis': 0.0, 'STDs:AIDS': 0.0, 'STDs:HIV': 0.0, 'STDs:Hepatitis B': 0.0, 'STDs:HPV': 0.0, 'STDs: Number of diagnosis': 0.0, 'Hinselmann': 0.0, 'Schiller': 0.0, 'Citology': 0.0, 'Biopsy': 0.0}\n"
     ]
    },
    {
     "name": "stderr",
     "output_type": "stream",
     "text": [
      "Finding Elimination Order: : : 0it [00:00, ?it/s]\n",
      "0it [00:00, ?it/s]\n"
     ]
    },
    {
     "name": "stdout",
     "output_type": "stream",
     "text": [
      "Evidence for index 13: {'Age': 35.0, 'Number of sexual partners': 5.0, 'First sexual intercourse': 18.0, 'Num of pregnancies': 2.0, 'Smokes': 0.0, 'Smokes (years)': 0.0, 'Smokes (packs/year)': 0.0, 'Hormonal Contraceptives': 1.0, 'Hormonal Contraceptives (years)': 10.0, 'IUD': 0.0, 'IUD (years)': 0.0, 'STDs': 0.0, 'STDs (number)': 0.0, 'STDs:condylomatosis': 0.0, 'STDs:cervical condylomatosis': 0.0, 'STDs:vaginal condylomatosis': 0.0, 'STDs:vulvo-perineal condylomatosis': 0.0, 'STDs:syphilis': 0.0, 'STDs:AIDS': 0.0, 'STDs:HIV': 0.0, 'STDs:Hepatitis B': 0.0, 'STDs:HPV': 0.0, 'STDs: Number of diagnosis': 0.0, 'Hinselmann': 0.0, 'Schiller': 0.0, 'Citology': 0.0, 'Biopsy': 0.0}\n"
     ]
    },
    {
     "name": "stderr",
     "output_type": "stream",
     "text": [
      "Finding Elimination Order: : : 0it [00:00, ?it/s]\n",
      "0it [00:00, ?it/s]\n"
     ]
    },
    {
     "name": "stdout",
     "output_type": "stream",
     "text": [
      "Evidence for index 14: {'Age': 19.0, 'Number of sexual partners': 1.0, 'First sexual intercourse': 16.0, 'Num of pregnancies': 1.0, 'Smokes': 0.0, 'Smokes (years)': 0.0, 'Smokes (packs/year)': 0.0, 'Hormonal Contraceptives': 0.0, 'Hormonal Contraceptives (years)': 0.0, 'IUD': 0.0, 'IUD (years)': 0.0, 'STDs': 0.0, 'STDs (number)': 0.0, 'STDs:condylomatosis': 0.0, 'STDs:cervical condylomatosis': 0.0, 'STDs:vaginal condylomatosis': 0.0, 'STDs:vulvo-perineal condylomatosis': 0.0, 'STDs:syphilis': 0.0, 'STDs:AIDS': 0.0, 'STDs:HIV': 0.0, 'STDs:Hepatitis B': 0.0, 'STDs:HPV': 0.0, 'STDs: Number of diagnosis': 0.0, 'Hinselmann': 0.0, 'Schiller': 0.0, 'Citology': 0.0, 'Biopsy': 0.0}\n"
     ]
    },
    {
     "name": "stderr",
     "output_type": "stream",
     "text": [
      "Finding Elimination Order: : : 0it [00:00, ?it/s]\n",
      "0it [00:00, ?it/s]\n"
     ]
    },
    {
     "name": "stdout",
     "output_type": "stream",
     "text": [
      "Evidence for index 15: {'Age': 30.0, 'Number of sexual partners': 3.0, 'First sexual intercourse': 17.0, 'Num of pregnancies': 4.0, 'Smokes': 0.0, 'Smokes (years)': 0.0, 'Smokes (packs/year)': 0.0, 'Hormonal Contraceptives': 1.0, 'Hormonal Contraceptives (years)': 12.0, 'IUD': 0.0, 'IUD (years)': 0.0, 'STDs': 0.0, 'STDs (number)': 0.0, 'STDs:condylomatosis': 0.0, 'STDs:cervical condylomatosis': 0.0, 'STDs:vaginal condylomatosis': 0.0, 'STDs:vulvo-perineal condylomatosis': 0.0, 'STDs:syphilis': 0.0, 'STDs:AIDS': 0.0, 'STDs:HIV': 0.0, 'STDs:Hepatitis B': 0.0, 'STDs:HPV': 0.0, 'STDs: Number of diagnosis': 0.0, 'Hinselmann': 0.0, 'Schiller': 0.0, 'Citology': 0.0, 'Biopsy': 0.0}\n"
     ]
    },
    {
     "name": "stderr",
     "output_type": "stream",
     "text": [
      "Finding Elimination Order: : : 0it [00:00, ?it/s]\n",
      "0it [00:00, ?it/s]\n"
     ]
    },
    {
     "name": "stdout",
     "output_type": "stream",
     "text": [
      "Evidence for index 16: {'Age': 19.0, 'Number of sexual partners': 4.0, 'First sexual intercourse': 14.0, 'Num of pregnancies': 1.0, 'Smokes': 1.0, 'Smokes (years)': 7.0, 'Smokes (packs/year)': 0.5132021277, 'STDs: Number of diagnosis': 0.0, 'Hinselmann': 0.0, 'Schiller': 0.0, 'Citology': 0.0, 'Biopsy': 0.0}\n"
     ]
    },
    {
     "name": "stderr",
     "output_type": "stream",
     "text": [
      "Finding Elimination Order: : 100%|██████████| 9/9 [00:00<00:00, 4501.40it/s]\n",
      "Eliminating: STDs:AIDS: 100%|██████████| 9/9 [00:00<00:00, 1499.99it/s]               \n"
     ]
    },
    {
     "name": "stdout",
     "output_type": "stream",
     "text": [
      "Evidence for index 17: {'Age': 23.0, 'Number of sexual partners': 2.0, 'First sexual intercourse': 18.0, 'Num of pregnancies': 2.0, 'Smokes': 0.0, 'Smokes (years)': 0.0, 'Smokes (packs/year)': 0.0, 'Hormonal Contraceptives': 1.0, 'Hormonal Contraceptives (years)': 2.0, 'IUD': 0.0, 'IUD (years)': 0.0, 'STDs': 0.0, 'STDs (number)': 0.0, 'STDs:condylomatosis': 0.0, 'STDs:cervical condylomatosis': 0.0, 'STDs:vaginal condylomatosis': 0.0, 'STDs:vulvo-perineal condylomatosis': 0.0, 'STDs:syphilis': 0.0, 'STDs:AIDS': 0.0, 'STDs:HIV': 0.0, 'STDs:Hepatitis B': 0.0, 'STDs:HPV': 0.0, 'STDs: Number of diagnosis': 0.0, 'Hinselmann': 0.0, 'Schiller': 0.0, 'Citology': 0.0, 'Biopsy': 0.0}\n"
     ]
    },
    {
     "name": "stderr",
     "output_type": "stream",
     "text": [
      "Finding Elimination Order: : : 0it [00:00, ?it/s]\n",
      "0it [00:00, ?it/s]\n"
     ]
    },
    {
     "name": "stdout",
     "output_type": "stream",
     "text": [
      "Evidence for index 18: {'Age': 21.0, 'Number of sexual partners': 1.0, 'First sexual intercourse': 14.0, 'Num of pregnancies': 2.0, 'Smokes': 0.0, 'Smokes (years)': 0.0, 'Smokes (packs/year)': 0.0, 'Hormonal Contraceptives': 1.0, 'Hormonal Contraceptives (years)': 4.0, 'IUD': 0.0, 'IUD (years)': 0.0, 'STDs': 0.0, 'STDs (number)': 0.0, 'STDs:condylomatosis': 0.0, 'STDs:cervical condylomatosis': 0.0, 'STDs:vaginal condylomatosis': 0.0, 'STDs:vulvo-perineal condylomatosis': 0.0, 'STDs:syphilis': 0.0, 'STDs:AIDS': 0.0, 'STDs:HIV': 0.0, 'STDs:Hepatitis B': 0.0, 'STDs:HPV': 0.0, 'STDs: Number of diagnosis': 0.0, 'Hinselmann': 0.0, 'Schiller': 0.0, 'Citology': 0.0, 'Biopsy': 0.0}\n"
     ]
    },
    {
     "name": "stderr",
     "output_type": "stream",
     "text": [
      "Finding Elimination Order: : : 0it [00:00, ?it/s]\n",
      "0it [00:00, ?it/s]\n"
     ]
    },
    {
     "name": "stdout",
     "output_type": "stream",
     "text": [
      "Evidence for index 19: {'Age': 18.0, 'First sexual intercourse': 16.0, 'Num of pregnancies': 2.0, 'Smokes': 0.0, 'Smokes (years)': 0.0, 'Smokes (packs/year)': 0.0, 'STDs: Number of diagnosis': 0.0, 'Hinselmann': 0.0, 'Schiller': 0.0, 'Citology': 0.0, 'Biopsy': 0.0}\n"
     ]
    },
    {
     "name": "stderr",
     "output_type": "stream",
     "text": [
      "Finding Elimination Order: : 100%|██████████| 9/9 [00:00<00:00, 4499.25it/s]\n",
      "Eliminating: STDs:AIDS: 100%|██████████| 9/9 [00:00<00:00, 1499.51it/s]               \n",
      "WARNING:pgmpy:Found unknown state name. Trying to switch to using all state names as state numbers\n"
     ]
    },
    {
     "name": "stdout",
     "output_type": "stream",
     "text": [
      "Evidence for index 20: {'Age': 23.0, 'Number of sexual partners': 5.0, 'First sexual intercourse': 15.0, 'Num of pregnancies': 1.0, 'Smokes': 1.0, 'Smokes (years)': 8.0, 'Smokes (packs/year)': 4.0, 'Hormonal Contraceptives': 1.0, 'Hormonal Contraceptives (years)': 8.0, 'IUD': 0.0, 'IUD (years)': 0.0, 'STDs': 0.0, 'STDs (number)': 0.0, 'STDs:condylomatosis': 0.0, 'STDs:cervical condylomatosis': 0.0, 'STDs:vaginal condylomatosis': 0.0, 'STDs:vulvo-perineal condylomatosis': 0.0, 'STDs:syphilis': 0.0, 'STDs:AIDS': 0.0, 'STDs:HIV': 0.0, 'STDs:Hepatitis B': 0.0, 'STDs:HPV': 0.0, 'STDs: Number of diagnosis': 0.0, 'Hinselmann': 0.0, 'Schiller': 0.0, 'Citology': 0.0, 'Biopsy': 0.0}\n",
      "Error predicting for index 20: only integers, slices (`:`), ellipsis (`...`), numpy.newaxis (`None`) and integer or boolean arrays are valid indices\n",
      "Evidence for index 21: {'Age': 29.0, 'First sexual intercourse': 19.0, 'Num of pregnancies': 2.0, 'Smokes': 0.0, 'Smokes (years)': 0.0, 'Smokes (packs/year)': 0.0, 'STDs: Number of diagnosis': 0.0, 'Hinselmann': 0.0, 'Schiller': 0.0, 'Citology': 0.0, 'Biopsy': 0.0}\n"
     ]
    },
    {
     "name": "stderr",
     "output_type": "stream",
     "text": [
      "Finding Elimination Order: : 100%|██████████| 9/9 [00:00<00:00, 4494.97it/s]\n",
      "Eliminating: STDs:AIDS: 100%|██████████| 9/9 [00:00<00:00, 1500.53it/s]               \n"
     ]
    },
    {
     "name": "stdout",
     "output_type": "stream",
     "text": [
      "Evidence for index 22: {'Age': 15.0, 'Number of sexual partners': 1.0, 'First sexual intercourse': 14.0, 'Num of pregnancies': 1.0, 'Smokes': 0.0, 'Smokes (years)': 0.0, 'Smokes (packs/year)': 0.0, 'Hormonal Contraceptives': 0.0, 'Hormonal Contraceptives (years)': 0.0, 'IUD': 0.0, 'IUD (years)': 0.0, 'STDs': 0.0, 'STDs (number)': 0.0, 'STDs:condylomatosis': 0.0, 'STDs:cervical condylomatosis': 0.0, 'STDs:vaginal condylomatosis': 0.0, 'STDs:vulvo-perineal condylomatosis': 0.0, 'STDs:syphilis': 0.0, 'STDs:AIDS': 0.0, 'STDs:HIV': 0.0, 'STDs:Hepatitis B': 0.0, 'STDs:HPV': 0.0, 'STDs: Number of diagnosis': 0.0, 'Hinselmann': 0.0, 'Schiller': 0.0, 'Citology': 0.0, 'Biopsy': 0.0}\n"
     ]
    },
    {
     "name": "stderr",
     "output_type": "stream",
     "text": [
      "Finding Elimination Order: : : 0it [00:00, ?it/s]\n",
      "0it [00:00, ?it/s]\n"
     ]
    },
    {
     "name": "stdout",
     "output_type": "stream",
     "text": [
      "Evidence for index 23: {'Age': 21.0, 'Number of sexual partners': 1.0, 'First sexual intercourse': 17.0, 'Num of pregnancies': 2.0, 'Smokes': 0.0, 'Smokes (years)': 0.0, 'Smokes (packs/year)': 0.0, 'Hormonal Contraceptives': 1.0, 'Hormonal Contraceptives (years)': 3.0, 'IUD': 0.0, 'IUD (years)': 0.0, 'STDs': 0.0, 'STDs (number)': 0.0, 'STDs:condylomatosis': 0.0, 'STDs:cervical condylomatosis': 0.0, 'STDs:vaginal condylomatosis': 0.0, 'STDs:vulvo-perineal condylomatosis': 0.0, 'STDs:syphilis': 0.0, 'STDs:AIDS': 0.0, 'STDs:HIV': 0.0, 'STDs:Hepatitis B': 0.0, 'STDs:HPV': 0.0, 'STDs: Number of diagnosis': 0.0, 'Hinselmann': 1.0, 'Schiller': 1.0, 'Citology': 0.0, 'Biopsy': 1.0}\n"
     ]
    },
    {
     "name": "stderr",
     "output_type": "stream",
     "text": [
      "Finding Elimination Order: : : 0it [00:00, ?it/s]\n",
      "0it [00:00, ?it/s]\n"
     ]
    },
    {
     "name": "stdout",
     "output_type": "stream",
     "text": [
      "Evidence for index 24: {'Age': 24.0, 'Number of sexual partners': 2.0, 'First sexual intercourse': 15.0, 'Num of pregnancies': 3.0, 'Smokes': 0.0, 'Smokes (years)': 0.0, 'Smokes (packs/year)': 0.0, 'Hormonal Contraceptives': 1.0, 'Hormonal Contraceptives (years)': 4.0, 'IUD': 0.0, 'IUD (years)': 0.0, 'STDs': 1.0, 'STDs (number)': 1.0, 'STDs:condylomatosis': 0.0, 'STDs:cervical condylomatosis': 0.0, 'STDs:vaginal condylomatosis': 0.0, 'STDs:vulvo-perineal condylomatosis': 0.0, 'STDs:syphilis': 0.0, 'STDs:AIDS': 0.0, 'STDs:HIV': 1.0, 'STDs:Hepatitis B': 0.0, 'STDs:HPV': 0.0, 'STDs: Number of diagnosis': 1.0, 'Hinselmann': 0.0, 'Schiller': 0.0, 'Citology': 0.0, 'Biopsy': 0.0}\n"
     ]
    },
    {
     "name": "stderr",
     "output_type": "stream",
     "text": [
      "Finding Elimination Order: : : 0it [00:00, ?it/s]\n",
      "0it [00:00, ?it/s]\n"
     ]
    },
    {
     "name": "stdout",
     "output_type": "stream",
     "text": [
      "Evidence for index 25: {'Age': 24.0, 'Number of sexual partners': 1.0, 'First sexual intercourse': 21.0, 'Smokes': 0.0, 'Smokes (years)': 0.0, 'Smokes (packs/year)': 0.0, 'Hormonal Contraceptives': 1.0, 'Hormonal Contraceptives (years)': 1.0, 'IUD': 0.0, 'IUD (years)': 0.0, 'STDs': 0.0, 'STDs (number)': 0.0, 'STDs:condylomatosis': 0.0, 'STDs:cervical condylomatosis': 0.0, 'STDs:vaginal condylomatosis': 0.0, 'STDs:vulvo-perineal condylomatosis': 0.0, 'STDs:syphilis': 0.0, 'STDs:AIDS': 0.0, 'STDs:HIV': 0.0, 'STDs:Hepatitis B': 0.0, 'STDs:HPV': 0.0, 'STDs: Number of diagnosis': 0.0, 'Hinselmann': 0.0, 'Schiller': 0.0, 'Citology': 0.0, 'Biopsy': 0.0}\n"
     ]
    },
    {
     "name": "stderr",
     "output_type": "stream",
     "text": [
      "Finding Elimination Order: : : 0it [00:00, ?it/s]\n",
      "0it [00:00, ?it/s]\n"
     ]
    },
    {
     "name": "stdout",
     "output_type": "stream",
     "text": [
      "Evidence for index 26: {'Age': 24.0, 'Number of sexual partners': 2.0, 'First sexual intercourse': 16.0, 'Num of pregnancies': 3.0, 'Smokes': 0.0, 'Smokes (years)': 0.0, 'Smokes (packs/year)': 0.0, 'Hormonal Contraceptives': 1.0, 'Hormonal Contraceptives (years)': 5.0, 'IUD': 0.0, 'IUD (years)': 0.0, 'STDs': 0.0, 'STDs (number)': 0.0, 'STDs:condylomatosis': 0.0, 'STDs:cervical condylomatosis': 0.0, 'STDs:vaginal condylomatosis': 0.0, 'STDs:vulvo-perineal condylomatosis': 0.0, 'STDs:syphilis': 0.0, 'STDs:AIDS': 0.0, 'STDs:HIV': 0.0, 'STDs:Hepatitis B': 0.0, 'STDs:HPV': 0.0, 'STDs: Number of diagnosis': 0.0, 'Hinselmann': 0.0, 'Schiller': 0.0, 'Citology': 0.0, 'Biopsy': 0.0}\n"
     ]
    },
    {
     "name": "stderr",
     "output_type": "stream",
     "text": [
      "Finding Elimination Order: : : 0it [00:00, ?it/s]\n",
      "0it [00:00, ?it/s]\n"
     ]
    },
    {
     "name": "stdout",
     "output_type": "stream",
     "text": [
      "Evidence for index 27: {'Age': 30.0, 'Number of sexual partners': 5.0, 'First sexual intercourse': 16.0, 'Num of pregnancies': 4.0, 'Smokes': 0.0, 'Smokes (years)': 0.0, 'Smokes (packs/year)': 0.0, 'Hormonal Contraceptives': 0.0, 'Hormonal Contraceptives (years)': 0.0, 'IUD': 1.0, 'IUD (years)': 7.0, 'STDs': 1.0, 'STDs (number)': 1.0, 'STDs:condylomatosis': 0.0, 'STDs:cervical condylomatosis': 0.0, 'STDs:vaginal condylomatosis': 0.0, 'STDs:vulvo-perineal condylomatosis': 0.0, 'STDs:syphilis': 0.0, 'STDs:AIDS': 0.0, 'STDs:HIV': 1.0, 'STDs:Hepatitis B': 0.0, 'STDs:HPV': 0.0, 'STDs: Number of diagnosis': 1.0, 'Hinselmann': 0.0, 'Schiller': 0.0, 'Citology': 1.0, 'Biopsy': 0.0}\n"
     ]
    },
    {
     "name": "stderr",
     "output_type": "stream",
     "text": [
      "Finding Elimination Order: : : 0it [00:00, ?it/s]\n",
      "0it [00:00, ?it/s]\n"
     ]
    },
    {
     "name": "stdout",
     "output_type": "stream",
     "text": [
      "Evidence for index 28: {'Age': 29.0, 'Number of sexual partners': 2.0, 'First sexual intercourse': 17.0, 'Num of pregnancies': 2.0, 'Smokes': 0.0, 'Smokes (years)': 0.0, 'Smokes (packs/year)': 0.0, 'Hormonal Contraceptives': 1.0, 'Hormonal Contraceptives (years)': 7.0, 'IUD': 0.0, 'IUD (years)': 0.0, 'STDs': 0.0, 'STDs (number)': 0.0, 'STDs:condylomatosis': 0.0, 'STDs:cervical condylomatosis': 0.0, 'STDs:vaginal condylomatosis': 0.0, 'STDs:vulvo-perineal condylomatosis': 0.0, 'STDs:syphilis': 0.0, 'STDs:AIDS': 0.0, 'STDs:HIV': 0.0, 'STDs:Hepatitis B': 0.0, 'STDs:HPV': 0.0, 'STDs: Number of diagnosis': 0.0, 'Hinselmann': 0.0, 'Schiller': 0.0, 'Citology': 0.0, 'Biopsy': 0.0}\n"
     ]
    },
    {
     "name": "stderr",
     "output_type": "stream",
     "text": [
      "Finding Elimination Order: : : 0it [00:00, ?it/s]\n",
      "0it [00:00, ?it/s]\n"
     ]
    },
    {
     "name": "stdout",
     "output_type": "stream",
     "text": [
      "Evidence for index 29: {'Age': 24.0, 'Number of sexual partners': 2.0, 'First sexual intercourse': 19.0, 'Num of pregnancies': 1.0, 'Smokes': 0.0, 'Smokes (years)': 0.0, 'Smokes (packs/year)': 0.0, 'Hormonal Contraceptives': 0.0, 'Hormonal Contraceptives (years)': 0.0, 'IUD': 0.0, 'IUD (years)': 0.0, 'STDs': 0.0, 'STDs (number)': 0.0, 'STDs:condylomatosis': 0.0, 'STDs:cervical condylomatosis': 0.0, 'STDs:vaginal condylomatosis': 0.0, 'STDs:vulvo-perineal condylomatosis': 0.0, 'STDs:syphilis': 0.0, 'STDs:AIDS': 0.0, 'STDs:HIV': 0.0, 'STDs:Hepatitis B': 0.0, 'STDs:HPV': 0.0, 'STDs: Number of diagnosis': 0.0, 'Hinselmann': 0.0, 'Schiller': 0.0, 'Citology': 0.0, 'Biopsy': 0.0}\n"
     ]
    },
    {
     "name": "stderr",
     "output_type": "stream",
     "text": [
      "Finding Elimination Order: : : 0it [00:00, ?it/s]\n",
      "0it [00:00, ?it/s]\n"
     ]
    },
    {
     "name": "stdout",
     "output_type": "stream",
     "text": [
      "Evidence for index 30: {'Age': 37.0, 'Number of sexual partners': 3.0, 'First sexual intercourse': 18.0, 'Num of pregnancies': 3.0, 'Smokes': 0.0, 'Smokes (years)': 0.0, 'Smokes (packs/year)': 0.0, 'Hormonal Contraceptives': 1.0, 'Hormonal Contraceptives (years)': 0.25, 'IUD': 0.0, 'IUD (years)': 0.0, 'STDs': 0.0, 'STDs (number)': 0.0, 'STDs:condylomatosis': 0.0, 'STDs:cervical condylomatosis': 0.0, 'STDs:vaginal condylomatosis': 0.0, 'STDs:vulvo-perineal condylomatosis': 0.0, 'STDs:syphilis': 0.0, 'STDs:AIDS': 0.0, 'STDs:HIV': 0.0, 'STDs:Hepatitis B': 0.0, 'STDs:HPV': 0.0, 'STDs: Number of diagnosis': 0.0, 'Hinselmann': 0.0, 'Schiller': 0.0, 'Citology': 0.0, 'Biopsy': 0.0}\n"
     ]
    },
    {
     "name": "stderr",
     "output_type": "stream",
     "text": [
      "Finding Elimination Order: : : 0it [00:00, ?it/s]\n",
      "0it [00:00, ?it/s]\n"
     ]
    },
    {
     "name": "stdout",
     "output_type": "stream",
     "text": [
      "Evidence for index 31: {'Age': 15.0, 'Number of sexual partners': 3.0, 'First sexual intercourse': 14.0, 'Num of pregnancies': 1.0, 'Smokes': 0.0, 'Smokes (years)': 0.0, 'Smokes (packs/year)': 0.0, 'Hormonal Contraceptives': 1.0, 'Hormonal Contraceptives (years)': 1.0, 'IUD': 0.0, 'IUD (years)': 0.0, 'STDs': 0.0, 'STDs (number)': 0.0, 'STDs:condylomatosis': 0.0, 'STDs:cervical condylomatosis': 0.0, 'STDs:vaginal condylomatosis': 0.0, 'STDs:vulvo-perineal condylomatosis': 0.0, 'STDs:syphilis': 0.0, 'STDs:AIDS': 0.0, 'STDs:HIV': 0.0, 'STDs:Hepatitis B': 0.0, 'STDs:HPV': 0.0, 'STDs: Number of diagnosis': 0.0, 'Hinselmann': 0.0, 'Schiller': 0.0, 'Citology': 0.0, 'Biopsy': 0.0}\n"
     ]
    },
    {
     "name": "stderr",
     "output_type": "stream",
     "text": [
      "Finding Elimination Order: : : 0it [00:00, ?it/s]\n",
      "0it [00:00, ?it/s]\n",
      "WARNING:pgmpy:Found unknown state name. Trying to switch to using all state names as state numbers\n"
     ]
    },
    {
     "name": "stdout",
     "output_type": "stream",
     "text": [
      "Evidence for index 32: {'Age': 27.0, 'Number of sexual partners': 3.0, 'First sexual intercourse': 16.0, 'Num of pregnancies': 3.0, 'Smokes': 0.0, 'Smokes (years)': 0.0, 'Smokes (packs/year)': 0.0, 'Hormonal Contraceptives': 1.0, 'Hormonal Contraceptives (years)': 0.41, 'IUD': 0.0, 'IUD (years)': 0.0, 'STDs': 0.0, 'STDs (number)': 0.0, 'STDs:condylomatosis': 0.0, 'STDs:cervical condylomatosis': 0.0, 'STDs:vaginal condylomatosis': 0.0, 'STDs:vulvo-perineal condylomatosis': 0.0, 'STDs:syphilis': 0.0, 'STDs:AIDS': 0.0, 'STDs:HIV': 0.0, 'STDs:Hepatitis B': 0.0, 'STDs:HPV': 0.0, 'STDs: Number of diagnosis': 0.0, 'Hinselmann': 0.0, 'Schiller': 0.0, 'Citology': 0.0, 'Biopsy': 0.0}\n",
      "Error predicting for index 32: only integers, slices (`:`), ellipsis (`...`), numpy.newaxis (`None`) and integer or boolean arrays are valid indices\n",
      "Evidence for index 33: {'Age': 17.0, 'Number of sexual partners': 3.0, 'First sexual intercourse': 13.0, 'Num of pregnancies': 1.0, 'Smokes': 1.0, 'Smokes (years)': 2.0, 'Smokes (packs/year)': 1.0, 'Hormonal Contraceptives': 0.0, 'Hormonal Contraceptives (years)': 0.0, 'IUD': 0.0, 'IUD (years)': 0.0, 'STDs': 0.0, 'STDs (number)': 0.0, 'STDs:condylomatosis': 0.0, 'STDs:cervical condylomatosis': 0.0, 'STDs:vaginal condylomatosis': 0.0, 'STDs:vulvo-perineal condylomatosis': 0.0, 'STDs:syphilis': 0.0, 'STDs:AIDS': 0.0, 'STDs:HIV': 0.0, 'STDs:Hepatitis B': 0.0, 'STDs:HPV': 0.0, 'STDs: Number of diagnosis': 0.0, 'Hinselmann': 0.0, 'Schiller': 0.0, 'Citology': 0.0, 'Biopsy': 0.0}\n"
     ]
    },
    {
     "name": "stderr",
     "output_type": "stream",
     "text": [
      "Finding Elimination Order: : : 0it [00:00, ?it/s]\n",
      "0it [00:00, ?it/s]\n"
     ]
    },
    {
     "name": "stdout",
     "output_type": "stream",
     "text": [
      "Evidence for index 34: {'Age': 39.0, 'Number of sexual partners': 4.0, 'First sexual intercourse': 29.0, 'Num of pregnancies': 1.0, 'Smokes': 0.0, 'Smokes (years)': 0.0, 'Smokes (packs/year)': 0.0, 'Hormonal Contraceptives': 1.0, 'Hormonal Contraceptives (years)': 0.08, 'IUD': 0.0, 'IUD (years)': 0.0, 'STDs': 0.0, 'STDs (number)': 0.0, 'STDs:condylomatosis': 0.0, 'STDs:cervical condylomatosis': 0.0, 'STDs:vaginal condylomatosis': 0.0, 'STDs:vulvo-perineal condylomatosis': 0.0, 'STDs:syphilis': 0.0, 'STDs:AIDS': 0.0, 'STDs:HIV': 0.0, 'STDs:Hepatitis B': 0.0, 'STDs:HPV': 0.0, 'STDs: Number of diagnosis': 0.0, 'Hinselmann': 0.0, 'Schiller': 0.0, 'Citology': 0.0, 'Biopsy': 0.0}\n"
     ]
    },
    {
     "name": "stderr",
     "output_type": "stream",
     "text": [
      "Finding Elimination Order: : : 0it [00:00, ?it/s]\n",
      "0it [00:00, ?it/s]\n"
     ]
    },
    {
     "name": "stdout",
     "output_type": "stream",
     "text": [
      "Evidence for index 35: {'Age': 32.0, 'Number of sexual partners': 2.0, 'First sexual intercourse': 17.0, 'Num of pregnancies': 5.0, 'Smokes': 0.0, 'Smokes (years)': 0.0, 'Smokes (packs/year)': 0.0, 'Hormonal Contraceptives': 1.0, 'Hormonal Contraceptives (years)': 0.33, 'IUD': 0.0, 'IUD (years)': 0.0, 'STDs': 0.0, 'STDs (number)': 0.0, 'STDs:condylomatosis': 0.0, 'STDs:cervical condylomatosis': 0.0, 'STDs:vaginal condylomatosis': 0.0, 'STDs:vulvo-perineal condylomatosis': 0.0, 'STDs:syphilis': 0.0, 'STDs:AIDS': 0.0, 'STDs:HIV': 0.0, 'STDs:Hepatitis B': 0.0, 'STDs:HPV': 0.0, 'STDs: Number of diagnosis': 0.0, 'Hinselmann': 0.0, 'Schiller': 0.0, 'Citology': 0.0, 'Biopsy': 0.0}\n"
     ]
    },
    {
     "name": "stderr",
     "output_type": "stream",
     "text": [
      "Finding Elimination Order: : : 0it [00:00, ?it/s]\n",
      "0it [00:00, ?it/s]\n"
     ]
    },
    {
     "name": "stdout",
     "output_type": "stream",
     "text": [
      "Evidence for index 36: {'Age': 84.0, 'Number of sexual partners': 3.0, 'First sexual intercourse': 20.0, 'Num of pregnancies': 11.0, 'Smokes': 1.0, 'Smokes (years)': 24.0, 'Smokes (packs/year)': 0.5132021277, 'Hormonal Contraceptives': 0.0, 'Hormonal Contraceptives (years)': 0.0, 'IUD': 0.0, 'IUD (years)': 0.0, 'STDs': 0.0, 'STDs (number)': 0.0, 'STDs:condylomatosis': 0.0, 'STDs:cervical condylomatosis': 0.0, 'STDs:vaginal condylomatosis': 0.0, 'STDs:vulvo-perineal condylomatosis': 0.0, 'STDs:syphilis': 0.0, 'STDs:AIDS': 0.0, 'STDs:HIV': 0.0, 'STDs:Hepatitis B': 0.0, 'STDs:HPV': 0.0, 'STDs: Number of diagnosis': 0.0, 'Hinselmann': 0.0, 'Schiller': 1.0, 'Citology': 0.0, 'Biopsy': 0.0}\n"
     ]
    },
    {
     "name": "stderr",
     "output_type": "stream",
     "text": [
      "WARNING:pgmpy:Found unknown state name. Trying to switch to using all state names as state numbers\n"
     ]
    },
    {
     "name": "stdout",
     "output_type": "stream",
     "text": [
      "Error predicting for index 36: only integers, slices (`:`), ellipsis (`...`), numpy.newaxis (`None`) and integer or boolean arrays are valid indices\n",
      "Evidence for index 37: {'Age': 22.0, 'Number of sexual partners': 2.0, 'First sexual intercourse': 15.0, 'Num of pregnancies': 2.0, 'Smokes': 0.0, 'Smokes (years)': 0.0, 'Smokes (packs/year)': 0.0, 'Hormonal Contraceptives': 0.0, 'Hormonal Contraceptives (years)': 0.0, 'IUD': 0.0, 'IUD (years)': 0.0, 'STDs': 0.0, 'STDs (number)': 0.0, 'STDs:condylomatosis': 0.0, 'STDs:cervical condylomatosis': 0.0, 'STDs:vaginal condylomatosis': 0.0, 'STDs:vulvo-perineal condylomatosis': 0.0, 'STDs:syphilis': 0.0, 'STDs:AIDS': 0.0, 'STDs:HIV': 0.0, 'STDs:Hepatitis B': 0.0, 'STDs:HPV': 0.0, 'STDs: Number of diagnosis': 0.0, 'Hinselmann': 0.0, 'Schiller': 0.0, 'Citology': 0.0, 'Biopsy': 0.0}\n"
     ]
    },
    {
     "name": "stderr",
     "output_type": "stream",
     "text": [
      "Finding Elimination Order: : : 0it [00:00, ?it/s]\n",
      "0it [00:00, ?it/s]\n"
     ]
    },
    {
     "name": "stdout",
     "output_type": "stream",
     "text": [
      "Evidence for index 38: {'Age': 29.0, 'Number of sexual partners': 8.0, 'First sexual intercourse': 17.0, 'Num of pregnancies': 2.0, 'Smokes': 1.0, 'Smokes (years)': 14.0, 'Smokes (packs/year)': 2.8, 'Hormonal Contraceptives': 0.0, 'Hormonal Contraceptives (years)': 0.0, 'IUD': 0.0, 'IUD (years)': 0.0, 'STDs': 0.0, 'STDs (number)': 0.0, 'STDs:condylomatosis': 0.0, 'STDs:cervical condylomatosis': 0.0, 'STDs:vaginal condylomatosis': 0.0, 'STDs:vulvo-perineal condylomatosis': 0.0, 'STDs:syphilis': 0.0, 'STDs:AIDS': 0.0, 'STDs:HIV': 0.0, 'STDs:Hepatitis B': 0.0, 'STDs:HPV': 0.0, 'STDs: Number of diagnosis': 0.0, 'Hinselmann': 0.0, 'Schiller': 0.0, 'Citology': 0.0, 'Biopsy': 0.0}\n"
     ]
    },
    {
     "name": "stderr",
     "output_type": "stream",
     "text": [
      "Finding Elimination Order: : : 0it [00:00, ?it/s]\n",
      "0it [00:00, ?it/s]\n"
     ]
    },
    {
     "name": "stdout",
     "output_type": "stream",
     "text": [
      "Evidence for index 39: {'Age': 25.0, 'Number of sexual partners': 5.0, 'First sexual intercourse': 15.0, 'Num of pregnancies': 4.0, 'Smokes': 0.0, 'Smokes (years)': 0.0, 'Smokes (packs/year)': 0.0, 'Hormonal Contraceptives': 1.0, 'Hormonal Contraceptives (years)': 3.0, 'IUD': 1.0, 'IUD (years)': 2.0, 'STDs': 0.0, 'STDs (number)': 0.0, 'STDs:condylomatosis': 0.0, 'STDs:cervical condylomatosis': 0.0, 'STDs:vaginal condylomatosis': 0.0, 'STDs:vulvo-perineal condylomatosis': 0.0, 'STDs:syphilis': 0.0, 'STDs:AIDS': 0.0, 'STDs:HIV': 0.0, 'STDs:Hepatitis B': 0.0, 'STDs:HPV': 0.0, 'STDs: Number of diagnosis': 0.0, 'Hinselmann': 0.0, 'Schiller': 0.0, 'Citology': 0.0, 'Biopsy': 0.0}\n"
     ]
    },
    {
     "name": "stderr",
     "output_type": "stream",
     "text": [
      "Finding Elimination Order: : : 0it [00:00, ?it/s]\n",
      "0it [00:00, ?it/s]\n"
     ]
    },
    {
     "name": "stdout",
     "output_type": "stream",
     "text": [
      "Evidence for index 40: {'Age': 33.0, 'Number of sexual partners': 2.0, 'First sexual intercourse': 21.0, 'Num of pregnancies': 0.0, 'Smokes': 0.0, 'Smokes (years)': 0.0, 'Smokes (packs/year)': 0.0, 'Hormonal Contraceptives': 0.0, 'Hormonal Contraceptives (years)': 0.0, 'IUD': 0.0, 'IUD (years)': 0.0, 'STDs': 0.0, 'STDs (number)': 0.0, 'STDs:condylomatosis': 0.0, 'STDs:cervical condylomatosis': 0.0, 'STDs:vaginal condylomatosis': 0.0, 'STDs:vulvo-perineal condylomatosis': 0.0, 'STDs:syphilis': 0.0, 'STDs:AIDS': 0.0, 'STDs:HIV': 0.0, 'STDs:Hepatitis B': 0.0, 'STDs:HPV': 0.0, 'STDs: Number of diagnosis': 0.0, 'Hinselmann': 0.0, 'Schiller': 0.0, 'Citology': 0.0, 'Biopsy': 0.0}\n"
     ]
    },
    {
     "name": "stderr",
     "output_type": "stream",
     "text": [
      "Finding Elimination Order: : : 0it [00:00, ?it/s]\n",
      "0it [00:00, ?it/s]\n"
     ]
    },
    {
     "name": "stdout",
     "output_type": "stream",
     "text": [
      "Evidence for index 41: {'Age': 24.0, 'Number of sexual partners': 1.0, 'First sexual intercourse': 17.0, 'Num of pregnancies': 3.0, 'Smokes': 0.0, 'Smokes (years)': 0.0, 'Smokes (packs/year)': 0.0, 'Hormonal Contraceptives': 1.0, 'Hormonal Contraceptives (years)': 6.0, 'IUD': 0.0, 'IUD (years)': 0.0, 'STDs': 0.0, 'STDs (number)': 0.0, 'STDs:condylomatosis': 0.0, 'STDs:cervical condylomatosis': 0.0, 'STDs:vaginal condylomatosis': 0.0, 'STDs:vulvo-perineal condylomatosis': 0.0, 'STDs:syphilis': 0.0, 'STDs:AIDS': 0.0, 'STDs:HIV': 0.0, 'STDs:Hepatitis B': 0.0, 'STDs:HPV': 0.0, 'STDs: Number of diagnosis': 0.0, 'Hinselmann': 0.0, 'Schiller': 0.0, 'Citology': 0.0, 'Biopsy': 0.0}\n"
     ]
    },
    {
     "name": "stderr",
     "output_type": "stream",
     "text": [
      "Finding Elimination Order: : : 0it [00:00, ?it/s]\n",
      "0it [00:00, ?it/s]\n"
     ]
    },
    {
     "name": "stdout",
     "output_type": "stream",
     "text": [
      "Evidence for index 42: {'Age': 23.0, 'Number of sexual partners': 4.0, 'First sexual intercourse': 18.0, 'Num of pregnancies': 1.0, 'Smokes': 1.0, 'Smokes (years)': 4.0, 'Smokes (packs/year)': 0.5132021277, 'Hormonal Contraceptives': 1.0, 'Hormonal Contraceptives (years)': 2.0, 'IUD': 0.0, 'IUD (years)': 0.0, 'STDs': 0.0, 'STDs (number)': 0.0, 'STDs:condylomatosis': 0.0, 'STDs:cervical condylomatosis': 0.0, 'STDs:vaginal condylomatosis': 0.0, 'STDs:vulvo-perineal condylomatosis': 0.0, 'STDs:syphilis': 0.0, 'STDs:AIDS': 0.0, 'STDs:HIV': 0.0, 'STDs:Hepatitis B': 0.0, 'STDs:HPV': 0.0, 'STDs: Number of diagnosis': 0.0, 'Hinselmann': 0.0, 'Schiller': 0.0, 'Citology': 0.0, 'Biopsy': 0.0}\n"
     ]
    },
    {
     "name": "stderr",
     "output_type": "stream",
     "text": [
      "Finding Elimination Order: : : 0it [00:00, ?it/s]\n",
      "0it [00:00, ?it/s]\n"
     ]
    },
    {
     "name": "stdout",
     "output_type": "stream",
     "text": [
      "Evidence for index 43: {'Age': 48.0, 'Number of sexual partners': 2.0, 'First sexual intercourse': 16.0, 'Num of pregnancies': 7.0, 'Smokes': 1.0, 'Smokes (years)': 32.0, 'Smokes (packs/year)': 8.0, 'Hormonal Contraceptives': 1.0, 'Hormonal Contraceptives (years)': 7.0, 'IUD': 0.0, 'IUD (years)': 0.0, 'STDs': 0.0, 'STDs (number)': 0.0, 'STDs:condylomatosis': 0.0, 'STDs:cervical condylomatosis': 0.0, 'STDs:vaginal condylomatosis': 0.0, 'STDs:vulvo-perineal condylomatosis': 0.0, 'STDs:syphilis': 0.0, 'STDs:AIDS': 0.0, 'STDs:HIV': 0.0, 'STDs:Hepatitis B': 0.0, 'STDs:HPV': 0.0, 'STDs: Number of diagnosis': 0.0, 'Hinselmann': 0.0, 'Schiller': 0.0, 'Citology': 0.0, 'Biopsy': 0.0}\n"
     ]
    },
    {
     "name": "stderr",
     "output_type": "stream",
     "text": [
      "WARNING:pgmpy:Found unknown state name. Trying to switch to using all state names as state numbers\n"
     ]
    },
    {
     "name": "stdout",
     "output_type": "stream",
     "text": [
      "Error predicting for index 43: only integers, slices (`:`), ellipsis (`...`), numpy.newaxis (`None`) and integer or boolean arrays are valid indices\n",
      "Evidence for index 44: {'Age': 35.0, 'Number of sexual partners': 2.0, 'First sexual intercourse': 20.0, 'Num of pregnancies': 2.0, 'Smokes': 0.0, 'Smokes (years)': 0.0, 'Smokes (packs/year)': 0.0, 'Hormonal Contraceptives': 1.0, 'Hormonal Contraceptives (years)': 2.0, 'IUD': 0.0, 'IUD (years)': 0.0, 'STDs': 0.0, 'STDs (number)': 0.0, 'STDs:condylomatosis': 0.0, 'STDs:cervical condylomatosis': 0.0, 'STDs:vaginal condylomatosis': 0.0, 'STDs:vulvo-perineal condylomatosis': 0.0, 'STDs:syphilis': 0.0, 'STDs:AIDS': 0.0, 'STDs:HIV': 0.0, 'STDs:Hepatitis B': 0.0, 'STDs:HPV': 0.0, 'STDs: Number of diagnosis': 0.0, 'Hinselmann': 0.0, 'Schiller': 0.0, 'Citology': 0.0, 'Biopsy': 0.0}\n"
     ]
    },
    {
     "name": "stderr",
     "output_type": "stream",
     "text": [
      "Finding Elimination Order: : : 0it [00:00, ?it/s]\n",
      "0it [00:00, ?it/s]\n"
     ]
    },
    {
     "name": "stdout",
     "output_type": "stream",
     "text": [
      "Evidence for index 45: {'Age': 41.0, 'Number of sexual partners': 3.0, 'First sexual intercourse': 18.0, 'Num of pregnancies': 5.0, 'Smokes': 0.0, 'Smokes (years)': 0.0, 'Smokes (packs/year)': 0.0, 'Hormonal Contraceptives': 1.0, 'Hormonal Contraceptives (years)': 1.0, 'IUD': 1.0, 'IUD (years)': 4.0, 'STDs': 0.0, 'STDs (number)': 0.0, 'STDs:condylomatosis': 0.0, 'STDs:cervical condylomatosis': 0.0, 'STDs:vaginal condylomatosis': 0.0, 'STDs:vulvo-perineal condylomatosis': 0.0, 'STDs:syphilis': 0.0, 'STDs:AIDS': 0.0, 'STDs:HIV': 0.0, 'STDs:Hepatitis B': 0.0, 'STDs:HPV': 0.0, 'STDs: Number of diagnosis': 0.0, 'Hinselmann': 0.0, 'Schiller': 0.0, 'Citology': 0.0, 'Biopsy': 0.0}\n"
     ]
    },
    {
     "name": "stderr",
     "output_type": "stream",
     "text": [
      "Finding Elimination Order: : : 0it [00:00, ?it/s]\n",
      "0it [00:00, ?it/s]\n",
      "WARNING:pgmpy:Found unknown state name. Trying to switch to using all state names as state numbers\n"
     ]
    },
    {
     "name": "stdout",
     "output_type": "stream",
     "text": [
      "Evidence for index 46: {'Age': 18.0, 'Number of sexual partners': 3.0, 'First sexual intercourse': 14.0, 'Num of pregnancies': 1.0, 'Smokes': 1.0, 'Smokes (years)': 3.0, 'Smokes (packs/year)': 0.45, 'STDs': 0.0, 'STDs (number)': 0.0, 'STDs:condylomatosis': 0.0, 'STDs:cervical condylomatosis': 0.0, 'STDs:vaginal condylomatosis': 0.0, 'STDs:vulvo-perineal condylomatosis': 0.0, 'STDs:syphilis': 0.0, 'STDs:AIDS': 0.0, 'STDs:HIV': 0.0, 'STDs:Hepatitis B': 0.0, 'STDs:HPV': 0.0, 'STDs: Number of diagnosis': 0.0, 'Hinselmann': 0.0, 'Schiller': 0.0, 'Citology': 0.0, 'Biopsy': 0.0}\n",
      "Error predicting for index 46: only integers, slices (`:`), ellipsis (`...`), numpy.newaxis (`None`) and integer or boolean arrays are valid indices\n",
      "Evidence for index 47: {'Age': 30.0, 'Number of sexual partners': 2.0, 'First sexual intercourse': 17.0, 'Num of pregnancies': 2.0, 'Smokes': 0.0, 'Smokes (years)': 0.0, 'Smokes (packs/year)': 0.0, 'Hormonal Contraceptives': 1.0, 'Hormonal Contraceptives (years)': 6.0, 'IUD': 0.0, 'IUD (years)': 0.0, 'STDs': 0.0, 'STDs (number)': 0.0, 'STDs:condylomatosis': 0.0, 'STDs:cervical condylomatosis': 0.0, 'STDs:vaginal condylomatosis': 0.0, 'STDs:vulvo-perineal condylomatosis': 0.0, 'STDs:syphilis': 0.0, 'STDs:AIDS': 0.0, 'STDs:HIV': 0.0, 'STDs:Hepatitis B': 0.0, 'STDs:HPV': 0.0, 'STDs: Number of diagnosis': 0.0, 'Hinselmann': 0.0, 'Schiller': 0.0, 'Citology': 0.0, 'Biopsy': 0.0}\n"
     ]
    },
    {
     "name": "stderr",
     "output_type": "stream",
     "text": [
      "Finding Elimination Order: : : 0it [00:00, ?it/s]\n",
      "0it [00:00, ?it/s]\n",
      "WARNING:pgmpy:Found unknown state name. Trying to switch to using all state names as state numbers\n",
      "WARNING:pgmpy:Found unknown state name. Trying to switch to using all state names as state numbers\n"
     ]
    },
    {
     "name": "stdout",
     "output_type": "stream",
     "text": [
      "Evidence for index 48: {'Age': 26.0, 'Number of sexual partners': 10.0, 'First sexual intercourse': 16.0, 'Num of pregnancies': 1.0, 'Smokes': 1.0, 'Smokes (years)': 9.0, 'Smokes (packs/year)': 0.5132021277, 'STDs: Number of diagnosis': 0.0, 'Hinselmann': 0.0, 'Schiller': 0.0, 'Citology': 0.0, 'Biopsy': 0.0}\n",
      "Error predicting for index 48: only integers, slices (`:`), ellipsis (`...`), numpy.newaxis (`None`) and integer or boolean arrays are valid indices\n",
      "Evidence for index 49: {'Age': 16.0, 'Number of sexual partners': 28.0, 'First sexual intercourse': 10.0, 'Num of pregnancies': 1.0, 'Smokes': 1.0, 'Smokes (years)': 5.0, 'Smokes (packs/year)': 5.0, 'Hormonal Contraceptives': 0.0, 'Hormonal Contraceptives (years)': 0.0, 'IUD': 0.0, 'IUD (years)': 0.0, 'STDs': 0.0, 'STDs (number)': 0.0, 'STDs:condylomatosis': 0.0, 'STDs:cervical condylomatosis': 0.0, 'STDs:vaginal condylomatosis': 0.0, 'STDs:vulvo-perineal condylomatosis': 0.0, 'STDs:syphilis': 0.0, 'STDs:AIDS': 0.0, 'STDs:HIV': 0.0, 'STDs:Hepatitis B': 0.0, 'STDs:HPV': 0.0, 'STDs: Number of diagnosis': 0.0, 'Hinselmann': 0.0, 'Schiller': 0.0, 'Citology': 0.0, 'Biopsy': 0.0}\n",
      "Error predicting for index 49: only integers, slices (`:`), ellipsis (`...`), numpy.newaxis (`None`) and integer or boolean arrays are valid indices\n",
      "Evidence for index 50: {'Age': 20.0, 'Number of sexual partners': 2.0, 'First sexual intercourse': 16.0, 'Num of pregnancies': 1.0, 'Smokes': 0.0, 'Smokes (years)': 0.0, 'Smokes (packs/year)': 0.0, 'Hormonal Contraceptives': 1.0, 'Hormonal Contraceptives (years)': 1.0, 'IUD': 0.0, 'IUD (years)': 0.0, 'STDs': 0.0, 'STDs (number)': 0.0, 'STDs:condylomatosis': 0.0, 'STDs:cervical condylomatosis': 0.0, 'STDs:vaginal condylomatosis': 0.0, 'STDs:vulvo-perineal condylomatosis': 0.0, 'STDs:syphilis': 0.0, 'STDs:AIDS': 0.0, 'STDs:HIV': 0.0, 'STDs:Hepatitis B': 0.0, 'STDs:HPV': 0.0, 'STDs: Number of diagnosis': 0.0, 'Hinselmann': 0.0, 'Schiller': 0.0, 'Citology': 0.0, 'Biopsy': 0.0}\n"
     ]
    },
    {
     "name": "stderr",
     "output_type": "stream",
     "text": [
      "Finding Elimination Order: : : 0it [00:00, ?it/s]\n",
      "0it [00:00, ?it/s]\n"
     ]
    },
    {
     "name": "stdout",
     "output_type": "stream",
     "text": [
      "Evidence for index 51: {'Age': 16.0, 'Number of sexual partners': 2.0, 'First sexual intercourse': 15.0, 'Num of pregnancies': 1.0, 'Smokes': 0.0, 'Smokes (years)': 0.0, 'Smokes (packs/year)': 0.0, 'Hormonal Contraceptives': 0.0, 'Hormonal Contraceptives (years)': 0.0, 'IUD': 0.0, 'IUD (years)': 0.0, 'STDs': 0.0, 'STDs (number)': 0.0, 'STDs:condylomatosis': 0.0, 'STDs:cervical condylomatosis': 0.0, 'STDs:vaginal condylomatosis': 0.0, 'STDs:vulvo-perineal condylomatosis': 0.0, 'STDs:syphilis': 0.0, 'STDs:AIDS': 0.0, 'STDs:HIV': 0.0, 'STDs:Hepatitis B': 0.0, 'STDs:HPV': 0.0, 'STDs: Number of diagnosis': 0.0, 'Hinselmann': 0.0, 'Schiller': 0.0, 'Citology': 0.0, 'Biopsy': 0.0}\n"
     ]
    },
    {
     "name": "stderr",
     "output_type": "stream",
     "text": [
      "Finding Elimination Order: : : 0it [00:00, ?it/s]\n",
      "0it [00:00, ?it/s]\n"
     ]
    },
    {
     "name": "stdout",
     "output_type": "stream",
     "text": [
      "Evidence for index 52: {'Age': 23.0, 'Number of sexual partners': 5.0, 'First sexual intercourse': 16.0, 'Num of pregnancies': 1.0, 'Smokes': 0.0, 'Smokes (years)': 0.0, 'Smokes (packs/year)': 0.0, 'Hormonal Contraceptives': 1.0, 'Hormonal Contraceptives (years)': 0.25, 'IUD': 0.0, 'IUD (years)': 0.0, 'STDs': 0.0, 'STDs (number)': 0.0, 'STDs:condylomatosis': 0.0, 'STDs:cervical condylomatosis': 0.0, 'STDs:vaginal condylomatosis': 0.0, 'STDs:vulvo-perineal condylomatosis': 0.0, 'STDs:syphilis': 0.0, 'STDs:AIDS': 0.0, 'STDs:HIV': 0.0, 'STDs:Hepatitis B': 0.0, 'STDs:HPV': 0.0, 'STDs: Number of diagnosis': 0.0, 'Hinselmann': 0.0, 'Schiller': 0.0, 'Citology': 0.0, 'Biopsy': 0.0}\n"
     ]
    },
    {
     "name": "stderr",
     "output_type": "stream",
     "text": [
      "Finding Elimination Order: : : 0it [00:00, ?it/s]\n",
      "0it [00:00, ?it/s]\n"
     ]
    },
    {
     "name": "stdout",
     "output_type": "stream",
     "text": [
      "Evidence for index 53: {'Age': 29.0, 'Number of sexual partners': 3.0, 'First sexual intercourse': 15.0, 'Num of pregnancies': 3.0, 'Smokes': 0.0, 'Smokes (years)': 0.0, 'Smokes (packs/year)': 0.0, 'Hormonal Contraceptives': 0.0, 'Hormonal Contraceptives (years)': 0.0, 'IUD': 0.0, 'IUD (years)': 0.0, 'STDs': 1.0, 'STDs (number)': 1.0, 'STDs:condylomatosis': 0.0, 'STDs:cervical condylomatosis': 0.0, 'STDs:vaginal condylomatosis': 0.0, 'STDs:vulvo-perineal condylomatosis': 0.0, 'STDs:syphilis': 0.0, 'STDs:AIDS': 0.0, 'STDs:HIV': 1.0, 'STDs:Hepatitis B': 0.0, 'STDs:HPV': 0.0, 'STDs: Number of diagnosis': 1.0, 'Hinselmann': 0.0, 'Schiller': 0.0, 'Citology': 0.0, 'Biopsy': 0.0}\n"
     ]
    },
    {
     "name": "stderr",
     "output_type": "stream",
     "text": [
      "Finding Elimination Order: : : 0it [00:00, ?it/s]\n",
      "0it [00:00, ?it/s]\n"
     ]
    },
    {
     "name": "stdout",
     "output_type": "stream",
     "text": [
      "Evidence for index 54: {'Age': 34.0, 'Number of sexual partners': 3.0, 'First sexual intercourse': 17.0, 'Num of pregnancies': 1.0, 'Smokes': 1.0, 'Smokes (years)': 9.0, 'Smokes (packs/year)': 4.5, 'STDs: Number of diagnosis': 0.0, 'Hinselmann': 0.0, 'Schiller': 0.0, 'Citology': 0.0, 'Biopsy': 0.0}\n"
     ]
    },
    {
     "name": "stderr",
     "output_type": "stream",
     "text": [
      "Finding Elimination Order: : 100%|██████████| 9/9 [00:00<00:00, 8994.22it/s]\n",
      "Eliminating: STDs:AIDS: 100%|██████████| 9/9 [00:00<00:00, 1500.17it/s]               \n"
     ]
    },
    {
     "name": "stdout",
     "output_type": "stream",
     "text": [
      "Evidence for index 55: {'Age': 35.0, 'Number of sexual partners': 3.0, 'First sexual intercourse': 21.0, 'Num of pregnancies': 5.0, 'Smokes': 0.0, 'Smokes (years)': 0.0, 'Smokes (packs/year)': 0.0, 'Hormonal Contraceptives': 0.0, 'Hormonal Contraceptives (years)': 0.0, 'IUD': 0.0, 'IUD (years)': 0.0, 'STDs': 0.0, 'STDs (number)': 0.0, 'STDs:condylomatosis': 0.0, 'STDs:cervical condylomatosis': 0.0, 'STDs:vaginal condylomatosis': 0.0, 'STDs:vulvo-perineal condylomatosis': 0.0, 'STDs:syphilis': 0.0, 'STDs:AIDS': 0.0, 'STDs:HIV': 0.0, 'STDs:Hepatitis B': 0.0, 'STDs:HPV': 0.0, 'STDs: Number of diagnosis': 0.0, 'Hinselmann': 0.0, 'Schiller': 0.0, 'Citology': 0.0, 'Biopsy': 0.0}\n"
     ]
    },
    {
     "name": "stderr",
     "output_type": "stream",
     "text": [
      "Finding Elimination Order: : : 0it [00:00, ?it/s]\n",
      "0it [00:00, ?it/s]\n"
     ]
    },
    {
     "name": "stdout",
     "output_type": "stream",
     "text": [
      "Evidence for index 56: {'Age': 16.0, 'Number of sexual partners': 2.0, 'First sexual intercourse': 14.0, 'Num of pregnancies': 1.0, 'Smokes': 0.0, 'Smokes (years)': 0.0, 'Smokes (packs/year)': 0.0, 'Hormonal Contraceptives': 0.0, 'Hormonal Contraceptives (years)': 0.0, 'IUD': 0.0, 'IUD (years)': 0.0, 'STDs': 0.0, 'STDs (number)': 0.0, 'STDs:condylomatosis': 0.0, 'STDs:cervical condylomatosis': 0.0, 'STDs:vaginal condylomatosis': 0.0, 'STDs:vulvo-perineal condylomatosis': 0.0, 'STDs:syphilis': 0.0, 'STDs:AIDS': 0.0, 'STDs:HIV': 0.0, 'STDs:Hepatitis B': 0.0, 'STDs:HPV': 0.0, 'STDs: Number of diagnosis': 0.0, 'Hinselmann': 0.0, 'Schiller': 0.0, 'Citology': 0.0, 'Biopsy': 0.0}\n"
     ]
    },
    {
     "name": "stderr",
     "output_type": "stream",
     "text": [
      "Finding Elimination Order: : : 0it [00:00, ?it/s]\n",
      "0it [00:00, ?it/s]\n"
     ]
    },
    {
     "name": "stdout",
     "output_type": "stream",
     "text": [
      "Evidence for index 57: {'Age': 15.0, 'Number of sexual partners': 2.0, 'First sexual intercourse': 14.0, 'Num of pregnancies': 1.0, 'Smokes': 0.0, 'Smokes (years)': 0.0, 'Smokes (packs/year)': 0.0, 'Hormonal Contraceptives': 0.0, 'Hormonal Contraceptives (years)': 0.0, 'IUD': 0.0, 'IUD (years)': 0.0, 'STDs': 0.0, 'STDs (number)': 0.0, 'STDs:condylomatosis': 0.0, 'STDs:cervical condylomatosis': 0.0, 'STDs:vaginal condylomatosis': 0.0, 'STDs:vulvo-perineal condylomatosis': 0.0, 'STDs:syphilis': 0.0, 'STDs:AIDS': 0.0, 'STDs:HIV': 0.0, 'STDs:Hepatitis B': 0.0, 'STDs:HPV': 0.0, 'STDs: Number of diagnosis': 0.0, 'Hinselmann': 0.0, 'Schiller': 0.0, 'Citology': 0.0, 'Biopsy': 0.0}\n"
     ]
    },
    {
     "name": "stderr",
     "output_type": "stream",
     "text": [
      "Finding Elimination Order: : : 0it [00:00, ?it/s]\n",
      "0it [00:00, ?it/s]\n"
     ]
    },
    {
     "name": "stdout",
     "output_type": "stream",
     "text": [
      "Evidence for index 58: {'Age': 21.0, 'Number of sexual partners': 3.0, 'First sexual intercourse': 17.0, 'Num of pregnancies': 1.0, 'Smokes': 0.0, 'Smokes (years)': 0.0, 'Smokes (packs/year)': 0.0, 'Hormonal Contraceptives': 0.0, 'Hormonal Contraceptives (years)': 0.0, 'IUD': 0.0, 'IUD (years)': 0.0, 'STDs': 0.0, 'STDs (number)': 0.0, 'STDs:condylomatosis': 0.0, 'STDs:cervical condylomatosis': 0.0, 'STDs:vaginal condylomatosis': 0.0, 'STDs:vulvo-perineal condylomatosis': 0.0, 'STDs:syphilis': 0.0, 'STDs:AIDS': 0.0, 'STDs:HIV': 0.0, 'STDs:Hepatitis B': 0.0, 'STDs:HPV': 0.0, 'STDs: Number of diagnosis': 0.0, 'Hinselmann': 0.0, 'Schiller': 1.0, 'Citology': 0.0, 'Biopsy': 0.0}\n"
     ]
    },
    {
     "name": "stderr",
     "output_type": "stream",
     "text": [
      "Finding Elimination Order: : : 0it [00:00, ?it/s]\n",
      "0it [00:00, ?it/s]\n"
     ]
    },
    {
     "name": "stdout",
     "output_type": "stream",
     "text": [
      "Evidence for index 59: {'Age': 23.0, 'Number of sexual partners': 5.0, 'First sexual intercourse': 20.0, 'Num of pregnancies': 1.0, 'Smokes': 0.0, 'Smokes (years)': 0.0, 'Smokes (packs/year)': 0.0, 'Hormonal Contraceptives': 1.0, 'Hormonal Contraceptives (years)': 1.0, 'IUD': 0.0, 'IUD (years)': 0.0, 'STDs': 0.0, 'STDs (number)': 0.0, 'STDs:condylomatosis': 0.0, 'STDs:cervical condylomatosis': 0.0, 'STDs:vaginal condylomatosis': 0.0, 'STDs:vulvo-perineal condylomatosis': 0.0, 'STDs:syphilis': 0.0, 'STDs:AIDS': 0.0, 'STDs:HIV': 0.0, 'STDs:Hepatitis B': 0.0, 'STDs:HPV': 0.0, 'STDs: Number of diagnosis': 0.0, 'Hinselmann': 0.0, 'Schiller': 0.0, 'Citology': 0.0, 'Biopsy': 0.0}\n"
     ]
    },
    {
     "name": "stderr",
     "output_type": "stream",
     "text": [
      "Finding Elimination Order: : : 0it [00:00, ?it/s]\n",
      "0it [00:00, ?it/s]\n"
     ]
    },
    {
     "name": "stdout",
     "output_type": "stream",
     "text": [
      "Evidence for index 60: {'Age': 27.0, 'Number of sexual partners': 2.0, 'First sexual intercourse': 14.0, 'Num of pregnancies': 3.0, 'Smokes': 0.0, 'Smokes (years)': 0.0, 'Smokes (packs/year)': 0.0, 'Hormonal Contraceptives': 1.0, 'Hormonal Contraceptives (years)': 1.0, 'IUD': 0.0, 'IUD (years)': 0.0, 'STDs': 0.0, 'STDs (number)': 0.0, 'STDs:condylomatosis': 0.0, 'STDs:cervical condylomatosis': 0.0, 'STDs:vaginal condylomatosis': 0.0, 'STDs:vulvo-perineal condylomatosis': 0.0, 'STDs:syphilis': 0.0, 'STDs:AIDS': 0.0, 'STDs:HIV': 0.0, 'STDs:Hepatitis B': 0.0, 'STDs:HPV': 0.0, 'STDs: Number of diagnosis': 0.0, 'Hinselmann': 0.0, 'Schiller': 0.0, 'Citology': 0.0, 'Biopsy': 0.0}\n"
     ]
    },
    {
     "name": "stderr",
     "output_type": "stream",
     "text": [
      "Finding Elimination Order: : : 0it [00:00, ?it/s]\n",
      "0it [00:00, ?it/s]\n"
     ]
    },
    {
     "name": "stdout",
     "output_type": "stream",
     "text": [
      "Evidence for index 61: {'Age': 25.0, 'Number of sexual partners': 5.0, 'First sexual intercourse': 15.0, 'Num of pregnancies': 4.0, 'Smokes': 0.0, 'Smokes (years)': 0.0, 'Smokes (packs/year)': 0.0, 'Hormonal Contraceptives': 1.0, 'Hormonal Contraceptives (years)': 3.0, 'IUD': 0.0, 'IUD (years)': 0.0, 'STDs': 0.0, 'STDs (number)': 0.0, 'STDs:condylomatosis': 0.0, 'STDs:cervical condylomatosis': 0.0, 'STDs:vaginal condylomatosis': 0.0, 'STDs:vulvo-perineal condylomatosis': 0.0, 'STDs:syphilis': 0.0, 'STDs:AIDS': 0.0, 'STDs:HIV': 0.0, 'STDs:Hepatitis B': 0.0, 'STDs:HPV': 0.0, 'STDs: Number of diagnosis': 0.0, 'Hinselmann': 0.0, 'Schiller': 0.0, 'Citology': 0.0, 'Biopsy': 0.0}\n"
     ]
    },
    {
     "name": "stderr",
     "output_type": "stream",
     "text": [
      "Finding Elimination Order: : : 0it [00:00, ?it/s]\n",
      "0it [00:00, ?it/s]\n"
     ]
    },
    {
     "name": "stdout",
     "output_type": "stream",
     "text": [
      "Evidence for index 62: {'Age': 23.0, 'Number of sexual partners': 2.0, 'First sexual intercourse': 15.0, 'Num of pregnancies': 2.0, 'Smokes': 0.0, 'Smokes (years)': 0.0, 'Smokes (packs/year)': 0.0, 'Hormonal Contraceptives': 0.0, 'Hormonal Contraceptives (years)': 0.0, 'IUD': 0.0, 'IUD (years)': 0.0, 'STDs': 0.0, 'STDs (number)': 0.0, 'STDs:condylomatosis': 0.0, 'STDs:cervical condylomatosis': 0.0, 'STDs:vaginal condylomatosis': 0.0, 'STDs:vulvo-perineal condylomatosis': 0.0, 'STDs:syphilis': 0.0, 'STDs:AIDS': 0.0, 'STDs:HIV': 0.0, 'STDs:Hepatitis B': 0.0, 'STDs:HPV': 0.0, 'STDs: Number of diagnosis': 0.0, 'Hinselmann': 0.0, 'Schiller': 0.0, 'Citology': 0.0, 'Biopsy': 0.0}\n"
     ]
    },
    {
     "name": "stderr",
     "output_type": "stream",
     "text": [
      "Finding Elimination Order: : : 0it [00:00, ?it/s]\n",
      "0it [00:00, ?it/s]\n"
     ]
    },
    {
     "name": "stdout",
     "output_type": "stream",
     "text": [
      "Evidence for index 63: {'Age': 23.0, 'Number of sexual partners': 1.0, 'First sexual intercourse': 19.0, 'Num of pregnancies': 3.0, 'Smokes': 0.0, 'Smokes (years)': 0.0, 'Smokes (packs/year)': 0.0, 'Hormonal Contraceptives': 1.0, 'Hormonal Contraceptives (years)': 1.0, 'IUD': 0.0, 'IUD (years)': 0.0, 'STDs': 0.0, 'STDs (number)': 0.0, 'STDs:condylomatosis': 0.0, 'STDs:cervical condylomatosis': 0.0, 'STDs:vaginal condylomatosis': 0.0, 'STDs:vulvo-perineal condylomatosis': 0.0, 'STDs:syphilis': 0.0, 'STDs:AIDS': 0.0, 'STDs:HIV': 0.0, 'STDs:Hepatitis B': 0.0, 'STDs:HPV': 0.0, 'STDs: Number of diagnosis': 0.0, 'Hinselmann': 0.0, 'Schiller': 0.0, 'Citology': 0.0, 'Biopsy': 0.0}\n"
     ]
    },
    {
     "name": "stderr",
     "output_type": "stream",
     "text": [
      "Finding Elimination Order: : : 0it [00:00, ?it/s]\n",
      "0it [00:00, ?it/s]\n"
     ]
    },
    {
     "name": "stdout",
     "output_type": "stream",
     "text": [
      "Evidence for index 64: {'Age': 21.0, 'Number of sexual partners': 1.0, 'First sexual intercourse': 15.0, 'Num of pregnancies': 2.0, 'Smokes': 0.0, 'Smokes (years)': 0.0, 'Smokes (packs/year)': 0.0, 'Hormonal Contraceptives': 1.0, 'Hormonal Contraceptives (years)': 0.25, 'IUD': 0.0, 'IUD (years)': 0.0, 'STDs': 0.0, 'STDs (number)': 0.0, 'STDs:condylomatosis': 0.0, 'STDs:cervical condylomatosis': 0.0, 'STDs:vaginal condylomatosis': 0.0, 'STDs:vulvo-perineal condylomatosis': 0.0, 'STDs:syphilis': 0.0, 'STDs:AIDS': 0.0, 'STDs:HIV': 0.0, 'STDs:Hepatitis B': 0.0, 'STDs:HPV': 0.0, 'STDs: Number of diagnosis': 0.0, 'Hinselmann': 0.0, 'Schiller': 0.0, 'Citology': 0.0, 'Biopsy': 0.0}\n"
     ]
    },
    {
     "name": "stderr",
     "output_type": "stream",
     "text": [
      "Finding Elimination Order: : : 0it [00:00, ?it/s]\n",
      "0it [00:00, ?it/s]\n"
     ]
    },
    {
     "name": "stdout",
     "output_type": "stream",
     "text": [
      "Evidence for index 65: {'Age': 21.0, 'Number of sexual partners': 5.0, 'First sexual intercourse': 16.0, 'Num of pregnancies': 1.0, 'Smokes': 0.0, 'Smokes (years)': 0.0, 'Smokes (packs/year)': 0.0, 'Hormonal Contraceptives': 1.0, 'Hormonal Contraceptives (years)': 0.42, 'IUD': 0.0, 'IUD (years)': 0.0, 'STDs': 0.0, 'STDs (number)': 0.0, 'STDs:condylomatosis': 0.0, 'STDs:cervical condylomatosis': 0.0, 'STDs:vaginal condylomatosis': 0.0, 'STDs:vulvo-perineal condylomatosis': 0.0, 'STDs:syphilis': 0.0, 'STDs:AIDS': 0.0, 'STDs:HIV': 0.0, 'STDs:Hepatitis B': 0.0, 'STDs:HPV': 0.0, 'STDs: Number of diagnosis': 0.0, 'Hinselmann': 0.0, 'Schiller': 0.0, 'Citology': 0.0, 'Biopsy': 0.0}\n"
     ]
    },
    {
     "name": "stderr",
     "output_type": "stream",
     "text": [
      "Finding Elimination Order: : : 0it [00:00, ?it/s]\n",
      "0it [00:00, ?it/s]\n"
     ]
    },
    {
     "name": "stdout",
     "output_type": "stream",
     "text": [
      "Evidence for index 66: {'Age': 21.0, 'Number of sexual partners': 3.0, 'First sexual intercourse': 14.0, 'Num of pregnancies': 3.0, 'Smokes': 0.0, 'Smokes (years)': 0.0, 'Smokes (packs/year)': 0.0, 'Hormonal Contraceptives': 1.0, 'Hormonal Contraceptives (years)': 1.0, 'IUD': 0.0, 'IUD (years)': 0.0, 'STDs': 0.0, 'STDs (number)': 0.0, 'STDs:condylomatosis': 0.0, 'STDs:cervical condylomatosis': 0.0, 'STDs:vaginal condylomatosis': 0.0, 'STDs:vulvo-perineal condylomatosis': 0.0, 'STDs:syphilis': 0.0, 'STDs:AIDS': 0.0, 'STDs:HIV': 0.0, 'STDs:Hepatitis B': 0.0, 'STDs:HPV': 0.0, 'STDs: Number of diagnosis': 0.0, 'Hinselmann': 1.0, 'Schiller': 1.0, 'Citology': 0.0, 'Biopsy': 0.0}\n"
     ]
    },
    {
     "name": "stderr",
     "output_type": "stream",
     "text": [
      "Finding Elimination Order: : : 0it [00:00, ?it/s]\n",
      "0it [00:00, ?it/s]\n"
     ]
    },
    {
     "name": "stdout",
     "output_type": "stream",
     "text": [
      "Evidence for index 67: {'Age': 30.0, 'Number of sexual partners': 1.0, 'First sexual intercourse': 19.0, 'Num of pregnancies': 3.0, 'Smokes': 0.0, 'Smokes (years)': 0.0, 'Smokes (packs/year)': 0.0, 'STDs': 1.0, 'STDs (number)': 1.0, 'STDs:condylomatosis': 0.0, 'STDs:cervical condylomatosis': 0.0, 'STDs:vaginal condylomatosis': 0.0, 'STDs:vulvo-perineal condylomatosis': 0.0, 'STDs:syphilis': 1.0, 'STDs:AIDS': 0.0, 'STDs:HIV': 0.0, 'STDs:Hepatitis B': 0.0, 'STDs:HPV': 0.0, 'STDs: Number of diagnosis': 1.0, 'Hinselmann': 0.0, 'Schiller': 0.0, 'Citology': 0.0, 'Biopsy': 0.0}\n"
     ]
    },
    {
     "name": "stderr",
     "output_type": "stream",
     "text": [
      "Finding Elimination Order: : 100%|██████████| 1/1 [00:00<00:00, 998.88it/s]\n",
      "Eliminating: IUD: 100%|██████████| 1/1 [00:00<00:00, 500.04it/s]\n"
     ]
    },
    {
     "name": "stdout",
     "output_type": "stream",
     "text": [
      "Evidence for index 68: {'Age': 70.0, 'Number of sexual partners': 4.0, 'First sexual intercourse': 27.0, 'Num of pregnancies': 3.0, 'Smokes': 1.0, 'Smokes (years)': 3.0, 'Smokes (packs/year)': 0.75, 'Hormonal Contraceptives': 0.0, 'Hormonal Contraceptives (years)': 0.0, 'IUD': 0.0, 'IUD (years)': 0.0, 'STDs': 0.0, 'STDs (number)': 0.0, 'STDs:condylomatosis': 0.0, 'STDs:cervical condylomatosis': 0.0, 'STDs:vaginal condylomatosis': 0.0, 'STDs:vulvo-perineal condylomatosis': 0.0, 'STDs:syphilis': 0.0, 'STDs:AIDS': 0.0, 'STDs:HIV': 0.0, 'STDs:Hepatitis B': 0.0, 'STDs:HPV': 0.0, 'STDs: Number of diagnosis': 0.0, 'Hinselmann': 0.0, 'Schiller': 0.0, 'Citology': 0.0, 'Biopsy': 0.0}\n"
     ]
    },
    {
     "name": "stderr",
     "output_type": "stream",
     "text": [
      "Finding Elimination Order: : : 0it [00:00, ?it/s]\n",
      "0it [00:00, ?it/s]\n",
      "WARNING:pgmpy:Found unknown state name. Trying to switch to using all state names as state numbers\n"
     ]
    },
    {
     "name": "stdout",
     "output_type": "stream",
     "text": [
      "Evidence for index 69: {'Age': 33.0, 'Number of sexual partners': 4.0, 'First sexual intercourse': 18.0, 'Num of pregnancies': 2.0, 'Smokes': 1.0, 'Smokes (years)': 14.0, 'Smokes (packs/year)': 3.5, 'Hormonal Contraceptives': 1.0, 'Hormonal Contraceptives (years)': 0.08, 'IUD': 0.0, 'IUD (years)': 0.0, 'STDs': 0.0, 'STDs (number)': 0.0, 'STDs:condylomatosis': 0.0, 'STDs:cervical condylomatosis': 0.0, 'STDs:vaginal condylomatosis': 0.0, 'STDs:vulvo-perineal condylomatosis': 0.0, 'STDs:syphilis': 0.0, 'STDs:AIDS': 0.0, 'STDs:HIV': 0.0, 'STDs:Hepatitis B': 0.0, 'STDs:HPV': 0.0, 'STDs: Number of diagnosis': 0.0, 'Hinselmann': 0.0, 'Schiller': 0.0, 'Citology': 0.0, 'Biopsy': 0.0}\n",
      "Error predicting for index 69: only integers, slices (`:`), ellipsis (`...`), numpy.newaxis (`None`) and integer or boolean arrays are valid indices\n",
      "Evidence for index 70: {'Age': 28.0, 'Number of sexual partners': 1.0, 'First sexual intercourse': 23.0, 'Num of pregnancies': 3.0, 'Smokes': 0.0, 'Smokes (years)': 0.0, 'Smokes (packs/year)': 0.0, 'Hormonal Contraceptives': 1.0, 'Hormonal Contraceptives (years)': 3.0, 'IUD': 0.0, 'IUD (years)': 0.0, 'STDs': 0.0, 'STDs (number)': 0.0, 'STDs:condylomatosis': 0.0, 'STDs:cervical condylomatosis': 0.0, 'STDs:vaginal condylomatosis': 0.0, 'STDs:vulvo-perineal condylomatosis': 0.0, 'STDs:syphilis': 0.0, 'STDs:AIDS': 0.0, 'STDs:HIV': 0.0, 'STDs:Hepatitis B': 0.0, 'STDs:HPV': 0.0, 'STDs: Number of diagnosis': 0.0, 'Hinselmann': 0.0, 'Schiller': 0.0, 'Citology': 0.0, 'Biopsy': 0.0}\n"
     ]
    },
    {
     "name": "stderr",
     "output_type": "stream",
     "text": [
      "Finding Elimination Order: : : 0it [00:00, ?it/s]\n",
      "0it [00:00, ?it/s]\n"
     ]
    },
    {
     "name": "stdout",
     "output_type": "stream",
     "text": [
      "Evidence for index 71: {'Age': 19.0, 'Number of sexual partners': 2.0, 'First sexual intercourse': 14.0, 'Num of pregnancies': 2.0, 'Smokes': 0.0, 'Smokes (years)': 0.0, 'Smokes (packs/year)': 0.0, 'STDs: Number of diagnosis': 0.0, 'Hinselmann': 0.0, 'Schiller': 0.0, 'Citology': 0.0, 'Biopsy': 0.0}\n"
     ]
    },
    {
     "name": "stderr",
     "output_type": "stream",
     "text": [
      "Finding Elimination Order: : 100%|██████████| 9/9 [00:00<00:00, 8987.79it/s]\n",
      "Eliminating: STDs:AIDS: 100%|██████████| 9/9 [00:00<00:00, 1498.50it/s]               \n"
     ]
    },
    {
     "name": "stdout",
     "output_type": "stream",
     "text": [
      "Evidence for index 72: {'Age': 40.0, 'Number of sexual partners': 1.0, 'First sexual intercourse': 18.0, 'Num of pregnancies': 1.0, 'Smokes': 0.0, 'Smokes (years)': 0.0, 'Smokes (packs/year)': 0.0, 'Hormonal Contraceptives': 1.0, 'Hormonal Contraceptives (years)': 0.25, 'IUD': 0.0, 'IUD (years)': 0.0, 'STDs': 1.0, 'STDs (number)': 2.0, 'STDs:condylomatosis': 1.0, 'STDs:cervical condylomatosis': 0.0, 'STDs:vaginal condylomatosis': 0.0, 'STDs:vulvo-perineal condylomatosis': 1.0, 'STDs:syphilis': 0.0, 'STDs:AIDS': 0.0, 'STDs:HIV': 0.0, 'STDs:Hepatitis B': 0.0, 'STDs:HPV': 0.0, 'STDs: Number of diagnosis': 1.0, 'Hinselmann': 0.0, 'Schiller': 1.0, 'Citology': 1.0, 'Biopsy': 1.0}\n"
     ]
    },
    {
     "name": "stderr",
     "output_type": "stream",
     "text": [
      "Finding Elimination Order: : : 0it [00:00, ?it/s]\n",
      "0it [00:00, ?it/s]\n"
     ]
    },
    {
     "name": "stdout",
     "output_type": "stream",
     "text": [
      "Evidence for index 73: {'Age': 23.0, 'Number of sexual partners': 1.0, 'First sexual intercourse': 18.0, 'Num of pregnancies': 2.0, 'Smokes': 0.0, 'Smokes (years)': 0.0, 'Smokes (packs/year)': 0.0, 'Hormonal Contraceptives': 0.0, 'Hormonal Contraceptives (years)': 0.0, 'IUD': 0.0, 'IUD (years)': 0.0, 'STDs': 0.0, 'STDs (number)': 0.0, 'STDs:condylomatosis': 0.0, 'STDs:cervical condylomatosis': 0.0, 'STDs:vaginal condylomatosis': 0.0, 'STDs:vulvo-perineal condylomatosis': 0.0, 'STDs:syphilis': 0.0, 'STDs:AIDS': 0.0, 'STDs:HIV': 0.0, 'STDs:Hepatitis B': 0.0, 'STDs:HPV': 0.0, 'STDs: Number of diagnosis': 0.0, 'Hinselmann': 0.0, 'Schiller': 0.0, 'Citology': 0.0, 'Biopsy': 0.0}\n"
     ]
    },
    {
     "name": "stderr",
     "output_type": "stream",
     "text": [
      "Finding Elimination Order: : : 0it [00:00, ?it/s]\n",
      "0it [00:00, ?it/s]\n"
     ]
    },
    {
     "name": "stdout",
     "output_type": "stream",
     "text": [
      "Evidence for index 74: {'Age': 36.0, 'Number of sexual partners': 1.0, 'First sexual intercourse': 18.0, 'Num of pregnancies': 3.0, 'Smokes': 0.0, 'Smokes (years)': 0.0, 'Smokes (packs/year)': 0.0, 'Hormonal Contraceptives': 1.0, 'Hormonal Contraceptives (years)': 0.25, 'IUD': 0.0, 'IUD (years)': 0.0, 'STDs': 0.0, 'STDs (number)': 0.0, 'STDs:condylomatosis': 0.0, 'STDs:cervical condylomatosis': 0.0, 'STDs:vaginal condylomatosis': 0.0, 'STDs:vulvo-perineal condylomatosis': 0.0, 'STDs:syphilis': 0.0, 'STDs:AIDS': 0.0, 'STDs:HIV': 0.0, 'STDs:Hepatitis B': 0.0, 'STDs:HPV': 0.0, 'STDs: Number of diagnosis': 0.0, 'Hinselmann': 0.0, 'Schiller': 0.0, 'Citology': 0.0, 'Biopsy': 0.0}\n"
     ]
    },
    {
     "name": "stderr",
     "output_type": "stream",
     "text": [
      "Finding Elimination Order: : : 0it [00:00, ?it/s]\n",
      "0it [00:00, ?it/s]\n"
     ]
    },
    {
     "name": "stdout",
     "output_type": "stream",
     "text": [
      "Evidence for index 75: {'Age': 21.0, 'Number of sexual partners': 1.0, 'First sexual intercourse': 15.0, 'Num of pregnancies': 3.0, 'Smokes': 0.0, 'Smokes (years)': 0.0, 'Smokes (packs/year)': 0.0, 'Hormonal Contraceptives': 1.0, 'Hormonal Contraceptives (years)': 0.5, 'IUD': 0.0, 'IUD (years)': 0.0, 'STDs': 0.0, 'STDs (number)': 0.0, 'STDs:condylomatosis': 0.0, 'STDs:cervical condylomatosis': 0.0, 'STDs:vaginal condylomatosis': 0.0, 'STDs:vulvo-perineal condylomatosis': 0.0, 'STDs:syphilis': 0.0, 'STDs:AIDS': 0.0, 'STDs:HIV': 0.0, 'STDs:Hepatitis B': 0.0, 'STDs:HPV': 0.0, 'STDs: Number of diagnosis': 0.0, 'Hinselmann': 0.0, 'Schiller': 0.0, 'Citology': 0.0, 'Biopsy': 0.0}\n"
     ]
    },
    {
     "name": "stderr",
     "output_type": "stream",
     "text": [
      "Finding Elimination Order: : : 0it [00:00, ?it/s]\n",
      "0it [00:00, ?it/s]\n",
      "WARNING:pgmpy:Found unknown state name. Trying to switch to using all state names as state numbers\n"
     ]
    },
    {
     "name": "stdout",
     "output_type": "stream",
     "text": [
      "Evidence for index 76: {'Age': 37.0, 'Number of sexual partners': 3.0, 'First sexual intercourse': 24.0, 'Num of pregnancies': 1.0, 'Smokes': 1.0, 'Smokes (years)': 3.0, 'Smokes (packs/year)': 0.04, 'Hormonal Contraceptives': 0.0, 'Hormonal Contraceptives (years)': 0.0, 'IUD': 0.0, 'IUD (years)': 0.0, 'STDs': 0.0, 'STDs (number)': 0.0, 'STDs:condylomatosis': 0.0, 'STDs:cervical condylomatosis': 0.0, 'STDs:vaginal condylomatosis': 0.0, 'STDs:vulvo-perineal condylomatosis': 0.0, 'STDs:syphilis': 0.0, 'STDs:AIDS': 0.0, 'STDs:HIV': 0.0, 'STDs:Hepatitis B': 0.0, 'STDs:HPV': 0.0, 'STDs: Number of diagnosis': 0.0, 'Hinselmann': 0.0, 'Schiller': 0.0, 'Citology': 0.0, 'Biopsy': 0.0}\n",
      "Error predicting for index 76: only integers, slices (`:`), ellipsis (`...`), numpy.newaxis (`None`) and integer or boolean arrays are valid indices\n",
      "Evidence for index 77: {'Age': 19.0, 'Number of sexual partners': 4.0, 'First sexual intercourse': 14.0, 'Num of pregnancies': 1.0, 'Smokes': 0.0, 'Smokes (years)': 0.0, 'Smokes (packs/year)': 0.0, 'STDs: Number of diagnosis': 0.0, 'Hinselmann': 0.0, 'Schiller': 0.0, 'Citology': 0.0, 'Biopsy': 0.0}\n"
     ]
    },
    {
     "name": "stderr",
     "output_type": "stream",
     "text": [
      "Finding Elimination Order: : 100%|██████████| 9/9 [00:00<00:00, 4500.33it/s]\n",
      "Eliminating: STDs:AIDS: 100%|██████████| 9/9 [00:00<00:00, 1285.98it/s]               \n"
     ]
    },
    {
     "name": "stdout",
     "output_type": "stream",
     "text": [
      "Evidence for index 78: {'Age': 17.0, 'Number of sexual partners': 2.0, 'First sexual intercourse': 15.0, 'Num of pregnancies': 2.0, 'Smokes': 0.0, 'Smokes (years)': 0.0, 'Smokes (packs/year)': 0.0, 'Hormonal Contraceptives': 1.0, 'Hormonal Contraceptives (years)': 0.16, 'IUD': 0.0, 'IUD (years)': 0.0, 'STDs': 0.0, 'STDs (number)': 0.0, 'STDs:condylomatosis': 0.0, 'STDs:cervical condylomatosis': 0.0, 'STDs:vaginal condylomatosis': 0.0, 'STDs:vulvo-perineal condylomatosis': 0.0, 'STDs:syphilis': 0.0, 'STDs:AIDS': 0.0, 'STDs:HIV': 0.0, 'STDs:Hepatitis B': 0.0, 'STDs:HPV': 0.0, 'STDs: Number of diagnosis': 0.0, 'Hinselmann': 0.0, 'Schiller': 0.0, 'Citology': 0.0, 'Biopsy': 0.0}\n"
     ]
    },
    {
     "name": "stderr",
     "output_type": "stream",
     "text": [
      "Finding Elimination Order: : : 0it [00:00, ?it/s]\n",
      "0it [00:00, ?it/s]\n"
     ]
    },
    {
     "name": "stdout",
     "output_type": "stream",
     "text": [
      "Evidence for index 79: {'Age': 24.0, 'Number of sexual partners': 3.0, 'First sexual intercourse': 15.0, 'Num of pregnancies': 3.0, 'Smokes': 1.0, 'Smokes (years)': 8.0, 'Smokes (packs/year)': 2.0, 'Hormonal Contraceptives': 1.0, 'Hormonal Contraceptives (years)': 4.0, 'IUD': 0.0, 'IUD (years)': 0.0, 'STDs': 0.0, 'STDs (number)': 0.0, 'STDs:condylomatosis': 0.0, 'STDs:cervical condylomatosis': 0.0, 'STDs:vaginal condylomatosis': 0.0, 'STDs:vulvo-perineal condylomatosis': 0.0, 'STDs:syphilis': 0.0, 'STDs:AIDS': 0.0, 'STDs:HIV': 0.0, 'STDs:Hepatitis B': 0.0, 'STDs:HPV': 0.0, 'STDs: Number of diagnosis': 0.0, 'Hinselmann': 0.0, 'Schiller': 0.0, 'Citology': 0.0, 'Biopsy': 0.0}\n"
     ]
    },
    {
     "name": "stderr",
     "output_type": "stream",
     "text": [
      "Finding Elimination Order: : : 0it [00:00, ?it/s]\n",
      "0it [00:00, ?it/s]\n"
     ]
    },
    {
     "name": "stdout",
     "output_type": "stream",
     "text": [
      "Evidence for index 80: {'Age': 28.0, 'Number of sexual partners': 2.0, 'First sexual intercourse': 20.0, 'Num of pregnancies': 2.0, 'Smokes': 0.0, 'Smokes (years)': 0.0, 'Smokes (packs/year)': 0.0, 'Hormonal Contraceptives': 1.0, 'Hormonal Contraceptives (years)': 1.0, 'IUD': 0.0, 'IUD (years)': 0.0, 'STDs': 0.0, 'STDs (number)': 0.0, 'STDs:condylomatosis': 0.0, 'STDs:cervical condylomatosis': 0.0, 'STDs:vaginal condylomatosis': 0.0, 'STDs:vulvo-perineal condylomatosis': 0.0, 'STDs:syphilis': 0.0, 'STDs:AIDS': 0.0, 'STDs:HIV': 0.0, 'STDs:Hepatitis B': 0.0, 'STDs:HPV': 0.0, 'STDs: Number of diagnosis': 0.0, 'Hinselmann': 0.0, 'Schiller': 0.0, 'Citology': 0.0, 'Biopsy': 0.0}\n"
     ]
    },
    {
     "name": "stderr",
     "output_type": "stream",
     "text": [
      "Finding Elimination Order: : : 0it [00:00, ?it/s]\n",
      "0it [00:00, ?it/s]\n"
     ]
    },
    {
     "name": "stdout",
     "output_type": "stream",
     "text": [
      "Evidence for index 81: {'Age': 34.0, 'Number of sexual partners': 3.0, 'First sexual intercourse': 19.0, 'Num of pregnancies': 3.0, 'Smokes': 0.0, 'Smokes (years)': 0.0, 'Smokes (packs/year)': 0.0, 'Hormonal Contraceptives': 1.0, 'Hormonal Contraceptives (years)': 5.0, 'IUD': 0.0, 'IUD (years)': 0.0, 'STDs': 0.0, 'STDs (number)': 0.0, 'STDs:condylomatosis': 0.0, 'STDs:cervical condylomatosis': 0.0, 'STDs:vaginal condylomatosis': 0.0, 'STDs:vulvo-perineal condylomatosis': 0.0, 'STDs:syphilis': 0.0, 'STDs:AIDS': 0.0, 'STDs:HIV': 0.0, 'STDs:Hepatitis B': 0.0, 'STDs:HPV': 0.0, 'STDs: Number of diagnosis': 0.0, 'Hinselmann': 0.0, 'Schiller': 0.0, 'Citology': 0.0, 'Biopsy': 0.0}\n"
     ]
    },
    {
     "name": "stderr",
     "output_type": "stream",
     "text": [
      "Finding Elimination Order: : : 0it [00:00, ?it/s]\n",
      "0it [00:00, ?it/s]\n"
     ]
    },
    {
     "name": "stdout",
     "output_type": "stream",
     "text": [
      "Evidence for index 82: {'Age': 25.0, 'Number of sexual partners': 2.0, 'First sexual intercourse': 18.0, 'Num of pregnancies': 2.0, 'Smokes': 0.0, 'Smokes (years)': 0.0, 'Smokes (packs/year)': 0.0, 'Hormonal Contraceptives': 1.0, 'Hormonal Contraceptives (years)': 7.0, 'IUD': 0.0, 'IUD (years)': 0.0, 'STDs': 0.0, 'STDs (number)': 0.0, 'STDs:condylomatosis': 0.0, 'STDs:cervical condylomatosis': 0.0, 'STDs:vaginal condylomatosis': 0.0, 'STDs:vulvo-perineal condylomatosis': 0.0, 'STDs:syphilis': 0.0, 'STDs:AIDS': 0.0, 'STDs:HIV': 0.0, 'STDs:Hepatitis B': 0.0, 'STDs:HPV': 0.0, 'STDs: Number of diagnosis': 0.0, 'Hinselmann': 0.0, 'Schiller': 0.0, 'Citology': 0.0, 'Biopsy': 0.0}\n"
     ]
    },
    {
     "name": "stderr",
     "output_type": "stream",
     "text": [
      "Finding Elimination Order: : : 0it [00:00, ?it/s]\n",
      "0it [00:00, ?it/s]\n",
      "WARNING:pgmpy:Found unknown state name. Trying to switch to using all state names as state numbers\n"
     ]
    },
    {
     "name": "stdout",
     "output_type": "stream",
     "text": [
      "Evidence for index 83: {'Age': 36.0, 'Number of sexual partners': 1.0, 'First sexual intercourse': 28.0, 'Num of pregnancies': 1.0, 'Smokes': 1.0, 'Smokes (years)': 16.0, 'Smokes (packs/year)': 2.4, 'Hormonal Contraceptives': 0.0, 'Hormonal Contraceptives (years)': 0.0, 'IUD': 0.0, 'IUD (years)': 0.0, 'STDs': 1.0, 'STDs (number)': 3.0, 'STDs:condylomatosis': 1.0, 'STDs:cervical condylomatosis': 0.0, 'STDs:vaginal condylomatosis': 1.0, 'STDs:vulvo-perineal condylomatosis': 1.0, 'STDs:syphilis': 0.0, 'STDs:AIDS': 0.0, 'STDs:HIV': 0.0, 'STDs:Hepatitis B': 0.0, 'STDs:HPV': 0.0, 'STDs: Number of diagnosis': 1.0, 'Hinselmann': 0.0, 'Schiller': 0.0, 'Citology': 0.0, 'Biopsy': 0.0}\n",
      "Error predicting for index 83: only integers, slices (`:`), ellipsis (`...`), numpy.newaxis (`None`) and integer or boolean arrays are valid indices\n",
      "Evidence for index 84: {'Age': 33.0, 'Number of sexual partners': 2.0, 'First sexual intercourse': 17.0, 'Num of pregnancies': 3.0, 'Smokes': 0.0, 'Smokes (years)': 0.0, 'Smokes (packs/year)': 0.0, 'Hormonal Contraceptives': 1.0, 'Hormonal Contraceptives (years)': 10.0, 'IUD': 0.0, 'IUD (years)': 0.0, 'STDs': 0.0, 'STDs (number)': 0.0, 'STDs:condylomatosis': 0.0, 'STDs:cervical condylomatosis': 0.0, 'STDs:vaginal condylomatosis': 0.0, 'STDs:vulvo-perineal condylomatosis': 0.0, 'STDs:syphilis': 0.0, 'STDs:AIDS': 0.0, 'STDs:HIV': 0.0, 'STDs:Hepatitis B': 0.0, 'STDs:HPV': 0.0, 'STDs: Number of diagnosis': 0.0, 'Hinselmann': 0.0, 'Schiller': 0.0, 'Citology': 0.0, 'Biopsy': 0.0}\n"
     ]
    },
    {
     "name": "stderr",
     "output_type": "stream",
     "text": [
      "Finding Elimination Order: : : 0it [00:00, ?it/s]\n",
      "0it [00:00, ?it/s]\n"
     ]
    },
    {
     "name": "stdout",
     "output_type": "stream",
     "text": [
      "Evidence for index 85: {'Age': 22.0, 'Number of sexual partners': 3.0, 'First sexual intercourse': 13.0, 'Num of pregnancies': 1.0, 'Smokes': 0.0, 'Smokes (years)': 0.0, 'Smokes (packs/year)': 0.0, 'Hormonal Contraceptives': 1.0, 'Hormonal Contraceptives (years)': 0.25, 'IUD': 0.0, 'IUD (years)': 0.0, 'STDs': 0.0, 'STDs (number)': 0.0, 'STDs:condylomatosis': 0.0, 'STDs:cervical condylomatosis': 0.0, 'STDs:vaginal condylomatosis': 0.0, 'STDs:vulvo-perineal condylomatosis': 0.0, 'STDs:syphilis': 0.0, 'STDs:AIDS': 0.0, 'STDs:HIV': 0.0, 'STDs:Hepatitis B': 0.0, 'STDs:HPV': 0.0, 'STDs: Number of diagnosis': 0.0, 'Hinselmann': 0.0, 'Schiller': 0.0, 'Citology': 0.0, 'Biopsy': 0.0}\n"
     ]
    },
    {
     "name": "stderr",
     "output_type": "stream",
     "text": [
      "Finding Elimination Order: : : 0it [00:00, ?it/s]\n",
      "0it [00:00, ?it/s]\n",
      "WARNING:pgmpy:Found unknown state name. Trying to switch to using all state names as state numbers\n"
     ]
    },
    {
     "name": "stdout",
     "output_type": "stream",
     "text": [
      "Evidence for index 86: {'Age': 26.0, 'Number of sexual partners': 2.0, 'First sexual intercourse': 16.0, 'Num of pregnancies': 3.0, 'Smokes': 1.0, 'Smokes (years)': 11.0, 'Smokes (packs/year)': 2.2, 'Hormonal Contraceptives': 1.0, 'Hormonal Contraceptives (years)': 2.0, 'IUD': 0.0, 'IUD (years)': 0.0, 'STDs': 0.0, 'STDs (number)': 0.0, 'STDs:condylomatosis': 0.0, 'STDs:cervical condylomatosis': 0.0, 'STDs:vaginal condylomatosis': 0.0, 'STDs:vulvo-perineal condylomatosis': 0.0, 'STDs:syphilis': 0.0, 'STDs:AIDS': 0.0, 'STDs:HIV': 0.0, 'STDs:Hepatitis B': 0.0, 'STDs:HPV': 0.0, 'STDs: Number of diagnosis': 0.0, 'Hinselmann': 0.0, 'Schiller': 0.0, 'Citology': 0.0, 'Biopsy': 0.0}\n",
      "Error predicting for index 86: only integers, slices (`:`), ellipsis (`...`), numpy.newaxis (`None`) and integer or boolean arrays are valid indices\n",
      "Evidence for index 87: {'Age': 24.0, 'Number of sexual partners': 3.0, 'First sexual intercourse': 18.0, 'Num of pregnancies': 2.0, 'Smokes': 1.0, 'Smokes (years)': 1.266972909, 'Smokes (packs/year)': 0.5132021277, 'Hormonal Contraceptives': 1.0, 'Hormonal Contraceptives (years)': 5.0, 'IUD': 0.0, 'IUD (years)': 0.0, 'STDs': 0.0, 'STDs (number)': 0.0, 'STDs:condylomatosis': 0.0, 'STDs:cervical condylomatosis': 0.0, 'STDs:vaginal condylomatosis': 0.0, 'STDs:vulvo-perineal condylomatosis': 0.0, 'STDs:syphilis': 0.0, 'STDs:AIDS': 0.0, 'STDs:HIV': 0.0, 'STDs:Hepatitis B': 0.0, 'STDs:HPV': 0.0, 'STDs: Number of diagnosis': 0.0, 'Hinselmann': 0.0, 'Schiller': 0.0, 'Citology': 0.0, 'Biopsy': 0.0}\n"
     ]
    },
    {
     "name": "stderr",
     "output_type": "stream",
     "text": [
      "Finding Elimination Order: : : 0it [00:00, ?it/s]\n",
      "0it [00:00, ?it/s]\n"
     ]
    },
    {
     "name": "stdout",
     "output_type": "stream",
     "text": [
      "Evidence for index 88: {'Age': 32.0, 'Number of sexual partners': 1.0, 'First sexual intercourse': 19.0, 'Num of pregnancies': 1.0, 'Smokes': 0.0, 'Smokes (years)': 0.0, 'Smokes (packs/year)': 0.0, 'Hormonal Contraceptives': 1.0, 'Hormonal Contraceptives (years)': 0.25, 'IUD': 0.0, 'IUD (years)': 0.0, 'STDs': 0.0, 'STDs (number)': 0.0, 'STDs:condylomatosis': 0.0, 'STDs:cervical condylomatosis': 0.0, 'STDs:vaginal condylomatosis': 0.0, 'STDs:vulvo-perineal condylomatosis': 0.0, 'STDs:syphilis': 0.0, 'STDs:AIDS': 0.0, 'STDs:HIV': 0.0, 'STDs:Hepatitis B': 0.0, 'STDs:HPV': 0.0, 'STDs: Number of diagnosis': 0.0, 'Hinselmann': 0.0, 'Schiller': 0.0, 'Citology': 0.0, 'Biopsy': 0.0}\n"
     ]
    },
    {
     "name": "stderr",
     "output_type": "stream",
     "text": [
      "Finding Elimination Order: : : 0it [00:00, ?it/s]\n",
      "0it [00:00, ?it/s]\n"
     ]
    },
    {
     "name": "stdout",
     "output_type": "stream",
     "text": [
      "Evidence for index 89: {'Age': 35.0, 'Number of sexual partners': 1.0, 'First sexual intercourse': 18.0, 'Num of pregnancies': 2.0, 'Smokes': 0.0, 'Smokes (years)': 0.0, 'Smokes (packs/year)': 0.0, 'Hormonal Contraceptives': 1.0, 'Hormonal Contraceptives (years)': 2.0, 'IUD': 0.0, 'IUD (years)': 0.0, 'STDs': 0.0, 'STDs (number)': 0.0, 'STDs:condylomatosis': 0.0, 'STDs:cervical condylomatosis': 0.0, 'STDs:vaginal condylomatosis': 0.0, 'STDs:vulvo-perineal condylomatosis': 0.0, 'STDs:syphilis': 0.0, 'STDs:AIDS': 0.0, 'STDs:HIV': 0.0, 'STDs:Hepatitis B': 0.0, 'STDs:HPV': 0.0, 'STDs: Number of diagnosis': 0.0, 'Hinselmann': 0.0, 'Schiller': 0.0, 'Citology': 0.0, 'Biopsy': 0.0}\n"
     ]
    },
    {
     "name": "stderr",
     "output_type": "stream",
     "text": [
      "Finding Elimination Order: : : 0it [00:00, ?it/s]\n",
      "0it [00:00, ?it/s]\n",
      "WARNING:pgmpy:Found unknown state name. Trying to switch to using all state names as state numbers\n"
     ]
    },
    {
     "name": "stdout",
     "output_type": "stream",
     "text": [
      "Evidence for index 90: {'Age': 36.0, 'Number of sexual partners': 3.0, 'First sexual intercourse': 18.0, 'Num of pregnancies': 3.0, 'Smokes': 1.0, 'Smokes (years)': 1.266972909, 'Smokes (packs/year)': 2.4, 'Hormonal Contraceptives': 1.0, 'Hormonal Contraceptives (years)': 9.0, 'IUD': 0.0, 'IUD (years)': 0.0, 'STDs': 0.0, 'STDs (number)': 0.0, 'STDs:condylomatosis': 0.0, 'STDs:cervical condylomatosis': 0.0, 'STDs:vaginal condylomatosis': 0.0, 'STDs:vulvo-perineal condylomatosis': 0.0, 'STDs:syphilis': 0.0, 'STDs:AIDS': 0.0, 'STDs:HIV': 0.0, 'STDs:Hepatitis B': 0.0, 'STDs:HPV': 0.0, 'STDs: Number of diagnosis': 0.0, 'Hinselmann': 0.0, 'Schiller': 0.0, 'Citology': 0.0, 'Biopsy': 0.0}\n",
      "Error predicting for index 90: only integers, slices (`:`), ellipsis (`...`), numpy.newaxis (`None`) and integer or boolean arrays are valid indices\n",
      "Evidence for index 91: {'Age': 28.0, 'Number of sexual partners': 2.0, 'First sexual intercourse': 17.0, 'Num of pregnancies': 2.0, 'Smokes': 0.0, 'Smokes (years)': 0.0, 'Smokes (packs/year)': 0.0, 'Hormonal Contraceptives': 1.0, 'Hormonal Contraceptives (years)': 7.0, 'IUD': 0.0, 'IUD (years)': 0.0, 'STDs': 0.0, 'STDs (number)': 0.0, 'STDs:condylomatosis': 0.0, 'STDs:cervical condylomatosis': 0.0, 'STDs:vaginal condylomatosis': 0.0, 'STDs:vulvo-perineal condylomatosis': 0.0, 'STDs:syphilis': 0.0, 'STDs:AIDS': 0.0, 'STDs:HIV': 0.0, 'STDs:Hepatitis B': 0.0, 'STDs:HPV': 0.0, 'STDs: Number of diagnosis': 0.0, 'Hinselmann': 0.0, 'Schiller': 0.0, 'Citology': 0.0, 'Biopsy': 0.0}\n"
     ]
    },
    {
     "name": "stderr",
     "output_type": "stream",
     "text": [
      "Finding Elimination Order: : : 0it [00:00, ?it/s]\n",
      "0it [00:00, ?it/s]\n"
     ]
    },
    {
     "name": "stdout",
     "output_type": "stream",
     "text": [
      "Evidence for index 92: {'Age': 15.0, 'Number of sexual partners': 1.0, 'First sexual intercourse': 15.0, 'Num of pregnancies': 1.0, 'Smokes': 0.0, 'Smokes (years)': 0.0, 'Smokes (packs/year)': 0.0, 'STDs: Number of diagnosis': 0.0, 'Hinselmann': 0.0, 'Schiller': 0.0, 'Citology': 0.0, 'Biopsy': 0.0}\n"
     ]
    },
    {
     "name": "stderr",
     "output_type": "stream",
     "text": [
      "Finding Elimination Order: : 100%|██████████| 9/9 [00:00<00:00, 4498.18it/s]\n",
      "Eliminating: STDs:AIDS: 100%|██████████| 9/9 [00:00<00:00, 1285.24it/s]               \n"
     ]
    },
    {
     "name": "stdout",
     "output_type": "stream",
     "text": [
      "Evidence for index 93: {'Age': 22.0, 'Number of sexual partners': 3.0, 'First sexual intercourse': 17.0, 'Num of pregnancies': 1.0, 'Smokes': 0.0, 'Smokes (years)': 0.0, 'Smokes (packs/year)': 0.0, 'Hormonal Contraceptives': 0.0, 'Hormonal Contraceptives (years)': 0.0, 'IUD': 0.0, 'IUD (years)': 0.0, 'STDs': 1.0, 'STDs (number)': 2.0, 'STDs:condylomatosis': 1.0, 'STDs:cervical condylomatosis': 0.0, 'STDs:vaginal condylomatosis': 0.0, 'STDs:vulvo-perineal condylomatosis': 1.0, 'STDs:syphilis': 0.0, 'STDs:AIDS': 0.0, 'STDs:HIV': 0.0, 'STDs:Hepatitis B': 0.0, 'STDs:HPV': 0.0, 'STDs: Number of diagnosis': 0.0, 'Hinselmann': 1.0, 'Schiller': 1.0, 'Citology': 0.0, 'Biopsy': 1.0}\n"
     ]
    },
    {
     "name": "stderr",
     "output_type": "stream",
     "text": [
      "Finding Elimination Order: : : 0it [00:00, ?it/s]\n",
      "0it [00:00, ?it/s]\n"
     ]
    },
    {
     "name": "stdout",
     "output_type": "stream",
     "text": [
      "Evidence for index 94: {'Age': 19.0, 'Number of sexual partners': 4.0, 'First sexual intercourse': 15.0, 'Num of pregnancies': 1.0, 'Smokes': 0.0, 'Smokes (years)': 0.0, 'Smokes (packs/year)': 0.0, 'Hormonal Contraceptives': 0.0, 'Hormonal Contraceptives (years)': 0.0, 'IUD': 0.0, 'IUD (years)': 0.0, 'STDs': 0.0, 'STDs (number)': 0.0, 'STDs:condylomatosis': 0.0, 'STDs:cervical condylomatosis': 0.0, 'STDs:vaginal condylomatosis': 0.0, 'STDs:vulvo-perineal condylomatosis': 0.0, 'STDs:syphilis': 0.0, 'STDs:AIDS': 0.0, 'STDs:HIV': 0.0, 'STDs:Hepatitis B': 0.0, 'STDs:HPV': 0.0, 'STDs: Number of diagnosis': 0.0, 'Hinselmann': 0.0, 'Schiller': 0.0, 'Citology': 0.0, 'Biopsy': 0.0}\n"
     ]
    },
    {
     "name": "stderr",
     "output_type": "stream",
     "text": [
      "Finding Elimination Order: : : 0it [00:00, ?it/s]\n",
      "0it [00:00, ?it/s]\n"
     ]
    },
    {
     "name": "stdout",
     "output_type": "stream",
     "text": [
      "Evidence for index 95: {'Age': 32.0, 'Number of sexual partners': 2.0, 'First sexual intercourse': 15.0, 'Num of pregnancies': 2.0, 'Smokes': 0.0, 'Smokes (years)': 0.0, 'Smokes (packs/year)': 0.0, 'Hormonal Contraceptives': 1.0, 'Hormonal Contraceptives (years)': 10.0, 'IUD': 0.0, 'IUD (years)': 0.0, 'STDs': 0.0, 'STDs (number)': 0.0, 'STDs:condylomatosis': 0.0, 'STDs:cervical condylomatosis': 0.0, 'STDs:vaginal condylomatosis': 0.0, 'STDs:vulvo-perineal condylomatosis': 0.0, 'STDs:syphilis': 0.0, 'STDs:AIDS': 0.0, 'STDs:HIV': 0.0, 'STDs:Hepatitis B': 0.0, 'STDs:HPV': 0.0, 'STDs: Number of diagnosis': 0.0, 'Hinselmann': 0.0, 'Schiller': 0.0, 'Citology': 0.0, 'Biopsy': 0.0}\n"
     ]
    },
    {
     "name": "stderr",
     "output_type": "stream",
     "text": [
      "Finding Elimination Order: : : 0it [00:00, ?it/s]\n",
      "0it [00:00, ?it/s]\n"
     ]
    },
    {
     "name": "stdout",
     "output_type": "stream",
     "text": [
      "Evidence for index 96: {'Age': 24.0, 'Number of sexual partners': 1.0, 'First sexual intercourse': 14.0, 'Num of pregnancies': 0.0, 'Smokes': 0.0, 'Smokes (years)': 0.0, 'Smokes (packs/year)': 0.0, 'Hormonal Contraceptives': 0.0, 'Hormonal Contraceptives (years)': 0.0, 'IUD': 0.0, 'IUD (years)': 0.0, 'STDs': 0.0, 'STDs (number)': 0.0, 'STDs:condylomatosis': 0.0, 'STDs:cervical condylomatosis': 0.0, 'STDs:vaginal condylomatosis': 0.0, 'STDs:vulvo-perineal condylomatosis': 0.0, 'STDs:syphilis': 0.0, 'STDs:AIDS': 0.0, 'STDs:HIV': 0.0, 'STDs:Hepatitis B': 0.0, 'STDs:HPV': 0.0, 'STDs: Number of diagnosis': 0.0, 'Hinselmann': 0.0, 'Schiller': 0.0, 'Citology': 0.0, 'Biopsy': 0.0}\n"
     ]
    },
    {
     "name": "stderr",
     "output_type": "stream",
     "text": [
      "Finding Elimination Order: : : 0it [00:00, ?it/s]\n",
      "0it [00:00, ?it/s]\n"
     ]
    },
    {
     "name": "stdout",
     "output_type": "stream",
     "text": [
      "Evidence for index 97: {'Age': 23.0, 'Number of sexual partners': 1.0, 'First sexual intercourse': 19.0, 'Num of pregnancies': 2.0, 'Smokes': 0.0, 'Smokes (years)': 0.0, 'Smokes (packs/year)': 0.0, 'Hormonal Contraceptives': 1.0, 'Hormonal Contraceptives (years)': 0.67, 'IUD': 0.0, 'IUD (years)': 0.0, 'STDs': 0.0, 'STDs (number)': 0.0, 'STDs:condylomatosis': 0.0, 'STDs:cervical condylomatosis': 0.0, 'STDs:vaginal condylomatosis': 0.0, 'STDs:vulvo-perineal condylomatosis': 0.0, 'STDs:syphilis': 0.0, 'STDs:AIDS': 0.0, 'STDs:HIV': 0.0, 'STDs:Hepatitis B': 0.0, 'STDs:HPV': 0.0, 'STDs: Number of diagnosis': 0.0, 'Hinselmann': 0.0, 'Schiller': 0.0, 'Citology': 0.0, 'Biopsy': 0.0}\n"
     ]
    },
    {
     "name": "stderr",
     "output_type": "stream",
     "text": [
      "Finding Elimination Order: : : 0it [00:00, ?it/s]\n",
      "0it [00:00, ?it/s]\n"
     ]
    },
    {
     "name": "stdout",
     "output_type": "stream",
     "text": [
      "Evidence for index 98: {'Age': 34.0, 'Number of sexual partners': 1.0, 'First sexual intercourse': 26.0, 'Num of pregnancies': 3.0, 'Smokes': 0.0, 'Smokes (years)': 0.0, 'Smokes (packs/year)': 0.0, 'Hormonal Contraceptives': 1.0, 'Hormonal Contraceptives (years)': 2.0, 'IUD': 0.0, 'IUD (years)': 0.0, 'STDs': 0.0, 'STDs (number)': 0.0, 'STDs:condylomatosis': 0.0, 'STDs:cervical condylomatosis': 0.0, 'STDs:vaginal condylomatosis': 0.0, 'STDs:vulvo-perineal condylomatosis': 0.0, 'STDs:syphilis': 0.0, 'STDs:AIDS': 0.0, 'STDs:HIV': 0.0, 'STDs:Hepatitis B': 0.0, 'STDs:HPV': 0.0, 'STDs: Number of diagnosis': 0.0, 'Hinselmann': 0.0, 'Schiller': 0.0, 'Citology': 0.0, 'Biopsy': 0.0}\n"
     ]
    },
    {
     "name": "stderr",
     "output_type": "stream",
     "text": [
      "Finding Elimination Order: : : 0it [00:00, ?it/s]\n",
      "0it [00:00, ?it/s]\n"
     ]
    },
    {
     "name": "stdout",
     "output_type": "stream",
     "text": [
      "Evidence for index 99: {'Age': 18.0, 'Number of sexual partners': 1.0, 'First sexual intercourse': 17.0, 'Num of pregnancies': 1.0, 'Smokes': 0.0, 'Smokes (years)': 0.0, 'Smokes (packs/year)': 0.0, 'Hormonal Contraceptives': 0.0, 'Hormonal Contraceptives (years)': 0.0, 'IUD': 0.0, 'IUD (years)': 0.0, 'STDs': 0.0, 'STDs (number)': 0.0, 'STDs:condylomatosis': 0.0, 'STDs:cervical condylomatosis': 0.0, 'STDs:vaginal condylomatosis': 0.0, 'STDs:vulvo-perineal condylomatosis': 0.0, 'STDs:syphilis': 0.0, 'STDs:AIDS': 0.0, 'STDs:HIV': 0.0, 'STDs:Hepatitis B': 0.0, 'STDs:HPV': 0.0, 'STDs: Number of diagnosis': 0.0, 'Hinselmann': 0.0, 'Schiller': 0.0, 'Citology': 0.0, 'Biopsy': 0.0}\n"
     ]
    },
    {
     "name": "stderr",
     "output_type": "stream",
     "text": [
      "Finding Elimination Order: : : 0it [00:00, ?it/s]\n",
      "0it [00:00, ?it/s]"
     ]
    },
    {
     "name": "stdout",
     "output_type": "stream",
     "text": [
      "Evidence for index 100: {'Age': 29.0, 'Number of sexual partners': 3.0, 'First sexual intercourse': 14.0, 'Num of pregnancies': 2.0, 'Smokes': 0.0, 'Smokes (years)': 0.0, 'Smokes (packs/year)': 0.0, 'Hormonal Contraceptives': 1.0, 'Hormonal Contraceptives (years)': 2.0, 'IUD': 1.0, 'IUD (years)': 0.91, 'STDs': 0.0, 'STDs (number)': 0.0, 'STDs:condylomatosis': 0.0, 'STDs:cervical condylomatosis': 0.0, 'STDs:vaginal condylomatosis': 0.0, 'STDs:vulvo-perineal condylomatosis': 0.0, 'STDs:syphilis': 0.0, 'STDs:AIDS': 0.0, 'STDs:HIV': 0.0, 'STDs:Hepatitis B': 0.0, 'STDs:HPV': 0.0, 'STDs: Number of diagnosis': 0.0, 'Hinselmann': 1.0, 'Schiller': 1.0, 'Citology': 0.0, 'Biopsy': 0.0}\n"
     ]
    },
    {
     "name": "stderr",
     "output_type": "stream",
     "text": [
      "\n",
      "WARNING:pgmpy:Found unknown state name. Trying to switch to using all state names as state numbers\n"
     ]
    },
    {
     "name": "stdout",
     "output_type": "stream",
     "text": [
      "Error predicting for index 100: only integers, slices (`:`), ellipsis (`...`), numpy.newaxis (`None`) and integer or boolean arrays are valid indices\n",
      "Evidence for index 101: {'Age': 18.0, 'Number of sexual partners': 2.0, 'First sexual intercourse': 15.0, 'Num of pregnancies': 2.0, 'Smokes': 0.0, 'Smokes (years)': 0.0, 'Smokes (packs/year)': 0.0, 'Hormonal Contraceptives': 0.0, 'Hormonal Contraceptives (years)': 0.0, 'IUD': 0.0, 'IUD (years)': 0.0, 'STDs': 0.0, 'STDs (number)': 0.0, 'STDs:condylomatosis': 0.0, 'STDs:cervical condylomatosis': 0.0, 'STDs:vaginal condylomatosis': 0.0, 'STDs:vulvo-perineal condylomatosis': 0.0, 'STDs:syphilis': 0.0, 'STDs:AIDS': 0.0, 'STDs:HIV': 0.0, 'STDs:Hepatitis B': 0.0, 'STDs:HPV': 0.0, 'STDs: Number of diagnosis': 0.0, 'Hinselmann': 0.0, 'Schiller': 0.0, 'Citology': 0.0, 'Biopsy': 0.0}\n"
     ]
    },
    {
     "name": "stderr",
     "output_type": "stream",
     "text": [
      "Finding Elimination Order: : : 0it [00:00, ?it/s]\n",
      "0it [00:00, ?it/s]\n"
     ]
    },
    {
     "name": "stdout",
     "output_type": "stream",
     "text": [
      "Evidence for index 102: {'Age': 25.0, 'Number of sexual partners': 2.0, 'First sexual intercourse': 17.0, 'Num of pregnancies': 0.0, 'Smokes': 0.0, 'Smokes (years)': 0.0, 'Smokes (packs/year)': 0.0, 'Hormonal Contraceptives': 1.0, 'Hormonal Contraceptives (years)': 0.08, 'IUD': 0.0, 'IUD (years)': 0.0, 'STDs': 0.0, 'STDs (number)': 0.0, 'STDs:condylomatosis': 0.0, 'STDs:cervical condylomatosis': 0.0, 'STDs:vaginal condylomatosis': 0.0, 'STDs:vulvo-perineal condylomatosis': 0.0, 'STDs:syphilis': 0.0, 'STDs:AIDS': 0.0, 'STDs:HIV': 0.0, 'STDs:Hepatitis B': 0.0, 'STDs:HPV': 0.0, 'STDs: Number of diagnosis': 0.0, 'Hinselmann': 0.0, 'Schiller': 0.0, 'Citology': 1.0, 'Biopsy': 0.0}\n"
     ]
    },
    {
     "name": "stderr",
     "output_type": "stream",
     "text": [
      "Finding Elimination Order: : : 0it [00:00, ?it/s]\n",
      "0it [00:00, ?it/s]\n",
      "WARNING:pgmpy:Found unknown state name. Trying to switch to using all state names as state numbers\n"
     ]
    },
    {
     "name": "stdout",
     "output_type": "stream",
     "text": [
      "Evidence for index 103: {'Age': 18.0, 'Number of sexual partners': 2.0, 'First sexual intercourse': 15.0, 'Num of pregnancies': 3.0, 'Smokes': 1.0, 'Smokes (years)': 7.0, 'Smokes (packs/year)': 3.5, 'Hormonal Contraceptives': 1.0, 'Hormonal Contraceptives (years)': 1.0, 'IUD': 0.0, 'IUD (years)': 0.0, 'STDs': 0.0, 'STDs (number)': 0.0, 'STDs:condylomatosis': 0.0, 'STDs:cervical condylomatosis': 0.0, 'STDs:vaginal condylomatosis': 0.0, 'STDs:vulvo-perineal condylomatosis': 0.0, 'STDs:syphilis': 0.0, 'STDs:AIDS': 0.0, 'STDs:HIV': 0.0, 'STDs:Hepatitis B': 0.0, 'STDs:HPV': 0.0, 'STDs: Number of diagnosis': 0.0, 'Hinselmann': 0.0, 'Schiller': 0.0, 'Citology': 1.0, 'Biopsy': 0.0}\n",
      "Error predicting for index 103: only integers, slices (`:`), ellipsis (`...`), numpy.newaxis (`None`) and integer or boolean arrays are valid indices\n",
      "Evidence for index 104: {'Age': 33.0, 'Number of sexual partners': 3.0, 'First sexual intercourse': 19.0, 'Num of pregnancies': 0.0, 'Smokes': 0.0, 'Smokes (years)': 0.0, 'Smokes (packs/year)': 0.0, 'Hormonal Contraceptives': 0.0, 'Hormonal Contraceptives (years)': 0.0, 'IUD': 0.0, 'IUD (years)': 0.0, 'STDs': 0.0, 'STDs (number)': 0.0, 'STDs:condylomatosis': 0.0, 'STDs:cervical condylomatosis': 0.0, 'STDs:vaginal condylomatosis': 0.0, 'STDs:vulvo-perineal condylomatosis': 0.0, 'STDs:syphilis': 0.0, 'STDs:AIDS': 0.0, 'STDs:HIV': 0.0, 'STDs:Hepatitis B': 0.0, 'STDs:HPV': 0.0, 'STDs: Number of diagnosis': 0.0, 'Hinselmann': 0.0, 'Schiller': 0.0, 'Citology': 0.0, 'Biopsy': 0.0}\n"
     ]
    },
    {
     "name": "stderr",
     "output_type": "stream",
     "text": [
      "Finding Elimination Order: : : 0it [00:00, ?it/s]\n",
      "0it [00:00, ?it/s]\n"
     ]
    },
    {
     "name": "stdout",
     "output_type": "stream",
     "text": [
      "Evidence for index 105: {'Age': 24.0, 'Number of sexual partners': 2.0, 'First sexual intercourse': 13.0, 'Num of pregnancies': 5.0, 'Smokes': 0.0, 'Smokes (years)': 0.0, 'Smokes (packs/year)': 0.0, 'Hormonal Contraceptives': 1.0, 'Hormonal Contraceptives (years)': 2.0, 'IUD': 1.0, 'IUD (years)': 3.0, 'STDs': 0.0, 'STDs (number)': 0.0, 'STDs:condylomatosis': 0.0, 'STDs:cervical condylomatosis': 0.0, 'STDs:vaginal condylomatosis': 0.0, 'STDs:vulvo-perineal condylomatosis': 0.0, 'STDs:syphilis': 0.0, 'STDs:AIDS': 0.0, 'STDs:HIV': 0.0, 'STDs:Hepatitis B': 0.0, 'STDs:HPV': 0.0, 'STDs: Number of diagnosis': 0.0, 'Hinselmann': 0.0, 'Schiller': 0.0, 'Citology': 0.0, 'Biopsy': 0.0}\n"
     ]
    },
    {
     "name": "stderr",
     "output_type": "stream",
     "text": [
      "Finding Elimination Order: : : 0it [00:00, ?it/s]\n",
      "0it [00:00, ?it/s]\n"
     ]
    },
    {
     "name": "stdout",
     "output_type": "stream",
     "text": [
      "Evidence for index 106: {'Age': 30.0, 'Number of sexual partners': 1.0, 'First sexual intercourse': 15.0, 'Num of pregnancies': 3.0, 'Smokes': 0.0, 'Smokes (years)': 0.0, 'Smokes (packs/year)': 0.0, 'STDs: Number of diagnosis': 0.0, 'Hinselmann': 0.0, 'Schiller': 0.0, 'Citology': 0.0, 'Biopsy': 0.0}\n"
     ]
    },
    {
     "name": "stderr",
     "output_type": "stream",
     "text": [
      "Finding Elimination Order: : 100%|██████████| 9/9 [00:00<00:00, 2993.08it/s]\n",
      "Eliminating: STDs:AIDS: 100%|██████████| 9/9 [00:00<00:00, 818.45it/s]                \n"
     ]
    },
    {
     "name": "stdout",
     "output_type": "stream",
     "text": [
      "Evidence for index 107: {'Age': 21.0, 'Number of sexual partners': 4.0, 'First sexual intercourse': 17.0, 'Num of pregnancies': 3.0, 'Smokes': 0.0, 'Smokes (years)': 0.0, 'Smokes (packs/year)': 0.0, 'Hormonal Contraceptives': 1.0, 'Hormonal Contraceptives (years)': 3.0, 'IUD': 0.0, 'IUD (years)': 0.0, 'STDs': 0.0, 'STDs (number)': 0.0, 'STDs:condylomatosis': 0.0, 'STDs:cervical condylomatosis': 0.0, 'STDs:vaginal condylomatosis': 0.0, 'STDs:vulvo-perineal condylomatosis': 0.0, 'STDs:syphilis': 0.0, 'STDs:AIDS': 0.0, 'STDs:HIV': 0.0, 'STDs:Hepatitis B': 0.0, 'STDs:HPV': 0.0, 'STDs: Number of diagnosis': 0.0, 'Hinselmann': 0.0, 'Schiller': 0.0, 'Citology': 0.0, 'Biopsy': 0.0}\n"
     ]
    },
    {
     "name": "stderr",
     "output_type": "stream",
     "text": [
      "Finding Elimination Order: : : 0it [00:00, ?it/s]\n",
      "0it [00:00, ?it/s]"
     ]
    },
    {
     "name": "stdout",
     "output_type": "stream",
     "text": [
      "Evidence for index 108: {'Age': 21.0, 'Number of sexual partners': 2.0, 'First sexual intercourse': 15.0, 'Num of pregnancies': 1.0, 'Smokes': 0.0, 'Smokes (years)': 0.0, 'Smokes (packs/year)': 0.0, 'Hormonal Contraceptives': 0.0, 'Hormonal Contraceptives (years)': 0.0, 'IUD': 0.0, 'IUD (years)': 0.0, 'STDs': 0.0, 'STDs (number)': 0.0, 'STDs:condylomatosis': 0.0, 'STDs:cervical condylomatosis': 0.0, 'STDs:vaginal condylomatosis': 0.0, 'STDs:vulvo-perineal condylomatosis': 0.0, 'STDs:syphilis': 0.0, 'STDs:AIDS': 0.0, 'STDs:HIV': 0.0, 'STDs:Hepatitis B': 0.0, 'STDs:HPV': 0.0, 'STDs: Number of diagnosis': 0.0, 'Hinselmann': 0.0, 'Schiller': 0.0, 'Citology': 0.0, 'Biopsy': 0.0}\n"
     ]
    },
    {
     "name": "stderr",
     "output_type": "stream",
     "text": [
      "\n",
      "Finding Elimination Order: : : 0it [00:00, ?it/s]\n",
      "0it [00:00, ?it/s]\n"
     ]
    },
    {
     "name": "stdout",
     "output_type": "stream",
     "text": [
      "Evidence for index 109: {'Age': 15.0, 'Number of sexual partners': 1.0, 'First sexual intercourse': 14.0, 'Num of pregnancies': 1.0, 'Smokes': 0.0, 'Smokes (years)': 0.0, 'Smokes (packs/year)': 0.0, 'Hormonal Contraceptives': 0.0, 'Hormonal Contraceptives (years)': 0.0, 'IUD': 0.0, 'IUD (years)': 0.0, 'STDs': 0.0, 'STDs (number)': 0.0, 'STDs:condylomatosis': 0.0, 'STDs:cervical condylomatosis': 0.0, 'STDs:vaginal condylomatosis': 0.0, 'STDs:vulvo-perineal condylomatosis': 0.0, 'STDs:syphilis': 0.0, 'STDs:AIDS': 0.0, 'STDs:HIV': 0.0, 'STDs:Hepatitis B': 0.0, 'STDs:HPV': 0.0, 'STDs: Number of diagnosis': 0.0, 'Hinselmann': 0.0, 'Schiller': 0.0, 'Citology': 0.0, 'Biopsy': 0.0}\n"
     ]
    },
    {
     "name": "stderr",
     "output_type": "stream",
     "text": [
      "Finding Elimination Order: : : 0it [00:00, ?it/s]\n",
      "0it [00:00, ?it/s]\n"
     ]
    },
    {
     "name": "stdout",
     "output_type": "stream",
     "text": [
      "Evidence for index 110: {'Age': 23.0, 'Number of sexual partners': 2.0, 'First sexual intercourse': 19.0, 'Num of pregnancies': 2.0, 'Smokes': 0.0, 'Smokes (years)': 0.0, 'Smokes (packs/year)': 0.0, 'Hormonal Contraceptives': 1.0, 'Hormonal Contraceptives (years)': 0.5, 'IUD': 0.0, 'IUD (years)': 0.0, 'STDs': 0.0, 'STDs (number)': 0.0, 'STDs:condylomatosis': 0.0, 'STDs:cervical condylomatosis': 0.0, 'STDs:vaginal condylomatosis': 0.0, 'STDs:vulvo-perineal condylomatosis': 0.0, 'STDs:syphilis': 0.0, 'STDs:AIDS': 0.0, 'STDs:HIV': 0.0, 'STDs:Hepatitis B': 0.0, 'STDs:HPV': 0.0, 'STDs: Number of diagnosis': 0.0, 'Hinselmann': 0.0, 'Schiller': 0.0, 'Citology': 0.0, 'Biopsy': 0.0}\n"
     ]
    },
    {
     "name": "stderr",
     "output_type": "stream",
     "text": [
      "Finding Elimination Order: : : 0it [00:00, ?it/s]\n",
      "0it [00:00, ?it/s]\n"
     ]
    },
    {
     "name": "stdout",
     "output_type": "stream",
     "text": [
      "Evidence for index 111: {'Age': 23.0, 'Number of sexual partners': 1.0, 'First sexual intercourse': 19.0, 'Num of pregnancies': 1.0, 'Smokes': 0.0, 'Smokes (years)': 0.0, 'Smokes (packs/year)': 0.0, 'Hormonal Contraceptives': 0.0, 'Hormonal Contraceptives (years)': 0.0, 'IUD': 0.0, 'IUD (years)': 0.0, 'STDs': 0.0, 'STDs (number)': 0.0, 'STDs:condylomatosis': 0.0, 'STDs:cervical condylomatosis': 0.0, 'STDs:vaginal condylomatosis': 0.0, 'STDs:vulvo-perineal condylomatosis': 0.0, 'STDs:syphilis': 0.0, 'STDs:AIDS': 0.0, 'STDs:HIV': 0.0, 'STDs:Hepatitis B': 0.0, 'STDs:HPV': 0.0, 'STDs: Number of diagnosis': 0.0, 'Hinselmann': 0.0, 'Schiller': 0.0, 'Citology': 0.0, 'Biopsy': 0.0}\n"
     ]
    },
    {
     "name": "stderr",
     "output_type": "stream",
     "text": [
      "Finding Elimination Order: : : 0it [00:00, ?it/s]\n",
      "0it [00:00, ?it/s]\n"
     ]
    },
    {
     "name": "stdout",
     "output_type": "stream",
     "text": [
      "Evidence for index 112: {'Age': 33.0, 'Number of sexual partners': 1.0, 'First sexual intercourse': 29.0, 'Num of pregnancies': 2.0, 'Smokes': 0.0, 'Smokes (years)': 0.0, 'Smokes (packs/year)': 0.0, 'Hormonal Contraceptives': 1.0, 'Hormonal Contraceptives (years)': 0.5, 'IUD': 0.0, 'IUD (years)': 0.0, 'STDs': 0.0, 'STDs (number)': 0.0, 'STDs:condylomatosis': 0.0, 'STDs:cervical condylomatosis': 0.0, 'STDs:vaginal condylomatosis': 0.0, 'STDs:vulvo-perineal condylomatosis': 0.0, 'STDs:syphilis': 0.0, 'STDs:AIDS': 0.0, 'STDs:HIV': 0.0, 'STDs:Hepatitis B': 0.0, 'STDs:HPV': 0.0, 'STDs: Number of diagnosis': 0.0, 'Hinselmann': 0.0, 'Schiller': 1.0, 'Citology': 1.0, 'Biopsy': 1.0}\n"
     ]
    },
    {
     "name": "stderr",
     "output_type": "stream",
     "text": [
      "Finding Elimination Order: : : 0it [00:00, ?it/s]\n",
      "0it [00:00, ?it/s]\n",
      "WARNING:pgmpy:Found unknown state name. Trying to switch to using all state names as state numbers\n"
     ]
    },
    {
     "name": "stdout",
     "output_type": "stream",
     "text": [
      "Evidence for index 113: {'Age': 20.0, 'Number of sexual partners': 2.0, 'First sexual intercourse': 18.0, 'Num of pregnancies': 1.0, 'Smokes': 1.0, 'Smokes (years)': 13.0, 'Smokes (packs/year)': 7.0, 'Hormonal Contraceptives': 0.0, 'Hormonal Contraceptives (years)': 0.0, 'IUD': 0.0, 'IUD (years)': 0.0, 'STDs': 1.0, 'STDs (number)': 2.0, 'STDs:condylomatosis': 0.0, 'STDs:cervical condylomatosis': 0.0, 'STDs:vaginal condylomatosis': 0.0, 'STDs:vulvo-perineal condylomatosis': 0.0, 'STDs:syphilis': 0.0, 'STDs:AIDS': 0.0, 'STDs:HIV': 1.0, 'STDs:Hepatitis B': 1.0, 'STDs:HPV': 0.0, 'STDs: Number of diagnosis': 1.0, 'Hinselmann': 0.0, 'Schiller': 0.0, 'Citology': 0.0, 'Biopsy': 0.0}\n",
      "Error predicting for index 113: only integers, slices (`:`), ellipsis (`...`), numpy.newaxis (`None`) and integer or boolean arrays are valid indices\n",
      "Evidence for index 114: {'Age': 29.0, 'Number of sexual partners': 5.0, 'First sexual intercourse': 20.0, 'Num of pregnancies': 1.0, 'Smokes': 0.0, 'Smokes (years)': 0.0, 'Smokes (packs/year)': 0.0, 'Hormonal Contraceptives': 1.0, 'Hormonal Contraceptives (years)': 3.0, 'IUD': 0.0, 'IUD (years)': 0.0, 'STDs': 1.0, 'STDs (number)': 2.0, 'STDs:condylomatosis': 1.0, 'STDs:cervical condylomatosis': 0.0, 'STDs:vaginal condylomatosis': 0.0, 'STDs:vulvo-perineal condylomatosis': 1.0, 'STDs:syphilis': 0.0, 'STDs:AIDS': 0.0, 'STDs:HIV': 0.0, 'STDs:Hepatitis B': 0.0, 'STDs:HPV': 0.0, 'STDs: Number of diagnosis': 1.0, 'Hinselmann': 0.0, 'Schiller': 0.0, 'Citology': 0.0, 'Biopsy': 0.0}\n"
     ]
    },
    {
     "name": "stderr",
     "output_type": "stream",
     "text": [
      "Finding Elimination Order: : : 0it [00:00, ?it/s]\n",
      "0it [00:00, ?it/s]\n"
     ]
    },
    {
     "name": "stdout",
     "output_type": "stream",
     "text": [
      "Evidence for index 115: {'Age': 29.0, 'Number of sexual partners': 4.0, 'First sexual intercourse': 18.0, 'Num of pregnancies': 3.0, 'Smokes': 0.0, 'Smokes (years)': 0.0, 'Smokes (packs/year)': 0.0, 'Hormonal Contraceptives': 1.0, 'Hormonal Contraceptives (years)': 1.0, 'IUD': 0.0, 'IUD (years)': 0.0, 'STDs': 0.0, 'STDs (number)': 0.0, 'STDs:condylomatosis': 0.0, 'STDs:cervical condylomatosis': 0.0, 'STDs:vaginal condylomatosis': 0.0, 'STDs:vulvo-perineal condylomatosis': 0.0, 'STDs:syphilis': 0.0, 'STDs:AIDS': 0.0, 'STDs:HIV': 0.0, 'STDs:Hepatitis B': 0.0, 'STDs:HPV': 0.0, 'STDs: Number of diagnosis': 0.0, 'Hinselmann': 0.0, 'Schiller': 0.0, 'Citology': 0.0, 'Biopsy': 0.0}\n"
     ]
    },
    {
     "name": "stderr",
     "output_type": "stream",
     "text": [
      "Finding Elimination Order: : : 0it [00:00, ?it/s]\n",
      "0it [00:00, ?it/s]\n"
     ]
    },
    {
     "name": "stdout",
     "output_type": "stream",
     "text": [
      "Evidence for index 116: {'Age': 26.0, 'Number of sexual partners': 2.0, 'First sexual intercourse': 20.0, 'Num of pregnancies': 2.0, 'Smokes': 0.0, 'Smokes (years)': 0.0, 'Smokes (packs/year)': 0.0, 'Hormonal Contraceptives': 1.0, 'Hormonal Contraceptives (years)': 6.0, 'IUD': 0.0, 'IUD (years)': 0.0, 'STDs': 0.0, 'STDs (number)': 0.0, 'STDs:condylomatosis': 0.0, 'STDs:cervical condylomatosis': 0.0, 'STDs:vaginal condylomatosis': 0.0, 'STDs:vulvo-perineal condylomatosis': 0.0, 'STDs:syphilis': 0.0, 'STDs:AIDS': 0.0, 'STDs:HIV': 0.0, 'STDs:Hepatitis B': 0.0, 'STDs:HPV': 0.0, 'STDs: Number of diagnosis': 0.0, 'Hinselmann': 0.0, 'Schiller': 0.0, 'Citology': 0.0, 'Biopsy': 0.0}\n"
     ]
    },
    {
     "name": "stderr",
     "output_type": "stream",
     "text": [
      "Finding Elimination Order: : : 0it [00:00, ?it/s]\n",
      "0it [00:00, ?it/s]\n",
      "WARNING:pgmpy:Found unknown state name. Trying to switch to using all state names as state numbers\n"
     ]
    },
    {
     "name": "stdout",
     "output_type": "stream",
     "text": [
      "Evidence for index 117: {'Age': 35.0, 'Number of sexual partners': 3.0, 'First sexual intercourse': 17.0, 'Num of pregnancies': 3.0, 'Smokes': 1.0, 'Smokes (years)': 20.0, 'Smokes (packs/year)': 2.0, 'Hormonal Contraceptives': 1.0, 'Hormonal Contraceptives (years)': 2.0, 'IUD': 0.0, 'IUD (years)': 0.0, 'STDs': 0.0, 'STDs (number)': 0.0, 'STDs:condylomatosis': 0.0, 'STDs:cervical condylomatosis': 0.0, 'STDs:vaginal condylomatosis': 0.0, 'STDs:vulvo-perineal condylomatosis': 0.0, 'STDs:syphilis': 0.0, 'STDs:AIDS': 0.0, 'STDs:HIV': 0.0, 'STDs:Hepatitis B': 0.0, 'STDs:HPV': 0.0, 'STDs: Number of diagnosis': 0.0, 'Hinselmann': 0.0, 'Schiller': 0.0, 'Citology': 0.0, 'Biopsy': 0.0}\n",
      "Error predicting for index 117: only integers, slices (`:`), ellipsis (`...`), numpy.newaxis (`None`) and integer or boolean arrays are valid indices\n",
      "Evidence for index 118: {'Age': 40.0, 'Number of sexual partners': 3.0, 'First sexual intercourse': 18.0, 'Num of pregnancies': 2.0, 'Smokes': 0.0, 'Smokes (years)': 0.0, 'Smokes (packs/year)': 0.0, 'Hormonal Contraceptives': 1.0, 'Hormonal Contraceptives (years)': 15.0, 'IUD': 0.0, 'IUD (years)': 0.0, 'STDs': 0.0, 'STDs (number)': 0.0, 'STDs:condylomatosis': 0.0, 'STDs:cervical condylomatosis': 0.0, 'STDs:vaginal condylomatosis': 0.0, 'STDs:vulvo-perineal condylomatosis': 0.0, 'STDs:syphilis': 0.0, 'STDs:AIDS': 0.0, 'STDs:HIV': 0.0, 'STDs:Hepatitis B': 0.0, 'STDs:HPV': 0.0, 'STDs: Number of diagnosis': 0.0, 'Hinselmann': 0.0, 'Schiller': 0.0, 'Citology': 0.0, 'Biopsy': 0.0}\n"
     ]
    },
    {
     "name": "stderr",
     "output_type": "stream",
     "text": [
      "Finding Elimination Order: : : 0it [00:00, ?it/s]\n",
      "0it [00:00, ?it/s]\n",
      "WARNING:pgmpy:Found unknown state name. Trying to switch to using all state names as state numbers\n"
     ]
    },
    {
     "name": "stdout",
     "output_type": "stream",
     "text": [
      "Evidence for index 119: {'Age': 19.0, 'Number of sexual partners': 2.0, 'First sexual intercourse': 16.0, 'Smokes': 1.0, 'Smokes (years)': 1.0, 'Smokes (packs/year)': 0.04, 'STDs: Number of diagnosis': 0.0, 'Hinselmann': 0.0, 'Schiller': 0.0, 'Citology': 0.0, 'Biopsy': 0.0}\n",
      "Error predicting for index 119: only integers, slices (`:`), ellipsis (`...`), numpy.newaxis (`None`) and integer or boolean arrays are valid indices\n",
      "Evidence for index 120: {'Age': 24.0, 'Number of sexual partners': 3.0, 'First sexual intercourse': 19.0, 'Num of pregnancies': 1.0, 'Smokes': 0.0, 'Smokes (years)': 0.0, 'Smokes (packs/year)': 0.0, 'Hormonal Contraceptives': 1.0, 'Hormonal Contraceptives (years)': 2.0, 'IUD': 0.0, 'IUD (years)': 0.0, 'STDs': 0.0, 'STDs (number)': 0.0, 'STDs:condylomatosis': 0.0, 'STDs:cervical condylomatosis': 0.0, 'STDs:vaginal condylomatosis': 0.0, 'STDs:vulvo-perineal condylomatosis': 0.0, 'STDs:syphilis': 0.0, 'STDs:AIDS': 0.0, 'STDs:HIV': 0.0, 'STDs:Hepatitis B': 0.0, 'STDs:HPV': 0.0, 'STDs: Number of diagnosis': 0.0, 'Hinselmann': 0.0, 'Schiller': 0.0, 'Citology': 0.0, 'Biopsy': 0.0}\n"
     ]
    },
    {
     "name": "stderr",
     "output_type": "stream",
     "text": [
      "Finding Elimination Order: : : 0it [00:00, ?it/s]\n",
      "0it [00:00, ?it/s]\n"
     ]
    },
    {
     "name": "stdout",
     "output_type": "stream",
     "text": [
      "Evidence for index 121: {'Age': 33.0, 'Number of sexual partners': 3.0, 'First sexual intercourse': 17.0, 'Num of pregnancies': 6.0, 'Smokes': 0.0, 'Smokes (years)': 0.0, 'Smokes (packs/year)': 0.0, 'Hormonal Contraceptives': 0.0, 'Hormonal Contraceptives (years)': 0.0, 'IUD': 0.0, 'IUD (years)': 0.0, 'STDs': 0.0, 'STDs (number)': 0.0, 'STDs:condylomatosis': 0.0, 'STDs:cervical condylomatosis': 0.0, 'STDs:vaginal condylomatosis': 0.0, 'STDs:vulvo-perineal condylomatosis': 0.0, 'STDs:syphilis': 0.0, 'STDs:AIDS': 0.0, 'STDs:HIV': 0.0, 'STDs:Hepatitis B': 0.0, 'STDs:HPV': 0.0, 'STDs: Number of diagnosis': 0.0, 'Hinselmann': 0.0, 'Schiller': 0.0, 'Citology': 0.0, 'Biopsy': 0.0}\n"
     ]
    },
    {
     "name": "stderr",
     "output_type": "stream",
     "text": [
      "Finding Elimination Order: : : 0it [00:00, ?it/s]\n",
      "0it [00:00, ?it/s]\n"
     ]
    },
    {
     "name": "stdout",
     "output_type": "stream",
     "text": [
      "Evidence for index 122: {'Age': 20.0, 'First sexual intercourse': 16.0, 'Num of pregnancies': 1.0, 'Smokes': 0.0, 'Smokes (years)': 0.0, 'Smokes (packs/year)': 0.0, 'Hormonal Contraceptives': 0.0, 'Hormonal Contraceptives (years)': 0.0, 'IUD': 0.0, 'IUD (years)': 0.0, 'STDs': 0.0, 'STDs (number)': 0.0, 'STDs:condylomatosis': 0.0, 'STDs:cervical condylomatosis': 0.0, 'STDs:vaginal condylomatosis': 0.0, 'STDs:vulvo-perineal condylomatosis': 0.0, 'STDs:syphilis': 0.0, 'STDs:AIDS': 0.0, 'STDs:HIV': 0.0, 'STDs:Hepatitis B': 0.0, 'STDs:HPV': 0.0, 'STDs: Number of diagnosis': 0.0, 'Hinselmann': 0.0, 'Schiller': 0.0, 'Citology': 0.0, 'Biopsy': 0.0}\n"
     ]
    },
    {
     "name": "stderr",
     "output_type": "stream",
     "text": [
      "Finding Elimination Order: : : 0it [00:00, ?it/s]\n",
      "0it [00:00, ?it/s]\n"
     ]
    },
    {
     "name": "stdout",
     "output_type": "stream",
     "text": [
      "Evidence for index 123: {'Age': 19.0, 'Number of sexual partners': 3.0, 'First sexual intercourse': 15.0, 'Num of pregnancies': 2.0, 'Smokes': 0.0, 'Smokes (years)': 0.0, 'Smokes (packs/year)': 0.0, 'Hormonal Contraceptives': 0.0, 'Hormonal Contraceptives (years)': 0.0, 'IUD': 0.0, 'IUD (years)': 0.0, 'STDs': 0.0, 'STDs (number)': 0.0, 'STDs:condylomatosis': 0.0, 'STDs:cervical condylomatosis': 0.0, 'STDs:vaginal condylomatosis': 0.0, 'STDs:vulvo-perineal condylomatosis': 0.0, 'STDs:syphilis': 0.0, 'STDs:AIDS': 0.0, 'STDs:HIV': 0.0, 'STDs:Hepatitis B': 0.0, 'STDs:HPV': 0.0, 'STDs: Number of diagnosis': 0.0, 'Hinselmann': 0.0, 'Schiller': 0.0, 'Citology': 0.0, 'Biopsy': 0.0}\n"
     ]
    },
    {
     "name": "stderr",
     "output_type": "stream",
     "text": [
      "Finding Elimination Order: : : 0it [00:00, ?it/s]\n",
      "0it [00:00, ?it/s]\n"
     ]
    },
    {
     "name": "stdout",
     "output_type": "stream",
     "text": [
      "Evidence for index 124: {'Age': 16.0, 'Number of sexual partners': 1.0, 'First sexual intercourse': 13.0, 'Num of pregnancies': 2.0, 'IUD': 0.0, 'IUD (years)': 0.0, 'STDs': 0.0, 'STDs (number)': 0.0, 'STDs:condylomatosis': 0.0, 'STDs:cervical condylomatosis': 0.0, 'STDs:vaginal condylomatosis': 0.0, 'STDs:vulvo-perineal condylomatosis': 0.0, 'STDs:syphilis': 0.0, 'STDs:AIDS': 0.0, 'STDs:HIV': 0.0, 'STDs:Hepatitis B': 0.0, 'STDs:HPV': 0.0, 'STDs: Number of diagnosis': 0.0, 'Hinselmann': 0.0, 'Schiller': 0.0, 'Citology': 0.0, 'Biopsy': 0.0}\n"
     ]
    },
    {
     "name": "stderr",
     "output_type": "stream",
     "text": [
      "Finding Elimination Order: : : 0it [00:00, ?it/s]\n",
      "0it [00:00, ?it/s]\n"
     ]
    },
    {
     "name": "stdout",
     "output_type": "stream",
     "text": [
      "Evidence for index 125: {'Age': 23.0, 'Number of sexual partners': 1.0, 'First sexual intercourse': 19.0, 'Num of pregnancies': 2.0, 'Smokes': 0.0, 'Smokes (years)': 0.0, 'Smokes (packs/year)': 0.0, 'STDs: Number of diagnosis': 0.0, 'Hinselmann': 0.0, 'Schiller': 0.0, 'Citology': 0.0, 'Biopsy': 0.0}\n"
     ]
    },
    {
     "name": "stderr",
     "output_type": "stream",
     "text": [
      "Finding Elimination Order: : 100%|██████████| 9/9 [00:00<00:00, 4464.66it/s]\n",
      "Eliminating: STDs:AIDS: 100%|██████████| 9/9 [00:00<00:00, 1378.14it/s]               \n"
     ]
    },
    {
     "name": "stdout",
     "output_type": "stream",
     "text": [
      "Evidence for index 126: {'Age': 14.0, 'Number of sexual partners': 1.0, 'First sexual intercourse': 14.0, 'Num of pregnancies': 2.0, 'Smokes': 0.0, 'Smokes (years)': 0.0, 'Smokes (packs/year)': 0.0, 'Hormonal Contraceptives': 0.0, 'Hormonal Contraceptives (years)': 0.0, 'IUD': 0.0, 'IUD (years)': 0.0, 'STDs': 0.0, 'STDs (number)': 0.0, 'STDs:condylomatosis': 0.0, 'STDs:cervical condylomatosis': 0.0, 'STDs:vaginal condylomatosis': 0.0, 'STDs:vulvo-perineal condylomatosis': 0.0, 'STDs:syphilis': 0.0, 'STDs:AIDS': 0.0, 'STDs:HIV': 0.0, 'STDs:Hepatitis B': 0.0, 'STDs:HPV': 0.0, 'STDs: Number of diagnosis': 0.0, 'Hinselmann': 0.0, 'Schiller': 0.0, 'Citology': 0.0, 'Biopsy': 0.0}\n"
     ]
    },
    {
     "name": "stderr",
     "output_type": "stream",
     "text": [
      "Finding Elimination Order: : : 0it [00:00, ?it/s]\n",
      "0it [00:00, ?it/s]\n"
     ]
    },
    {
     "name": "stdout",
     "output_type": "stream",
     "text": [
      "Evidence for index 127: {'Age': 39.0, 'Number of sexual partners': 1.0, 'First sexual intercourse': 18.0, 'Num of pregnancies': 4.0, 'Smokes': 0.0, 'Smokes (years)': 0.0, 'Smokes (packs/year)': 0.0, 'Hormonal Contraceptives': 1.0, 'Hormonal Contraceptives (years)': 8.0, 'IUD': 1.0, 'IUD (years)': 3.0, 'STDs': 0.0, 'STDs (number)': 0.0, 'STDs:condylomatosis': 0.0, 'STDs:cervical condylomatosis': 0.0, 'STDs:vaginal condylomatosis': 0.0, 'STDs:vulvo-perineal condylomatosis': 0.0, 'STDs:syphilis': 0.0, 'STDs:AIDS': 0.0, 'STDs:HIV': 0.0, 'STDs:Hepatitis B': 0.0, 'STDs:HPV': 0.0, 'STDs: Number of diagnosis': 0.0, 'Hinselmann': 0.0, 'Schiller': 1.0, 'Citology': 0.0, 'Biopsy': 0.0}\n"
     ]
    },
    {
     "name": "stderr",
     "output_type": "stream",
     "text": [
      "Finding Elimination Order: : : 0it [00:00, ?it/s]\n",
      "0it [00:00, ?it/s]\n"
     ]
    },
    {
     "name": "stdout",
     "output_type": "stream",
     "text": [
      "Evidence for index 128: {'Age': 34.0, 'Number of sexual partners': 3.0, 'First sexual intercourse': 15.0, 'Num of pregnancies': 7.0, 'Smokes': 0.0, 'Smokes (years)': 0.0, 'Smokes (packs/year)': 0.0, 'Hormonal Contraceptives': 1.0, 'Hormonal Contraceptives (years)': 0.08, 'IUD': 0.0, 'IUD (years)': 0.0, 'STDs': 0.0, 'STDs (number)': 0.0, 'STDs:condylomatosis': 0.0, 'STDs:cervical condylomatosis': 0.0, 'STDs:vaginal condylomatosis': 0.0, 'STDs:vulvo-perineal condylomatosis': 0.0, 'STDs:syphilis': 0.0, 'STDs:AIDS': 0.0, 'STDs:HIV': 0.0, 'STDs:Hepatitis B': 0.0, 'STDs:HPV': 0.0, 'STDs: Number of diagnosis': 0.0, 'Hinselmann': 0.0, 'Schiller': 0.0, 'Citology': 0.0, 'Biopsy': 0.0}\n"
     ]
    },
    {
     "name": "stderr",
     "output_type": "stream",
     "text": [
      "Finding Elimination Order: : : 0it [00:00, ?it/s]\n",
      "0it [00:00, ?it/s]\n"
     ]
    },
    {
     "name": "stdout",
     "output_type": "stream",
     "text": [
      "Evidence for index 129: {'Age': 21.0, 'Number of sexual partners': 1.0, 'First sexual intercourse': 18.0, 'Num of pregnancies': 1.0, 'Smokes': 0.0, 'Smokes (years)': 0.0, 'Smokes (packs/year)': 0.0, 'Hormonal Contraceptives': 1.0, 'Hormonal Contraceptives (years)': 4.0, 'IUD': 0.0, 'IUD (years)': 0.0, 'STDs': 0.0, 'STDs (number)': 0.0, 'STDs:condylomatosis': 0.0, 'STDs:cervical condylomatosis': 0.0, 'STDs:vaginal condylomatosis': 0.0, 'STDs:vulvo-perineal condylomatosis': 0.0, 'STDs:syphilis': 0.0, 'STDs:AIDS': 0.0, 'STDs:HIV': 0.0, 'STDs:Hepatitis B': 0.0, 'STDs:HPV': 0.0, 'STDs: Number of diagnosis': 0.0, 'Hinselmann': 0.0, 'Schiller': 0.0, 'Citology': 0.0, 'Biopsy': 0.0}\n"
     ]
    },
    {
     "name": "stderr",
     "output_type": "stream",
     "text": [
      "Finding Elimination Order: : : 0it [00:00, ?it/s]\n",
      "0it [00:00, ?it/s]"
     ]
    },
    {
     "name": "stdout",
     "output_type": "stream",
     "text": [
      "Evidence for index 130: {'Age': 23.0, 'Number of sexual partners': 3.0, 'First sexual intercourse': 16.0, 'Num of pregnancies': 1.0, 'Smokes': 0.0, 'Smokes (years)': 0.0, 'Smokes (packs/year)': 0.0, 'Hormonal Contraceptives': 0.0, 'Hormonal Contraceptives (years)': 0.0, 'IUD': 0.0, 'IUD (years)': 0.0, 'STDs': 0.0, 'STDs (number)': 0.0, 'STDs:condylomatosis': 0.0, 'STDs:cervical condylomatosis': 0.0, 'STDs:vaginal condylomatosis': 0.0, 'STDs:vulvo-perineal condylomatosis': 0.0, 'STDs:syphilis': 0.0, 'STDs:AIDS': 0.0, 'STDs:HIV': 0.0, 'STDs:Hepatitis B': 0.0, 'STDs:HPV': 0.0, 'STDs: Number of diagnosis': 0.0, 'Hinselmann': 0.0, 'Schiller': 0.0, 'Citology': 0.0, 'Biopsy': 0.0}\n"
     ]
    },
    {
     "name": "stderr",
     "output_type": "stream",
     "text": [
      "\n",
      "Finding Elimination Order: : : 0it [00:00, ?it/s]\n",
      "0it [00:00, ?it/s]\n"
     ]
    },
    {
     "name": "stdout",
     "output_type": "stream",
     "text": [
      "Evidence for index 131: {'Age': 19.0, 'Number of sexual partners': 1.0, 'First sexual intercourse': 17.0, 'Num of pregnancies': 1.0, 'Smokes': 1.0, 'Smokes (years)': 7.0, 'Smokes (packs/year)': 12.0, 'Hormonal Contraceptives': 1.0, 'Hormonal Contraceptives (years)': 1.0, 'IUD': 0.0, 'IUD (years)': 0.0, 'STDs': 0.0, 'STDs (number)': 0.0, 'STDs:condylomatosis': 0.0, 'STDs:cervical condylomatosis': 0.0, 'STDs:vaginal condylomatosis': 0.0, 'STDs:vulvo-perineal condylomatosis': 0.0, 'STDs:syphilis': 0.0, 'STDs:AIDS': 0.0, 'STDs:HIV': 0.0, 'STDs:Hepatitis B': 0.0, 'STDs:HPV': 0.0, 'STDs: Number of diagnosis': 0.0, 'Hinselmann': 0.0, 'Schiller': 0.0, 'Citology': 0.0, 'Biopsy': 0.0}\n"
     ]
    },
    {
     "name": "stderr",
     "output_type": "stream",
     "text": [
      "Finding Elimination Order: : : 0it [00:00, ?it/s]\n",
      "0it [00:00, ?it/s]\n"
     ]
    },
    {
     "name": "stdout",
     "output_type": "stream",
     "text": [
      "Evidence for index 132: {'Age': 20.0, 'Number of sexual partners': 3.0, 'First sexual intercourse': 18.0, 'Num of pregnancies': 1.0, 'Smokes': 0.0, 'Smokes (years)': 0.0, 'Smokes (packs/year)': 0.0, 'STDs: Number of diagnosis': 0.0, 'Hinselmann': 0.0, 'Schiller': 0.0, 'Citology': 0.0, 'Biopsy': 0.0}\n"
     ]
    },
    {
     "name": "stderr",
     "output_type": "stream",
     "text": [
      "Finding Elimination Order: : 100%|██████████| 9/9 [00:00<00:00, 4521.35it/s]\n",
      "Eliminating: STDs:AIDS: 100%|██████████| 9/9 [00:00<00:00, 817.96it/s]                \n"
     ]
    },
    {
     "name": "stdout",
     "output_type": "stream",
     "text": [
      "Evidence for index 133: {'Age': 28.0, 'Number of sexual partners': 5.0, 'First sexual intercourse': 14.0, 'Num of pregnancies': 4.0, 'Smokes': 0.0, 'Smokes (years)': 0.0, 'Smokes (packs/year)': 0.0, 'Hormonal Contraceptives': 1.0, 'Hormonal Contraceptives (years)': 3.0, 'IUD': 0.0, 'IUD (years)': 0.0, 'STDs': 0.0, 'STDs (number)': 0.0, 'STDs:condylomatosis': 0.0, 'STDs:cervical condylomatosis': 0.0, 'STDs:vaginal condylomatosis': 0.0, 'STDs:vulvo-perineal condylomatosis': 0.0, 'STDs:syphilis': 0.0, 'STDs:AIDS': 0.0, 'STDs:HIV': 0.0, 'STDs:Hepatitis B': 0.0, 'STDs:HPV': 0.0, 'STDs: Number of diagnosis': 0.0, 'Hinselmann': 0.0, 'Schiller': 0.0, 'Citology': 0.0, 'Biopsy': 1.0}\n"
     ]
    },
    {
     "name": "stderr",
     "output_type": "stream",
     "text": [
      "Finding Elimination Order: : : 0it [00:00, ?it/s]\n",
      "0it [00:00, ?it/s]\n"
     ]
    },
    {
     "name": "stdout",
     "output_type": "stream",
     "text": [
      "Evidence for index 134: {'Age': 26.0, 'Number of sexual partners': 5.0, 'First sexual intercourse': 18.0, 'Smokes': 0.0, 'Smokes (years)': 0.0, 'Smokes (packs/year)': 0.0, 'Hormonal Contraceptives': 1.0, 'Hormonal Contraceptives (years)': 1.0, 'STDs': 0.0, 'STDs (number)': 0.0, 'STDs:condylomatosis': 0.0, 'STDs:cervical condylomatosis': 0.0, 'STDs:vaginal condylomatosis': 0.0, 'STDs:vulvo-perineal condylomatosis': 0.0, 'STDs:syphilis': 0.0, 'STDs:AIDS': 0.0, 'STDs:HIV': 0.0, 'STDs:Hepatitis B': 0.0, 'STDs:HPV': 0.0, 'STDs: Number of diagnosis': 0.0, 'Hinselmann': 0.0, 'Schiller': 0.0, 'Citology': 0.0, 'Biopsy': 0.0}\n"
     ]
    },
    {
     "name": "stderr",
     "output_type": "stream",
     "text": [
      "Finding Elimination Order: : 100%|██████████| 2/2 [00:00<00:00, 1998.72it/s]\n",
      "Eliminating: IUD: 100%|██████████| 2/2 [00:00<00:00, 666.29it/s]      \n"
     ]
    },
    {
     "name": "stdout",
     "output_type": "stream",
     "text": [
      "Evidence for index 135: {'Age': 26.0, 'Number of sexual partners': 2.0, 'First sexual intercourse': 19.0, 'Num of pregnancies': 1.0, 'STDs': 0.0, 'STDs (number)': 0.0, 'STDs:condylomatosis': 0.0, 'STDs:cervical condylomatosis': 0.0, 'STDs:vaginal condylomatosis': 0.0, 'STDs:vulvo-perineal condylomatosis': 0.0, 'STDs:syphilis': 0.0, 'STDs:AIDS': 0.0, 'STDs:HIV': 0.0, 'STDs:Hepatitis B': 0.0, 'STDs:HPV': 0.0, 'STDs: Number of diagnosis': 0.0, 'Hinselmann': 0.0, 'Schiller': 0.0, 'Citology': 0.0, 'Biopsy': 0.0}\n"
     ]
    },
    {
     "name": "stderr",
     "output_type": "stream",
     "text": [
      "Finding Elimination Order: : 100%|██████████| 2/2 [00:00<00:00, 1982.19it/s]\n",
      "Eliminating: IUD: 100%|██████████| 2/2 [00:00<00:00, 669.43it/s]\n"
     ]
    },
    {
     "name": "stdout",
     "output_type": "stream",
     "text": [
      "Evidence for index 136: {'Age': 37.0, 'Number of sexual partners': 3.0, 'First sexual intercourse': 17.0, 'Num of pregnancies': 5.0, 'Smokes': 0.0, 'Smokes (years)': 0.0, 'Smokes (packs/year)': 0.0, 'Hormonal Contraceptives': 1.0, 'Hormonal Contraceptives (years)': 1.0, 'IUD': 1.0, 'IUD (years)': 0.5, 'STDs': 0.0, 'STDs (number)': 0.0, 'STDs:condylomatosis': 0.0, 'STDs:cervical condylomatosis': 0.0, 'STDs:vaginal condylomatosis': 0.0, 'STDs:vulvo-perineal condylomatosis': 0.0, 'STDs:syphilis': 0.0, 'STDs:AIDS': 0.0, 'STDs:HIV': 0.0, 'STDs:Hepatitis B': 0.0, 'STDs:HPV': 0.0, 'STDs: Number of diagnosis': 0.0, 'Hinselmann': 0.0, 'Schiller': 0.0, 'Citology': 0.0, 'Biopsy': 0.0}\n"
     ]
    },
    {
     "name": "stderr",
     "output_type": "stream",
     "text": [
      "Finding Elimination Order: : : 0it [00:00, ?it/s]\n",
      "0it [00:00, ?it/s]\n"
     ]
    },
    {
     "name": "stdout",
     "output_type": "stream",
     "text": [
      "Evidence for index 137: {'Age': 17.0, 'Number of sexual partners': 2.0, 'First sexual intercourse': 15.0, 'Num of pregnancies': 2.0, 'Smokes': 0.0, 'Smokes (years)': 0.0, 'Smokes (packs/year)': 0.0, 'STDs: Number of diagnosis': 0.0, 'Hinselmann': 0.0, 'Schiller': 0.0, 'Citology': 0.0, 'Biopsy': 0.0}\n"
     ]
    },
    {
     "name": "stderr",
     "output_type": "stream",
     "text": [
      "Finding Elimination Order: : 100%|██████████| 9/9 [00:00<00:00, 4500.33it/s]\n",
      "Eliminating: STDs:AIDS: 100%|██████████| 9/9 [00:00<00:00, 1499.99it/s]               \n"
     ]
    },
    {
     "name": "stdout",
     "output_type": "stream",
     "text": [
      "Evidence for index 138: {'Age': 19.0, 'Number of sexual partners': 1.0, 'First sexual intercourse': 14.0, 'Num of pregnancies': 2.0, 'Smokes': 0.0, 'Smokes (years)': 0.0, 'Smokes (packs/year)': 0.0, 'Hormonal Contraceptives': 1.0, 'Hormonal Contraceptives (years)': 1.5, 'IUD': 0.0, 'IUD (years)': 0.0, 'STDs': 0.0, 'STDs (number)': 0.0, 'STDs:condylomatosis': 0.0, 'STDs:cervical condylomatosis': 0.0, 'STDs:vaginal condylomatosis': 0.0, 'STDs:vulvo-perineal condylomatosis': 0.0, 'STDs:syphilis': 0.0, 'STDs:AIDS': 0.0, 'STDs:HIV': 0.0, 'STDs:Hepatitis B': 0.0, 'STDs:HPV': 0.0, 'STDs: Number of diagnosis': 0.0, 'Hinselmann': 0.0, 'Schiller': 0.0, 'Citology': 0.0, 'Biopsy': 0.0}\n"
     ]
    },
    {
     "name": "stderr",
     "output_type": "stream",
     "text": [
      "Finding Elimination Order: : : 0it [00:00, ?it/s]\n",
      "0it [00:00, ?it/s]\n",
      "WARNING:pgmpy:Found unknown state name. Trying to switch to using all state names as state numbers\n"
     ]
    },
    {
     "name": "stdout",
     "output_type": "stream",
     "text": [
      "Evidence for index 139: {'Age': 25.0, 'Number of sexual partners': 2.0, 'First sexual intercourse': 14.0, 'Num of pregnancies': 3.0, 'Smokes': 1.0, 'Smokes (years)': 5.0, 'Smokes (packs/year)': 0.4, 'Hormonal Contraceptives': 1.0, 'Hormonal Contraceptives (years)': 7.0, 'IUD': 0.0, 'IUD (years)': 0.0, 'STDs': 0.0, 'STDs (number)': 0.0, 'STDs:condylomatosis': 0.0, 'STDs:cervical condylomatosis': 0.0, 'STDs:vaginal condylomatosis': 0.0, 'STDs:vulvo-perineal condylomatosis': 0.0, 'STDs:syphilis': 0.0, 'STDs:AIDS': 0.0, 'STDs:HIV': 0.0, 'STDs:Hepatitis B': 0.0, 'STDs:HPV': 0.0, 'STDs: Number of diagnosis': 0.0, 'Hinselmann': 0.0, 'Schiller': 0.0, 'Citology': 0.0, 'Biopsy': 0.0}\n",
      "Error predicting for index 139: only integers, slices (`:`), ellipsis (`...`), numpy.newaxis (`None`) and integer or boolean arrays are valid indices\n",
      "Evidence for index 140: {'Age': 39.0, 'Number of sexual partners': 2.0, 'First sexual intercourse': 17.0, 'Num of pregnancies': 4.0, 'Smokes': 0.0, 'Smokes (years)': 0.0, 'Smokes (packs/year)': 0.0, 'Hormonal Contraceptives': 1.0, 'Hormonal Contraceptives (years)': 1.0, 'IUD': 0.0, 'IUD (years)': 0.0, 'STDs': 0.0, 'STDs (number)': 0.0, 'STDs:condylomatosis': 0.0, 'STDs:cervical condylomatosis': 0.0, 'STDs:vaginal condylomatosis': 0.0, 'STDs:vulvo-perineal condylomatosis': 0.0, 'STDs:syphilis': 0.0, 'STDs:AIDS': 0.0, 'STDs:HIV': 0.0, 'STDs:Hepatitis B': 0.0, 'STDs:HPV': 0.0, 'STDs: Number of diagnosis': 0.0, 'Hinselmann': 0.0, 'Schiller': 0.0, 'Citology': 0.0, 'Biopsy': 0.0}\n"
     ]
    },
    {
     "name": "stderr",
     "output_type": "stream",
     "text": [
      "Finding Elimination Order: : : 0it [00:00, ?it/s]\n",
      "0it [00:00, ?it/s]\n"
     ]
    },
    {
     "name": "stdout",
     "output_type": "stream",
     "text": [
      "Evidence for index 141: {'Age': 41.0, 'Number of sexual partners': 1.0, 'First sexual intercourse': 17.0, 'Num of pregnancies': 3.0, 'Smokes': 0.0, 'Smokes (years)': 0.0, 'Smokes (packs/year)': 0.0, 'STDs: Number of diagnosis': 0.0, 'Hinselmann': 0.0, 'Schiller': 0.0, 'Citology': 0.0, 'Biopsy': 0.0}\n"
     ]
    },
    {
     "name": "stderr",
     "output_type": "stream",
     "text": [
      "Finding Elimination Order: : 100%|██████████| 9/9 [00:00<00:00, 9000.65it/s]\n",
      "Eliminating: STDs:AIDS: 100%|██████████| 9/9 [00:00<00:00, 1500.29it/s]               \n"
     ]
    },
    {
     "name": "stdout",
     "output_type": "stream",
     "text": [
      "Evidence for index 142: {'Age': 18.0, 'Number of sexual partners': 2.0, 'First sexual intercourse': 17.0, 'Num of pregnancies': 1.0, 'Smokes': 0.0, 'Smokes (years)': 0.0, 'Smokes (packs/year)': 0.0, 'Hormonal Contraceptives': 1.0, 'Hormonal Contraceptives (years)': 0.25, 'IUD': 0.0, 'IUD (years)': 0.0, 'STDs': 0.0, 'STDs (number)': 0.0, 'STDs:condylomatosis': 0.0, 'STDs:cervical condylomatosis': 0.0, 'STDs:vaginal condylomatosis': 0.0, 'STDs:vulvo-perineal condylomatosis': 0.0, 'STDs:syphilis': 0.0, 'STDs:AIDS': 0.0, 'STDs:HIV': 0.0, 'STDs:Hepatitis B': 0.0, 'STDs:HPV': 0.0, 'STDs: Number of diagnosis': 0.0, 'Hinselmann': 0.0, 'Schiller': 0.0, 'Citology': 0.0, 'Biopsy': 0.0}\n"
     ]
    },
    {
     "name": "stderr",
     "output_type": "stream",
     "text": [
      "Finding Elimination Order: : : 0it [00:00, ?it/s]\n",
      "0it [00:00, ?it/s]\n"
     ]
    },
    {
     "name": "stdout",
     "output_type": "stream",
     "text": [
      "Evidence for index 143: {'Age': 38.0, 'Number of sexual partners': 2.0, 'First sexual intercourse': 15.0, 'Num of pregnancies': 4.0, 'Smokes': 0.0, 'Smokes (years)': 0.0, 'Smokes (packs/year)': 0.0, 'Hormonal Contraceptives': 1.0, 'Hormonal Contraceptives (years)': 16.0, 'IUD': 0.0, 'IUD (years)': 0.0, 'STDs': 0.0, 'STDs (number)': 0.0, 'STDs:condylomatosis': 0.0, 'STDs:cervical condylomatosis': 0.0, 'STDs:vaginal condylomatosis': 0.0, 'STDs:vulvo-perineal condylomatosis': 0.0, 'STDs:syphilis': 0.0, 'STDs:AIDS': 0.0, 'STDs:HIV': 0.0, 'STDs:Hepatitis B': 0.0, 'STDs:HPV': 0.0, 'STDs: Number of diagnosis': 0.0, 'Hinselmann': 0.0, 'Schiller': 1.0, 'Citology': 0.0, 'Biopsy': 1.0}\n"
     ]
    },
    {
     "name": "stderr",
     "output_type": "stream",
     "text": [
      "Finding Elimination Order: : : 0it [00:00, ?it/s]\n",
      "0it [00:00, ?it/s]\n"
     ]
    },
    {
     "name": "stdout",
     "output_type": "stream",
     "text": [
      "Evidence for index 144: {'Age': 44.0, 'Number of sexual partners': 2.0, 'First sexual intercourse': 25.0, 'Num of pregnancies': 1.0, 'Smokes': 0.0, 'Smokes (years)': 0.0, 'Smokes (packs/year)': 0.0, 'Hormonal Contraceptives': 0.0, 'Hormonal Contraceptives (years)': 0.0, 'IUD': 0.0, 'IUD (years)': 0.0, 'STDs': 0.0, 'STDs (number)': 0.0, 'STDs:condylomatosis': 0.0, 'STDs:cervical condylomatosis': 0.0, 'STDs:vaginal condylomatosis': 0.0, 'STDs:vulvo-perineal condylomatosis': 0.0, 'STDs:syphilis': 0.0, 'STDs:AIDS': 0.0, 'STDs:HIV': 0.0, 'STDs:Hepatitis B': 0.0, 'STDs:HPV': 0.0, 'STDs: Number of diagnosis': 0.0, 'Hinselmann': 0.0, 'Schiller': 0.0, 'Citology': 0.0, 'Biopsy': 0.0}\n"
     ]
    },
    {
     "name": "stderr",
     "output_type": "stream",
     "text": [
      "Finding Elimination Order: : : 0it [00:00, ?it/s]\n",
      "0it [00:00, ?it/s]\n"
     ]
    },
    {
     "name": "stdout",
     "output_type": "stream",
     "text": [
      "Evidence for index 145: {'Age': 33.0, 'Number of sexual partners': 5.0, 'First sexual intercourse': 19.0, 'Num of pregnancies': 1.0, 'Smokes': 1.0, 'Smokes (years)': 4.0, 'Smokes (packs/year)': 0.5132021277, 'Hormonal Contraceptives': 1.0, 'Hormonal Contraceptives (years)': 2.282200521, 'IUD': 0.0, 'IUD (years)': 0.0, 'STDs': 0.0, 'STDs (number)': 0.0, 'STDs:condylomatosis': 0.0, 'STDs:cervical condylomatosis': 0.0, 'STDs:vaginal condylomatosis': 0.0, 'STDs:vulvo-perineal condylomatosis': 0.0, 'STDs:syphilis': 0.0, 'STDs:AIDS': 0.0, 'STDs:HIV': 0.0, 'STDs:Hepatitis B': 0.0, 'STDs:HPV': 0.0, 'STDs: Number of diagnosis': 0.0, 'Hinselmann': 0.0, 'Schiller': 0.0, 'Citology': 0.0, 'Biopsy': 0.0}\n"
     ]
    },
    {
     "name": "stderr",
     "output_type": "stream",
     "text": [
      "Finding Elimination Order: : : 0it [00:00, ?it/s]\n",
      "0it [00:00, ?it/s]\n",
      "WARNING:pgmpy:Found unknown state name. Trying to switch to using all state names as state numbers\n"
     ]
    },
    {
     "name": "stdout",
     "output_type": "stream",
     "text": [
      "Evidence for index 146: {'Age': 29.0, 'Number of sexual partners': 5.0, 'First sexual intercourse': 17.0, 'Num of pregnancies': 6.0, 'Smokes': 1.0, 'Smokes (years)': 1.266972909, 'Smokes (packs/year)': 1.3, 'Hormonal Contraceptives': 1.0, 'Hormonal Contraceptives (years)': 0.5, 'IUD': 0.0, 'IUD (years)': 0.0, 'STDs': 1.0, 'STDs (number)': 1.0, 'STDs:condylomatosis': 0.0, 'STDs:cervical condylomatosis': 0.0, 'STDs:vaginal condylomatosis': 0.0, 'STDs:vulvo-perineal condylomatosis': 0.0, 'STDs:syphilis': 1.0, 'STDs:AIDS': 0.0, 'STDs:HIV': 0.0, 'STDs:Hepatitis B': 0.0, 'STDs:HPV': 0.0, 'STDs: Number of diagnosis': 1.0, 'Hinselmann': 0.0, 'Schiller': 0.0, 'Citology': 0.0, 'Biopsy': 0.0}\n",
      "Error predicting for index 146: only integers, slices (`:`), ellipsis (`...`), numpy.newaxis (`None`) and integer or boolean arrays are valid indices\n",
      "Evidence for index 147: {'Age': 24.0, 'Number of sexual partners': 2.0, 'First sexual intercourse': 18.0, 'Num of pregnancies': 2.0, 'Smokes': 0.0, 'Smokes (years)': 0.0, 'Smokes (packs/year)': 0.0, 'Hormonal Contraceptives': 1.0, 'Hormonal Contraceptives (years)': 0.5, 'IUD': 0.0, 'IUD (years)': 0.0, 'STDs': 0.0, 'STDs (number)': 0.0, 'STDs:condylomatosis': 0.0, 'STDs:cervical condylomatosis': 0.0, 'STDs:vaginal condylomatosis': 0.0, 'STDs:vulvo-perineal condylomatosis': 0.0, 'STDs:syphilis': 0.0, 'STDs:AIDS': 0.0, 'STDs:HIV': 0.0, 'STDs:Hepatitis B': 0.0, 'STDs:HPV': 0.0, 'STDs: Number of diagnosis': 0.0, 'Hinselmann': 0.0, 'Schiller': 0.0, 'Citology': 0.0, 'Biopsy': 0.0}\n"
     ]
    },
    {
     "name": "stderr",
     "output_type": "stream",
     "text": [
      "Finding Elimination Order: : : 0it [00:00, ?it/s]\n",
      "0it [00:00, ?it/s]\n"
     ]
    },
    {
     "name": "stdout",
     "output_type": "stream",
     "text": [
      "Evidence for index 148: {'Age': 34.0, 'Number of sexual partners': 1.0, 'First sexual intercourse': 15.0, 'Num of pregnancies': 4.0, 'Smokes': 0.0, 'Smokes (years)': 0.0, 'Smokes (packs/year)': 0.0, 'Hormonal Contraceptives': 0.0, 'Hormonal Contraceptives (years)': 0.0, 'IUD': 0.0, 'IUD (years)': 0.0, 'STDs': 0.0, 'STDs (number)': 0.0, 'STDs:condylomatosis': 0.0, 'STDs:cervical condylomatosis': 0.0, 'STDs:vaginal condylomatosis': 0.0, 'STDs:vulvo-perineal condylomatosis': 0.0, 'STDs:syphilis': 0.0, 'STDs:AIDS': 0.0, 'STDs:HIV': 0.0, 'STDs:Hepatitis B': 0.0, 'STDs:HPV': 0.0, 'STDs: Number of diagnosis': 0.0, 'Hinselmann': 0.0, 'Schiller': 0.0, 'Citology': 0.0, 'Biopsy': 0.0}\n"
     ]
    },
    {
     "name": "stderr",
     "output_type": "stream",
     "text": [
      "Finding Elimination Order: : : 0it [00:00, ?it/s]\n",
      "0it [00:00, ?it/s]\n"
     ]
    },
    {
     "name": "stdout",
     "output_type": "stream",
     "text": [
      "Evidence for index 149: {'Age': 46.0, 'Number of sexual partners': 3.0, 'First sexual intercourse': 21.0, 'Num of pregnancies': 4.0, 'Smokes': 0.0, 'Smokes (years)': 0.0, 'Smokes (packs/year)': 0.0, 'Hormonal Contraceptives': 1.0, 'Hormonal Contraceptives (years)': 15.0, 'IUD': 0.0, 'IUD (years)': 0.0, 'STDs': 0.0, 'STDs (number)': 0.0, 'STDs:condylomatosis': 0.0, 'STDs:cervical condylomatosis': 0.0, 'STDs:vaginal condylomatosis': 0.0, 'STDs:vulvo-perineal condylomatosis': 0.0, 'STDs:syphilis': 0.0, 'STDs:AIDS': 0.0, 'STDs:HIV': 0.0, 'STDs:Hepatitis B': 0.0, 'STDs:HPV': 0.0, 'STDs: Number of diagnosis': 0.0, 'Hinselmann': 0.0, 'Schiller': 0.0, 'Citology': 0.0, 'Biopsy': 0.0}\n"
     ]
    },
    {
     "name": "stderr",
     "output_type": "stream",
     "text": [
      "Finding Elimination Order: : : 0it [00:00, ?it/s]\n",
      "0it [00:00, ?it/s]\n"
     ]
    },
    {
     "name": "stdout",
     "output_type": "stream",
     "text": [
      "Evidence for index 150: {'Age': 25.0, 'Number of sexual partners': 1.0, 'First sexual intercourse': 18.0, 'Num of pregnancies': 1.0, 'Smokes': 0.0, 'Smokes (years)': 0.0, 'Smokes (packs/year)': 0.0, 'Hormonal Contraceptives': 0.0, 'Hormonal Contraceptives (years)': 0.0, 'IUD': 0.0, 'IUD (years)': 0.0, 'STDs': 0.0, 'STDs (number)': 0.0, 'STDs:condylomatosis': 0.0, 'STDs:cervical condylomatosis': 0.0, 'STDs:vaginal condylomatosis': 0.0, 'STDs:vulvo-perineal condylomatosis': 0.0, 'STDs:syphilis': 0.0, 'STDs:AIDS': 0.0, 'STDs:HIV': 0.0, 'STDs:Hepatitis B': 0.0, 'STDs:HPV': 0.0, 'STDs: Number of diagnosis': 0.0, 'Hinselmann': 0.0, 'Schiller': 0.0, 'Citology': 0.0, 'Biopsy': 0.0}\n"
     ]
    },
    {
     "name": "stderr",
     "output_type": "stream",
     "text": [
      "Finding Elimination Order: : : 0it [00:00, ?it/s]\n",
      "0it [00:00, ?it/s]\n",
      "WARNING:pgmpy:Found unknown state name. Trying to switch to using all state names as state numbers\n"
     ]
    },
    {
     "name": "stdout",
     "output_type": "stream",
     "text": [
      "Evidence for index 151: {'Age': 33.0, 'Number of sexual partners': 1.0, 'First sexual intercourse': 32.0, 'Num of pregnancies': 2.0, 'Smokes': 0.0, 'Smokes (years)': 0.0, 'Smokes (packs/year)': 0.0, 'Hormonal Contraceptives': 0.0, 'Hormonal Contraceptives (years)': 0.0, 'IUD': 0.0, 'IUD (years)': 0.0, 'STDs': 0.0, 'STDs (number)': 0.0, 'STDs:condylomatosis': 0.0, 'STDs:cervical condylomatosis': 0.0, 'STDs:vaginal condylomatosis': 0.0, 'STDs:vulvo-perineal condylomatosis': 0.0, 'STDs:syphilis': 0.0, 'STDs:AIDS': 0.0, 'STDs:HIV': 0.0, 'STDs:Hepatitis B': 0.0, 'STDs:HPV': 0.0, 'STDs: Number of diagnosis': 0.0, 'Hinselmann': 0.0, 'Schiller': 0.0, 'Citology': 0.0, 'Biopsy': 0.0}\n",
      "Error predicting for index 151: only integers, slices (`:`), ellipsis (`...`), numpy.newaxis (`None`) and integer or boolean arrays are valid indices\n",
      "Evidence for index 152: {'Age': 32.0, 'Number of sexual partners': 2.0, 'First sexual intercourse': 18.0, 'Num of pregnancies': 2.0, 'Smokes': 0.0, 'Smokes (years)': 0.0, 'Smokes (packs/year)': 0.0, 'Hormonal Contraceptives': 1.0, 'Hormonal Contraceptives (years)': 2.0, 'IUD': 1.0, 'IUD (years)': 1.0, 'STDs': 0.0, 'STDs (number)': 0.0, 'STDs:condylomatosis': 0.0, 'STDs:cervical condylomatosis': 0.0, 'STDs:vaginal condylomatosis': 0.0, 'STDs:vulvo-perineal condylomatosis': 0.0, 'STDs:syphilis': 0.0, 'STDs:AIDS': 0.0, 'STDs:HIV': 0.0, 'STDs:Hepatitis B': 0.0, 'STDs:HPV': 0.0, 'STDs: Number of diagnosis': 0.0, 'Hinselmann': 0.0, 'Schiller': 0.0, 'Citology': 0.0, 'Biopsy': 0.0}\n"
     ]
    },
    {
     "name": "stderr",
     "output_type": "stream",
     "text": [
      "Finding Elimination Order: : : 0it [00:00, ?it/s]\n",
      "0it [00:00, ?it/s]\n"
     ]
    },
    {
     "name": "stdout",
     "output_type": "stream",
     "text": [
      "Evidence for index 153: {'Age': 41.0, 'Number of sexual partners': 3.0, 'First sexual intercourse': 17.0, 'Num of pregnancies': 4.0, 'Smokes': 0.0, 'Smokes (years)': 0.0, 'Smokes (packs/year)': 0.0, 'Hormonal Contraceptives': 1.0, 'Hormonal Contraceptives (years)': 10.0, 'IUD': 0.0, 'IUD (years)': 0.0, 'STDs': 1.0, 'STDs (number)': 1.0, 'STDs:condylomatosis': 0.0, 'STDs:cervical condylomatosis': 0.0, 'STDs:vaginal condylomatosis': 0.0, 'STDs:vulvo-perineal condylomatosis': 0.0, 'STDs:syphilis': 1.0, 'STDs:AIDS': 0.0, 'STDs:HIV': 0.0, 'STDs:Hepatitis B': 0.0, 'STDs:HPV': 0.0, 'STDs: Number of diagnosis': 1.0, 'Hinselmann': 0.0, 'Schiller': 0.0, 'Citology': 0.0, 'Biopsy': 0.0}\n"
     ]
    },
    {
     "name": "stderr",
     "output_type": "stream",
     "text": [
      "Finding Elimination Order: : : 0it [00:00, ?it/s]\n",
      "0it [00:00, ?it/s]\n"
     ]
    },
    {
     "name": "stdout",
     "output_type": "stream",
     "text": [
      "Evidence for index 154: {'Age': 28.0, 'Number of sexual partners': 3.0, 'First sexual intercourse': 18.0, 'Num of pregnancies': 2.0, 'Smokes': 0.0, 'Smokes (years)': 0.0, 'Smokes (packs/year)': 0.0, 'Hormonal Contraceptives': 1.0, 'Hormonal Contraceptives (years)': 6.0, 'IUD': 0.0, 'IUD (years)': 0.0, 'STDs': 0.0, 'STDs (number)': 0.0, 'STDs:condylomatosis': 0.0, 'STDs:cervical condylomatosis': 0.0, 'STDs:vaginal condylomatosis': 0.0, 'STDs:vulvo-perineal condylomatosis': 0.0, 'STDs:syphilis': 0.0, 'STDs:AIDS': 0.0, 'STDs:HIV': 0.0, 'STDs:Hepatitis B': 0.0, 'STDs:HPV': 0.0, 'STDs: Number of diagnosis': 0.0, 'Hinselmann': 0.0, 'Schiller': 0.0, 'Citology': 0.0, 'Biopsy': 0.0}\n"
     ]
    },
    {
     "name": "stderr",
     "output_type": "stream",
     "text": [
      "Finding Elimination Order: : : 0it [00:00, ?it/s]\n",
      "0it [00:00, ?it/s]\n"
     ]
    },
    {
     "name": "stdout",
     "output_type": "stream",
     "text": [
      "Evidence for index 155: {'Age': 27.0, 'Number of sexual partners': 2.0, 'First sexual intercourse': 19.0, 'Num of pregnancies': 2.0, 'Smokes': 0.0, 'Smokes (years)': 0.0, 'Smokes (packs/year)': 0.0, 'Hormonal Contraceptives': 1.0, 'Hormonal Contraceptives (years)': 7.0, 'IUD': 0.0, 'IUD (years)': 0.0, 'STDs': 0.0, 'STDs (number)': 0.0, 'STDs:condylomatosis': 0.0, 'STDs:cervical condylomatosis': 0.0, 'STDs:vaginal condylomatosis': 0.0, 'STDs:vulvo-perineal condylomatosis': 0.0, 'STDs:syphilis': 0.0, 'STDs:AIDS': 0.0, 'STDs:HIV': 0.0, 'STDs:Hepatitis B': 0.0, 'STDs:HPV': 0.0, 'STDs: Number of diagnosis': 0.0, 'Hinselmann': 0.0, 'Schiller': 0.0, 'Citology': 0.0, 'Biopsy': 0.0}\n"
     ]
    },
    {
     "name": "stderr",
     "output_type": "stream",
     "text": [
      "Finding Elimination Order: : : 0it [00:00, ?it/s]\n",
      "0it [00:00, ?it/s]\n"
     ]
    },
    {
     "name": "stdout",
     "output_type": "stream",
     "text": [
      "Evidence for index 156: {'Age': 18.0, 'Number of sexual partners': 3.0, 'First sexual intercourse': 18.0, 'Num of pregnancies': 4.0, 'Smokes': 0.0, 'Smokes (years)': 0.0, 'Smokes (packs/year)': 0.0, 'Hormonal Contraceptives': 1.0, 'Hormonal Contraceptives (years)': 5.0, 'IUD': 0.0, 'IUD (years)': 0.0, 'STDs': 0.0, 'STDs (number)': 0.0, 'STDs:condylomatosis': 0.0, 'STDs:cervical condylomatosis': 0.0, 'STDs:vaginal condylomatosis': 0.0, 'STDs:vulvo-perineal condylomatosis': 0.0, 'STDs:syphilis': 0.0, 'STDs:AIDS': 0.0, 'STDs:HIV': 0.0, 'STDs:Hepatitis B': 0.0, 'STDs:HPV': 0.0, 'STDs: Number of diagnosis': 0.0, 'Hinselmann': 0.0, 'Schiller': 0.0, 'Citology': 0.0, 'Biopsy': 0.0}\n"
     ]
    },
    {
     "name": "stderr",
     "output_type": "stream",
     "text": [
      "Finding Elimination Order: : : 0it [00:00, ?it/s]\n",
      "0it [00:00, ?it/s]\n",
      "WARNING:pgmpy:Found unknown state name. Trying to switch to using all state names as state numbers\n",
      "WARNING:pgmpy:Found unknown state name. Trying to switch to using all state names as state numbers\n"
     ]
    },
    {
     "name": "stdout",
     "output_type": "stream",
     "text": [
      "Evidence for index 157: {'Age': 29.0, 'Number of sexual partners': 2.0, 'First sexual intercourse': 17.0, 'Num of pregnancies': 2.0, 'Smokes': 1.0, 'Smokes (years)': 13.0, 'Smokes (packs/year)': 0.37, 'Hormonal Contraceptives': 1.0, 'Hormonal Contraceptives (years)': 0.25, 'IUD': 0.0, 'IUD (years)': 0.0, 'STDs': 0.0, 'STDs (number)': 0.0, 'STDs:condylomatosis': 0.0, 'STDs:cervical condylomatosis': 0.0, 'STDs:vaginal condylomatosis': 0.0, 'STDs:vulvo-perineal condylomatosis': 0.0, 'STDs:syphilis': 0.0, 'STDs:AIDS': 0.0, 'STDs:HIV': 0.0, 'STDs:Hepatitis B': 0.0, 'STDs:HPV': 0.0, 'STDs: Number of diagnosis': 0.0, 'Hinselmann': 0.0, 'Schiller': 0.0, 'Citology': 0.0, 'Biopsy': 0.0}\n",
      "Error predicting for index 157: only integers, slices (`:`), ellipsis (`...`), numpy.newaxis (`None`) and integer or boolean arrays are valid indices\n",
      "Evidence for index 158: {'Age': 30.0, 'First sexual intercourse': 13.0, 'Num of pregnancies': 3.0, 'Smokes': 1.0, 'Smokes (years)': 22.0, 'Smokes (packs/year)': 3.3, 'Hormonal Contraceptives': 0.0, 'Hormonal Contraceptives (years)': 0.0, 'IUD': 0.0, 'IUD (years)': 0.0, 'STDs': 1.0, 'STDs (number)': 1.0, 'STDs:condylomatosis': 0.0, 'STDs:cervical condylomatosis': 0.0, 'STDs:vaginal condylomatosis': 0.0, 'STDs:vulvo-perineal condylomatosis': 0.0, 'STDs:syphilis': 0.0, 'STDs:AIDS': 0.0, 'STDs:HIV': 1.0, 'STDs:Hepatitis B': 0.0, 'STDs:HPV': 0.0, 'STDs: Number of diagnosis': 1.0, 'Hinselmann': 1.0, 'Schiller': 1.0, 'Citology': 0.0, 'Biopsy': 1.0}\n",
      "Error predicting for index 158: only integers, slices (`:`), ellipsis (`...`), numpy.newaxis (`None`) and integer or boolean arrays are valid indices\n",
      "Evidence for index 159: {'Age': 25.0, 'Number of sexual partners': 3.0, 'First sexual intercourse': 17.0, 'Num of pregnancies': 2.0, 'Smokes': 0.0, 'Smokes (years)': 0.0, 'Smokes (packs/year)': 0.0, 'Hormonal Contraceptives': 1.0, 'Hormonal Contraceptives (years)': 0.08, 'IUD': 0.0, 'IUD (years)': 0.0, 'STDs': 0.0, 'STDs (number)': 0.0, 'STDs:condylomatosis': 0.0, 'STDs:cervical condylomatosis': 0.0, 'STDs:vaginal condylomatosis': 0.0, 'STDs:vulvo-perineal condylomatosis': 0.0, 'STDs:syphilis': 0.0, 'STDs:AIDS': 0.0, 'STDs:HIV': 0.0, 'STDs:Hepatitis B': 0.0, 'STDs:HPV': 0.0, 'STDs: Number of diagnosis': 0.0, 'Hinselmann': 1.0, 'Schiller': 1.0, 'Citology': 1.0, 'Biopsy': 1.0}\n"
     ]
    },
    {
     "name": "stderr",
     "output_type": "stream",
     "text": [
      "Finding Elimination Order: : : 0it [00:00, ?it/s]\n",
      "0it [00:00, ?it/s]\n"
     ]
    },
    {
     "name": "stdout",
     "output_type": "stream",
     "text": [
      "Evidence for index 160: {'Age': 20.0, 'Number of sexual partners': 4.0, 'First sexual intercourse': 15.0, 'Num of pregnancies': 2.0, 'Smokes': 0.0, 'Smokes (years)': 0.0, 'Smokes (packs/year)': 0.0, 'Hormonal Contraceptives': 1.0, 'Hormonal Contraceptives (years)': 5.0, 'IUD': 0.0, 'IUD (years)': 0.0, 'STDs': 0.0, 'STDs (number)': 0.0, 'STDs:condylomatosis': 0.0, 'STDs:cervical condylomatosis': 0.0, 'STDs:vaginal condylomatosis': 0.0, 'STDs:vulvo-perineal condylomatosis': 0.0, 'STDs:syphilis': 0.0, 'STDs:AIDS': 0.0, 'STDs:HIV': 0.0, 'STDs:Hepatitis B': 0.0, 'STDs:HPV': 0.0, 'STDs: Number of diagnosis': 0.0, 'Hinselmann': 0.0, 'Schiller': 0.0, 'Citology': 0.0, 'Biopsy': 0.0}\n"
     ]
    },
    {
     "name": "stderr",
     "output_type": "stream",
     "text": [
      "Finding Elimination Order: : : 0it [00:00, ?it/s]\n",
      "0it [00:00, ?it/s]\n"
     ]
    },
    {
     "name": "stdout",
     "output_type": "stream",
     "text": [
      "Evidence for index 161: {'Age': 22.0, 'Number of sexual partners': 2.0, 'First sexual intercourse': 17.0, 'Num of pregnancies': 1.0, 'STDs: Number of diagnosis': 0.0, 'Hinselmann': 0.0, 'Schiller': 0.0, 'Citology': 0.0, 'Biopsy': 0.0}\n"
     ]
    },
    {
     "name": "stderr",
     "output_type": "stream",
     "text": [
      "Finding Elimination Order: : 100%|██████████| 11/11 [00:00<00:00, 5470.40it/s]\n",
      "Eliminating: STDs:AIDS: 100%|██████████| 11/11 [00:00<00:00, 1222.34it/s]              "
     ]
    },
    {
     "name": "stdout",
     "output_type": "stream",
     "text": [
      "Evidence for index 162: {'Age': 15.0, 'Number of sexual partners': 2.0, 'First sexual intercourse': 15.0, 'Num of pregnancies': 1.0, 'Smokes': 0.0, 'Smokes (years)': 0.0, 'Smokes (packs/year)': 0.0, 'Hormonal Contraceptives': 0.0, 'Hormonal Contraceptives (years)': 0.0, 'IUD': 0.0, 'IUD (years)': 0.0, 'STDs': 0.0, 'STDs (number)': 0.0, 'STDs:condylomatosis': 0.0, 'STDs:cervical condylomatosis': 0.0, 'STDs:vaginal condylomatosis': 0.0, 'STDs:vulvo-perineal condylomatosis': 0.0, 'STDs:syphilis': 0.0, 'STDs:AIDS': 0.0, 'STDs:HIV': 0.0, 'STDs:Hepatitis B': 0.0, 'STDs:HPV': 0.0, 'STDs: Number of diagnosis': 0.0, 'Hinselmann': 0.0, 'Schiller': 0.0, 'Citology': 0.0, 'Biopsy': 0.0}"
     ]
    },
    {
     "name": "stderr",
     "output_type": "stream",
     "text": [
      "\n"
     ]
    },
    {
     "name": "stdout",
     "output_type": "stream",
     "text": [
      "\n"
     ]
    },
    {
     "name": "stderr",
     "output_type": "stream",
     "text": [
      "Finding Elimination Order: : : 0it [00:00, ?it/s]\n",
      "0it [00:00, ?it/s]\n"
     ]
    },
    {
     "name": "stdout",
     "output_type": "stream",
     "text": [
      "Evidence for index 163: {'Age': 27.0, 'Number of sexual partners': 1.0, 'First sexual intercourse': 26.0, 'Num of pregnancies': 1.0, 'Smokes': 0.0, 'Smokes (years)': 0.0, 'Smokes (packs/year)': 0.0, 'Hormonal Contraceptives': 0.0, 'Hormonal Contraceptives (years)': 0.0, 'IUD': 0.0, 'IUD (years)': 0.0, 'STDs': 0.0, 'STDs (number)': 0.0, 'STDs:condylomatosis': 0.0, 'STDs:cervical condylomatosis': 0.0, 'STDs:vaginal condylomatosis': 0.0, 'STDs:vulvo-perineal condylomatosis': 0.0, 'STDs:syphilis': 0.0, 'STDs:AIDS': 0.0, 'STDs:HIV': 0.0, 'STDs:Hepatitis B': 0.0, 'STDs:HPV': 0.0, 'STDs: Number of diagnosis': 0.0, 'Hinselmann': 0.0, 'Schiller': 0.0, 'Citology': 0.0, 'Biopsy': 0.0}\n"
     ]
    },
    {
     "name": "stderr",
     "output_type": "stream",
     "text": [
      "Finding Elimination Order: : : 0it [00:00, ?it/s]\n",
      "0it [00:00, ?it/s]\n"
     ]
    },
    {
     "name": "stdout",
     "output_type": "stream",
     "text": [
      "Evidence for index 164: {'Age': 28.0, 'Number of sexual partners': 1.0, 'First sexual intercourse': 24.0, 'Num of pregnancies': 2.0, 'Smokes': 0.0, 'Smokes (years)': 0.0, 'Smokes (packs/year)': 0.0, 'Hormonal Contraceptives': 1.0, 'Hormonal Contraceptives (years)': 0.5, 'IUD': 0.0, 'IUD (years)': 0.0, 'STDs': 0.0, 'STDs (number)': 0.0, 'STDs:condylomatosis': 0.0, 'STDs:cervical condylomatosis': 0.0, 'STDs:vaginal condylomatosis': 0.0, 'STDs:vulvo-perineal condylomatosis': 0.0, 'STDs:syphilis': 0.0, 'STDs:AIDS': 0.0, 'STDs:HIV': 0.0, 'STDs:Hepatitis B': 0.0, 'STDs:HPV': 0.0, 'STDs: Number of diagnosis': 0.0, 'Hinselmann': 0.0, 'Schiller': 0.0, 'Citology': 0.0, 'Biopsy': 0.0}\n"
     ]
    },
    {
     "name": "stderr",
     "output_type": "stream",
     "text": [
      "Finding Elimination Order: : : 0it [00:00, ?it/s]\n",
      "0it [00:00, ?it/s]\n"
     ]
    },
    {
     "name": "stdout",
     "output_type": "stream",
     "text": [
      "Evidence for index 165: {'Age': 15.0, 'Number of sexual partners': 4.0, 'First sexual intercourse': 12.0, 'Num of pregnancies': 1.0, 'Smokes': 0.0, 'Smokes (years)': 0.0, 'Smokes (packs/year)': 0.0, 'Hormonal Contraceptives': 1.0, 'Hormonal Contraceptives (years)': 1.0, 'IUD': 0.0, 'IUD (years)': 0.0, 'STDs': 0.0, 'STDs (number)': 0.0, 'STDs:condylomatosis': 0.0, 'STDs:cervical condylomatosis': 0.0, 'STDs:vaginal condylomatosis': 0.0, 'STDs:vulvo-perineal condylomatosis': 0.0, 'STDs:syphilis': 0.0, 'STDs:AIDS': 0.0, 'STDs:HIV': 0.0, 'STDs:Hepatitis B': 0.0, 'STDs:HPV': 0.0, 'STDs: Number of diagnosis': 0.0, 'Hinselmann': 0.0, 'Schiller': 0.0, 'Citology': 0.0, 'Biopsy': 0.0}\n"
     ]
    },
    {
     "name": "stderr",
     "output_type": "stream",
     "text": [
      "Finding Elimination Order: : : 0it [00:00, ?it/s]\n",
      "0it [00:00, ?it/s]\n"
     ]
    },
    {
     "name": "stdout",
     "output_type": "stream",
     "text": [
      "Evidence for index 166: {'Age': 20.0, 'Number of sexual partners': 1.0, 'First sexual intercourse': 18.0, 'Num of pregnancies': 2.0, 'Smokes': 0.0, 'Smokes (years)': 0.0, 'Smokes (packs/year)': 0.0, 'STDs: Number of diagnosis': 0.0, 'Hinselmann': 0.0, 'Schiller': 0.0, 'Citology': 0.0, 'Biopsy': 0.0}\n"
     ]
    },
    {
     "name": "stderr",
     "output_type": "stream",
     "text": [
      "Finding Elimination Order: : 100%|██████████| 9/9 [00:00<00:00, 9002.80it/s]\n",
      "Eliminating: STDs:AIDS: 100%|██████████| 9/9 [00:00<00:00, 1124.98it/s]               \n",
      "WARNING:pgmpy:Found unknown state name. Trying to switch to using all state names as state numbers\n"
     ]
    },
    {
     "name": "stdout",
     "output_type": "stream",
     "text": [
      "Evidence for index 167: {'Age': 37.0, 'Number of sexual partners': 2.0, 'First sexual intercourse': 15.0, 'Num of pregnancies': 4.0, 'Smokes': 0.0, 'Smokes (years)': 0.0, 'Smokes (packs/year)': 0.0, 'Hormonal Contraceptives': 1.0, 'Hormonal Contraceptives (years)': 12.0, 'IUD': 1.0, 'IUD (years)': 0.16, 'STDs': 0.0, 'STDs (number)': 0.0, 'STDs:condylomatosis': 0.0, 'STDs:cervical condylomatosis': 0.0, 'STDs:vaginal condylomatosis': 0.0, 'STDs:vulvo-perineal condylomatosis': 0.0, 'STDs:syphilis': 0.0, 'STDs:AIDS': 0.0, 'STDs:HIV': 0.0, 'STDs:Hepatitis B': 0.0, 'STDs:HPV': 0.0, 'STDs: Number of diagnosis': 0.0, 'Hinselmann': 0.0, 'Schiller': 0.0, 'Citology': 0.0, 'Biopsy': 0.0}\n",
      "Error predicting for index 167: only integers, slices (`:`), ellipsis (`...`), numpy.newaxis (`None`) and integer or boolean arrays are valid indices\n",
      "Evidence for index 168: {'Age': 24.0, 'Number of sexual partners': 1.0, 'First sexual intercourse': 19.0, 'Num of pregnancies': 1.0, 'Smokes': 0.0, 'Smokes (years)': 0.0, 'Smokes (packs/year)': 0.0, 'Hormonal Contraceptives': 0.0, 'Hormonal Contraceptives (years)': 0.0, 'IUD': 0.0, 'IUD (years)': 0.0, 'STDs': 0.0, 'STDs (number)': 0.0, 'STDs:condylomatosis': 0.0, 'STDs:cervical condylomatosis': 0.0, 'STDs:vaginal condylomatosis': 0.0, 'STDs:vulvo-perineal condylomatosis': 0.0, 'STDs:syphilis': 0.0, 'STDs:AIDS': 0.0, 'STDs:HIV': 0.0, 'STDs:Hepatitis B': 0.0, 'STDs:HPV': 0.0, 'STDs: Number of diagnosis': 0.0, 'Hinselmann': 0.0, 'Schiller': 0.0, 'Citology': 0.0, 'Biopsy': 0.0}\n"
     ]
    },
    {
     "name": "stderr",
     "output_type": "stream",
     "text": [
      "Finding Elimination Order: : : 0it [00:00, ?it/s]\n",
      "0it [00:00, ?it/s]\n"
     ]
    },
    {
     "name": "stdout",
     "output_type": "stream",
     "text": [
      "Evidence for index 169: {'Age': 25.0, 'Num of pregnancies': 2.0, 'Smokes': 0.0, 'Smokes (years)': 0.0, 'Smokes (packs/year)': 0.0, 'Hormonal Contraceptives': 1.0, 'Hormonal Contraceptives (years)': 3.0, 'IUD': 0.0, 'IUD (years)': 0.0, 'STDs': 0.0, 'STDs (number)': 0.0, 'STDs:condylomatosis': 0.0, 'STDs:cervical condylomatosis': 0.0, 'STDs:vaginal condylomatosis': 0.0, 'STDs:vulvo-perineal condylomatosis': 0.0, 'STDs:syphilis': 0.0, 'STDs:AIDS': 0.0, 'STDs:HIV': 0.0, 'STDs:Hepatitis B': 0.0, 'STDs:HPV': 0.0, 'STDs: Number of diagnosis': 0.0, 'Hinselmann': 0.0, 'Schiller': 0.0, 'Citology': 0.0, 'Biopsy': 0.0}\n"
     ]
    },
    {
     "name": "stderr",
     "output_type": "stream",
     "text": [
      "Finding Elimination Order: : : 0it [00:00, ?it/s]\n",
      "0it [00:00, ?it/s]\n"
     ]
    },
    {
     "name": "stdout",
     "output_type": "stream",
     "text": [
      "Evidence for index 170: {'Age': 27.0, 'Number of sexual partners': 4.0, 'First sexual intercourse': 16.0, 'Smokes': 0.0, 'Smokes (years)': 0.0, 'Smokes (packs/year)': 0.0, 'Hormonal Contraceptives': 0.0, 'Hormonal Contraceptives (years)': 0.0, 'IUD': 0.0, 'IUD (years)': 0.0, 'STDs': 0.0, 'STDs (number)': 0.0, 'STDs:condylomatosis': 0.0, 'STDs:cervical condylomatosis': 0.0, 'STDs:vaginal condylomatosis': 0.0, 'STDs:vulvo-perineal condylomatosis': 0.0, 'STDs:syphilis': 0.0, 'STDs:AIDS': 0.0, 'STDs:HIV': 0.0, 'STDs:Hepatitis B': 0.0, 'STDs:HPV': 0.0, 'STDs: Number of diagnosis': 0.0, 'Hinselmann': 0.0, 'Schiller': 0.0, 'Citology': 0.0, 'Biopsy': 0.0}\n"
     ]
    },
    {
     "name": "stderr",
     "output_type": "stream",
     "text": [
      "Finding Elimination Order: : : 0it [00:00, ?it/s]\n",
      "0it [00:00, ?it/s]\n"
     ]
    },
    {
     "name": "stdout",
     "output_type": "stream",
     "text": [
      "Evidence for index 171: {'Age': 29.0, 'Number of sexual partners': 2.0, 'First sexual intercourse': 17.0, 'Smokes': 0.0, 'Smokes (years)': 0.0, 'Smokes (packs/year)': 0.0, 'STDs: Number of diagnosis': 0.0, 'Hinselmann': 0.0, 'Schiller': 0.0, 'Citology': 0.0, 'Biopsy': 0.0}\n"
     ]
    },
    {
     "name": "stderr",
     "output_type": "stream",
     "text": [
      "Finding Elimination Order: : 100%|██████████| 10/10 [00:00<00:00, 9998.34it/s]\n",
      "Eliminating: STDs:AIDS: 100%|██████████| 10/10 [00:00<00:00, 1428.48it/s]              \n",
      "D:\\Anaconda\\envs\\mor\\Lib\\site-packages\\sklearn\\metrics\\_classification.py:1531: UndefinedMetricWarning: Precision is ill-defined and being set to 0.0 in labels with no predicted samples. Use `zero_division` parameter to control this behavior.\n",
      "  _warn_prf(average, modifier, f\"{metric.capitalize()} is\", len(result))\n",
      "D:\\Anaconda\\envs\\mor\\Lib\\site-packages\\sklearn\\metrics\\_classification.py:1531: UndefinedMetricWarning: Precision is ill-defined and being set to 0.0 in labels with no predicted samples. Use `zero_division` parameter to control this behavior.\n",
      "  _warn_prf(average, modifier, f\"{metric.capitalize()} is\", len(result))\n",
      "D:\\Anaconda\\envs\\mor\\Lib\\site-packages\\sklearn\\metrics\\_classification.py:1531: UndefinedMetricWarning: Precision is ill-defined and being set to 0.0 in labels with no predicted samples. Use `zero_division` parameter to control this behavior.\n",
      "  _warn_prf(average, modifier, f\"{metric.capitalize()} is\", len(result))\n"
     ]
    },
    {
     "name": "stdout",
     "output_type": "stream",
     "text": [
      "Evaluating model performance...\n",
      "Confusion Matrix:\n",
      "[[143   0]\n",
      " [  5   0]]\n",
      "\n",
      "Classification Report:\n",
      "              precision    recall  f1-score   support\n",
      "\n",
      "         0.0       0.97      1.00      0.98       143\n",
      "         1.0       0.00      0.00      0.00         5\n",
      "\n",
      "    accuracy                           0.97       148\n",
      "   macro avg       0.48      0.50      0.49       148\n",
      "weighted avg       0.93      0.97      0.95       148\n",
      "\n"
     ]
    },
    {
     "data": {
      "image/png": "[encoded data removed]",
      "text/plain": [
       "<Figure size 800x600 with 2 Axes>"
      ]
     },
     "metadata": {},
     "output_type": "display_data"
    },
    {
     "name": "stdout",
     "output_type": "stream",
     "text": [
      "Accuracy: 0.97\n"
     ]
    }
   ],
   "source": [
    "import pandas as pd\n",
    "import numpy as np\n",
    "from pgmpy.models import BayesianNetwork\n",
    "from pgmpy.estimators import HillClimbSearch, BicScore, MaximumLikelihoodEstimator\n",
    "from pgmpy.inference import VariableElimination\n",
    "import matplotlib.pyplot as plt\n",
    "import networkx as nx\n",
    "from sklearn.model_selection import train_test_split\n",
    "from sklearn.metrics import classification_report, confusion_matrix, accuracy_score\n",
    "import seaborn as sns\n",
    "\n",
    "# Assuming 'train_data' is your original dataset that includes 'Dx' as the target variable.\n",
    "\n",
    "# Your existing code...\n",
    "X_train, X_test, y_train, y_test = train_test_split(X, y, test_size=0.2, random_state=42, stratify=y)\n",
    "\n",
    "# Print the number of elements in the training and testing sets\n",
    "print(f\"Number of elements in the training set: {X_train.shape[0]}\")\n",
    "print(f\"Number of elements in the testing set: {X_test.shape[0]}\")\n",
    "\n",
    "# Step 2: Perform structure learning on the training data\n",
    "hc = HillClimbSearch(pd.concat([X_train, y_train], axis=1))  # Concatenate to include the target for structure learning\n",
    "best_model = hc.estimate(scoring_method=BicScore(pd.concat([X_train, y_train], axis=1)))\n",
    "\n",
    "# Display learned structure\n",
    "print(\"Learned structure:\", best_model.edges())\n",
    "\n",
    "# Step 3: Create Bayesian Network with learned structure\n",
    "model = BayesianNetwork(best_model.edges())\n",
    "\n",
    "# Fit the model to the training data with Maximum Likelihood Estimator\n",
    "model.fit(pd.concat([X_train, y_train], axis=1), estimator=MaximumLikelihoodEstimator)\n",
    "inference = VariableElimination(model)\n",
    "\n",
    "# **NEW CODE**: Visualizing the Bayesian Network\n",
    "def plot_bayesian_network(model):\n",
    "    # Create a directed graph from the Bayesian Network model\n",
    "    graph = nx.DiGraph()\n",
    "    graph.add_edges_from(model.edges())\n",
    "\n",
    "    plt.figure(figsize=(10, 8))\n",
    "    pos = nx.spring_layout(graph)  # Layout for the graph\n",
    "    nx.draw(graph, pos, with_labels=True, arrows=True, node_size=2000, node_color='skyblue', font_size=10, font_color='black', font_weight='bold')\n",
    "    plt.title('Bayesian Network Structure')\n",
    "    plt.show()\n",
    "\n",
    "plot_bayesian_network(model)\n",
    "\n",
    "# Continue with your existing code...\n",
    "# Step 4: Prepare the test data for predictions\n",
    "model_nodes = set(model.nodes())\n",
    "X_test_filtered = X_test.loc[:, X_test.columns.intersection(model_nodes)]\n",
    "print(X_test_filtered.isnull().sum())\n",
    "\n",
    "# Initialize predictions list\n",
    "y_pred = []\n",
    "\n",
    "# Step 5: Make predictions on the test set\n",
    "for i in range(len(X_test_filtered)):\n",
    "    # Filter evidence to include only model nodes and drop NaNs\n",
    "    evidence = {k: v for k, v in X_test_filtered.iloc[i].to_dict().items() if k in model_nodes and pd.notna(v)}\n",
    "\n",
    "    # Debugging: Print the evidence for the current test instance\n",
    "    print(f\"Evidence for index {i}: {evidence}\")\n",
    "\n",
    "    # Ensure evidence is not empty\n",
    "    if evidence:\n",
    "        try:\n",
    "            prediction = inference.map_query(variables=['Dx'], evidence=evidence)\n",
    "            y_pred.append(prediction['Dx'])\n",
    "        except Exception as e:\n",
    "            print(f\"Error predicting for index {i}: {e}\")\n",
    "            y_pred.append(None)  # Append None or a default value if prediction fails\n",
    "    else:\n",
    "        print(f\"No valid evidence for index {i}, skipping prediction.\")\n",
    "        y_pred.append(None)\n",
    "\n",
    "# Step 6: Evaluate the model performance\n",
    "if y_pred:\n",
    "    print(\"Evaluating model performance...\")\n",
    "    # Ensure the predictions and true values are of the same length\n",
    "    y_true = y_test.values  # True values from the test set\n",
    "    # Filter None values from predictions and true values\n",
    "    valid_indices = [index for index, pred in enumerate(y_pred) if pred is not None]\n",
    "    y_pred_valid = [y_pred[index] for index in valid_indices]\n",
    "    y_true_valid = [y_true[index] for index in valid_indices]\n",
    "    \n",
    "    # Ensure y_pred_valid and y_true_valid are of equal length for evaluation\n",
    "    if len(y_pred_valid) == len(y_true_valid):\n",
    "        # Calculate confusion matrix and classification report\n",
    "        cm = confusion_matrix(y_true_valid, y_pred_valid)\n",
    "        report = classification_report(y_true_valid, y_pred_valid)\n",
    "\n",
    "        # Print confusion matrix and classification report\n",
    "        print(\"Confusion Matrix:\")\n",
    "        print(cm)\n",
    "        print(\"\\nClassification Report:\")\n",
    "        print(report)\n",
    "\n",
    "        # Visualize the confusion matrix\n",
    "        plt.figure(figsize=(8, 6))\n",
    "        sns.heatmap(cm, annot=True, fmt='d', cmap='Blues', xticklabels=np.unique(y), yticklabels=np.unique(y))\n",
    "        plt.xlabel('Predicted Label')\n",
    "        plt.ylabel('True Label')\n",
    "        plt.title('Confusion Matrix')\n",
    "        plt.show()\n",
    "\n",
    "        # Calculate accuracy\n",
    "        accuracy = accuracy_score(y_true_valid, y_pred_valid)\n",
    "        print(f'Accuracy: {accuracy:.2f}')\n",
    "    else:\n",
    "        print(\"Mismatch in lengths of predictions and true values after filtering.\")\n",
    "else:\n",
    "    print(\"No predictions were made.\")\n"
   ]
  }
 ],
 "metadata": {
  "kernelspec": {
   "display_name": "Python 3 (ipykernel)",
   "language": "python",
   "name": "python3"
  },
  "language_info": {
   "codemirror_mode": {
    "name": "ipython",
    "version": 3
   },
   "file_extension": ".py",
   "mimetype": "text/x-python",
   "name": "python",
   "nbconvert_exporter": "python",
   "pygments_lexer": "ipython3",
   "version": "3.11.10"
  }
 },
 "nbformat": 4,
 "nbformat_minor": 5
}
